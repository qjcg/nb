{
 "cells": [
  {
   "cell_type": "markdown",
   "metadata": {},
   "source": [
    "# Networking\n",
    "\n",
    "- [sockets (stdlib)](https://docs.python.org/3/library/socket.html)\n",
    "- [socket programming HOWTO](https://docs.python.org/3/howto/sockets.html)\n",
    "- [ExaBGP](https://github.com/Exa-Networks/exabgp)\n",
    "- [Socket Programming in Python](https://realpython.com/python-sockets/) (excellent guide)\n",
    "- [Kill the Beast: Why the 7 layer model must die](http://www.davidchappell.com/HTML_email/Opinari_No9_01_04.html)\n",
    "- [Scapy](https://scapy.net/)"
   ]
  }
 ],
 "metadata": {
  "kernelspec": {
   "display_name": "Python 3",
   "language": "python",
   "name": "python3"
  },
  "language_info": {
   "codemirror_mode": {
    "name": "ipython",
    "version": 3
   },
   "file_extension": ".py",
   "mimetype": "text/x-python",
   "name": "python",
   "nbconvert_exporter": "python",
   "pygments_lexer": "ipython3",
   "version": "3.7.2"
  }
 },
 "nbformat": 4,
 "nbformat_minor": 2
}
