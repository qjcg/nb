{
 "cells": [
  {
   "cell_type": "markdown",
   "metadata": {},
   "source": [
    "# Optional arguments and keyword arguments\n",
    "\n",
    "In the context of a function declaration, `*arg` represents a n-tuple of entirely optional positional arguments, and `**kwargs` represents a variable-length dictionary of key-value pairs."
   ]
  },
  {
   "cell_type": "code",
   "execution_count": 2,
   "metadata": {},
   "outputs": [
    {
     "name": "stdout",
     "output_type": "stream",
     "text": [
      "Name: 42\n",
      "Optional arguments: ('def', 'arr', 123, 'sdsds')\n",
      "Keyword arguments: {'prof': 'Jerry', 'address': '4242 brick lane'}\n"
     ]
    }
   ],
   "source": [
    "def silly_function(name='James Bond', *args, **kwargs):\n",
    "    print \"Name:\", name\n",
    "    print \"Optional arguments:\", args\n",
    "    print \"Keyword arguments:\", kwargs\n",
    "\n",
    "silly_function(42, 'def', 'arr', 123, 'sdsds', prof='Jerry', address='4242 brick lane')"
   ]
  },
  {
   "cell_type": "markdown",
   "metadata": {},
   "source": [
    "# Using positional and keyword arguments in string formatting"
   ]
  },
  {
   "cell_type": "code",
   "execution_count": null,
   "metadata": {},
   "outputs": [],
   "source": [
    "mystring = \"the quick brown {1} jumped over the lazy {0}\"\n",
    "mystring.format('horse', 'picket fence')\n",
    "mystring = \"the quick brown {} jumped over the lazy {}\"\n",
    "mystring.format('horse', 'picket fence')\n",
    "mystring = \"the quick brown {animal} jumped over the lazy {thing}\"\n",
    "mystring.format(animal='dog', thing='skyscraper')"
   ]
  },
  {
   "cell_type": "markdown",
   "metadata": {},
   "source": [
    "# User defined functions"
   ]
  },
  {
   "cell_type": "code",
   "execution_count": 13,
   "metadata": {},
   "outputs": [],
   "source": [
    "def simple_innocuous_function(age=42):\n",
    "    pass"
   ]
  },
  {
   "cell_type": "code",
   "execution_count": 5,
   "metadata": {},
   "outputs": [
    {
     "name": "stdout",
     "output_type": "stream",
     "text": [
      "Pretty printing has been turned OFF\n"
     ]
    },
    {
     "data": {
      "text/plain": [
       "['__call__', '__class__', '__closure__', '__code__', '__defaults__', '__delattr__', '__dict__', '__doc__', '__format__', '__get__', '__getattribute__', '__globals__', '__hash__', '__init__', '__module__', '__name__', '__new__', '__reduce__', '__reduce_ex__', '__repr__', '__setattr__', '__sizeof__', '__str__', '__subclasshook__', 'func_closure', 'func_code', 'func_defaults', 'func_dict', 'func_doc', 'func_globals', 'func_name']"
      ]
     },
     "execution_count": 5,
     "metadata": {},
     "output_type": "execute_result"
    }
   ],
   "source": [
    "%pprint\n",
    "dir(simple_innocuous_function)"
   ]
  },
  {
   "cell_type": "code",
   "execution_count": 7,
   "metadata": {},
   "outputs": [],
   "source": [
    "simple_innocuous_function.__doc__ = 'Oh wow a docstring!'"
   ]
  },
  {
   "cell_type": "code",
   "execution_count": 8,
   "metadata": {},
   "outputs": [
    {
     "data": {
      "text/plain": [
       "'Oh wow a docstring!'"
      ]
     },
     "execution_count": 8,
     "metadata": {},
     "output_type": "execute_result"
    }
   ],
   "source": [
    "simple_innocuous_function.__doc__"
   ]
  },
  {
   "cell_type": "code",
   "execution_count": 11,
   "metadata": {},
   "outputs": [
    {
     "data": {
      "text/plain": [
       "'simple_innocuous_function'"
      ]
     },
     "execution_count": 11,
     "metadata": {},
     "output_type": "execute_result"
    }
   ],
   "source": [
    "simple_innocuous_function.__name__"
   ]
  },
  {
   "cell_type": "code",
   "execution_count": 14,
   "metadata": {},
   "outputs": [
    {
     "data": {
      "text/plain": [
       "{}"
      ]
     },
     "execution_count": 14,
     "metadata": {},
     "output_type": "execute_result"
    }
   ],
   "source": [
    "simple_innocuous_function.__dict__"
   ]
  },
  {
   "cell_type": "code",
   "execution_count": 15,
   "metadata": {},
   "outputs": [
    {
     "data": {
      "text/plain": [
       "(42,)"
      ]
     },
     "execution_count": 15,
     "metadata": {},
     "output_type": "execute_result"
    }
   ],
   "source": [
    "simple_innocuous_function.__defaults__"
   ]
  },
  {
   "cell_type": "code",
   "execution_count": null,
   "metadata": {},
   "outputs": [],
   "source": [
    "simple_innocuous_function."
   ]
  },
  {
   "cell_type": "markdown",
   "metadata": {},
   "source": [
    "# Attributes available on modules"
   ]
  },
  {
   "cell_type": "code",
   "execution_count": 16,
   "metadata": {},
   "outputs": [],
   "source": [
    "import random"
   ]
  },
  {
   "cell_type": "code",
   "execution_count": 17,
   "metadata": {},
   "outputs": [
    {
     "data": {
      "text/plain": [
       "{'WichmannHill': <class 'random.WichmannHill'>, '_sin': <built-in function sin>, '_exp': <built-in function exp>, 'randrange': <bound method Random.randrange of <random.Random object at 0x1b2e5f0>>, 'BPF': 53, '_acos': <built-in function acos>, '_random': <module '_random' from '/usr/lib/python2.7/lib-dynload/_random.so'>, '_test': <function _test at 0x18be9b0>, 'random': <built-in method random of Random object at 0x1b2e5f0>, 'paretovariate': <bound method Random.paretovariate of <random.Random object at 0x1b2e5f0>>, 'normalvariate': <bound method Random.normalvariate of <random.Random object at 0x1b2e5f0>>, 'gammavariate': <bound method Random.gammavariate of <random.Random object at 0x1b2e5f0>>, 'sample': <bound method Random.sample of <random.Random object at 0x1b2e5f0>>, 'seed': <bound method Random.seed of <random.Random object at 0x1b2e5f0>>, 'weibullvariate': <bound method Random.weibullvariate of <random.Random object at 0x1b2e5f0>>, '__name__': 'random', 'shuffle': <bound method Random.shuffle of <random.Random object at 0x1b2e5f0>>, 'uniform': <bound method Random.uniform of <random.Random object at 0x1b2e5f0>>, 'expovariate': <bound method Random.expovariate of <random.Random object at 0x1b2e5f0>>, 'TWOPI': 6.283185307179586, '__all__': ['Random', 'seed', 'random', 'uniform', 'randint', 'choice', 'sample', 'randrange', 'shuffle', 'normalvariate', 'lognormvariate', 'expovariate', 'vonmisesvariate', 'gammavariate', 'triangular', 'gauss', 'betavariate', 'paretovariate', 'weibullvariate', 'getstate', 'setstate', 'jumpahead', 'WichmannHill', 'getrandbits', 'SystemRandom'], 'randint': <bound method Random.randint of <random.Random object at 0x1b2e5f0>>, '_cos': <built-in function cos>, 'vonmisesvariate': <bound method Random.vonmisesvariate of <random.Random object at 0x1b2e5f0>>, '_pi': 3.141592653589793, '__package__': None, '_hashlib': <module 'hashlib' from '/usr/lib/python2.7/hashlib.pyc'>, 'Random': <class 'random.Random'>, 'betavariate': <bound method Random.betavariate of <random.Random object at 0x1b2e5f0>>, '_e': 2.718281828459045, '__doc__': 'Random variable generators.\\n\\n    integers\\n    --------\\n           uniform within range\\n\\n    sequences\\n    ---------\\n           pick random element\\n           pick random sample\\n           generate random permutation\\n\\n    distributions on the real line:\\n    ------------------------------\\n           uniform\\n           triangular\\n           normal (Gaussian)\\n           lognormal\\n           negative exponential\\n           gamma\\n           beta\\n           pareto\\n           Weibull\\n\\n    distributions on the circle (angles 0 to 2pi)\\n    ---------------------------------------------\\n           circular uniform\\n           von Mises\\n\\nGeneral notes on the underlying Mersenne Twister core generator:\\n\\n* The period is 2**19937-1.\\n* It is one of the most extensively tested generators in existence.\\n* Without a direct way to compute N steps forward, the semantics of\\n  jumpahead(n) are weakened to simply jump to another distant state and rely\\n  on the large period to avoid overlapping sequences.\\n* The random() method is implemented in C, executes in a single Python step,\\n  and is, therefore, threadsafe.\\n\\n', 'getrandbits': <built-in method getrandbits of Random object at 0x1b2e5f0>, 'setstate': <bound method Random.setstate of <random.Random object at 0x1b2e5f0>>, 'division': _Feature((2, 2, 0, 'alpha', 2), (3, 0, 0, 'alpha', 0), 8192), 'lognormvariate': <bound method Random.lognormvariate of <random.Random object at 0x1b2e5f0>>, 'SystemRandom': <class 'random.SystemRandom'>, '__builtins__': {'bytearray': <type 'bytearray'>, 'IndexError': <type 'exceptions.IndexError'>, 'all': <built-in function all>, 'help': Type help() for interactive help, or help(object) for help about object., 'vars': <built-in function vars>, 'SyntaxError': <type 'exceptions.SyntaxError'>, '__IPYTHON__active': 'Deprecated, check for __IPYTHON__', 'unicode': <type 'unicode'>, 'UnicodeDecodeError': <type 'exceptions.UnicodeDecodeError'>, 'memoryview': <type 'memoryview'>, 'isinstance': <built-in function isinstance>, 'copyright': Copyright (c) 2001-2013 Python Software Foundation.\n",
       "All Rights Reserved.\n",
       "\n",
       "Copyright (c) 2000 BeOpen.com.\n",
       "All Rights Reserved.\n",
       "\n",
       "Copyright (c) 1995-2001 Corporation for National Research Initiatives.\n",
       "All Rights Reserved.\n",
       "\n",
       "Copyright (c) 1991-1995 Stichting Mathematisch Centrum, Amsterdam.\n",
       "All Rights Reserved., 'NameError': <type 'exceptions.NameError'>, 'BytesWarning': <type 'exceptions.BytesWarning'>, 'dict': <type 'dict'>, 'input': <built-in function input>, 'oct': <built-in function oct>, 'bin': <built-in function bin>, 'SystemExit': <type 'exceptions.SystemExit'>, 'StandardError': <type 'exceptions.StandardError'>, 'format': <built-in function format>, 'repr': <built-in function repr>, 'sorted': <built-in function sorted>, 'False': False, 'RuntimeWarning': <type 'exceptions.RuntimeWarning'>, 'list': <type 'list'>, 'iter': <built-in function iter>, 'reload': <built-in function reload>, 'Warning': <type 'exceptions.Warning'>, '__package__': None, 'round': <built-in function round>, 'dir': <built-in function dir>, 'cmp': <built-in function cmp>, 'set': <type 'set'>, 'bytes': <type 'str'>, 'reduce': <built-in function reduce>, 'intern': <built-in function intern>, 'issubclass': <built-in function issubclass>, 'Ellipsis': Ellipsis, 'EOFError': <type 'exceptions.EOFError'>, 'locals': <built-in function locals>, 'BufferError': <type 'exceptions.BufferError'>, 'slice': <type 'slice'>, 'FloatingPointError': <type 'exceptions.FloatingPointError'>, 'sum': <built-in function sum>, 'getattr': <built-in function getattr>, 'abs': <built-in function abs>, 'print': <built-in function print>, 'True': True, 'FutureWarning': <type 'exceptions.FutureWarning'>, 'ImportWarning': <type 'exceptions.ImportWarning'>, 'None': None, 'hash': <built-in function hash>, 'ReferenceError': <type 'exceptions.ReferenceError'>, 'len': <built-in function len>, 'credits':     Thanks to CWI, CNRI, BeOpen.com, Zope Corporation and a cast of thousands\n",
       "    for supporting Python development.  See www.python.org for more information., 'frozenset': <type 'frozenset'>, '__name__': '__builtin__', 'ord': <built-in function ord>, 'super': <type 'super'>, 'TypeError': <type 'exceptions.TypeError'>, 'license': Type license() to see the full license text, 'KeyboardInterrupt': <type 'exceptions.KeyboardInterrupt'>, 'UserWarning': <type 'exceptions.UserWarning'>, 'filter': <built-in function filter>, 'range': <built-in function range>, 'staticmethod': <type 'staticmethod'>, 'SystemError': <type 'exceptions.SystemError'>, 'BaseException': <type 'exceptions.BaseException'>, 'pow': <built-in function pow>, 'RuntimeError': <type 'exceptions.RuntimeError'>, 'float': <type 'float'>, 'MemoryError': <type 'exceptions.MemoryError'>, 'StopIteration': <type 'exceptions.StopIteration'>, 'globals': <built-in function globals>, 'divmod': <built-in function divmod>, 'enumerate': <type 'enumerate'>, 'apply': <built-in function apply>, 'LookupError': <type 'exceptions.LookupError'>, 'open': <built-in function open>, 'basestring': <type 'basestring'>, 'UnicodeError': <type 'exceptions.UnicodeError'>, 'zip': <built-in function zip>, 'hex': <built-in function hex>, 'long': <type 'long'>, 'next': <built-in function next>, 'ImportError': <type 'exceptions.ImportError'>, 'chr': <built-in function chr>, 'xrange': <type 'xrange'>, 'type': <type 'type'>, '__doc__': \"Built-in functions, exceptions, and other objects.\\n\\nNoteworthy: None is the `nil' object; Ellipsis represents `...' in slices.\", 'Exception': <type 'exceptions.Exception'>, '__IPYTHON__': True, 'tuple': <type 'tuple'>, 'UnicodeTranslateError': <type 'exceptions.UnicodeTranslateError'>, 'reversed': <type 'reversed'>, 'UnicodeEncodeError': <type 'exceptions.UnicodeEncodeError'>, 'IOError': <type 'exceptions.IOError'>, 'hasattr': <built-in function hasattr>, 'delattr': <built-in function delattr>, 'setattr': <built-in function setattr>, 'raw_input': <function <lambda> at 0x28dc500>, 'SyntaxWarning': <type 'exceptions.SyntaxWarning'>, 'compile': <built-in function compile>, 'ArithmeticError': <type 'exceptions.ArithmeticError'>, 'str': <type 'str'>, 'property': <type 'property'>, 'dreload': <function reload at 0x28c9f50>, 'GeneratorExit': <type 'exceptions.GeneratorExit'>, 'int': <type 'int'>, '__import__': <built-in function __import__>, 'KeyError': <type 'exceptions.KeyError'>, 'coerce': <built-in function coerce>, 'PendingDeprecationWarning': <type 'exceptions.PendingDeprecationWarning'>, 'file': <type 'file'>, 'EnvironmentError': <type 'exceptions.EnvironmentError'>, 'unichr': <built-in function unichr>, 'id': <built-in function id>, 'OSError': <type 'exceptions.OSError'>, 'DeprecationWarning': <type 'exceptions.DeprecationWarning'>, 'min': <built-in function min>, 'UnicodeWarning': <type 'exceptions.UnicodeWarning'>, 'execfile': <built-in function execfile>, 'any': <built-in function any>, 'complex': <type 'complex'>, 'bool': <type 'bool'>, 'get_ipython': <bound method ZMQInteractiveShell.get_ipython of <IPython.kernel.zmq.zmqshell.ZMQInteractiveShell object at 0x2aa8a50>>, 'ValueError': <type 'exceptions.ValueError'>, 'NotImplemented': NotImplemented, 'map': <built-in function map>, 'buffer': <type 'buffer'>, 'max': <built-in function max>, 'object': <type 'object'>, 'TabError': <type 'exceptions.TabError'>, 'callable': <built-in function callable>, 'ZeroDivisionError': <type 'exceptions.ZeroDivisionError'>, 'eval': <built-in function eval>, '__debug__': True, 'IndentationError': <type 'exceptions.IndentationError'>, 'AssertionError': <type 'exceptions.AssertionError'>, 'classmethod': <type 'classmethod'>, 'UnboundLocalError': <type 'exceptions.UnboundLocalError'>, 'NotImplementedError': <type 'exceptions.NotImplementedError'>, 'AttributeError': <type 'exceptions.AttributeError'>, 'OverflowError': <type 'exceptions.OverflowError'>}, '__file__': '/usr/lib/python2.7/random.pyc', '_urandom': <built-in function urandom>, 'gauss': <bound method Random.gauss of <random.Random object at 0x1b2e5f0>>, 'triangular': <bound method Random.triangular of <random.Random object at 0x1b2e5f0>>, 'getstate': <bound method Random.getstate of <random.Random object at 0x1b2e5f0>>, 'jumpahead': <bound method Random.jumpahead of <random.Random object at 0x1b2e5f0>>, '_log': <built-in function log>, '_BuiltinMethodType': <type 'builtin_function_or_method'>, 'choice': <bound method Random.choice of <random.Random object at 0x1b2e5f0>>, '_hexlify': <built-in function hexlify>, 'RECIP_BPF': 1.1102230246251565e-16, '_inst': <random.Random object at 0x1b2e5f0>, '_test_generator': <function _test_generator at 0x1b8e758>, 'SG_MAGICCONST': 2.504077396776274, '_warn': <built-in function warn>, '_MethodType': <type 'instancemethod'>, 'LOG4': 1.3862943611198906, '_ceil': <built-in function ceil>, '_sqrt': <built-in function sqrt>, 'NV_MAGICCONST': 1.7155277699214135}"
      ]
     },
     "execution_count": 17,
     "metadata": {},
     "output_type": "execute_result"
    }
   ],
   "source": [
    "random.__dict__"
   ]
  },
  {
   "cell_type": "code",
   "execution_count": 18,
   "metadata": {},
   "outputs": [
    {
     "ename": "AttributeError",
     "evalue": "'module' object has no attribute '__path__'",
     "output_type": "error",
     "traceback": [
      "\u001b[1;31m---------------------------------------------------------------------------\u001b[0m\n\u001b[1;31mAttributeError\u001b[0m                            Traceback (most recent call last)",
      "\u001b[1;32m<ipython-input-18-f89c204b19da>\u001b[0m in \u001b[0;36m<module>\u001b[1;34m()\u001b[0m\n\u001b[1;32m----> 1\u001b[1;33m \u001b[0mrandom\u001b[0m\u001b[1;33m.\u001b[0m\u001b[0m__path__\u001b[0m\u001b[1;33m\u001b[0m\u001b[0m\n\u001b[0m",
      "\u001b[1;31mAttributeError\u001b[0m: 'module' object has no attribute '__path__'"
     ]
    }
   ],
   "source": [
    "random.__path__"
   ]
  },
  {
   "cell_type": "code",
   "execution_count": 19,
   "metadata": {},
   "outputs": [
    {
     "data": {
      "text/plain": [
       "'/usr/lib/python2.7/random.pyc'"
      ]
     },
     "execution_count": 19,
     "metadata": {},
     "output_type": "execute_result"
    }
   ],
   "source": [
    "random.__file__"
   ]
  },
  {
   "cell_type": "markdown",
   "metadata": {},
   "source": [
    "# Conditional expressions (ternary operator)"
   ]
  },
  {
   "cell_type": "code",
   "execution_count": 12,
   "metadata": {},
   "outputs": [],
   "source": [
    "a, b = 5, 10\n",
    "\n",
    "# a common use case for conditional expressions is to assign\n",
    "# a value to a variable based on the outcome of an expression\n",
    "if a < b:\n",
    "    result1 = a\n",
    "else:\n",
    "    result1 = b\n",
    "    \n",
    "# another more concise way to write this is:\n",
    "result2 = a if a < b else b"
   ]
  },
  {
   "cell_type": "code",
   "execution_count": 11,
   "metadata": {},
   "outputs": [
    {
     "data": {
      "text/plain": [
       "True"
      ]
     },
     "execution_count": 11,
     "metadata": {},
     "output_type": "execute_result"
    }
   ],
   "source": [
    "result1 == result2"
   ]
  },
  {
   "cell_type": "code",
   "execution_count": 1,
   "metadata": {},
   "outputs": [
    {
     "data": {
      "text/plain": [
       "'abc'"
      ]
     },
     "execution_count": 1,
     "metadata": {},
     "output_type": "execute_result"
    }
   ],
   "source": [
    "'abc' if 2 < 10 else 'SFL'"
   ]
  },
  {
   "cell_type": "markdown",
   "metadata": {},
   "source": [
    "# Exercise\n",
    "\n",
    "- Familiarize yourself with the conditional expression syntax by writing:\n",
    "    - two traditional if: else: blocks\n",
    "    - rewrite the same conditional content as your two traditional blocks above using conditional expression syntax"
   ]
  },
  {
   "cell_type": "code",
   "execution_count": null,
   "metadata": {},
   "outputs": [],
   "source": []
  }
 ],
 "metadata": {
  "kernelspec": {
   "display_name": "Python 3",
   "language": "python",
   "name": "python3"
  },
  "language_info": {
   "codemirror_mode": {
    "name": "ipython",
    "version": 3
   },
   "file_extension": ".py",
   "mimetype": "text/x-python",
   "name": "python",
   "nbconvert_exporter": "python",
   "pygments_lexer": "ipython3",
   "version": "3.6.5"
  }
 },
 "nbformat": 4,
 "nbformat_minor": 1
}
