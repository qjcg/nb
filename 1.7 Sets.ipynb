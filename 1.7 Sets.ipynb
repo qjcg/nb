{
 "cells": [
  {
   "cell_type": "markdown",
   "metadata": {},
   "source": [
    "# Sets\n",
    "\n",
    "- unordered collection\n",
    "- no duplicates \n",
    "- can't be indexed by numbers (ex: myset[2])\n",
    "- used for:\n",
    "    - membership testing\n",
    "    - eliminating duplicate entries"
   ]
  },
  {
   "cell_type": "code",
   "execution_count": 1,
   "metadata": {},
   "outputs": [
    {
     "name": "stdout",
     "output_type": "stream",
     "text": [
      "{'d', 'b', 'c', 'a'}\n",
      "{'2', '3', '0', '1'}\n",
      "{'6', '7', '4', '5', '2', '3', '0', '1', '8', '9', 'd', 'b', 'c', 'a'}\n",
      "set()\n",
      "{'zebra', 'yaris', 'porsche', 'v', 'w', 't', 'u', 'r', 's', 'p', 'q', 'volvo', 'z', 'x', 'y', 'f', 'g', 'd', 'e', 'b', 'c', 'a', 'n', 'o', 'l', 'm', 'j', 'k', 'h', 'i'}\n"
     ]
    }
   ],
   "source": [
    "letters = set(\"abcdefghijklmnopqrstuvwxyz\")\n",
    "numbers = set(\"0123456789\")\n",
    "letters_and_numbers = set(\"00aa11bb22cc33dd\")\n",
    "\n",
    "print(letters & letters_and_numbers)\n",
    "print(numbers & letters_and_numbers)\n",
    "print(numbers | letters_and_numbers)\n",
    "\n",
    "# the set is constructed using the set() function\n",
    "cars = set(['porsche', 'volvo', 'volvo', 'porsche', 'yaris', 'zebra'])\n",
    "print(cars & letters)\n",
    "print(cars | letters)"
   ]
  },
  {
   "cell_type": "code",
   "execution_count": 4,
   "metadata": {},
   "outputs": [
    {
     "data": {
      "text/plain": [
       "True"
      ]
     },
     "execution_count": 4,
     "metadata": {},
     "output_type": "execute_result"
    }
   ],
   "source": [
    "'a' in letters"
   ]
  },
  {
   "cell_type": "code",
   "execution_count": 5,
   "metadata": {},
   "outputs": [
    {
     "data": {
      "text/plain": [
       "{'porsche', 'volvo', 'yaris', 'zebra'}"
      ]
     },
     "execution_count": 5,
     "metadata": {},
     "output_type": "execute_result"
    }
   ],
   "source": [
    "cars"
   ]
  },
  {
   "cell_type": "code",
   "execution_count": 8,
   "metadata": {},
   "outputs": [
    {
     "data": {
      "text/plain": [
       "{'4', '5', '6', '7', '8', '9'}"
      ]
     },
     "execution_count": 8,
     "metadata": {},
     "output_type": "execute_result"
    }
   ],
   "source": [
    "numbers - letters_and_numbers"
   ]
  },
  {
   "cell_type": "code",
   "execution_count": 2,
   "metadata": {},
   "outputs": [
    {
     "data": {
      "text/plain": [
       "{'4', '5', '6', '7', '8', '9', 'a', 'b', 'c', 'd'}"
      ]
     },
     "execution_count": 2,
     "metadata": {},
     "output_type": "execute_result"
    }
   ],
   "source": [
    "numbers ^ letters_and_numbers"
   ]
  },
  {
   "cell_type": "markdown",
   "metadata": {},
   "source": [
    "# Exercise\n",
    "\n",
    "- Using the set() function, construct three sets and assign these to three variables (s1, s2, s3).\n",
    "    - IMPORTANT: Include some identical items in more than one set to make this interesting!\n",
    "    - ex: literal syntax: `s1 = {'john', 'jack', 'jerry'}`\n",
    "    - ex: set constructor syntax: `s2 = set(['james', 'joan'])`\n",
    "- Print the intersection (&) of s1 and s2\n",
    "- Print the union (|) of s2 and s3\n",
    "- Print the union of s1 and s2 and s3\n",
    "- Print the set difference (-) of s1 and s3\n",
    "- Print the symmetric difference (^) of s1 and s2\n",
    "- Update s1 to include a list of at least three people's names from this class\n",
    "- Remove a single item from s3"
   ]
  }
 ],
 "metadata": {
  "kernelspec": {
   "display_name": "Python 3",
   "language": "python",
   "name": "python3"
  },
  "language_info": {
   "codemirror_mode": {
    "name": "ipython",
    "version": 3
   },
   "file_extension": ".py",
   "mimetype": "text/x-python",
   "name": "python",
   "nbconvert_exporter": "python",
   "pygments_lexer": "ipython3",
   "version": "3.7.1"
  }
 },
 "nbformat": 4,
 "nbformat_minor": 2
}
