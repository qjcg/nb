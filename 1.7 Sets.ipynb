{
 "cells": [
  {
   "cell_type": "markdown",
   "metadata": {},
   "source": [
    "# Sets\n",
    "\n",
    "- unordered collection\n",
    "- no duplicates \n",
    "- can't be indexed by numbers (ex: myset[2])\n",
    "- used for:\n",
    "    - membership testing\n",
    "    - eliminating duplicate entries"
   ]
  },
  {
   "cell_type": "code",
   "execution_count": 1,
   "metadata": {},
   "outputs": [
    {
     "name": "stdout",
     "output_type": "stream",
     "text": [
      "{'a', 'b', 'c', 'd'}\n",
      "{'3', '1', '0', '2'}\n",
      "{'a', 'b', '2', '3', '8', '0', 'c', '4', '7', '9', '5', '6', '1', 'd'}\n",
      "set()\n",
      "{'a', 'n', 'o', 'x', 'j', 'volvo', 'g', 'u', 'v', 'y', 'r', 'i', 'k', 'z', 'd', 'yaris', 'b', 'q', 's', 't', 'l', 'zebra', 'm', 'c', 'p', 'porsche', 'f', 'w', 'e', 'h'}\n"
     ]
    }
   ],
   "source": [
    "letters = set(\"abcdefghijklmnopqrstuvwxyz\")\n",
    "numbers = set(\"0123456789\")\n",
    "letters_and_numbers = set(\"00aa11bb22cc33dd\")\n",
    "\n",
    "print(letters & letters_and_numbers)\n",
    "print(numbers & letters_and_numbers)\n",
    "print(numbers | letters_and_numbers)\n",
    "\n",
    "# the set is constructed using the set() function\n",
    "cars = set(['porsche', 'volvo', 'volvo', 'porsche', 'yaris', 'zebra'])\n",
    "print(cars & letters)\n",
    "print(cars | letters)"
   ]
  },
  {
   "cell_type": "code",
   "execution_count": 4,
   "metadata": {},
   "outputs": [
    {
     "data": {
      "text/plain": [
       "True"
      ]
     },
     "execution_count": 4,
     "metadata": {},
     "output_type": "execute_result"
    }
   ],
   "source": [
    "'a' in letters"
   ]
  },
  {
   "cell_type": "code",
   "execution_count": 5,
   "metadata": {},
   "outputs": [
    {
     "data": {
      "text/plain": [
       "{'porsche', 'volvo', 'yaris', 'zebra'}"
      ]
     },
     "execution_count": 5,
     "metadata": {},
     "output_type": "execute_result"
    }
   ],
   "source": [
    "cars"
   ]
  },
  {
   "cell_type": "code",
   "execution_count": 8,
   "metadata": {},
   "outputs": [
    {
     "data": {
      "text/plain": [
       "{'4', '5', '6', '7', '8', '9'}"
      ]
     },
     "execution_count": 8,
     "metadata": {},
     "output_type": "execute_result"
    }
   ],
   "source": [
    "numbers - letters_and_numbers"
   ]
  },
  {
   "cell_type": "code",
   "execution_count": 2,
   "metadata": {},
   "outputs": [
    {
     "data": {
      "text/plain": [
       "{'4', '5', '6', '7', '8', '9', 'a', 'b', 'c', 'd'}"
      ]
     },
     "execution_count": 2,
     "metadata": {},
     "output_type": "execute_result"
    }
   ],
   "source": [
    "numbers ^ letters_and_numbers"
   ]
  },
  {
   "cell_type": "markdown",
   "metadata": {},
   "source": [
    "# Exercise: Set Basics\n",
    "\n",
    "Given that the basic syntax for defining a set is:\n",
    "\n",
    "```python\n",
    "employees = {\"jack\", \"mary\", \"frank\", \"frank\", \"frank\"}\n",
    "# Would return the set {\"jack\", \"mary\", \"frank\"}\n",
    "```\n",
    "\n",
    "- Using either the literal syntax or the set constructor, construct three sets and assign these to three variables (s1, s2, s3).\n",
    "    - IMPORTANT: Include some identical items in more than one set to make this interesting!\n",
    "    - ex: literal syntax: `s1 = {'john', 'jack', 'jerry'}`\n",
    "    - ex: set constructor syntax: `s2 = set(['james', 'joan'])`\n",
    "- Print the intersection (&) of s1 and s2\n",
    "- Print the union (|) of s2 and s3\n",
    "- Print the union of s1 and s2 and s3\n",
    "- Print the set difference (-) of s1 and s3\n",
    "- Print the symmetric difference (^) of s1 and s2\n",
    "- Update s1 to include a list of at least three people's names from this class\n",
    "- Remove a single item from s3"
   ]
  },
  {
   "cell_type": "code",
   "execution_count": 1,
   "metadata": {},
   "outputs": [],
   "source": [
    "emp1 = {\"frank\", \"geoff\", \"henry\"}\n",
    "emp2 = {\"henry\", \"ioanna\", \"john\"}\n",
    "emp3 = {\"john\", \"kevin\", \"lilliana\"}"
   ]
  },
  {
   "cell_type": "code",
   "execution_count": 5,
   "metadata": {},
   "outputs": [
    {
     "data": {
      "text/plain": [
       "{'henry'}"
      ]
     },
     "execution_count": 5,
     "metadata": {},
     "output_type": "execute_result"
    }
   ],
   "source": [
    "emp1.intersection(emp2)"
   ]
  },
  {
   "cell_type": "code",
   "execution_count": 6,
   "metadata": {},
   "outputs": [
    {
     "data": {
      "text/plain": [
       "{'henry', 'ioanna', 'john', 'kevin', 'lilliana'}"
      ]
     },
     "execution_count": 6,
     "metadata": {},
     "output_type": "execute_result"
    }
   ],
   "source": [
    "emp2.union(emp3)"
   ]
  },
  {
   "cell_type": "code",
   "execution_count": 19,
   "metadata": {},
   "outputs": [],
   "source": [
    "emp1.add((\"foo\", \"bar\", \"baz\"))"
   ]
  },
  {
   "cell_type": "code",
   "execution_count": 20,
   "metadata": {},
   "outputs": [
    {
     "data": {
      "text/plain": [
       "{('foo', 'bar', 'baz'),\n",
       " 'faruh',\n",
       " 'frank',\n",
       " 'geoff',\n",
       " 'henry',\n",
       " 'jackie',\n",
       " 'jacky',\n",
       " 'nadia',\n",
       " 'nadya'}"
      ]
     },
     "execution_count": 20,
     "metadata": {},
     "output_type": "execute_result"
    }
   ],
   "source": [
    "emp1"
   ]
  },
  {
   "cell_type": "code",
   "execution_count": 21,
   "metadata": {},
   "outputs": [],
   "source": [
    "emp1.remove('nadia')"
   ]
  },
  {
   "cell_type": "code",
   "execution_count": 22,
   "metadata": {},
   "outputs": [
    {
     "data": {
      "text/plain": [
       "{('foo', 'bar', 'baz'),\n",
       " 'faruh',\n",
       " 'frank',\n",
       " 'geoff',\n",
       " 'henry',\n",
       " 'jackie',\n",
       " 'jacky',\n",
       " 'nadya'}"
      ]
     },
     "execution_count": 22,
     "metadata": {},
     "output_type": "execute_result"
    }
   ],
   "source": [
    "emp1"
   ]
  }
 ],
 "metadata": {
  "kernelspec": {
   "display_name": "Python 3",
   "language": "python",
   "name": "python3"
  },
  "language_info": {
   "codemirror_mode": {
    "name": "ipython",
    "version": 3
   },
   "file_extension": ".py",
   "mimetype": "text/x-python",
   "name": "python",
   "nbconvert_exporter": "python",
   "pygments_lexer": "ipython3",
   "version": "3.7.3"
  }
 },
 "nbformat": 4,
 "nbformat_minor": 2
}
