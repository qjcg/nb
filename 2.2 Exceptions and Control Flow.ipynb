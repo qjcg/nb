{
 "cells": [
  {
   "cell_type": "markdown",
   "metadata": {},
   "source": [
    "See the [hierarchy of built-in exceptions](http://docs.python.org/3.3/library/exceptions.html#exception-hierarchy)."
   ]
  },
  {
   "cell_type": "code",
   "execution_count": 10,
   "metadata": {},
   "outputs": [
    {
     "name": "stdout",
     "output_type": "stream",
     "text": [
      "blah blah blah\n",
      "This will ALWAYS execute\n"
     ]
    },
    {
     "ename": "NameError",
     "evalue": "name 'run_backup' is not defined",
     "output_type": "error",
     "traceback": [
      "\u001b[0;31m---------------------------------------------------------------------------\u001b[0m",
      "\u001b[0;31mNameError\u001b[0m                                 Traceback (most recent call last)",
      "\u001b[0;32m<ipython-input-10-08c354fb4ecf>\u001b[0m in \u001b[0;36m<module>\u001b[0;34m()\u001b[0m\n\u001b[1;32m      2\u001b[0m \u001b[0;34m\u001b[0m\u001b[0m\n\u001b[1;32m      3\u001b[0m \u001b[0;32mtry\u001b[0m\u001b[0;34m:\u001b[0m\u001b[0;34m\u001b[0m\u001b[0m\n\u001b[0;32m----> 4\u001b[0;31m     \u001b[0mrun_backup\u001b[0m\u001b[0;34m(\u001b[0m\u001b[0;34m)\u001b[0m\u001b[0;34m\u001b[0m\u001b[0m\n\u001b[0m\u001b[1;32m      5\u001b[0m \u001b[0;32mexcept\u001b[0m \u001b[0mModuleNotFoundError\u001b[0m\u001b[0;34m:\u001b[0m\u001b[0;34m\u001b[0m\u001b[0m\n\u001b[1;32m      6\u001b[0m     \u001b[0mprint\u001b[0m\u001b[0;34m(\u001b[0m\u001b[0;34m\"HANDLING ModuleNotFoundError\"\u001b[0m\u001b[0;34m)\u001b[0m\u001b[0;34m\u001b[0m\u001b[0m\n",
      "\u001b[0;31mNameError\u001b[0m: name 'run_backup' is not defined"
     ]
    }
   ],
   "source": [
    "print(\"blah blah blah\")\n",
    "\n",
    "try:\n",
    "    run_backup()\n",
    "except ModuleNotFoundError:\n",
    "    print(\"HANDLING ModuleNotFoundError\")\n",
    "finally:\n",
    "    print(\"This will ALWAYS execute\")\n",
    "\n",
    "print(\"Will execute\")"
   ]
  },
  {
   "cell_type": "code",
   "execution_count": 4,
   "metadata": {},
   "outputs": [
    {
     "name": "stdout",
     "output_type": "stream",
     "text": [
      "You had a division by zero OR an importerror: No module named 'bad_name'\n",
      "This will ALWAYS run\n",
      "Production WORK\n"
     ]
    }
   ],
   "source": [
    "try:\n",
    "    import bad_name\n",
    "except (ImportError, ZeroDivisionError) as e:\n",
    "    print(f\"You had a division by zero OR an importerror: {e}\")\n",
    "finally:\n",
    "    print(\"This will ALWAYS run\")\n",
    "    \n",
    "print(\"Production WORK\")"
   ]
  },
  {
   "cell_type": "code",
   "execution_count": 4,
   "metadata": {},
   "outputs": [
    {
     "name": "stdout",
     "output_type": "stream",
     "text": [
      "whatever else happens, this will run\n"
     ]
    },
    {
     "ename": "ZeroDivisionError",
     "evalue": "division by zero",
     "output_type": "error",
     "traceback": [
      "\u001b[1;31m---------------------------------------------------------------------------\u001b[0m",
      "\u001b[1;31mZeroDivisionError\u001b[0m                         Traceback (most recent call last)",
      "\u001b[1;32m<ipython-input-4-7afed29065cb>\u001b[0m in \u001b[0;36m<module>\u001b[1;34m()\u001b[0m\n\u001b[0;32m      1\u001b[0m \u001b[1;32mtry\u001b[0m\u001b[1;33m:\u001b[0m\u001b[1;33m\u001b[0m\u001b[0m\n\u001b[0;32m      2\u001b[0m     \u001b[0mx\u001b[0m\u001b[1;33m,\u001b[0m \u001b[0my\u001b[0m \u001b[1;33m=\u001b[0m \u001b[1;36m5\u001b[0m\u001b[1;33m,\u001b[0m \u001b[1;36m0\u001b[0m\u001b[1;33m\u001b[0m\u001b[0m\n\u001b[1;32m----> 3\u001b[1;33m     \u001b[0mx\u001b[0m \u001b[1;33m/\u001b[0m \u001b[0my\u001b[0m\u001b[1;33m\u001b[0m\u001b[0m\n\u001b[0m\u001b[0;32m      4\u001b[0m \u001b[1;32mexcept\u001b[0m \u001b[1;33m(\u001b[0m\u001b[0mImportError\u001b[0m\u001b[1;33m)\u001b[0m \u001b[1;32mas\u001b[0m \u001b[0me\u001b[0m\u001b[1;33m:\u001b[0m\u001b[1;33m\u001b[0m\u001b[0m\n\u001b[0;32m      5\u001b[0m     \u001b[0mprint\u001b[0m\u001b[1;33m(\u001b[0m\u001b[1;34m\"Oops\"\u001b[0m\u001b[1;33m,\u001b[0m \u001b[0me\u001b[0m\u001b[1;33m)\u001b[0m\u001b[1;33m\u001b[0m\u001b[0m\n",
      "\u001b[1;31mZeroDivisionError\u001b[0m: division by zero"
     ]
    }
   ],
   "source": [
    "try:\n",
    "    x, y = 5, 0\n",
    "    x / y\n",
    "except (ImportError) as e:\n",
    "    print(\"Oops\", e)\n",
    "    y = 1\n",
    "finally:\n",
    "    print('whatever else happens, this will run')\n",
    "\n",
    "print(x / y)\n",
    "print('continue doing other stuff')"
   ]
  },
  {
   "cell_type": "code",
   "execution_count": 9,
   "metadata": {},
   "outputs": [
    {
     "name": "stdout",
     "output_type": "stream",
     "text": [
      "Ceci va se faire dans tous les cas\n"
     ]
    },
    {
     "ename": "ImportError",
     "evalue": "No module named 'something_not_real'",
     "output_type": "error",
     "traceback": [
      "\u001b[1;31m---------------------------------------------------------------------------\u001b[0m\n\u001b[1;31mImportError\u001b[0m                               Traceback (most recent call last)",
      "\u001b[1;32m<ipython-input-9-f8869111607d>\u001b[0m in \u001b[0;36m<module>\u001b[1;34m()\u001b[0m\n\u001b[0;32m      1\u001b[0m \u001b[1;32mtry\u001b[0m\u001b[1;33m:\u001b[0m\u001b[1;33m\u001b[0m\u001b[0m\n\u001b[0;32m      2\u001b[0m     \u001b[0mx\u001b[0m\u001b[1;33m,\u001b[0m \u001b[0my\u001b[0m \u001b[1;33m=\u001b[0m \u001b[1;36m5\u001b[0m\u001b[1;33m,\u001b[0m \u001b[1;36m0\u001b[0m\u001b[1;33m\u001b[0m\u001b[0m\n\u001b[1;32m----> 3\u001b[1;33m     \u001b[1;32mimport\u001b[0m \u001b[0msomething_not_real\u001b[0m\u001b[1;33m\u001b[0m\u001b[0m\n\u001b[0m\u001b[0;32m      4\u001b[0m     \u001b[0mz\u001b[0m \u001b[1;33m=\u001b[0m \u001b[0mx\u001b[0m \u001b[1;33m/\u001b[0m \u001b[0my\u001b[0m\u001b[1;33m\u001b[0m\u001b[0m\n\u001b[0;32m      5\u001b[0m \u001b[1;32mexcept\u001b[0m \u001b[1;33m(\u001b[0m\u001b[0mZeroDivisionError\u001b[0m\u001b[1;33m)\u001b[0m \u001b[1;32mas\u001b[0m \u001b[0me\u001b[0m\u001b[1;33m:\u001b[0m\u001b[1;33m\u001b[0m\u001b[0m\n",
      "\u001b[1;31mImportError\u001b[0m: No module named 'something_not_real'"
     ]
    }
   ],
   "source": [
    "try:\n",
    "    x, y = 5, 0\n",
    "    import something_not_real\n",
    "    z = x / y\n",
    "except (ZeroDivisionError) as e:\n",
    "    print(\"Was an Exception, but I don't care\")\n",
    "    print(e)\n",
    "finally:\n",
    "    print(\"Ceci va se faire dans tous les cas\")\n",
    "\n",
    "print('Faire des choses tres importants!')"
   ]
  },
  {
   "cell_type": "code",
   "execution_count": 3,
   "metadata": {},
   "outputs": [
    {
     "name": "stdout",
     "output_type": "stream",
     "text": [
      "Exception time!!! The exception text is: No module named fake_nonexistant_module\n",
      "The exception was handled, or did not occur\n"
     ]
    }
   ],
   "source": [
    "x, y = 5, 1\n",
    "\n",
    "try:\n",
    "    z = x/y\n",
    "    import fake_nonexistant_module\n",
    "    print(\"This code won't execute\")\n",
    "except ZeroDivisionError as e:\n",
    "    print('Exception time!!! The exception text is: {}'.format(e))\n",
    "except ImportError as e:\n",
    "    pass\n",
    "finally:\n",
    "    print('The exception was handled, or did not occur')\n"
   ]
  },
  {
   "cell_type": "markdown",
   "metadata": {},
   "source": [
    "# Exercise\n",
    "\n",
    "- Write code to catch each of the following exception types, and print a message to the console based on the exception type:\n",
    "    - TypeError\n",
    "    - ImportError"
   ]
  },
  {
   "cell_type": "markdown",
   "metadata": {},
   "source": [
    "# Custom Exceptions"
   ]
  },
  {
   "cell_type": "code",
   "execution_count": 11,
   "metadata": {},
   "outputs": [
    {
     "ename": "InstructorError",
     "evalue": "Actually, this isn't so bad!",
     "output_type": "error",
     "traceback": [
      "\u001b[1;31m---------------------------------------------------------------------------\u001b[0m\n\u001b[1;31mInstructorError\u001b[0m                           Traceback (most recent call last)",
      "\u001b[1;32m<ipython-input-11-6fca1fb048e4>\u001b[0m in \u001b[0;36m<module>\u001b[1;34m()\u001b[0m\n\u001b[0;32m     13\u001b[0m \u001b[1;31m#raise InstructorError('Bad Python instructor...')\u001b[0m\u001b[1;33m\u001b[0m\u001b[1;33m\u001b[0m\u001b[0m\n\u001b[0;32m     14\u001b[0m \u001b[1;31m#raise OtherError\u001b[0m\u001b[1;33m\u001b[0m\u001b[1;33m\u001b[0m\u001b[0m\n\u001b[1;32m---> 15\u001b[1;33m     \u001b[1;32mraise\u001b[0m \u001b[0mInstructorError\u001b[0m\u001b[1;33m(\u001b[0m\u001b[1;34m\"Actually, this isn't so bad!\"\u001b[0m\u001b[1;33m)\u001b[0m\u001b[1;33m\u001b[0m\u001b[0m\n\u001b[0m",
      "\u001b[1;31mInstructorError\u001b[0m: Actually, this isn't so bad!"
     ]
    }
   ],
   "source": [
    "# Minimum viable exception definition!\n",
    "# Serves just to give your exception condition a name\n",
    "class InstructorError(Exception): pass\n",
    "\n",
    "# Example d'une exception qui override le constructeur du parent\n",
    "class OtherError(Exception):\n",
    "    def __init__(self, default_message='AAAAH!'):\n",
    "        super().__init__()\n",
    "        print(default_message)\n",
    "\n",
    "instructor = False\n",
    "if instructor == False:\n",
    "#raise InstructorError('Bad Python instructor...')\n",
    "#raise OtherError\n",
    "    raise InstructorError(\"Actually, this isn't so bad!\")"
   ]
  },
  {
   "cell_type": "code",
   "execution_count": 18,
   "metadata": {},
   "outputs": [],
   "source": [
    "class MarketCurrencyError(Exception):\n",
    "    def __init__(self, message, number=42):\n",
    "        self.number = number\n",
    "        print(\"message\")\n",
    "\n",
    "# LIBRARY code\n",
    "def sell(currency, amount=5):\n",
    "    if currency != 'USD':\n",
    "        raise MarketCurrencyError(\"currency provided is not USD\")\n",
    "    print('Sale Excecuted!')"
   ]
  },
  {
   "cell_type": "code",
   "execution_count": 19,
   "metadata": {},
   "outputs": [
    {
     "name": "stdout",
     "output_type": "stream",
     "text": [
      "message\n",
      "Handling MarketCurrencyError:  currency provided is not USD\n",
      "42\n",
      "Sale Excecuted!\n"
     ]
    }
   ],
   "source": [
    "# APPLICATION code\n",
    "\n",
    "try:\n",
    "    sell('CAD')\n",
    "except MarketCurrencyError as e:\n",
    "    print(\"Handling MarketCurrencyError: \", e)\n",
    "    print(e.number)\n",
    "    sell('USD')\n"
   ]
  },
  {
   "cell_type": "markdown",
   "metadata": {},
   "source": [
    "# The assert statement"
   ]
  },
  {
   "cell_type": "code",
   "execution_count": 5,
   "metadata": {},
   "outputs": [
    {
     "ename": "AssertionError",
     "evalue": "Name really needs to be a string",
     "output_type": "error",
     "traceback": [
      "\u001b[0;31m---------------------------------------------------------------------------\u001b[0m",
      "\u001b[0;31mAssertionError\u001b[0m                            Traceback (most recent call last)",
      "\u001b[0;32m<ipython-input-5-9089c8c16c55>\u001b[0m in \u001b[0;36m<module>\u001b[0;34m\u001b[0m\n\u001b[1;32m     10\u001b[0m \u001b[0;31m# intentionally calling the function with a non-string\u001b[0m\u001b[0;34m\u001b[0m\u001b[0;34m\u001b[0m\u001b[0;34m\u001b[0m\u001b[0m\n\u001b[1;32m     11\u001b[0m \u001b[0;31m# value to raise an AssertionError\u001b[0m\u001b[0;34m\u001b[0m\u001b[0;34m\u001b[0m\u001b[0;34m\u001b[0m\u001b[0m\n\u001b[0;32m---> 12\u001b[0;31m \u001b[0mmyfunc\u001b[0m\u001b[0;34m(\u001b[0m\u001b[0;36m123\u001b[0m\u001b[0;34m)\u001b[0m\u001b[0;34m\u001b[0m\u001b[0;34m\u001b[0m\u001b[0m\n\u001b[0m\u001b[1;32m     13\u001b[0m \u001b[0;34m\u001b[0m\u001b[0m\n\u001b[1;32m     14\u001b[0m \u001b[0;31m#try:\u001b[0m\u001b[0;34m\u001b[0m\u001b[0;34m\u001b[0m\u001b[0;34m\u001b[0m\u001b[0m\n",
      "\u001b[0;32m<ipython-input-5-9089c8c16c55>\u001b[0m in \u001b[0;36mmyfunc\u001b[0;34m(name)\u001b[0m\n\u001b[1;32m      1\u001b[0m \u001b[0;32mdef\u001b[0m \u001b[0mmyfunc\u001b[0m\u001b[0;34m(\u001b[0m\u001b[0mname\u001b[0m\u001b[0;34m)\u001b[0m\u001b[0;34m:\u001b[0m\u001b[0;34m\u001b[0m\u001b[0;34m\u001b[0m\u001b[0m\n\u001b[0;32m----> 2\u001b[0;31m     \u001b[0;32massert\u001b[0m \u001b[0misinstance\u001b[0m\u001b[0;34m(\u001b[0m\u001b[0mname\u001b[0m\u001b[0;34m,\u001b[0m \u001b[0mstr\u001b[0m\u001b[0;34m)\u001b[0m\u001b[0;34m,\u001b[0m \u001b[0;34m\"Name really needs to be a string\"\u001b[0m\u001b[0;34m\u001b[0m\u001b[0;34m\u001b[0m\u001b[0m\n\u001b[0m\u001b[1;32m      3\u001b[0m \u001b[0;34m\u001b[0m\u001b[0m\n\u001b[1;32m      4\u001b[0m     \u001b[0;31m# complex stuff happens...\u001b[0m\u001b[0;34m\u001b[0m\u001b[0;34m\u001b[0m\u001b[0;34m\u001b[0m\u001b[0m\n\u001b[1;32m      5\u001b[0m \u001b[0;34m\u001b[0m\u001b[0m\n",
      "\u001b[0;31mAssertionError\u001b[0m: Name really needs to be a string"
     ]
    }
   ],
   "source": [
    "def myfunc(name):\n",
    "    assert isinstance(name, str), \"Name really needs to be a string\"  \n",
    "    \n",
    "    # complex stuff happens...\n",
    "    \n",
    "    assert val != 7\n",
    "    \n",
    "    return name\n",
    "\n",
    "# intentionally calling the function with a non-string\n",
    "# value to raise an AssertionError\n",
    "myfunc(123)\n",
    "\n",
    "#try:\n",
    "#    myfunc(123)\n",
    "#except AssertionError as e:\n",
    "#    print(e)"
   ]
  },
  {
   "cell_type": "code",
   "execution_count": 14,
   "metadata": {},
   "outputs": [],
   "source": [
    "def something(name):\n",
    "    if isinstance(name, int):\n",
    "        raise TypeError('This should be a string')\n",
    "    else:\n",
    "        print('Happy days!')\n",
    "    "
   ]
  },
  {
   "cell_type": "code",
   "execution_count": 15,
   "metadata": {},
   "outputs": [
    {
     "name": "stdout",
     "output_type": "stream",
     "text": [
      "Happy days!\n"
     ]
    }
   ],
   "source": [
    "something('hello')"
   ]
  },
  {
   "cell_type": "code",
   "execution_count": 16,
   "metadata": {},
   "outputs": [
    {
     "ename": "TypeError",
     "evalue": "This should be a string",
     "output_type": "error",
     "traceback": [
      "\u001b[1;31m---------------------------------------------------------------------------\u001b[0m\n\u001b[1;31mTypeError\u001b[0m                                 Traceback (most recent call last)",
      "\u001b[1;32m<ipython-input-16-20e6f572b77e>\u001b[0m in \u001b[0;36m<module>\u001b[1;34m()\u001b[0m\n\u001b[1;32m----> 1\u001b[1;33m \u001b[0msomething\u001b[0m\u001b[1;33m(\u001b[0m\u001b[1;36m44\u001b[0m\u001b[1;33m)\u001b[0m\u001b[1;33m\u001b[0m\u001b[0m\n\u001b[0m",
      "\u001b[1;32m<ipython-input-14-3dce09036d5d>\u001b[0m in \u001b[0;36msomething\u001b[1;34m(name)\u001b[0m\n\u001b[0;32m      1\u001b[0m \u001b[1;32mdef\u001b[0m \u001b[0msomething\u001b[0m\u001b[1;33m(\u001b[0m\u001b[0mname\u001b[0m\u001b[1;33m)\u001b[0m\u001b[1;33m:\u001b[0m\u001b[1;33m\u001b[0m\u001b[0m\n\u001b[0;32m      2\u001b[0m     \u001b[1;32mif\u001b[0m \u001b[0misinstance\u001b[0m\u001b[1;33m(\u001b[0m\u001b[0mname\u001b[0m\u001b[1;33m,\u001b[0m \u001b[0mint\u001b[0m\u001b[1;33m)\u001b[0m\u001b[1;33m:\u001b[0m\u001b[1;33m\u001b[0m\u001b[0m\n\u001b[1;32m----> 3\u001b[1;33m         \u001b[1;32mraise\u001b[0m \u001b[0mTypeError\u001b[0m\u001b[1;33m(\u001b[0m\u001b[1;34m'This should be a string'\u001b[0m\u001b[1;33m)\u001b[0m\u001b[1;33m\u001b[0m\u001b[0m\n\u001b[0m\u001b[0;32m      4\u001b[0m     \u001b[1;32melse\u001b[0m\u001b[1;33m:\u001b[0m\u001b[1;33m\u001b[0m\u001b[0m\n\u001b[0;32m      5\u001b[0m         \u001b[0mprint\u001b[0m\u001b[1;33m(\u001b[0m\u001b[1;34m'Happy days!'\u001b[0m\u001b[1;33m)\u001b[0m\u001b[1;33m\u001b[0m\u001b[0m\n",
      "\u001b[1;31mTypeError\u001b[0m: This should be a string"
     ]
    }
   ],
   "source": [
    "something(44)"
   ]
  },
  {
   "cell_type": "markdown",
   "metadata": {},
   "source": [
    "# Exercise\n",
    "\n",
    "Write a function that validates at least one of it's arguments via the assert builtin.\n",
    "\n",
    "Then write some code that calls the function:\n",
    "\n",
    "- with a valid argument\n",
    "- then, with an invalid argument\n",
    "\n",
    "\n",
    "Finally, modify your code to handle an AssertionError with a try/except block."
   ]
  },
  {
   "cell_type": "code",
   "execution_count": 9,
   "metadata": {},
   "outputs": [
    {
     "ename": "WeaponError",
     "evalue": "Never bring a knife to a gunfight.",
     "output_type": "error",
     "traceback": [
      "\u001b[1;31m---------------------------------------------------------------------------\u001b[0m",
      "\u001b[1;31mWeaponError\u001b[0m                               Traceback (most recent call last)",
      "\u001b[1;32m<ipython-input-9-31ccc4cee659>\u001b[0m in \u001b[0;36m<module>\u001b[1;34m()\u001b[0m\n\u001b[0;32m     10\u001b[0m \u001b[1;31m# \"application code\" using the above \"library\"\u001b[0m\u001b[1;33m\u001b[0m\u001b[1;33m\u001b[0m\u001b[0m\n\u001b[0;32m     11\u001b[0m \u001b[0mweapon\u001b[0m \u001b[1;33m=\u001b[0m \u001b[1;34m'knife'\u001b[0m\u001b[1;33m\u001b[0m\u001b[0m\n\u001b[1;32m---> 12\u001b[1;33m \u001b[0mbring_to_gunfight\u001b[0m\u001b[1;33m(\u001b[0m\u001b[0mweapon\u001b[0m\u001b[1;33m)\u001b[0m\u001b[1;33m\u001b[0m\u001b[0m\n\u001b[0m\u001b[0;32m     13\u001b[0m \u001b[1;33m\u001b[0m\u001b[0m\n",
      "\u001b[1;32m<ipython-input-9-31ccc4cee659>\u001b[0m in \u001b[0;36mbring_to_gunfight\u001b[1;34m(weapon)\u001b[0m\n\u001b[0;32m      4\u001b[0m \u001b[1;32mdef\u001b[0m \u001b[0mbring_to_gunfight\u001b[0m\u001b[1;33m(\u001b[0m\u001b[0mweapon\u001b[0m\u001b[1;33m)\u001b[0m\u001b[1;33m:\u001b[0m\u001b[1;33m\u001b[0m\u001b[0m\n\u001b[0;32m      5\u001b[0m     \u001b[1;32mif\u001b[0m \u001b[0mweapon\u001b[0m \u001b[1;33m==\u001b[0m \u001b[1;34m'knife'\u001b[0m\u001b[1;33m:\u001b[0m\u001b[1;33m\u001b[0m\u001b[0m\n\u001b[1;32m----> 6\u001b[1;33m         \u001b[1;32mraise\u001b[0m \u001b[0mWeaponError\u001b[0m\u001b[1;33m(\u001b[0m\u001b[1;34m\"Never bring a knife to a gunfight.\"\u001b[0m\u001b[1;33m)\u001b[0m\u001b[1;33m\u001b[0m\u001b[0m\n\u001b[0m\u001b[0;32m      7\u001b[0m     \u001b[1;32melse\u001b[0m\u001b[1;33m:\u001b[0m\u001b[1;33m\u001b[0m\u001b[0m\n\u001b[0;32m      8\u001b[0m         \u001b[0mprint\u001b[0m\u001b[1;33m(\u001b[0m\u001b[1;34m'Everything goes as planned.'\u001b[0m\u001b[1;33m)\u001b[0m\u001b[1;33m\u001b[0m\u001b[0m\n",
      "\u001b[1;31mWeaponError\u001b[0m: Never bring a knife to a gunfight."
     ]
    }
   ],
   "source": [
    "# new exception type (library code)\n",
    "class WeaponError(Exception): pass\n",
    "\n",
    "def bring_to_gunfight(weapon):\n",
    "    if weapon == 'knife':\n",
    "        raise WeaponError(\"Never bring a knife to a gunfight.\")\n",
    "    else:\n",
    "        print('Everything goes as planned.')\n",
    "\n",
    "# \"application code\" using the above \"library\"\n",
    "weapon = 'knife'\n",
    "try:\n",
    "    bring_to_gunfight(weapon)\n",
    "except WeaponError as e:\n",
    "    # if you try bringing a knife, you'll find yourself empty handed\n",
    "    weapon = 'bare hands'\n",
    "\n"
   ]
  },
  {
   "cell_type": "code",
   "execution_count": 20,
   "metadata": {},
   "outputs": [
    {
     "name": "stdout",
     "output_type": "stream",
     "text": [
      "You bring a Bow and arrow to the gunfight\n"
     ]
    }
   ],
   "source": [
    "bring_to_gunfight('Bow and arrow')"
   ]
  },
  {
   "cell_type": "code",
   "execution_count": 21,
   "metadata": {},
   "outputs": [
    {
     "ename": "WeaponError",
     "evalue": "Never bring a knife to a gunfight...",
     "output_type": "error",
     "traceback": [
      "\u001b[1;31m---------------------------------------------------------------------------\u001b[0m\n\u001b[1;31mWeaponError\u001b[0m                               Traceback (most recent call last)",
      "\u001b[1;32m<ipython-input-21-04bd3af0b6b3>\u001b[0m in \u001b[0;36m<module>\u001b[1;34m()\u001b[0m\n\u001b[1;32m----> 1\u001b[1;33m \u001b[0mbring_to_gunfight\u001b[0m\u001b[1;33m(\u001b[0m\u001b[1;34m'knife'\u001b[0m\u001b[1;33m)\u001b[0m\u001b[1;33m\u001b[0m\u001b[0m\n\u001b[0m",
      "\u001b[1;32m<ipython-input-19-8a18b2555f40>\u001b[0m in \u001b[0;36mbring_to_gunfight\u001b[1;34m(weapon)\u001b[0m\n\u001b[0;32m      5\u001b[0m         \u001b[1;32massert\u001b[0m \u001b[0mweapon\u001b[0m \u001b[1;33m!=\u001b[0m \u001b[1;34m'knife'\u001b[0m\u001b[1;33m,\u001b[0m \u001b[1;34m\"Never bring a knife to a gunfight...\"\u001b[0m\u001b[1;33m\u001b[0m\u001b[0m\n\u001b[0;32m      6\u001b[0m     \u001b[1;32mexcept\u001b[0m \u001b[0mAssertionError\u001b[0m \u001b[1;32mas\u001b[0m \u001b[0me\u001b[0m\u001b[1;33m:\u001b[0m\u001b[1;33m\u001b[0m\u001b[0m\n\u001b[1;32m----> 7\u001b[1;33m         \u001b[1;32mraise\u001b[0m \u001b[0mWeaponError\u001b[0m\u001b[1;33m(\u001b[0m\u001b[0me\u001b[0m\u001b[1;33m)\u001b[0m\u001b[1;33m\u001b[0m\u001b[0m\n\u001b[0m\u001b[0;32m      8\u001b[0m \u001b[1;33m\u001b[0m\u001b[0m\n\u001b[0;32m      9\u001b[0m     \u001b[0mprint\u001b[0m\u001b[1;33m(\u001b[0m\u001b[1;34m'You bring a {} to the gunfight'\u001b[0m\u001b[1;33m.\u001b[0m\u001b[0mformat\u001b[0m\u001b[1;33m(\u001b[0m\u001b[0mweapon\u001b[0m\u001b[1;33m)\u001b[0m\u001b[1;33m)\u001b[0m\u001b[1;33m\u001b[0m\u001b[0m\n",
      "\u001b[1;31mWeaponError\u001b[0m: Never bring a knife to a gunfight..."
     ]
    }
   ],
   "source": [
    "bring_to_gunfight('knife')"
   ]
  },
  {
   "cell_type": "markdown",
   "metadata": {},
   "source": [
    "# Exercise\n",
    "\n",
    "- Define a custom exception type related to one or more of your classes\n",
    "    - alter the related class(es) to raise the defined exeption in a situation that makes logical sense\n",
    "- write some code that makes use of the above mentionned class and that _handles_ your custom exception"
   ]
  },
  {
   "cell_type": "code",
   "execution_count": null,
   "metadata": {},
   "outputs": [],
   "source": [
    "# code \"librarie\"\n",
    "class VortexGraphicError(Exception): pass\n",
    "\n",
    "class Vortex(object):\n",
    "    def __init__(self, graphic=None):\n",
    "        self.graphic = graphic\n",
    "        \n",
    "    def lancer_sim(self):\n",
    "        if not self.graphic:\n",
    "            raise VortexGraphicError(\"You need a graphic!!!\")\n",
    "        else:\n",
    "            pass\n",
    "        \n",
    "# code \"application\"\n",
    "\n",
    "try:\n",
    "    v = Vortex('maybe/a/path/to/graphic.png')\n",
    "    v.lancer_sim()\n",
    "except VortexGraphicError as e:\n",
    "    print(\"VortexGraphicError, but no big deal.\")\n",
    "    \n",
    "print(\"do other stuff\")\n",
    "\n",
    "\n"
   ]
  }
 ],
 "metadata": {
  "kernelspec": {
   "display_name": "Python 3",
   "language": "python",
   "name": "python3"
  },
  "language_info": {
   "codemirror_mode": {
    "name": "ipython",
    "version": 3
   },
   "file_extension": ".py",
   "mimetype": "text/x-python",
   "name": "python",
   "nbconvert_exporter": "python",
   "pygments_lexer": "ipython3",
   "version": "3.7.1"
  }
 },
 "nbformat": 4,
 "nbformat_minor": 2
}
