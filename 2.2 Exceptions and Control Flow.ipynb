{
 "cells": [
  {
   "cell_type": "markdown",
   "metadata": {},
   "source": [
    "See the [hierarchy of built-in exceptions](http://docs.python.org/3.3/library/exceptions.html#exception-hierarchy)."
   ]
  },
  {
   "cell_type": "code",
   "execution_count": 6,
   "metadata": {},
   "outputs": [
    {
     "name": "stdout",
     "output_type": "stream",
     "text": [
      "Commencing backup procedure\n",
      "Exception or not, I'M PRINTING!\n",
      "Backup procedure finished\n"
     ]
    }
   ],
   "source": [
    "print(\"Commencing backup procedure\")\n",
    "\n",
    "x, y = 5, 0\n",
    "\n",
    "try:\n",
    "    pass\n",
    "    #run_backup()\n",
    "    #x / y\n",
    "except NameError as err:\n",
    "    print(f\"DEBUG: NameError: {err}\")\n",
    "    run_backup = lambda: print(\"Backup with temp system\")\n",
    "    run_backup()\n",
    "except ZeroDivisionError:\n",
    "    print(\"I'm done with this!\")\n",
    "finally:\n",
    "    print(\"Exception or not, I'M PRINTING!\")\n",
    "\n",
    "print(\"Backup procedure finished\")\n",
    "\n",
    "\n",
    "\n",
    "\n",
    "\n",
    "\n",
    "\n",
    "\n",
    "\n",
    "\n",
    "\n",
    "\n",
    "\n",
    "\n",
    "\n",
    "\n"
   ]
  },
  {
   "cell_type": "code",
   "execution_count": null,
   "metadata": {},
   "outputs": [],
   "source": [
    "try:\n",
    "    import bad_name\n",
    "except (ImportError, ZeroDivisionError) as e:\n",
    "    print(f\"You had a division by zero OR an importerror: {e}\")\n",
    "finally:\n",
    "    print(\"This will ALWAYS run\")\n",
    "    \n",
    "print(\"Production WORK\")"
   ]
  },
  {
   "cell_type": "code",
   "execution_count": null,
   "metadata": {},
   "outputs": [],
   "source": [
    "try:\n",
    "    x, y = 5, 0\n",
    "    x / y\n",
    "except (ImportError) as e:\n",
    "    print(\"Oops\", e)\n",
    "    y = 1\n",
    "finally:\n",
    "    print('whatever else happens, this will run')\n",
    "\n",
    "print(x / y)\n",
    "print('continue doing other stuff')"
   ]
  },
  {
   "cell_type": "code",
   "execution_count": null,
   "metadata": {},
   "outputs": [],
   "source": [
    "try:\n",
    "    x, y = 5, 0\n",
    "    import something_not_real\n",
    "    z = x / y\n",
    "except (ZeroDivisionError) as e:\n",
    "    print(\"Was an Exception, but I don't care\")\n",
    "    print(e)\n",
    "finally:\n",
    "    print(\"Ceci va se faire dans tous les cas\")\n",
    "\n",
    "print('Faire des choses tres importants!')"
   ]
  },
  {
   "cell_type": "code",
   "execution_count": null,
   "metadata": {},
   "outputs": [],
   "source": [
    "x, y = 5, 1\n",
    "\n",
    "try:\n",
    "    z = x/y\n",
    "    import fake_nonexistant_module\n",
    "    print(\"This code won't execute\")\n",
    "except ZeroDivisionError as e:\n",
    "    print('Exception time!!! The exception text is: {}'.format(e))\n",
    "except ImportError as e:\n",
    "    pass\n",
    "finally:\n",
    "    print('The exception was handled, or did not occur')\n"
   ]
  },
  {
   "cell_type": "markdown",
   "metadata": {},
   "source": [
    "# Exercise\n",
    "\n",
    "- Write code to catch each of the following exception types, and print a message to the console based on the exception type:\n",
    "    - TypeError\n",
    "    - ImportError"
   ]
  },
  {
   "cell_type": "code",
   "execution_count": 12,
   "metadata": {},
   "outputs": [
    {
     "name": "stdout",
     "output_type": "stream",
     "text": [
      "Exception? Maybe, but who cares!\n"
     ]
    },
    {
     "ename": "ModuleNotFoundError",
     "evalue": "No module named 'something'",
     "output_type": "error",
     "traceback": [
      "\u001b[0;31m---------------------------------------------------------------------------\u001b[0m",
      "\u001b[0;31mModuleNotFoundError\u001b[0m                       Traceback (most recent call last)",
      "\u001b[0;32m<ipython-input-12-ca148c2c657e>\u001b[0m in \u001b[0;36m<module>\u001b[0;34m\u001b[0m\n\u001b[1;32m      2\u001b[0m \u001b[0;34m\u001b[0m\u001b[0m\n\u001b[1;32m      3\u001b[0m \u001b[0;32mtry\u001b[0m\u001b[0;34m:\u001b[0m\u001b[0;34m\u001b[0m\u001b[0;34m\u001b[0m\u001b[0m\n\u001b[0;32m----> 4\u001b[0;31m     \u001b[0;32mimport\u001b[0m \u001b[0msomething\u001b[0m\u001b[0;34m\u001b[0m\u001b[0;34m\u001b[0m\u001b[0m\n\u001b[0m\u001b[1;32m      5\u001b[0m     \u001b[0mx\u001b[0m \u001b[0;34m/\u001b[0m \u001b[0my\u001b[0m\u001b[0;34m\u001b[0m\u001b[0;34m\u001b[0m\u001b[0m\n\u001b[1;32m      6\u001b[0m \u001b[0;32mexcept\u001b[0m \u001b[0mTypeError\u001b[0m \u001b[0;32mas\u001b[0m \u001b[0me\u001b[0m\u001b[0;34m:\u001b[0m\u001b[0;34m\u001b[0m\u001b[0;34m\u001b[0m\u001b[0m\n",
      "\u001b[0;31mModuleNotFoundError\u001b[0m: No module named 'something'"
     ]
    }
   ],
   "source": [
    "x, y = \"aaa\", \"bbb\"\n",
    "\n",
    "try:\n",
    "    import something\n",
    "    x / y\n",
    "except TypeError as e:\n",
    "    print(f\"I got a TypeError: {e}\")\n",
    "finally:\n",
    "    print(\"Exception? Maybe, but who cares!\")"
   ]
  },
  {
   "cell_type": "markdown",
   "metadata": {},
   "source": [
    "# Custom Exceptions"
   ]
  },
  {
   "cell_type": "code",
   "execution_count": 14,
   "metadata": {},
   "outputs": [
    {
     "name": "stdout",
     "output_type": "stream",
     "text": [
      "1764\n"
     ]
    },
    {
     "ename": "OtherError",
     "evalue": "Oh no! A problem",
     "output_type": "error",
     "traceback": [
      "\u001b[0;31m---------------------------------------------------------------------------\u001b[0m",
      "\u001b[0;31mOtherError\u001b[0m                                Traceback (most recent call last)",
      "\u001b[0;32m<ipython-input-14-6563e60e3d3f>\u001b[0m in \u001b[0;36m<module>\u001b[0;34m\u001b[0m\n\u001b[1;32m      9\u001b[0m         \u001b[0mprint\u001b[0m\u001b[0;34m(\u001b[0m\u001b[0;36m42\u001b[0m\u001b[0;34m**\u001b[0m\u001b[0;36m2\u001b[0m\u001b[0;34m)\u001b[0m\u001b[0;34m\u001b[0m\u001b[0;34m\u001b[0m\u001b[0m\n\u001b[1;32m     10\u001b[0m \u001b[0;34m\u001b[0m\u001b[0m\n\u001b[0;32m---> 11\u001b[0;31m \u001b[0;32mraise\u001b[0m \u001b[0mOtherError\u001b[0m\u001b[0;34m(\u001b[0m\u001b[0;34m\"Oh no! A problem\"\u001b[0m\u001b[0;34m)\u001b[0m\u001b[0;34m\u001b[0m\u001b[0;34m\u001b[0m\u001b[0m\n\u001b[0m\u001b[1;32m     12\u001b[0m \u001b[0;34m\u001b[0m\u001b[0m\n\u001b[1;32m     13\u001b[0m \u001b[0minstructor\u001b[0m \u001b[0;34m=\u001b[0m \u001b[0;32mFalse\u001b[0m\u001b[0;34m\u001b[0m\u001b[0;34m\u001b[0m\u001b[0m\n",
      "\u001b[0;31mOtherError\u001b[0m: Oh no! A problem"
     ]
    }
   ],
   "source": [
    "# Minimum viable exception definition!\n",
    "# Serves just to give your exception condition a name\n",
    "class InstructorError(Exception): pass\n",
    "\n",
    "# Example d'une exception qui override le constructeur du parent\n",
    "class OtherError(Exception):\n",
    "    def __init__(self, msg, n=42):\n",
    "        super().__init__(msg)\n",
    "        print(42**2)\n",
    "\n",
    "raise OtherError(\"Oh no! A problem\")\n",
    "        \n",
    "instructor = False\n",
    "if instructor == False:\n",
    "#raise InstructorError('Bad Python instructor...')\n",
    "#raise OtherError\n",
    "    raise InstructorError(\"Actually, this isn't so bad!\")"
   ]
  },
  {
   "cell_type": "code",
   "execution_count": null,
   "metadata": {},
   "outputs": [],
   "source": [
    "class MarketCurrencyError(Exception):\n",
    "    def __init__(self, message, number=42):\n",
    "        self.number = number\n",
    "        print(\"message\")\n",
    "\n",
    "# LIBRARY code\n",
    "def sell(currency, amount=5):\n",
    "    if currency != 'USD':\n",
    "        raise MarketCurrencyError(\"currency provided is not USD\")\n",
    "    print('Sale Excecuted!')"
   ]
  },
  {
   "cell_type": "code",
   "execution_count": null,
   "metadata": {},
   "outputs": [],
   "source": [
    "# APPLICATION code\n",
    "\n",
    "try:\n",
    "    sell('CAD')\n",
    "except MarketCurrencyError as e:\n",
    "    print(\"Handling MarketCurrencyError: \", e)\n",
    "    print(e.number)\n",
    "    sell('USD')\n"
   ]
  },
  {
   "cell_type": "markdown",
   "metadata": {},
   "source": [
    "# The assert statement"
   ]
  },
  {
   "cell_type": "code",
   "execution_count": 15,
   "metadata": {},
   "outputs": [
    {
     "ename": "AssertionError",
     "evalue": "Name really needs to be a string",
     "output_type": "error",
     "traceback": [
      "\u001b[0;31m---------------------------------------------------------------------------\u001b[0m",
      "\u001b[0;31mAssertionError\u001b[0m                            Traceback (most recent call last)",
      "\u001b[0;32m<ipython-input-15-9089c8c16c55>\u001b[0m in \u001b[0;36m<module>\u001b[0;34m\u001b[0m\n\u001b[1;32m     10\u001b[0m \u001b[0;31m# intentionally calling the function with a non-string\u001b[0m\u001b[0;34m\u001b[0m\u001b[0;34m\u001b[0m\u001b[0;34m\u001b[0m\u001b[0m\n\u001b[1;32m     11\u001b[0m \u001b[0;31m# value to raise an AssertionError\u001b[0m\u001b[0;34m\u001b[0m\u001b[0;34m\u001b[0m\u001b[0;34m\u001b[0m\u001b[0m\n\u001b[0;32m---> 12\u001b[0;31m \u001b[0mmyfunc\u001b[0m\u001b[0;34m(\u001b[0m\u001b[0;36m123\u001b[0m\u001b[0;34m)\u001b[0m\u001b[0;34m\u001b[0m\u001b[0;34m\u001b[0m\u001b[0m\n\u001b[0m\u001b[1;32m     13\u001b[0m \u001b[0;34m\u001b[0m\u001b[0m\n\u001b[1;32m     14\u001b[0m \u001b[0;31m#try:\u001b[0m\u001b[0;34m\u001b[0m\u001b[0;34m\u001b[0m\u001b[0;34m\u001b[0m\u001b[0m\n",
      "\u001b[0;32m<ipython-input-15-9089c8c16c55>\u001b[0m in \u001b[0;36mmyfunc\u001b[0;34m(name)\u001b[0m\n\u001b[1;32m      1\u001b[0m \u001b[0;32mdef\u001b[0m \u001b[0mmyfunc\u001b[0m\u001b[0;34m(\u001b[0m\u001b[0mname\u001b[0m\u001b[0;34m)\u001b[0m\u001b[0;34m:\u001b[0m\u001b[0;34m\u001b[0m\u001b[0;34m\u001b[0m\u001b[0m\n\u001b[0;32m----> 2\u001b[0;31m     \u001b[0;32massert\u001b[0m \u001b[0misinstance\u001b[0m\u001b[0;34m(\u001b[0m\u001b[0mname\u001b[0m\u001b[0;34m,\u001b[0m \u001b[0mstr\u001b[0m\u001b[0;34m)\u001b[0m\u001b[0;34m,\u001b[0m \u001b[0;34m\"Name really needs to be a string\"\u001b[0m\u001b[0;34m\u001b[0m\u001b[0;34m\u001b[0m\u001b[0m\n\u001b[0m\u001b[1;32m      3\u001b[0m \u001b[0;34m\u001b[0m\u001b[0m\n\u001b[1;32m      4\u001b[0m     \u001b[0;31m# complex stuff happens...\u001b[0m\u001b[0;34m\u001b[0m\u001b[0;34m\u001b[0m\u001b[0;34m\u001b[0m\u001b[0m\n\u001b[1;32m      5\u001b[0m \u001b[0;34m\u001b[0m\u001b[0m\n",
      "\u001b[0;31mAssertionError\u001b[0m: Name really needs to be a string"
     ]
    }
   ],
   "source": [
    "def myfunc(name):\n",
    "    assert isinstance(name, str), \"Name really needs to be a string\"  \n",
    "    \n",
    "    # complex stuff happens...\n",
    "    \n",
    "    assert val != 7\n",
    "    \n",
    "    return name\n",
    "\n",
    "# intentionally calling the function with a non-string\n",
    "# value to raise an AssertionError\n",
    "myfunc(123)\n",
    "\n",
    "#try:\n",
    "#    myfunc(123)\n",
    "#except AssertionError as e:\n",
    "#    print(e)"
   ]
  },
  {
   "cell_type": "code",
   "execution_count": null,
   "metadata": {},
   "outputs": [],
   "source": [
    "def something(name):\n",
    "    if isinstance(name, int):\n",
    "        raise TypeError('This should be a string')\n",
    "    else:\n",
    "        print('Happy days!')\n",
    "    "
   ]
  },
  {
   "cell_type": "code",
   "execution_count": null,
   "metadata": {},
   "outputs": [],
   "source": [
    "something('hello')"
   ]
  },
  {
   "cell_type": "code",
   "execution_count": null,
   "metadata": {},
   "outputs": [],
   "source": [
    "something(44)"
   ]
  },
  {
   "cell_type": "markdown",
   "metadata": {},
   "source": [
    "# Exercise\n",
    "\n",
    "Write a \"library\" function in one notebook cell that validates at least one of it's arguments via the assert builtin.\n",
    "\n",
    "Then write some \"app\" code in a second notebook cell that calls the function:\n",
    "\n",
    "- with a valid argument\n",
    "- then, with an invalid argument\n",
    "\n",
    "\n",
    "Finally, modify your \"app\" code to handle an AssertionError with a try/except block."
   ]
  },
  {
   "cell_type": "code",
   "execution_count": 18,
   "metadata": {},
   "outputs": [],
   "source": [
    "# \"Library\" code\n",
    "def translate(x, y):\n",
    "    \"\"\"Translate a point on a coordinate grid.\n",
    "    \"\"\"\n",
    "    assert x > 0, \"The value of x must be greater than zero\"\n",
    "    print(x, y)"
   ]
  },
  {
   "cell_type": "code",
   "execution_count": 20,
   "metadata": {},
   "outputs": [
    {
     "name": "stdout",
     "output_type": "stream",
     "text": [
      "5 10\n",
      "1 22\n"
     ]
    }
   ],
   "source": [
    "# \"Application\"\n",
    "try:\n",
    "    translate(5, 10)\n",
    "    translate(-1, 22)\n",
    "except AssertionError as e:\n",
    "    x = 1\n",
    "    translate(x, 22)"
   ]
  },
  {
   "cell_type": "code",
   "execution_count": 25,
   "metadata": {},
   "outputs": [
    {
     "name": "stdout",
     "output_type": "stream",
     "text": [
      "Using bare hands\n"
     ]
    }
   ],
   "source": [
    "# new exception type (library code)\n",
    "class WeaponError(Exception): pass\n",
    "\n",
    "def bring_to_gunfight(weapon):\n",
    "    if weapon == 'knife':\n",
    "        raise WeaponError(\"Never bring a knife to a gunfight.\")\n",
    "    else:\n",
    "        print('Everything goes as planned.')\n",
    "\n",
    "# \"application code\" using the above \"library\"\n",
    "weapon = 'knife'\n",
    "try:\n",
    "    bring_to_gunfight(weapon)\n",
    "except WeaponError as e:\n",
    "    # if you try bringing a knife, you'll find yourself empty handed\n",
    "    weapon = 'bare hands'\n",
    "finally:\n",
    "    print(f\"Using {weapon}\")\n",
    "\n"
   ]
  },
  {
   "cell_type": "code",
   "execution_count": 23,
   "metadata": {},
   "outputs": [
    {
     "name": "stdout",
     "output_type": "stream",
     "text": [
      "Everything goes as planned.\n"
     ]
    }
   ],
   "source": [
    "bring_to_gunfight('Bow and arrow')"
   ]
  },
  {
   "cell_type": "code",
   "execution_count": 24,
   "metadata": {},
   "outputs": [
    {
     "ename": "WeaponError",
     "evalue": "Never bring a knife to a gunfight.",
     "output_type": "error",
     "traceback": [
      "\u001b[0;31m---------------------------------------------------------------------------\u001b[0m",
      "\u001b[0;31mWeaponError\u001b[0m                               Traceback (most recent call last)",
      "\u001b[0;32m<ipython-input-24-9f0231ef64c3>\u001b[0m in \u001b[0;36m<module>\u001b[0;34m\u001b[0m\n\u001b[0;32m----> 1\u001b[0;31m \u001b[0mbring_to_gunfight\u001b[0m\u001b[0;34m(\u001b[0m\u001b[0;34m'knife'\u001b[0m\u001b[0;34m)\u001b[0m\u001b[0;34m\u001b[0m\u001b[0;34m\u001b[0m\u001b[0m\n\u001b[0m",
      "\u001b[0;32m<ipython-input-22-df35684339ae>\u001b[0m in \u001b[0;36mbring_to_gunfight\u001b[0;34m(weapon)\u001b[0m\n\u001b[1;32m      4\u001b[0m \u001b[0;32mdef\u001b[0m \u001b[0mbring_to_gunfight\u001b[0m\u001b[0;34m(\u001b[0m\u001b[0mweapon\u001b[0m\u001b[0;34m)\u001b[0m\u001b[0;34m:\u001b[0m\u001b[0;34m\u001b[0m\u001b[0;34m\u001b[0m\u001b[0m\n\u001b[1;32m      5\u001b[0m     \u001b[0;32mif\u001b[0m \u001b[0mweapon\u001b[0m \u001b[0;34m==\u001b[0m \u001b[0;34m'knife'\u001b[0m\u001b[0;34m:\u001b[0m\u001b[0;34m\u001b[0m\u001b[0;34m\u001b[0m\u001b[0m\n\u001b[0;32m----> 6\u001b[0;31m         \u001b[0;32mraise\u001b[0m \u001b[0mWeaponError\u001b[0m\u001b[0;34m(\u001b[0m\u001b[0;34m\"Never bring a knife to a gunfight.\"\u001b[0m\u001b[0;34m)\u001b[0m\u001b[0;34m\u001b[0m\u001b[0;34m\u001b[0m\u001b[0m\n\u001b[0m\u001b[1;32m      7\u001b[0m     \u001b[0;32melse\u001b[0m\u001b[0;34m:\u001b[0m\u001b[0;34m\u001b[0m\u001b[0;34m\u001b[0m\u001b[0m\n\u001b[1;32m      8\u001b[0m         \u001b[0mprint\u001b[0m\u001b[0;34m(\u001b[0m\u001b[0;34m'Everything goes as planned.'\u001b[0m\u001b[0;34m)\u001b[0m\u001b[0;34m\u001b[0m\u001b[0;34m\u001b[0m\u001b[0m\n",
      "\u001b[0;31mWeaponError\u001b[0m: Never bring a knife to a gunfight."
     ]
    }
   ],
   "source": [
    "bring_to_gunfight('knife')"
   ]
  },
  {
   "cell_type": "markdown",
   "metadata": {},
   "source": [
    "# Exercise\n",
    "\n",
    "- Define a custom exception type related to one or more of your classes\n",
    "    - alter the related class(es) to raise the defined exeption in a situation that makes logical sense\n",
    "- write some code that makes use of the above mentionned class and that _handles_ your custom exception"
   ]
  },
  {
   "cell_type": "code",
   "execution_count": null,
   "metadata": {},
   "outputs": [],
   "source": [
    "# code \"librarie\"\n",
    "class VortexGraphicError(Exception): pass\n",
    "\n",
    "class Vortex(object):\n",
    "    def __init__(self, graphic=None):\n",
    "        self.graphic = graphic\n",
    "        \n",
    "    def lancer_sim(self):\n",
    "        if not self.graphic:\n",
    "            raise VortexGraphicError(\"You need a graphic!!!\")\n",
    "        else:\n",
    "            pass\n",
    "        \n",
    "# code \"application\"\n",
    "\n",
    "try:\n",
    "    v = Vortex('maybe/a/path/to/graphic.png')\n",
    "    v.lancer_sim()\n",
    "except VortexGraphicError as e:\n",
    "    print(\"VortexGraphicError, but no big deal.\")\n",
    "    \n",
    "print(\"do other stuff\")\n",
    "\n",
    "\n"
   ]
  }
 ],
 "metadata": {
  "kernelspec": {
   "display_name": "Python 3",
   "language": "python",
   "name": "python3"
  },
  "language_info": {
   "codemirror_mode": {
    "name": "ipython",
    "version": 3
   },
   "file_extension": ".py",
   "mimetype": "text/x-python",
   "name": "python",
   "nbconvert_exporter": "python",
   "pygments_lexer": "ipython3",
   "version": "3.7.2"
  }
 },
 "nbformat": 4,
 "nbformat_minor": 2
}
