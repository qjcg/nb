{
 "cells": [
  {
   "cell_type": "markdown",
   "metadata": {},
   "source": [
    "# Why?\n",
    "\n",
    "SPEED.\n",
    "\n",
    "You want to spread the processing load to take advantage of modern systems' multiple cores.\n",
    "\n",
    "Two main approaches:\n",
    "\n",
    "- multiple processes\n",
    "- multiple threads\n",
    "\n",
    "\n",
    "# Terminology\n",
    "\n",
    "- multi-processing: an application utilizing multiple OS-level processes\n",
    "- multi-threading: an application with multiple threads running within a process\n",
    "- lock: synchronization mechanism for enforcing access limits (ex: serialized access among processes / threads)\n",
    "- Global Interpreter Lock (GIL):\n",
    "    - \"The mechanism used by the CPython interpreter to assure that only one thread executes Python bytecode at a time. This simplifies the CPython implementation by making the object model (including critical built-in types such as dict) implicitly safe against concurrent access. Locking the entire interpreter makes it easier for the interpreter to be multi-threaded, at the expense of much of the parallelism afforded by multi-processor machines.\" ([Ref.](http://docs.python.org/3/glossary.html#term-global-interpreter-lock))\n",
    "    - See also [here](http://docs.python.org/3/c-api/init.html#thread-state-and-the-global-interpreter-lock) for lower-level details\n",
    "- futures:\n",
    "    - AKA promises\n",
    "    - a value that represents an asynchronous computation\n",
    "    - the actual computation may take place in a separate thread OR separate process\n",
    "    - convenient, high-level library, often simpler than using `threading` or `multiprocessing`\n",
    "\n",
    "\n",
    "# Libraries\n",
    "\n",
    "## subprocess\n",
    "- spawn individual subprocesses\n",
    "    - subprocess.call (execute subprocess, return error code)\n",
    "    - subprocess.check_output (execute subprocess, return process output)\n",
    "    - argument \"shell=True\" allows full command strings (optionally with pipes) to be passed directly to these methods\n",
    "\n",
    "### Exercise\n",
    "1. Lauch any subprocess from a script and examine it's return code in the python interpreter\n",
    "2. Capture the output of a pipeline (ex: `date | tr a-z A-Z | tr 1 Q`) in a variable\n",
    "\n",
    "## threading\n",
    "- [docs](http://docs.python.org/3/library/threading.html)\n",
    "- examples: [here](http://pymotw.com/2/threading/index.html#module-threading)\n",
    "\n",
    "## multiprocessing\n",
    "- [docs](http://docs.python.org/3/library/multiprocessing.html)\n",
    "- examples [here](http://pymotw.com/2/multiprocessing/basics.html)\n",
    "\n",
    "## concurrent.futures\n",
    "- proposed in [PEP-3148](http://www.python.org/dev/peps/pep-3148/)\n",
    "- available in standard library since Python 3.2 (~2010, AFTER Programming in Python 3, 2nd edition was published!)\n",
    "- [docs](http://docs.python.org/3/library/concurrent.futures.html)\n",
    "\n",
    "    "
   ]
  },
  {
   "cell_type": "code",
   "execution_count": 5,
   "metadata": {},
   "outputs": [
    {
     "ename": "IndentationError",
     "evalue": "unexpected indent (<ipython-input-5-150803019e0a>, line 3)",
     "output_type": "error",
     "traceback": [
      "\u001b[1;36m  File \u001b[1;32m\"<ipython-input-5-150803019e0a>\"\u001b[1;36m, line \u001b[1;32m3\u001b[0m\n\u001b[1;33m    get_ipython().system('python                                                                                                                                                    ')\u001b[0m\n\u001b[1;37m    ^\u001b[0m\n\u001b[1;31mIndentationError\u001b[0m\u001b[1;31m:\u001b[0m unexpected indent\n"
     ]
    }
   ],
   "source": [
    "# What are futures?                                                                                                                                            \n",
    "                                                                                                                                                                                                                                                                                                                   \n",
    "    # pseudocode                                                                                                                                               \n",
    "    # wrap the computation in a future                                                                                                                         \n",
    "    future_val = Future(my_long_computation)                                                                                                                   \n",
    "    ... # do other work                                                                                                                                        \n",
    "    # now we need it, so block until it's ready                                                                                                                \n",
    "    print(future_val.result())\n"
   ]
  },
  {
   "cell_type": "markdown",
   "metadata": {},
   "source": [
    "* A Future is a value that represents an asynchronous computation                                                                                              \n",
    "* The actual computation may take place in a separate thread or separate process                                                                               \n",
    "\n",
    "\n",
    "# Why care about Futures?                                                                                                                                      \n",
    "- \"The Free Lunch Is Over\" [(Sutter, 2005)](http://www.gotw.ca/publications/concurrency-ddj.htm)                                                                                                                      \n",
    "- Futures encapsulate the low-level details of parallel programming (launching threads, IPC, etc.)                                                             \n",
    "- Great for launching several long or blocking tasks in parallel (Web Requests, File I/O, Computation)                                                         \n",
    "- Python is one of the few mainstream languages to support Futures natively                                                                                    \n"
   ]
  },
  {
   "cell_type": "code",
   "execution_count": 1,
   "metadata": {},
   "outputs": [
    {
     "ename": "IndentationError",
     "evalue": "unexpected indent (<ipython-input-1-6063ba4a3a2e>, line 5)",
     "output_type": "error",
     "traceback": [
      "\u001b[1;36m  File \u001b[1;32m\"<ipython-input-1-6063ba4a3a2e>\"\u001b[1;36m, line \u001b[1;32m5\u001b[0m\n\u001b[1;33m    import concurrent.futures\u001b[0m\n\u001b[1;37m    ^\u001b[0m\n\u001b[1;31mIndentationError\u001b[0m\u001b[1;31m:\u001b[0m unexpected indent\n"
     ]
    }
   ],
   "source": [
    "# Futures: Example                                                                                                                                             \n",
    "                                                                                                                                                                                                                                                                                                                 \n",
    "    # futures.py                                                                                                                                               \n",
    "    # New in Python 3.2                                                                                                                                        \n",
    "    import concurrent.futures                                                                                                                                  \n",
    "    import math                                                                                                                                                \n",
    "                                                                                                                                                               \n",
    "    def is_prime(n):                                                                                                                                           \n",
    "        if n % 2 == 0:                                                                                                                                         \n",
    "            return False                                                                                                                                       \n",
    "                                                                                                                                                               \n",
    "        sqrt_n = int(math.floor(math.sqrt(n)))                                                                                                                 \n",
    "        for i in range(3, sqrt_n + 1, 2):                                                                                                                      \n",
    "            if n % i == 0:                                                                                                                                     \n",
    "                return False                                                                                                                                   \n",
    "        return True                                                                                                                                            \n",
    "                                                                                                                                                               \n",
    "    PRIMES = [112272535095293, 1099726899285419, 112582705942171]                                                                                              \n",
    "                                                                                                                                                               \n",
    "    # computations will be done in separate processes                                                                                                          \n",
    "    with concurrent.futures.ProcessPoolExecutor() as executor:                                                                                                 \n",
    "        for number, prime in zip(PRIMES, executor.map(is_prime, PRIMES)):                                                                                      \n",
    "            print('{:d} is prime: {}'.format(number, prime)))\n"
   ]
  },
  {
   "cell_type": "markdown",
   "metadata": {},
   "source": [
    "# Futures: Caveats                                                                                                                                             \n",
    "- ThreadPoolExecutor requires a \"max_workers\" argument                                                                                                         \n",
    "    - Optional for ProcessPoolExecutor\n",
    "    - Defaults to the number of processors                \n",
    "- ProcessPoolExecutor uses multiprocessing                                                                                                                     \n",
    "    - It safely bypasses the Global Interpreter Lock (this is good for parallelism!)\n",
    "    - BUT can only execute/return picklable objects (i.e. no sockets, database connections, etc.)\n",
    "        - c.f. upcoming (Python 3.4, march 2014) [asyncio](http://docs.python.org/3.4/library/asyncio.html) module!\n",
    "            - nodejs-style event-loop based concurrency, without callback-style code (uses [yield from](http://www.python.org/dev/peps/pep-0380/))\n"
   ]
  },
  {
   "cell_type": "code",
   "execution_count": null,
   "metadata": {},
   "outputs": [],
   "source": [
    "# Futures: Deadlocks Example 1 (Live)                                                                                                                          \n",
    "                                                                                                                                                                                                                                                                                                                 \n",
    "    from concurrent.futures import ThreadPoolExecutor\n",
    "    import time                                                                                                                                                \n",
    "    def wait_on_bob():                                                                                                                                         \n",
    "        time.sleep(5)                                                                                                                                          \n",
    "        print(bob.result()) # bob will never complete because it is waiting on alice.                                                                          \n",
    "        return 5                                                                                                                                               \n",
    "                                                                                                                                                               \n",
    "    def wait_on_alice():                                                                                                                                       \n",
    "        time.sleep(5)                                                                                                                                          \n",
    "        print(alice.result()) # alice will never complete because it is waiting on bob.                                                                        \n",
    "        return 6                                                                                                                                               \n",
    "                                                                                                                                                               \n",
    "    executor = ThreadPoolExecutor(max_workers=2)                                                                                                               \n",
    "    alice = executor.submit(wait_on_bob)                                                                                                                       \n",
    "    bob = executor.submit(wait_on_alice)                                                                                                                       \n",
    "                                                                                                                                                               \n",
    "* Deadlock occurs because a is waiting on b and b is waiting on a                                                                                              \n",
    "* Simple Solution: Don't have Futures wait on other Futures                                                                                                    \n"
   ]
  },
  {
   "cell_type": "code",
   "execution_count": null,
   "metadata": {},
   "outputs": [],
   "source": [
    "# Futures: Deadlocks Example 2                                                                                                                                 \n",
    "                                                                                                                                                               \n",
    "    from concurrent.futures import ThreadPoolExecutor                                                                                                                                                   \n",
    "   \n",
    "    def wait_on_future():                                                                                                                                      \n",
    "        f = executor.submit(pow, 5, 2)                                                                                                                         \n",
    "        # This will never complete because there is only one worker                                                                                            \n",
    "        # thread and it is executing this function!!!                                                                                                          \n",
    "        print(f.result())                                                                                                                                      \n",
    "                                                                                                                                                               \n",
    "    executor = ThreadPoolExecutor(max_workers=1)                                                                                                               \n",
    "    executor.submit(wait_on_future)                                                                                                                            \n",
    "                                                                                                                                                               \n",
    "* Deadlock occurs due to lack of worker threads                                                                                                                \n",
    "* Solution: we need more threads                                                                                                                               \n",
    "* Simpler solution: Futures should not wait on Futures and probably shouldn't launch them either                                                               \n"
   ]
  },
  {
   "cell_type": "markdown",
   "metadata": {},
   "source": [
    "# Exercise: Futures                                                                                                                                            \n",
    "* Run each script 3 times, calculating the average execution time using the time command: `time ./myscript.py`                                                                                                                      \n",
    "* Compare average execution time among the different scripts                                                                                                          \n"
   ]
  },
  {
   "cell_type": "markdown",
   "metadata": {},
   "source": [
    "# EXERCISE: Benchmarking CPU or IO bound tasks"
   ]
  },
  {
   "cell_type": "markdown",
   "metadata": {},
   "source": [
    "Using the `ProcessPoolExecutor` OR the `ThreadPoolExecutor` example from the `concurrent.futures` documentation as a starting point:\n",
    "\n",
    "- Change the task to run (ex: use different URLs,  different numbers, or different tasks altogether if you're feeling ambitious)\n",
    "- benchmark at least 3 runs of:\n",
    "    - single worker execution (`max_workers=1`), and\n",
    "    - multi-worker execution (`max_workers > 1`, you can leave `max_workers` unset to accept the default value for example)\n",
    "- Review your benchmark data and see whether it aligns with your expectations"
   ]
  }
 ],
 "metadata": {
  "kernelspec": {
   "display_name": "Python 3",
   "language": "python",
   "name": "python3"
  },
  "language_info": {
   "codemirror_mode": {
    "name": "ipython",
    "version": 3
   },
   "file_extension": ".py",
   "mimetype": "text/x-python",
   "name": "python",
   "nbconvert_exporter": "python",
   "pygments_lexer": "ipython3",
   "version": "3.7.2"
  }
 },
 "nbformat": 4,
 "nbformat_minor": 1
}
