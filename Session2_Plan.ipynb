{
 "cells": [
  {
   "cell_type": "markdown",
   "metadata": {},
   "source": [
    "# Plan for 2nd session of Python workshop\n",
    "\n",
    "NOTE: Approach --- build a larger app from component parts?\n",
    "\n",
    "- Standard Library & PyPI\n",
    "- Interacting with the OS\n",
    "- Text processing\n",
    "- Logging\n",
    "- Data Serialization\n",
    "- Application Types\n",
    "    - CLI app\n",
    "    - Web app\n",
    "    - Rest API\n",
    "- Data Science & Visualizing Data\n",
    "- HIGH-LEVEL Introduction to Machine Learning\n",
    "- NLP & Sentiment Analysis\n",
    "- Web Scraping & RSS feeds\n",
    "- Using Public APIs\n",
    "- Sending Notifications\n",
    "     - email\n",
    "     - slack\n",
    "     - mattermost\n",
    "     - Web page interface updated\n",
    "- Calendar events (push notifications)\n",
    "\n",
    "\n",
    "# Pre-class prep options for session 2\n",
    "\n",
    "1. Quickly review language fundamentals on learnxinyminutes: <https://learnxinyminutes.com/docs/python3/>\n",
    "    - Make notes of any syntax or concepts that you don't understand or want to review\n",
    "2. Make note of any addition app dev topics not listed above (and bring them to class with you)\n",
    "3. If you want to try pratice problems (Easy, Medium or Hard) on the Python track, try using https://exercism.io (I would recommend trying only Easy problems at this point!)\n",
    "\n"
   ]
  }
 ],
 "metadata": {
  "kernelspec": {
   "display_name": "Python 3",
   "language": "python",
   "name": "python3"
  },
  "language_info": {
   "codemirror_mode": {
    "name": "ipython",
    "version": 3
   },
   "file_extension": ".py",
   "mimetype": "text/x-python",
   "name": "python",
   "nbconvert_exporter": "python",
   "pygments_lexer": "ipython3",
   "version": "3.7.3"
  }
 },
 "nbformat": 4,
 "nbformat_minor": 2
}
