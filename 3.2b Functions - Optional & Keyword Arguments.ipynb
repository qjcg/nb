{
 "cells": [
  {
   "cell_type": "markdown",
   "metadata": {},
   "source": [
    "# Optional arguments and keyword arguments"
   ]
  },
  {
   "cell_type": "code",
   "execution_count": 7,
   "metadata": {},
   "outputs": [
    {
     "name": "stdout",
     "output_type": "stream",
     "text": [
      "Elaine\n",
      "<class 'tuple'>\n",
      "LAN ip: 192.168.55.4\n",
      "LAN ip: 192.168.56.7\n",
      "WAN ip: 8.8.8.8\n",
      "Joan\n",
      "<class 'tuple'>\n"
     ]
    }
   ],
   "source": [
    "# OPTIONAL ARGUMENTS\n",
    "# The asterisk before the ips argument permits me \n",
    "# to have zero or more optional values for this argument\n",
    "def classify_ips(name, *ips):\n",
    "    print(name)\n",
    "    print(type(ips))\n",
    "    for ip in ips:\n",
    "        if '192.168' in ip:\n",
    "            print(\"LAN ip:\", ip)\n",
    "        else:\n",
    "            print(\"WAN ip:\", ip)\n",
    "\n",
    "classify_ips('Elaine', '192.168.55.4', '192.168.56.7', '8.8.8.8')\n",
    "classify_ips('Joan')"
   ]
  },
  {
   "cell_type": "code",
   "execution_count": 13,
   "metadata": {},
   "outputs": [
    {
     "name": "stdout",
     "output_type": "stream",
     "text": [
      "() {}\n",
      "pas de nom\n",
      "('un', 'deux', 'trois', 55.4) {'nom': 'John', 'age': 42}\n",
      "John\n"
     ]
    }
   ],
   "source": [
    "def simple_optargs(name, age, blah, *optargs, **kwargs):\n",
    "    print(optargs, kwargs)\n",
    "    print(kwargs.get('nom', 'pas de nom'))\n",
    "    \n",
    "simple_optargs()\n",
    "simple_optargs('un', 'deux', 'trois', 55.4, nom='John', age=42)"
   ]
  },
  {
   "cell_type": "code",
   "execution_count": 6,
   "metadata": {},
   "outputs": [
    {
     "name": "stdout",
     "output_type": "stream",
     "text": [
      "('giraffe', 'Peter')\n",
      "('dog', 'Bernard')\n",
      "('elephant', 'Jenny')\n"
     ]
    }
   ],
   "source": [
    "# KEYWORD ARGUMENTS\n",
    "# the double asterisk before the animals argument\n",
    "# permits me to have zero or more named arguments\n",
    "# for the function that are stored in a dictionary\n",
    "def print_zoo(**animal_names):\n",
    "    for tup in animal_names.items():\n",
    "        print(tup)\n",
    "\n",
    "print_zoo(dog='Bernard', giraffe='Peter', elephant='Jenny')\n",
    "#print_zoo()"
   ]
  }
 ],
 "metadata": {
  "kernelspec": {
   "display_name": "Python 3",
   "language": "python",
   "name": "python3"
  },
  "language_info": {
   "codemirror_mode": {
    "name": "ipython",
    "version": 3
   },
   "file_extension": ".py",
   "mimetype": "text/x-python",
   "name": "python",
   "nbconvert_exporter": "python",
   "pygments_lexer": "ipython3",
   "version": "3.7.2"
  }
 },
 "nbformat": 4,
 "nbformat_minor": 2
}
