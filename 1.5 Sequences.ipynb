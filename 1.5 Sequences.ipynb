{
 "cells": [
  {
   "cell_type": "markdown",
   "metadata": {},
   "source": [
    "# Lists\n",
    "A list is a mutable sequence of heterogenous objects and can be defined as follows:"
   ]
  },
  {
   "cell_type": "code",
   "execution_count": 1,
   "metadata": {},
   "outputs": [],
   "source": [
    "g7_countries = [\"U.S.\", \"U.K.\", \"France\", \"Germany\", \"Italy\", \"Canada\", \"Japan\"]"
   ]
  },
  {
   "cell_type": "markdown",
   "metadata": {},
   "source": [
    "You can obtain the length of a list using the function ***len***:"
   ]
  },
  {
   "cell_type": "code",
   "execution_count": 2,
   "metadata": {},
   "outputs": [
    {
     "data": {
      "text/plain": [
       "7"
      ]
     },
     "execution_count": 2,
     "metadata": {},
     "output_type": "execute_result"
    }
   ],
   "source": [
    "len(g7_countries)"
   ]
  },
  {
   "cell_type": "markdown",
   "metadata": {},
   "source": [
    "You can add an element to a list with the function ***append***:"
   ]
  },
  {
   "cell_type": "code",
   "execution_count": 3,
   "metadata": {},
   "outputs": [],
   "source": [
    "bills = [\"$10\", \"$20\", \"$30\", \"$10\", \"$10\"]"
   ]
  },
  {
   "cell_type": "code",
   "execution_count": 6,
   "metadata": {},
   "outputs": [],
   "source": [
    "bills.append(\"$8.77\")"
   ]
  },
  {
   "cell_type": "code",
   "execution_count": 7,
   "metadata": {},
   "outputs": [
    {
     "data": {
      "text/plain": [
       "['$10', '$20', '$30', '$10', '$10', '$7.77', '$8.77']"
      ]
     },
     "execution_count": 7,
     "metadata": {},
     "output_type": "execute_result"
    }
   ],
   "source": [
    "bills"
   ]
  },
  {
   "cell_type": "markdown",
   "metadata": {},
   "source": [
    "Delete an element from a list with the ***remove*** method:"
   ]
  },
  {
   "cell_type": "code",
   "execution_count": 8,
   "metadata": {},
   "outputs": [],
   "source": [
    "bills.remove('$10')"
   ]
  },
  {
   "cell_type": "code",
   "execution_count": 9,
   "metadata": {},
   "outputs": [
    {
     "data": {
      "text/plain": [
       "['$20', '$30', '$10', '$10', '$7.77', '$8.77']"
      ]
     },
     "execution_count": 9,
     "metadata": {},
     "output_type": "execute_result"
    }
   ],
   "source": [
    "bills"
   ]
  },
  {
   "cell_type": "markdown",
   "metadata": {},
   "source": [
    "Finally, you can add one list to another by using the `+` operator or by using the `extend` method."
   ]
  },
  {
   "cell_type": "code",
   "execution_count": 10,
   "metadata": {},
   "outputs": [],
   "source": [
    "g8_countries = g7_countries + [\"Russia\"]"
   ]
  },
  {
   "cell_type": "code",
   "execution_count": 11,
   "metadata": {},
   "outputs": [
    {
     "data": {
      "text/plain": [
       "['U.S.', 'U.K.', 'France', 'Germany', 'Italy', 'Canada', 'Japan', 'Russia']"
      ]
     },
     "execution_count": 11,
     "metadata": {},
     "output_type": "execute_result"
    }
   ],
   "source": [
    "g8_countries"
   ]
  },
  {
   "cell_type": "markdown",
   "metadata": {},
   "source": [
    "It's possible to access list items by their ***index***. The first index is 0:"
   ]
  },
  {
   "cell_type": "code",
   "execution_count": 12,
   "metadata": {},
   "outputs": [
    {
     "data": {
      "text/plain": [
       "'$20'"
      ]
     },
     "execution_count": 12,
     "metadata": {},
     "output_type": "execute_result"
    }
   ],
   "source": [
    "bills[0]"
   ]
  },
  {
   "cell_type": "markdown",
   "metadata": {},
   "source": [
    "In the same way, we can modify a list item by accessing it's index:"
   ]
  },
  {
   "cell_type": "code",
   "execution_count": 13,
   "metadata": {},
   "outputs": [
    {
     "data": {
      "text/plain": [
       "['$20', '$30', '$10', '$10', '$7.77', '$8.77']"
      ]
     },
     "execution_count": 13,
     "metadata": {},
     "output_type": "execute_result"
    }
   ],
   "source": [
    "bills"
   ]
  },
  {
   "cell_type": "code",
   "execution_count": 14,
   "metadata": {},
   "outputs": [],
   "source": [
    "bills[0] = '$50'"
   ]
  },
  {
   "cell_type": "code",
   "execution_count": 15,
   "metadata": {},
   "outputs": [
    {
     "data": {
      "text/plain": [
       "['$50', '$30', '$10', '$10', '$7.77', '$8.77']"
      ]
     },
     "execution_count": 15,
     "metadata": {},
     "output_type": "execute_result"
    }
   ],
   "source": [
    "bills"
   ]
  },
  {
   "cell_type": "markdown",
   "metadata": {},
   "source": [
    "Lists are heterogenous sequences since a single list can contain different types of objects:"
   ]
  },
  {
   "cell_type": "code",
   "execution_count": 16,
   "metadata": {},
   "outputs": [],
   "source": [
    "import os"
   ]
  },
  {
   "cell_type": "code",
   "execution_count": 18,
   "metadata": {},
   "outputs": [
    {
     "data": {
      "text/plain": [
       "['Lamp', 10, <module 'os' from '/usr/lib/python2.7/os.pyc'>]"
      ]
     },
     "execution_count": 18,
     "metadata": {},
     "output_type": "execute_result"
    }
   ],
   "source": [
    "various = ['Lamp', 10, os]\n",
    "various"
   ]
  },
  {
   "cell_type": "markdown",
   "metadata": {},
   "source": [
    "# Tuples\n",
    "Like lists, tuples are heterogenous, ordered sequences:"
   ]
  },
  {
   "cell_type": "code",
   "execution_count": 24,
   "metadata": {},
   "outputs": [],
   "source": [
    "address_port = ('http://127.0.0.1', 9099)"
   ]
  },
  {
   "cell_type": "code",
   "execution_count": 21,
   "metadata": {},
   "outputs": [
    {
     "data": {
      "text/plain": [
       "tuple"
      ]
     },
     "execution_count": 21,
     "metadata": {},
     "output_type": "execute_result"
    }
   ],
   "source": [
    "singleton_tuple = (555,)\n",
    "type(singleton_tuple)"
   ]
  },
  {
   "cell_type": "markdown",
   "metadata": {},
   "source": [
    "Unlike lists, tuples are ***immutable***, that is that you can't modify them once they've been created. They have no `append`, `remove`, or `extend` methods, and trying to assign directly will throw an error:"
   ]
  },
  {
   "cell_type": "code",
   "execution_count": 26,
   "metadata": {},
   "outputs": [
    {
     "name": "stdout",
     "output_type": "stream",
     "text": [
      "You can't assign a value to a tuple!\n"
     ]
    }
   ],
   "source": [
    "try:\n",
    "    address_port[0] = 1\n",
    "\n",
    "except TypeError:\n",
    "    print(\"You can't assign a value to a tuple!\")"
   ]
  },
  {
   "cell_type": "markdown",
   "metadata": {},
   "source": [
    "## Packing and unpacking\n",
    "\n",
    "Variables can be easily grouped, and numerous variables can be created from a tuple. We call these operations ***packing*** and ***unpacking***."
   ]
  },
  {
   "cell_type": "markdown",
   "metadata": {},
   "source": [
    "For example, you can assign the tuple defined above to two variables in the following way:"
   ]
  },
  {
   "cell_type": "code",
   "execution_count": 6,
   "metadata": {},
   "outputs": [
    {
     "name": "stdout",
     "output_type": "stream",
     "text": [
      "aaa;;;5;;;sldkjfsldkjfl\n"
     ]
    }
   ],
   "source": [
    "address_port = ('192.168.40.16', 8888)\n",
    "address, port = address_port\n",
    "items = [\"aaa\", \"5\", \"sldkjfsldkjfl\"]\n",
    "print(';;;'.join(items))"
   ]
  },
  {
   "cell_type": "code",
   "execution_count": 28,
   "metadata": {},
   "outputs": [
    {
     "data": {
      "text/plain": [
       "'http://127.0.0.1'"
      ]
     },
     "execution_count": 28,
     "metadata": {},
     "output_type": "execute_result"
    }
   ],
   "source": [
    "address"
   ]
  },
  {
   "cell_type": "code",
   "execution_count": 29,
   "metadata": {},
   "outputs": [
    {
     "data": {
      "text/plain": [
       "9099"
      ]
     },
     "execution_count": 29,
     "metadata": {},
     "output_type": "execute_result"
    }
   ],
   "source": [
    "port"
   ]
  },
  {
   "cell_type": "markdown",
   "metadata": {},
   "source": [
    "Packing is done automatically in the case of functions that return several variables, for example, a function returning the coordinates of a point in a cartesian map could resemble the following:"
   ]
  },
  {
   "cell_type": "code",
   "execution_count": 7,
   "metadata": {},
   "outputs": [],
   "source": [
    "point = (5, 10)\n",
    "\n",
    "def jump_point(x, y):\n",
    "    return (x*2, y*2)"
   ]
  },
  {
   "cell_type": "code",
   "execution_count": 9,
   "metadata": {},
   "outputs": [
    {
     "data": {
      "text/plain": [
       "(10, 20)"
      ]
     },
     "execution_count": 9,
     "metadata": {},
     "output_type": "execute_result"
    }
   ],
   "source": [
    "jump_point(*point)"
   ]
  },
  {
   "cell_type": "code",
   "execution_count": 11,
   "metadata": {},
   "outputs": [],
   "source": [
    "def greet_person(name, uid, greeting):\n",
    "    return f\"{greeting} {name}, your uid is {uid}!\""
   ]
  },
  {
   "cell_type": "code",
   "execution_count": 13,
   "metadata": {},
   "outputs": [
    {
     "data": {
      "text/plain": [
       "'Howdy John, your uid is 42!'"
      ]
     },
     "execution_count": 13,
     "metadata": {},
     "output_type": "execute_result"
    }
   ],
   "source": [
    "person = {\n",
    "    \"uid\": 42,\n",
    "    \"name\": \"John\",\n",
    "    \"greeting\": \"Howdy\",\n",
    "}\n",
    "\n",
    "greet_person(**person)"
   ]
  },
  {
   "cell_type": "code",
   "execution_count": 1,
   "metadata": {},
   "outputs": [
    {
     "data": {
      "text/plain": [
       "777"
      ]
     },
     "execution_count": 1,
     "metadata": {},
     "output_type": "execute_result"
    }
   ],
   "source": [
    "ppp = 777\n",
    "\n",
    "def get_coordinates(point):\n",
    "    \"\"\"Gets the coordinates of a point\n",
    "\n",
    "    After a very complex set of operations, the coordinates\n",
    "    of a point are obtained and returned to the user\"\"\"\n",
    "    \n",
    "    global ppp \n",
    "    ppp = 111\n",
    "    \n",
    "    # very complex set of operations\n",
    "    x = 10\n",
    "    y = 20\n",
    "    return x, y\n",
    "\n",
    "ppp"
   ]
  },
  {
   "cell_type": "code",
   "execution_count": 2,
   "metadata": {},
   "outputs": [
    {
     "data": {
      "text/plain": [
       "111"
      ]
     },
     "execution_count": 2,
     "metadata": {},
     "output_type": "execute_result"
    }
   ],
   "source": [
    "get_coordinates(\"test\")\n",
    "ppp"
   ]
  },
  {
   "cell_type": "code",
   "execution_count": 1,
   "metadata": {},
   "outputs": [
    {
     "data": {
      "text/plain": [
       "(22, 55)"
      ]
     },
     "execution_count": 1,
     "metadata": {},
     "output_type": "execute_result"
    }
   ],
   "source": [
    "def really_return_a_tuple(x, y):\n",
    "    return y, x\n",
    "\n",
    "really_return_a_tuple(55, 22)"
   ]
  },
  {
   "cell_type": "code",
   "execution_count": 4,
   "metadata": {},
   "outputs": [
    {
     "data": {
      "text/plain": [
       "(3, 2, 1)"
      ]
     },
     "execution_count": 4,
     "metadata": {},
     "output_type": "execute_result"
    }
   ],
   "source": [
    "def do_stuff(a, b, c):\n",
    "    return c, b, a\n",
    "\n",
    "l = (1, 2, 3)\n",
    "do_stuff(*l)"
   ]
  },
  {
   "cell_type": "markdown",
   "metadata": {},
   "source": [
    "## Why use tuples instead of lists?\n",
    "\n",
    "In general, tuples are used in Python to group values having a strong link between themselves and that are not subject to change, like the IP address and port in the example above.\n",
    "\n",
    "Another example would be that of geographic coordinates in the context of mapping.\n",
    "\n",
    "The Python interpreter uses tuples in many places, for example when a function must return several values."
   ]
  },
  {
   "cell_type": "markdown",
   "metadata": {},
   "source": [
    "## Strings are sequences\n",
    "In Python, strings are really ordered sequences of characters."
   ]
  },
  {
   "cell_type": "code",
   "execution_count": 40,
   "metadata": {},
   "outputs": [
    {
     "ename": "SyntaxError",
     "evalue": "invalid syntax (<ipython-input-40-463d0be93f55>, line 2)",
     "output_type": "error",
     "traceback": [
      "\u001b[1;36m  File \u001b[1;32m\"<ipython-input-40-463d0be93f55>\"\u001b[1;36m, line \u001b[1;32m2\u001b[0m\n\u001b[1;33m    name 2\u001b[0m\n\u001b[1;37m         ^\u001b[0m\n\u001b[1;31mSyntaxError\u001b[0m\u001b[1;31m:\u001b[0m invalid syntax\n"
     ]
    }
   ],
   "source": [
    "name = \"Savoir-faire Linux\"\n",
    "name 2"
   ]
  },
  {
   "cell_type": "markdown",
   "metadata": {},
   "source": [
    "## Methods common to all types of sequences\n",
    "\n",
    "<table>\n",
    "    <tr>\n",
    "        <td>Operation</td>\n",
    "        <td>Result</td>\n",
    "    </tr>\n",
    "    <tr>\n",
    "        <td>x in s</td>\n",
    "        <td>True if an item of s is equal to x, else False</td>\n",
    "    </tr>\n",
    "    <tr>\n",
    "        <td>x not in s</td>\n",
    "        <td>False if an item of s is equal to x, else True</td>\n",
    "    </tr>\n",
    "    <tr>\n",
    "        <td>s + t</td>\n",
    "        <td>the concatenation of s and t</td>\n",
    "    </tr>\n",
    "    <tr>\n",
    "        <td>s * n, n * s</td>\n",
    "        <td>n shallow copies of s concatenated</td>\n",
    "    </tr>\n",
    "    <tr>\n",
    "        <td>s[i]</td>\n",
    "        <td>ith item of s, origin 0</td>\n",
    "    </tr>\n",
    "    <tr>\n",
    "        <td>s[i:j]</td>\n",
    "        <td>slice of s from i to j</td>\n",
    "    </tr>\n",
    "    <tr>\n",
    "        <td>s[i:j:k]</td>\n",
    "        <td>slice of s from i to j with step k</td>\n",
    "    </tr>\n",
    "    <tr>\n",
    "        <td>len(s)</td>\n",
    "        <td>length of s</td>\n",
    "    </tr>\n",
    "    <tr>\n",
    "        <td>min(s)</td>\n",
    "        <td>smallest item of s</td>\n",
    "    </tr>\n",
    "    <tr>\n",
    "        <td>max(s)</td>\n",
    "        <td>largest item of s</td>\n",
    "    </tr>\n",
    "    <tr>\n",
    "        <td>s.index(i)</td>\n",
    "        <td>index of the first occurence of i in s</td>\n",
    "    </tr>\n",
    "    <tr>\n",
    "        <td>s.count(i)</td>\n",
    "        <td>total number of occurences of i in s</td>\n",
    "    </tr>\n",
    "<table>\n",
    "    \n",
    "* [Source](http://docs.python.org/2/library/stdtypes.html#sequence-types-str-unicode-list-tuple-bytearray-buffer-xrange)"
   ]
  },
  {
   "cell_type": "markdown",
   "metadata": {},
   "source": [
    "### Slicing\n",
    "\n",
    "In Python, it's possible to get a ***sub-sequence*** from a sequence using ***slicing*** operations.\n",
    "\n",
    "The syntax is as follows:\n",
    "`s[i:j:k]`\n",
    "\n",
    "Where:\n",
    "\n",
    "* ***i*** is the start index\n",
    "* ***j*** is the end index\n",
    "* ***k*** is the step\n",
    "\n",
    "Here is a list of 10 numbers:"
   ]
  },
  {
   "cell_type": "code",
   "execution_count": 36,
   "metadata": {},
   "outputs": [],
   "source": [
    "list = [1,2,3,4,5,6,7,8,9,10]"
   ]
  },
  {
   "cell_type": "markdown",
   "metadata": {},
   "source": [
    "We can get the sequence of the first 5 numbers in the following way:"
   ]
  },
  {
   "cell_type": "code",
   "execution_count": 37,
   "metadata": {},
   "outputs": [
    {
     "data": {
      "text/plain": [
       "[1, 2, 3, 4, 5]"
      ]
     },
     "execution_count": 37,
     "metadata": {},
     "output_type": "execute_result"
    }
   ],
   "source": [
    "list[0:5]"
   ]
  },
  {
   "cell_type": "markdown",
   "metadata": {},
   "source": [
    "We can get the four last numbers this way:"
   ]
  },
  {
   "cell_type": "code",
   "execution_count": 38,
   "metadata": {},
   "outputs": [
    {
     "data": {
      "text/plain": [
       "[6, 7, 8, 9, 10]"
      ]
     },
     "execution_count": 38,
     "metadata": {},
     "output_type": "execute_result"
    }
   ],
   "source": [
    "list[5:10]"
   ]
  },
  {
   "cell_type": "markdown",
   "metadata": {},
   "source": [
    "***Note***: Each of these parameters is optional. The default value of ***i*** is 0, the default value of ***j*** is n, where n is the sequence lenght, and the defalut value of ***k*** is 1."
   ]
  },
  {
   "cell_type": "markdown",
   "metadata": {},
   "source": [
    "We could thus write the operations above in the following way:"
   ]
  },
  {
   "cell_type": "code",
   "execution_count": 40,
   "metadata": {},
   "outputs": [
    {
     "data": {
      "text/plain": [
       "True"
      ]
     },
     "execution_count": 40,
     "metadata": {},
     "output_type": "execute_result"
    }
   ],
   "source": [
    "list[:5] == list[0:5] and list[5:] == list[5:10]"
   ]
  },
  {
   "cell_type": "markdown",
   "metadata": {},
   "source": [
    "The step determines the increment. To skip every other number:"
   ]
  },
  {
   "cell_type": "code",
   "execution_count": 41,
   "metadata": {},
   "outputs": [
    {
     "data": {
      "text/plain": [
       "[1, 3, 5, 7, 9]"
      ]
     },
     "execution_count": 41,
     "metadata": {},
     "output_type": "execute_result"
    }
   ],
   "source": [
    "list[::2]"
   ]
  },
  {
   "cell_type": "code",
   "execution_count": 42,
   "metadata": {},
   "outputs": [
    {
     "data": {
      "text/plain": [
       "[1, 2, 3, 4, 5]"
      ]
     },
     "execution_count": 42,
     "metadata": {},
     "output_type": "execute_result"
    }
   ],
   "source": [
    "list[:5]"
   ]
  },
  {
   "cell_type": "markdown",
   "metadata": {},
   "source": [
    "The step can also be used to reverse the sequence:"
   ]
  },
  {
   "cell_type": "code",
   "execution_count": 43,
   "metadata": {},
   "outputs": [
    {
     "data": {
      "text/plain": [
       "[10, 9, 8, 7, 6, 5, 4, 3, 2, 1]"
      ]
     },
     "execution_count": 43,
     "metadata": {},
     "output_type": "execute_result"
    }
   ],
   "source": [
    "list[::-1]"
   ]
  },
  {
   "cell_type": "markdown",
   "metadata": {},
   "source": [
    "## Other sequence operations"
   ]
  },
  {
   "cell_type": "markdown",
   "metadata": {},
   "source": [
    "#### Obtain the maximum and minimum of a sequence\n",
    "We can obtain the minimum and maximum of a sequence using the functions ***min*** and ***max***:"
   ]
  },
  {
   "cell_type": "code",
   "execution_count": 44,
   "metadata": {},
   "outputs": [
    {
     "data": {
      "text/plain": [
       "1"
      ]
     },
     "execution_count": 44,
     "metadata": {},
     "output_type": "execute_result"
    }
   ],
   "source": [
    "min(list)"
   ]
  },
  {
   "cell_type": "code",
   "execution_count": 45,
   "metadata": {},
   "outputs": [
    {
     "data": {
      "text/plain": [
       "10"
      ]
     },
     "execution_count": 45,
     "metadata": {},
     "output_type": "execute_result"
    }
   ],
   "source": [
    "max(list)"
   ]
  },
  {
   "cell_type": "markdown",
   "metadata": {},
   "source": [
    "#### Index, number of occurences\n",
    "\n",
    "Use the ***index*** function to get the index of an item in a sequence.\n",
    "Use the ***count*** function to get the number of occurences of an item in a sequence"
   ]
  },
  {
   "cell_type": "code",
   "execution_count": 47,
   "metadata": {},
   "outputs": [
    {
     "data": {
      "text/plain": [
       "2"
      ]
     },
     "execution_count": 47,
     "metadata": {},
     "output_type": "execute_result"
    }
   ],
   "source": [
    "# Count the number of $10 bills\n",
    "bills.count('$10')"
   ]
  },
  {
   "cell_type": "code",
   "execution_count": 48,
   "metadata": {},
   "outputs": [
    {
     "data": {
      "text/plain": [
       "4"
      ]
     },
     "execution_count": 48,
     "metadata": {},
     "output_type": "execute_result"
    }
   ],
   "source": [
    "# Position of the letter \"i\" in Savoir-faire Linux\n",
    "\"Savoir-faire Linux\".index(\"i\")"
   ]
  },
  {
   "cell_type": "markdown",
   "metadata": {},
   "source": [
    "#### Verify if an object equal to x is present in s\n",
    "`x in s`"
   ]
  },
  {
   "cell_type": "code",
   "execution_count": 2,
   "metadata": {},
   "outputs": [
    {
     "data": {
      "text/plain": [
       "False"
      ]
     },
     "execution_count": 2,
     "metadata": {},
     "output_type": "execute_result"
    }
   ],
   "source": [
    "\"Belgium\" in g7_countries"
   ]
  },
  {
   "cell_type": "code",
   "execution_count": 3,
   "metadata": {},
   "outputs": [
    {
     "data": {
      "text/plain": [
       "['U.S.', 'U.K.', 'France', 'Germany', 'Italy', 'Canada', 'Japan']"
      ]
     },
     "execution_count": 3,
     "metadata": {},
     "output_type": "execute_result"
    }
   ],
   "source": [
    "g7_countries"
   ]
  },
  {
   "cell_type": "code",
   "execution_count": 43,
   "metadata": {},
   "outputs": [
    {
     "data": {
      "text/plain": [
       "True"
      ]
     },
     "execution_count": 43,
     "metadata": {},
     "output_type": "execute_result"
    }
   ],
   "source": [
    "\"Canada\" in g7_countries and \"France\" in g7_countries or \"Johnistan\" in g7_countries"
   ]
  },
  {
   "cell_type": "markdown",
   "metadata": {},
   "source": [
    "#### Verify if an object equal to x is absent from x\n",
    "`x not in s`"
   ]
  },
  {
   "cell_type": "code",
   "execution_count": 51,
   "metadata": {},
   "outputs": [
    {
     "data": {
      "text/plain": [
       "True"
      ]
     },
     "execution_count": 51,
     "metadata": {},
     "output_type": "execute_result"
    }
   ],
   "source": [
    "\"Belgium\" not in g7_countries"
   ]
  },
  {
   "cell_type": "code",
   "execution_count": 53,
   "metadata": {},
   "outputs": [
    {
     "data": {
      "text/plain": [
       "False"
      ]
     },
     "execution_count": 53,
     "metadata": {},
     "output_type": "execute_result"
    }
   ],
   "source": [
    "\"U.K.\" not in g7_countries"
   ]
  },
  {
   "cell_type": "markdown",
   "metadata": {},
   "source": [
    "#### Concatenate two different sequences\n",
    "`s + t`"
   ]
  },
  {
   "cell_type": "code",
   "execution_count": 54,
   "metadata": {},
   "outputs": [
    {
     "data": {
      "text/plain": [
       "['U.S.',\n",
       " 'U.K.',\n",
       " 'France',\n",
       " 'Germany',\n",
       " 'Italy',\n",
       " 'Canada',\n",
       " 'Japan',\n",
       " 'U.S.',\n",
       " 'U.K.',\n",
       " 'France',\n",
       " 'Germany',\n",
       " 'Italy',\n",
       " 'Canada',\n",
       " 'Japan',\n",
       " 'Russia']"
      ]
     },
     "execution_count": 54,
     "metadata": {},
     "output_type": "execute_result"
    }
   ],
   "source": [
    "g7_countries + g8_countries"
   ]
  },
  {
   "cell_type": "code",
   "execution_count": 4,
   "metadata": {},
   "outputs": [],
   "source": [
    "bills_jan = ('$10', '$20', '$30',)"
   ]
  },
  {
   "cell_type": "code",
   "execution_count": 5,
   "metadata": {},
   "outputs": [],
   "source": [
    "bills_feb = ('$5', '$7', '$6',)"
   ]
  },
  {
   "cell_type": "code",
   "execution_count": 6,
   "metadata": {},
   "outputs": [
    {
     "data": {
      "text/plain": [
       "('$10', '$20', '$30', '$5', '$7', '$6')"
      ]
     },
     "execution_count": 6,
     "metadata": {},
     "output_type": "execute_result"
    }
   ],
   "source": [
    "bills_jan + bills_feb"
   ]
  },
  {
   "cell_type": "code",
   "execution_count": 170,
   "metadata": {},
   "outputs": [
    {
     "data": {
      "text/plain": [
       "'Savoir-faire Linux'"
      ]
     },
     "execution_count": 170,
     "metadata": {},
     "output_type": "execute_result"
    }
   ],
   "source": [
    "\"Savoir-faire\" + \" Linux\""
   ]
  },
  {
   "cell_type": "markdown",
   "metadata": {},
   "source": [
    "***Important!*** The two sequences must be of the same type"
   ]
  },
  {
   "cell_type": "code",
   "execution_count": 60,
   "metadata": {},
   "outputs": [
    {
     "data": {
      "text/plain": [
       "list"
      ]
     },
     "execution_count": 60,
     "metadata": {},
     "output_type": "execute_result"
    }
   ],
   "source": [
    "type(g7_countries)"
   ]
  },
  {
   "cell_type": "code",
   "execution_count": 61,
   "metadata": {},
   "outputs": [
    {
     "data": {
      "text/plain": [
       "tuple"
      ]
     },
     "execution_count": 61,
     "metadata": {},
     "output_type": "execute_result"
    }
   ],
   "source": [
    "type(bills_jan)"
   ]
  },
  {
   "cell_type": "code",
   "execution_count": 62,
   "metadata": {},
   "outputs": [
    {
     "name": "stdout",
     "output_type": "stream",
     "text": [
      "Can't concatenate different string types!\n"
     ]
    }
   ],
   "source": [
    "try:\n",
    "    g7_countries + bills_jan\n",
    "except TypeError:\n",
    "    print \"Can't concatenate different string types!\""
   ]
  },
  {
   "cell_type": "markdown",
   "metadata": {},
   "source": [
    "#### Multiplying a sequence\n",
    "`s * n`"
   ]
  },
  {
   "cell_type": "code",
   "execution_count": 7,
   "metadata": {},
   "outputs": [
    {
     "data": {
      "text/plain": [
       "('$10', '$20', '$30', '$10', '$20', '$30', '$10', '$20', '$30')"
      ]
     },
     "execution_count": 7,
     "metadata": {},
     "output_type": "execute_result"
    }
   ],
   "source": [
    "bills_jan * 3"
   ]
  },
  {
   "cell_type": "markdown",
   "metadata": {},
   "source": [
    "## Exercises"
   ]
  },
  {
   "cell_type": "markdown",
   "metadata": {},
   "source": [
    "Count the number of occurences of the letter \"i\":"
   ]
  },
  {
   "cell_type": "code",
   "execution_count": 4,
   "metadata": {},
   "outputs": [],
   "source": [
    "name = \"Savoir-faire Linux\"\n",
    "cars = ['ferrari', 'ferrari', 'pinto']"
   ]
  },
  {
   "cell_type": "code",
   "execution_count": 2,
   "metadata": {},
   "outputs": [
    {
     "data": {
      "text/plain": [
       "3"
      ]
     },
     "execution_count": 2,
     "metadata": {},
     "output_type": "execute_result"
    }
   ],
   "source": [
    "name.count('i')"
   ]
  },
  {
   "cell_type": "code",
   "execution_count": 5,
   "metadata": {},
   "outputs": [
    {
     "data": {
      "text/plain": [
       "2"
      ]
     },
     "execution_count": 5,
     "metadata": {},
     "output_type": "execute_result"
    }
   ],
   "source": [
    "cars.count('ferrari')"
   ]
  },
  {
   "cell_type": "markdown",
   "metadata": {},
   "source": [
    "### Numbers"
   ]
  },
  {
   "cell_type": "markdown",
   "metadata": {},
   "source": [
    "For the following numbers"
   ]
  },
  {
   "cell_type": "code",
   "execution_count": 48,
   "metadata": {},
   "outputs": [],
   "source": [
    "numbers = [\"1\", \"2\", \"3\", \"4\", \"5\"]"
   ]
  },
  {
   "cell_type": "markdown",
   "metadata": {},
   "source": [
    "Write a function that takes a list as an argument, for each number, prints whether it is odd or even"
   ]
  },
  {
   "cell_type": "code",
   "execution_count": 8,
   "metadata": {},
   "outputs": [
    {
     "name": "stdout",
     "output_type": "stream",
     "text": [
      "Value: 5 False\n",
      "Value: 6 True\n",
      "Value: 8 True\n",
      "Value: 99 False\n",
      "Value: 101 False\n",
      "Value: 12312 True\n",
      "Value: 55 False\n"
     ]
    }
   ],
   "source": [
    "iseven([5, 6, 8, 99, 101, 12312, 55])"
   ]
  },
  {
   "cell_type": "markdown",
   "metadata": {},
   "source": [
    "### First Names\n",
    "In this exercise, we will calculate statistics on different first names.\n",
    "\n",
    "The _names.txt_ file contains 11627 first names. For each name, the information is organized as follows:\n",
    "\n",
    "    name;sex;language;frequency"
   ]
  },
  {
   "cell_type": "markdown",
   "metadata": {},
   "source": [
    "##### 1. Open the file (names.txt) and create a list of names"
   ]
  },
  {
   "cell_type": "code",
   "execution_count": 17,
   "metadata": {},
   "outputs": [
    {
     "name": "stdout",
     "output_type": "stream",
     "text": [
      "['aaliyah', 'aapeli', 'aapo', 'aaren', 'aarne', 'aarón', 'aaron', 'aatami', 'aatto', 'aatu']\n"
     ]
    }
   ],
   "source": [
    "with open('files/names-utf8.txt') as f:\n",
    "    f.readline()\n",
    "    names = []\n",
    "    for l in f:\n",
    "        names.append(l.split(';')[0])\n",
    "        \n",
    "print(names[:10])"
   ]
  },
  {
   "cell_type": "markdown",
   "metadata": {},
   "source": [
    "##### 2. Create a 4-tuple for each entry and add it to a new list."
   ]
  },
  {
   "cell_type": "code",
   "execution_count": 21,
   "metadata": {},
   "outputs": [
    {
     "data": {
      "text/plain": [
       "[('aaliyah', ('f',), ('english (modern)',), 0.0),\n",
       " ('aapeli', ('m',), ('finnish',), 0.0),\n",
       " ('aapo', ('m',), ('finnish',), 0.0),\n",
       " ('aaren', ('m', 'f'), ('english',), 0.0),\n",
       " ('aarne', ('m',), ('finnish',), 0.0),\n",
       " ('aarón', ('m',), ('spanish',), 0.0),\n",
       " ('aaron', ('m',), ('english', 'biblical'), 1.37),\n",
       " ('aatami', ('m',), ('finnish',), 0.0),\n",
       " ('aatto', ('m',), ('finnish',), 0.0),\n",
       " ('aatu', ('m',), ('finnish',), 0.0)]"
      ]
     },
     "execution_count": 21,
     "metadata": {},
     "output_type": "execute_result"
    }
   ],
   "source": [
    "namedata = []\n",
    "transdict = {ord(' '): None}\n",
    "with open('files/names-utf8.txt') as f:\n",
    "    f.readline()\n",
    "    for l in f:\n",
    "        linedata = l.rstrip().split(';')\n",
    "        linedata[1] = tuple(linedata[1].split(','))\n",
    "        \n",
    "        languages = []\n",
    "        for lang in linedata[2].split(','):\n",
    "            languages.append(lang.strip())\n",
    "        linedata[2] = tuple(languages)\n",
    "        linedata[3] = float(linedata[3])\n",
    "        \n",
    "        namedata.append(tuple(linedata))\n",
    "        \n",
    "namedata[:10]"
   ]
  },
  {
   "cell_type": "markdown",
   "metadata": {},
   "source": [
    "##### 3. Find the longest name"
   ]
  },
  {
   "cell_type": "code",
   "execution_count": 22,
   "metadata": {},
   "outputs": [
    {
     "name": "stdout",
     "output_type": "stream",
     "text": [
      "The longest name is mictlantecuhtli (length: 15)\n"
     ]
    }
   ],
   "source": [
    "max_name_len = 0\n",
    "longest_name = ''\n",
    "for i in namedata:\n",
    "    lname = len(i[0])\n",
    "    if lname > max_name_len:\n",
    "        max_name_len = lname\n",
    "        longest_name = i[0]\n",
    "        \n",
    "print(f\"The longest name is {longest_name} (length: {max_name_len})\")"
   ]
  },
  {
   "cell_type": "markdown",
   "metadata": {},
   "source": [
    "##### 4. Find the most popular male name"
   ]
  },
  {
   "cell_type": "code",
   "execution_count": 28,
   "metadata": {},
   "outputs": [
    {
     "name": "stdout",
     "output_type": "stream",
     "text": [
      "The most popular male name is les (pop: 15809.49)\n"
     ]
    }
   ],
   "source": [
    "maxpop = 0\n",
    "maxpopname = ''\n",
    "for name, sex, lang, pop in namedata:\n",
    "    if ('m' in sex and pop > maxpop):\n",
    "        maxpopname = name\n",
    "        maxpop = pop\n",
    "            \n",
    "print(f\"The most popular male name is {maxpopname} (pop: {maxpop})\")"
   ]
  },
  {
   "cell_type": "markdown",
   "metadata": {},
   "source": [
    "##### 5. Count the number of spanish names in the list"
   ]
  },
  {
   "cell_type": "code",
   "execution_count": 29,
   "metadata": {},
   "outputs": [
    {
     "name": "stdout",
     "output_type": "stream",
     "text": [
      "The number of spanish names is 553\n"
     ]
    }
   ],
   "source": [
    "nspanish = 0\n",
    "for name, sex, lang, pop in namedata:\n",
    "    if 'spanish' in lang:\n",
    "        nspanish += 1\n",
    "            \n",
    "print(f\"The number of spanish names is {nspanish}\")"
   ]
  },
  {
   "cell_type": "markdown",
   "metadata": {},
   "source": [
    "### References \n",
    "\n",
    "* [5.6 - Sequence types in python](http://docs.python.org/library/stdtypes.html#typesseq)\n",
    "* [5.6.4 - Mutable sequence types](http://docs.python.org/library/stdtypes.html#typesseq-mutable)\n"
   ]
  }
 ],
 "metadata": {
  "kernelspec": {
   "display_name": "Python 3",
   "language": "python",
   "name": "python3"
  },
  "language_info": {
   "codemirror_mode": {
    "name": "ipython",
    "version": 3
   },
   "file_extension": ".py",
   "mimetype": "text/x-python",
   "name": "python",
   "nbconvert_exporter": "python",
   "pygments_lexer": "ipython3",
   "version": "3.7.2"
  }
 },
 "nbformat": 4,
 "nbformat_minor": 2
}
