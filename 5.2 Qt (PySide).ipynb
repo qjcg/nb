{
 "metadata": {
  "name": ""
 },
 "nbformat": 3,
 "nbformat_minor": 0,
 "worksheets": [
  {
   "cells": [
    {
     "cell_type": "markdown",
     "metadata": {},
     "source": [
      "# Qt / PySide\n",
      "\n",
      "## R\u00e9f\u00e9rences\n",
      "\n",
      "- [PySide Documentation](http://qt-project.org/wiki/PySideDocumentation)\n",
      "    - [Tutorials](http://qt-project.org/wiki/PySide_Tutorials)\n",
      "    - [Example Applications](http://qt-project.org/wiki/PySide_Example_Applications)\n",
      "- [Downloads](http://qt-project.org/downloads) (QT Creator)\n",
      "    - [Qt Creator & PySide](http://qt-project.org/wiki/QtCreator_and_PySide)"
     ]
    },
    {
     "cell_type": "markdown",
     "metadata": {},
     "source": [
      "- Hello world\n",
      "- Qt Creator\n",
      "- Autres examples"
     ]
    },
    {
     "cell_type": "code",
     "collapsed": false,
     "input": [],
     "language": "python",
     "metadata": {},
     "outputs": []
    }
   ],
   "metadata": {}
  }
 ]
}