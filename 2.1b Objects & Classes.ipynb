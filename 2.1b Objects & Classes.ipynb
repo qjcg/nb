{
 "cells": [
  {
   "cell_type": "markdown",
   "metadata": {},
   "source": [
    "# Programming paradigms\n",
    "\n",
    "- Many exist\n",
    "- Popular ones include:\n",
    "    - imperative programs (think shell script)\n",
    "    - Object Oriented\n",
    "    - Functional"
   ]
  },
  {
   "cell_type": "code",
   "execution_count": null,
   "metadata": {},
   "outputs": [],
   "source": [
    "class Car:\n",
    "    def __init__(self, model=\"Ferrari\", year=1987):\n",
    "        self.model = model\n",
    "        self.year = year\n",
    "        \n",
    "    def __add__(self, other):\n",
    "        return Car(self.model + other.model, self.year + other.year)\n",
    "    \n",
    "    def honk(self):\n",
    "        return \"Regular car honk... BORING!\"\n",
    "    \n",
    "    def park(self):\n",
    "        return \"Regular car parking procedure...\"\n",
    "\n",
    "    \n",
    "    \n",
    "class ElectricCar(Car):\n",
    "    def __init__(self, model=\"Prius\", ecell_model=\"v2\"):\n",
    "        super().__init__(model)\n",
    "        self.ecell_model = ecell_model\n",
    "        \n",
    "    def __enter__(self):\n",
    "        print(\"Entering context managed block!\")\n",
    "        \n",
    "    def __exit__(self, exc_type, exc_val, traceback):\n",
    "        print(\"Exiting context managed block!\")\n",
    "        \n",
    "    def honk(self):\n",
    "        return \"Electric Car Honk!\"\n",
    "    \n",
    "    def park(self):\n",
    "        return super().park() + \" with an ELECTRIC twist!\"\n",
    "        \n",
    "        \n",
    "    \n",
    "\n",
    "car1 = Car('Pinto', 2031)\n",
    "car2 = Car(\"Chevy\", 1985)\n",
    "ec1 = ElectricCar()\n",
    "ec2 = ElectricCar(ecell_model=\"v5\")\n",
    "\n",
    "print(car1.honk())\n",
    "print(ec1.honk())\n",
    "\n",
    "newcar = car1 + ec2\n",
    "print(newcar.model, newcar.year)"
   ]
  },
  {
   "cell_type": "code",
   "execution_count": null,
   "metadata": {},
   "outputs": [],
   "source": [
    "with ElectricCar() as ec:\n",
    "    pass"
   ]
  },
  {
   "cell_type": "code",
   "execution_count": null,
   "metadata": {},
   "outputs": [],
   "source": [
    "import random\n",
    "\n",
    "\n",
    "class Employee:\n",
    "    \"\"\"An employee with a name and an age.\"\"\"\n",
    "    def __init__(self, name=\"Nameless Employee\", age=42):\n",
    "        self.name = name\n",
    "        self.age = age\n",
    "        print(\"New employee instantiated:\", self.name, self.age)\n",
    "    \n",
    "    def grow_older(self):\n",
    "        self.age += 5\n",
    "        print('New age: {}'.format(self.age))\n",
    "    \n",
    "    def am_i_old(self):\n",
    "        if self.age > 100:\n",
    "            print('Yes, very.')\n",
    "        else:\n",
    "            print(\"Nah! You're still a young spring chicken!\")\n",
    "    \n",
    "    def other(self):\n",
    "        print('this is another method')\n",
    "    \n",
    "    def funny(self):\n",
    "        print('How many programmers does it take to screw in a lightbulb?')\n",
    "\n",
    "        \n",
    "class SFLEmployee(Employee):\n",
    "    \"\"\"An employee of Savoir-faire Linux, with a name, age, and SFLid.\"\"\"\n",
    "    def __init__(self, name='SFL Employee', age=99, sflid=None):\n",
    "        super().__init__(name, age)\n",
    "        self.sflid = sflid or random.randrange(999999)\n",
    "        print('New SFLEmployee created: ', self.sflid, self.name, self.age)\n",
    "        \n",
    "    def autre(self):\n",
    "        super().other()\n",
    "        print('Other stuff')\n",
    "    \n",
    "        "
   ]
  },
  {
   "cell_type": "code",
   "execution_count": null,
   "metadata": {},
   "outputs": [],
   "source": [
    "e1 = Employee('John Gosset', 22)\n",
    "e2 = Employee('Jerry Grapes', 99)\n",
    "\n",
    "e2.grow_older()\n",
    "e2.am_i_old()\n",
    "\n",
    "print(e1.name)\n",
    "e1.name = \"Jack Nicklaus\"\n",
    "print(e1.name)"
   ]
  },
  {
   "cell_type": "code",
   "execution_count": null,
   "metadata": {},
   "outputs": [],
   "source": [
    "e1"
   ]
  },
  {
   "cell_type": "code",
   "execution_count": null,
   "metadata": {},
   "outputs": [],
   "source": [
    "e2 = SFLEmployee()\n",
    "e2.other()\n",
    "e2.funny()\n",
    "e2.autre()"
   ]
  },
  {
   "cell_type": "code",
   "execution_count": null,
   "metadata": {},
   "outputs": [],
   "source": [
    "e = Employee(age=99999)"
   ]
  },
  {
   "cell_type": "code",
   "execution_count": null,
   "metadata": {},
   "outputs": [],
   "source": [
    "print(e.name)\n",
    "print(e.age)"
   ]
  },
  {
   "cell_type": "code",
   "execution_count": null,
   "metadata": {},
   "outputs": [],
   "source": [
    "Employee?"
   ]
  },
  {
   "cell_type": "code",
   "execution_count": null,
   "metadata": {},
   "outputs": [],
   "source": [
    "se = SFLEmployee('George', 49)"
   ]
  },
  {
   "cell_type": "code",
   "execution_count": null,
   "metadata": {},
   "outputs": [],
   "source": [
    "se2 = SFLEmployee()"
   ]
  },
  {
   "cell_type": "code",
   "execution_count": null,
   "metadata": {},
   "outputs": [],
   "source": [
    "se2.autre()"
   ]
  },
  {
   "cell_type": "markdown",
   "metadata": {},
   "source": [
    "# Exercise: Basics of Classes\n",
    "\n",
    "Given that the basic syntax of a class & subclass definition is:\n",
    "\n",
    "```python\n",
    "class Car:\n",
    "    def __init__(self, model, year):\n",
    "        self.model = model\n",
    "        self.year = year\n",
    "\n",
    "\n",
    "class ElectricCar(Car):\n",
    "    def recharge(self):\n",
    "        print(\"Recharging electric car!\")\n",
    "        \n",
    "car1 = Car(\"Ferrari\", 1982) # here we're calling the constructor method\n",
    "print(f\"Model: {car1.model} Year: {car1.year}\")\n",
    "```\n",
    "\n",
    "\n",
    "- Using the class keyword, create a class and subclass of your choosing\n",
    "    - IMPORTANT: make them relevant to your day-to-day work!\n",
    "    - don't forget to include at least a constructor method (`__init__`) on your parent class\n",
    "- Create a class instance for your class and subclass, and store them each in one variable\n",
    "- Inspect the attributes and invoke the methods of your class instances via the console or within your script"
   ]
  },
  {
   "cell_type": "markdown",
   "metadata": {},
   "source": [
    "## Naming objects in Python\n",
    "\n",
    "    Modules: DON'T USE HYPHENS IN MODULE NAMES!! (use CapWords, or underscores if you must)\n",
    "    Classes, Packages: CapWords aka CamelCase\n",
    "    Functions, methods, variables: snake_case\n",
    "    Constants: ALL_CAPS_SNAKE_CASE"
   ]
  },
  {
   "cell_type": "markdown",
   "metadata": {},
   "source": [
    "# Overriding special methods\n",
    "\n",
    "Use [section 3.4](https://docs.python.org/3.6/reference/datamodel.html#special-method-names) of the **language reference** as a reference for special methods that can be overridden.\n",
    "\n",
    "C.f. the [property built-in](https://docs.python.org/3/library/functions.html#property)"
   ]
  },
  {
   "cell_type": "code",
   "execution_count": null,
   "metadata": {},
   "outputs": [],
   "source": [
    "class Dinosaur:\n",
    "    def __init__(self, name='Diplodocus', age=100):\n",
    "        self._name = name\n",
    "        self.age = age\n",
    "        print('New dino defined: {}'.format(self.name))\n",
    "    \n",
    "    @property\n",
    "    def name(self):\n",
    "        return self._name\n",
    "    \n",
    "    @name.setter\n",
    "    def name(self, newname):\n",
    "        self._name = newname\n",
    "    \n",
    "    @name.deleter\n",
    "    def name(self):\n",
    "        del self._name\n",
    "    \n",
    "    def __add__(self, other):\n",
    "        return Dinosaur(f\"{self.name}{other.name} SuperDinosaur\")\n",
    "    \n",
    "    def __sub__(self, other):\n",
    "        \"\"\"Turn a SuperDinosaur into a regular ol' dinosaur.\"\"\"\n",
    "        return Dinosaur(age=self.age  - other.age)\n",
    "    \n",
    "    def __iadd__(self, other):\n",
    "        self._name = self._name + other._name\n",
    "        print('New value of self.name: {}'.format(self._name))\n",
    "        return self\n",
    "    \n",
    "    def __eq__(self, other):\n",
    "        return self.__dict__ == other.__dict__\n",
    "    \n",
    "    def __repr__(self):\n",
    "        return f'<Dinosaur: {self.name}>'\n",
    "    \n",
    "    def roar(self):\n",
    "        print(self.name + ' says RRRRRRRRRRR!')\n",
    "        \n",
    "class Tyranosaurus(Dinosaur):\n",
    "    def make_noise(self):\n",
    "        print('TYRANOSAURUS NOISE!')\n",
    "        \n",
    "    def scratch(self):\n",
    "        print(\"The dinosaur scratches!\")\n",
    "\n",
    "class Diplodocus(Dinosaur):\n",
    "    def make_noise(self):\n",
    "        print('DIPLODOCUS NOISE!')\n",
    "    \n",
    "    def stampede(self):\n",
    "        print(\"The dinosaur STAMPEDES!\")\n",
    "\n",
    "class TyranoDiplodocus(Diplodocus, Tyranosaurus):\n",
    "    def and_another_thing(self):\n",
    "        pass"
   ]
  },
  {
   "cell_type": "code",
   "execution_count": null,
   "metadata": {},
   "outputs": [],
   "source": [
    "td = TyranoDiplodocus()\n",
    "td.make_noise()"
   ]
  },
  {
   "cell_type": "code",
   "execution_count": null,
   "metadata": {},
   "outputs": [],
   "source": [
    "t1 += t2\n",
    "t1.__dict__"
   ]
  },
  {
   "cell_type": "code",
   "execution_count": null,
   "metadata": {},
   "outputs": [],
   "source": [
    "td = TyranoDiplodocus()\n",
    "td.make_noise()"
   ]
  },
  {
   "cell_type": "code",
   "execution_count": null,
   "metadata": {},
   "outputs": [],
   "source": [
    "td = TyranoDiplodocus('Jerry')\n",
    "td.make_noise()"
   ]
  },
  {
   "cell_type": "code",
   "execution_count": null,
   "metadata": {},
   "outputs": [],
   "source": [
    "d1 = Dinosaur('Teradactyl')\n",
    "d2 = Dinosaur('Tyranosaurus')\n",
    "d3 = d1 + d2"
   ]
  },
  {
   "cell_type": "code",
   "execution_count": null,
   "metadata": {},
   "outputs": [],
   "source": [
    "d3 = d2 - d1\n",
    "d3.age"
   ]
  },
  {
   "cell_type": "code",
   "execution_count": null,
   "metadata": {},
   "outputs": [],
   "source": [
    "print(d1.__dict__)\n",
    "print(d1)"
   ]
  },
  {
   "cell_type": "code",
   "execution_count": null,
   "metadata": {},
   "outputs": [],
   "source": [
    "td = TyranoDiplodocus()\n",
    "td.make_noise()\n",
    "print(td.__class__.__mro__)"
   ]
  },
  {
   "cell_type": "code",
   "execution_count": null,
   "metadata": {},
   "outputs": [],
   "source": [
    "d = Dinosaur()"
   ]
  },
  {
   "cell_type": "code",
   "execution_count": null,
   "metadata": {},
   "outputs": [],
   "source": [
    "print(d.name)\n",
    "d."
   ]
  },
  {
   "cell_type": "markdown",
   "metadata": {},
   "source": [
    "# Exercise: Overriding Special Methods\n",
    "\n",
    "Using the class and subclass you created in the previous exercise:\n",
    "- override 3 special methods for the parent\n",
    "- override 3 different special methods for the child\n",
    "- make use of the special methods you overrode in your code and ensure the behaviour is what you expect"
   ]
  },
  {
   "cell_type": "markdown",
   "metadata": {},
   "source": [
    "# Methods you overrode\n",
    "\n",
    "- `__init__`\n",
    "- `__add__`\n",
    "- `__del__`\n",
    "- `__sub__`\n",
    "- `__eq__`\n",
    "- `__iadd__`"
   ]
  },
  {
   "cell_type": "code",
   "execution_count": 32,
   "metadata": {},
   "outputs": [],
   "source": [
    "class Security:\n",
    "    \"\"\"Represents a security with name, mktcap and exchange.\n",
    "    \n",
    "    Market cap value is in billions.\n",
    "    \"\"\"\n",
    "    def __init__(self, name=\"default\", exchange=\"NYSE\", mktcap=0):\n",
    "        self.name = name\n",
    "        self.exchange = exchange\n",
    "        self.mktcap = mktcap\n",
    "        \n",
    "    def __add__(self, other):\n",
    "        return Security(mktcap=self.mktcap + other.mktcap)\n",
    "    \n",
    "    def __del__(self):\n",
    "        print(\"I'm DELETING!\")\n",
    "        del self\n",
    "        \n",
    "\n",
    "class Future(Security):\n",
    "    def __init__(self, name, exchange, expire):\n",
    "        super().__init__(name, exchange)\n",
    "        del self.mktcap\n",
    "        self.expire = expire\n",
    "        \n",
    "    def __sub__(self, other):\n",
    "        return Future(name=\"SubtractedFuture\",\n",
    "                      exchange=\"NegativeNetherworld\",\n",
    "                      expire=-1,\n",
    "                     )\n",
    "    \n",
    "    def __eq__(self, other):\n",
    "        return self.name == other.name\n",
    "    \n",
    "    def __iadd__(self, other):\n",
    "        self.expire += other.expire\n",
    "        return self"
   ]
  },
  {
   "cell_type": "code",
   "execution_count": 33,
   "metadata": {},
   "outputs": [
    {
     "name": "stdout",
     "output_type": "stream",
     "text": [
      "I'm DELETING!\n",
      "I'm DELETING!\n",
      "The mkt cap of aapl_goog is 3000\n"
     ]
    }
   ],
   "source": [
    "aapl = Security(\"AAPL\", \"NYSE\", 1000)\n",
    "goog = Security(\"GOOG\", \"TSX\", 2000)\n",
    "\n",
    "# Using __add__\n",
    "aapl_goog = aapl + goog\n",
    "print(f\"The mkt cap of aapl_goog is {aapl_goog.mktcap}\")"
   ]
  },
  {
   "cell_type": "code",
   "execution_count": 39,
   "metadata": {},
   "outputs": [
    {
     "name": "stdout",
     "output_type": "stream",
     "text": [
      "I'm DELETING!\n",
      "I'm DELETING!\n",
      "I'm DELETING!\n",
      "{'name': 'SubtractedFuture', 'exchange': 'NegativeNetherworld', 'expire': -1}\n",
      "False\n",
      "{'name': 'es', 'exchange': 'NYSE', 'expire': 13}\n"
     ]
    }
   ],
   "source": [
    "es = Future(\"es\", \"NYSE\", 6)\n",
    "nq = Future(\"nq\", \"NYSE\", 7)\n",
    "new_future = es - nq\n",
    "print(new_future.__dict__)\n",
    "print(es == nq)\n",
    "es += nq\n",
    "print(es.__dict__)"
   ]
  },
  {
   "cell_type": "code",
   "execution_count": 30,
   "metadata": {},
   "outputs": [
    {
     "name": "stdout",
     "output_type": "stream",
     "text": [
      "I'm DELETING!\n"
     ]
    },
    {
     "ename": "NameError",
     "evalue": "name 'aapl_goog' is not defined",
     "output_type": "error",
     "traceback": [
      "\u001b[0;31m---------------------------------------------------------------------------\u001b[0m",
      "\u001b[0;31mNameError\u001b[0m                                 Traceback (most recent call last)",
      "\u001b[0;32m<ipython-input-30-40ead3906309>\u001b[0m in \u001b[0;36m<module>\u001b[0;34m\u001b[0m\n\u001b[1;32m      1\u001b[0m \u001b[0;32mdel\u001b[0m \u001b[0maapl_goog\u001b[0m\u001b[0;34m\u001b[0m\u001b[0;34m\u001b[0m\u001b[0m\n\u001b[0;32m----> 2\u001b[0;31m \u001b[0maapl_goog\u001b[0m\u001b[0;34m\u001b[0m\u001b[0;34m\u001b[0m\u001b[0m\n\u001b[0m",
      "\u001b[0;31mNameError\u001b[0m: name 'aapl_goog' is not defined"
     ]
    }
   ],
   "source": [
    "del aapl_goog\n",
    "aapl_goog"
   ]
  },
  {
   "cell_type": "code",
   "execution_count": null,
   "metadata": {},
   "outputs": [],
   "source": [
    "td = TyranoDiplodocus('Roger')"
   ]
  },
  {
   "cell_type": "code",
   "execution_count": null,
   "metadata": {},
   "outputs": [],
   "source": [
    "print(td.__class__.__mro__)\n",
    "td.make_noise()"
   ]
  },
  {
   "cell_type": "code",
   "execution_count": null,
   "metadata": {},
   "outputs": [],
   "source": [
    "d1 = Dinosaur('Tyranosaurus')\n",
    "d2 = Dinosaur('Raptor')\n",
    "\n",
    "d3 = d1 + d2\n",
    "print d3.name\n",
    "print d3\n",
    "\n",
    "d4 = Dinosaur()\n",
    "print d4"
   ]
  },
  {
   "cell_type": "code",
   "execution_count": null,
   "metadata": {},
   "outputs": [],
   "source": [
    "ddd = d3 - d1"
   ]
  },
  {
   "cell_type": "code",
   "execution_count": null,
   "metadata": {},
   "outputs": [],
   "source": [
    "d3 += d1"
   ]
  },
  {
   "cell_type": "code",
   "execution_count": null,
   "metadata": {},
   "outputs": [],
   "source": [
    "55 == 55"
   ]
  },
  {
   "cell_type": "code",
   "execution_count": null,
   "metadata": {},
   "outputs": [],
   "source": [
    "print d1.__dict__\n",
    "print d3.__dict__"
   ]
  },
  {
   "cell_type": "code",
   "execution_count": null,
   "metadata": {},
   "outputs": [],
   "source": [
    "d3.blahblahblah = 123\n",
    "print d3.__dict__"
   ]
  },
  {
   "cell_type": "code",
   "execution_count": null,
   "metadata": {},
   "outputs": [],
   "source": [
    "d1 = Dinosaur('Triceratops')\n",
    "d2 = Dinosaur('Triceratops')\n",
    "print d1 == d2"
   ]
  },
  {
   "cell_type": "code",
   "execution_count": null,
   "metadata": {},
   "outputs": [],
   "source": [
    "class Person:\n",
    "    def __init__(self, name=\"Nameless Person\", age=55):\n",
    "        self.name = name\n",
    "        self.age = age\n",
    "\n",
    "class Employee(Person):\n",
    "    def __init__(self, ename=\"Mr. Employee\", eage=99, eid=777):\n",
    "        super().__init__(age=eage, name=ename)\n",
    "        self.eid = eid\n",
    "    \n",
    "    def speak(self, words=\"Hey there, Employee here!\"):\n",
    "        print(words)\n",
    "\n",
    "class Client(Person):\n",
    "    def speak(self, words=\"Hi, Client here!\"):\n",
    "        print(words)\n",
    "        \n",
    "class EmployeeClient(Employee, Client):\n",
    "    def __init__(self, name='Mr. EC', age=66, buyer_id=123):\n",
    "        super().__init__(name, age, eid=123123)\n",
    "        self.buyer_id = buyer_id\n",
    "    \n",
    "    def buy(self):\n",
    "        print(\"Buying things\")"
   ]
  },
  {
   "cell_type": "code",
   "execution_count": null,
   "metadata": {},
   "outputs": [],
   "source": [
    "ec = EmployeeClient(name='John Gosset')\n",
    "ec.speak()\n",
    "ec.buy()\n",
    "print('Name: {} Age: {} BID: {} EID: {}'.format(\n",
    "    ec.name, ec.age, ec.buyer_id, ec.eid))"
   ]
  },
  {
   "cell_type": "code",
   "execution_count": null,
   "metadata": {},
   "outputs": [],
   "source": []
  }
 ],
 "metadata": {
  "kernelspec": {
   "display_name": "Python 3",
   "language": "python",
   "name": "python3"
  },
  "language_info": {
   "codemirror_mode": {
    "name": "ipython",
    "version": 3
   },
   "file_extension": ".py",
   "mimetype": "text/x-python",
   "name": "python",
   "nbconvert_exporter": "python",
   "pygments_lexer": "ipython3",
   "version": "3.7.3"
  }
 },
 "nbformat": 4,
 "nbformat_minor": 2
}
