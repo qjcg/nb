{
 "cells": [
  {
   "cell_type": "code",
   "execution_count": 1,
   "metadata": {},
   "outputs": [
    {
     "name": "stdout",
     "output_type": "stream",
     "text": [
      "Electric Car Honk!\n",
      "Regular car honk... BORING!\n",
      "PintoPrius 4018\n"
     ]
    },
    {
     "data": {
      "text/plain": [
       "'Regular car parking procedure... with an ELECTRIC twist!'"
      ]
     },
     "execution_count": 1,
     "metadata": {},
     "output_type": "execute_result"
    }
   ],
   "source": [
    "class Car:\n",
    "    def __init__(self, model=\"Ferrari\", year=1987):\n",
    "        self.model = model\n",
    "        self.year = year\n",
    "        \n",
    "    def __add__(self, other):\n",
    "        return Car(self.model + other.model, self.year + other.year)\n",
    "    \n",
    "    def honk(self):\n",
    "        return \"Regular car honk... BORING!\"\n",
    "    \n",
    "    def park(self):\n",
    "        return \"Regular car parking procedure...\"\n",
    "    \n",
    "class ElectricCar(Car):\n",
    "    def __init__(self, model=\"Prius\", ecell_model=\"v2\"):\n",
    "        super().__init__(model)\n",
    "        self.ecell_model = ecell_model\n",
    "        \n",
    "    def honk(self):\n",
    "        return \"Electric Car Honk!\"\n",
    "    \n",
    "    def park(self):\n",
    "        return super().park() + \" with an ELECTRIC twist!\"\n",
    "        \n",
    "        \n",
    "    \n",
    "\n",
    "c = Car('Pinto', 2031)\n",
    "ec = ElectricCar()\n",
    "print(ec.honk())\n",
    "print(c.honk())\n",
    "\n",
    "c3 = c + ec\n",
    "print(c3.model, c3.year)\n",
    "ec.park()"
   ]
  },
  {
   "cell_type": "code",
   "execution_count": 7,
   "metadata": {},
   "outputs": [],
   "source": [
    "import random\n",
    "\n",
    "\n",
    "class Employee:\n",
    "    \"\"\"An employee with a name and an age.\"\"\"\n",
    "    def __init__(self, name=\"Nameless Employee\", age=42):\n",
    "        self.name = name\n",
    "        self.age = age\n",
    "        print(\"New employee instantiated:\", self.name, self.age)\n",
    "    \n",
    "    def grow_older(self):\n",
    "        self.age += 5\n",
    "        print('New age: {}'.format(self.age))\n",
    "    \n",
    "    def am_i_old(self):\n",
    "        if self.age > 100:\n",
    "            print('Yes, very.')\n",
    "        else:\n",
    "            print(\"Nah! You're still a young spring chicken!\")\n",
    "    \n",
    "    def other(self):\n",
    "        print('this is another method')\n",
    "    \n",
    "    def funny(self):\n",
    "        print('How many programmers does it take to screw in a lightbulb?')\n",
    "\n",
    "        \n",
    "class SFLEmployee(Employee):\n",
    "    \"\"\"An employee of Savoir-faire Linux, with a name, age, and SFLid.\"\"\"\n",
    "    def __init__(self, name='SFL Employee', age=99, sflid=None):\n",
    "        super().__init__(name, age)\n",
    "        self.sflid = sflid or random.randrange(999999)\n",
    "        print('New SFLEmployee created: ', self.sflid, self.name, self.age)\n",
    "        \n",
    "    def autre(self):\n",
    "        super().other()\n",
    "        print('Other stuff')\n",
    "    \n",
    "        "
   ]
  },
  {
   "cell_type": "code",
   "execution_count": 8,
   "metadata": {},
   "outputs": [
    {
     "name": "stdout",
     "output_type": "stream",
     "text": [
      "New employee instantiated: John Gosset 22\n",
      "New employee instantiated: Jerry Grapes 99\n",
      "New age: 104\n",
      "Yes, very.\n",
      "John Gosset\n",
      "Jack Nicklaus\n"
     ]
    }
   ],
   "source": [
    "e1 = Employee('John Gosset', 22)\n",
    "e2 = Employee('Jerry Grapes', 99)\n",
    "\n",
    "e2.grow_older()\n",
    "e2.am_i_old()\n",
    "\n",
    "print(e1.name)\n",
    "e1.name = \"Jack Nicklaus\"\n",
    "print(e1.name)"
   ]
  },
  {
   "cell_type": "code",
   "execution_count": 10,
   "metadata": {},
   "outputs": [
    {
     "data": {
      "text/plain": [
       "<__main__.Employee at 0x7f587409a470>"
      ]
     },
     "execution_count": 10,
     "metadata": {},
     "output_type": "execute_result"
    }
   ],
   "source": [
    "e1"
   ]
  },
  {
   "cell_type": "code",
   "execution_count": 7,
   "metadata": {},
   "outputs": [
    {
     "name": "stdout",
     "output_type": "stream",
     "text": [
      "New employee instantiated: SFL Employee 99\n",
      "New SFLEmployee created:  158215 SFL Employee 99\n",
      "this is another method\n",
      "How many programmers does it take to screw in a lightbulb?\n",
      "this is another method\n",
      "Other stuff\n"
     ]
    }
   ],
   "source": [
    "e2 = SFLEmployee()\n",
    "e2.other()\n",
    "e2.funny()\n",
    "e2.autre()"
   ]
  },
  {
   "cell_type": "code",
   "execution_count": 14,
   "metadata": {},
   "outputs": [
    {
     "name": "stdout",
     "output_type": "stream",
     "text": [
      "New employee instantiated: Nameless Employee 99999\n"
     ]
    }
   ],
   "source": [
    "e = Employee(age=99999)"
   ]
  },
  {
   "cell_type": "code",
   "execution_count": 17,
   "metadata": {},
   "outputs": [
    {
     "name": "stdout",
     "output_type": "stream",
     "text": [
      "Nameless Employee\n",
      "99999\n"
     ]
    }
   ],
   "source": [
    "print(e.name)\n",
    "print(e.age)"
   ]
  },
  {
   "cell_type": "code",
   "execution_count": 8,
   "metadata": {},
   "outputs": [],
   "source": [
    "Employee?"
   ]
  },
  {
   "cell_type": "code",
   "execution_count": 30,
   "metadata": {},
   "outputs": [
    {
     "name": "stdout",
     "output_type": "stream",
     "text": [
      "New SFLEmployee created:  747864 George 49\n"
     ]
    }
   ],
   "source": [
    "se = SFLEmployee('George', 49)"
   ]
  },
  {
   "cell_type": "code",
   "execution_count": 33,
   "metadata": {},
   "outputs": [
    {
     "name": "stdout",
     "output_type": "stream",
     "text": [
      "New SFLEmployee created:  78038 SFL Employee 99\n"
     ]
    }
   ],
   "source": [
    "se2 = SFLEmployee()"
   ]
  },
  {
   "cell_type": "code",
   "execution_count": 34,
   "metadata": {},
   "outputs": [
    {
     "name": "stdout",
     "output_type": "stream",
     "text": [
      "ceci est une autre methode\n",
      "Other stuff\n"
     ]
    }
   ],
   "source": [
    "se2.autre()"
   ]
  },
  {
   "cell_type": "markdown",
   "metadata": {},
   "source": [
    "# Exercise\n",
    "\n",
    "- Using the class keyword, create a class and subclass of your choosing\n",
    "    - IMPORTANT: make them relevant to your day-to-day work!\n",
    "    - don't forget to include at least a constructor method (`__init__`) on your parent class\n",
    "- Create a class instance for your class and subclass, and store them each in one variable\n",
    "- Inspect the attributes and invoke the methods of your class instances via the console or within your script"
   ]
  },
  {
   "cell_type": "markdown",
   "metadata": {},
   "source": [
    "## Naming objects in Python\n",
    "\n",
    "    Modules: DON'T USE HYPHENS IN MODULE NAMES!! (use CapWords, or underscores if you must)\n",
    "    Classes, Packages: CapWords\n",
    "    Functions, methods, variables: snake_case\n",
    "    Constants: ALL_CAPS_SNAKE_CASE"
   ]
  },
  {
   "cell_type": "markdown",
   "metadata": {},
   "source": [
    "# Overriding special methods\n",
    "\n",
    "Use [section 3.4](https://docs.python.org/3.6/reference/datamodel.html#special-method-names) of the **language reference** as a reference for special methods that can be overridden.\n",
    "\n",
    "C.f. the [property built-in](https://docs.python.org/3/library/functions.html#property)"
   ]
  },
  {
   "cell_type": "code",
   "execution_count": 2,
   "metadata": {},
   "outputs": [],
   "source": [
    "class Dinosaur:\n",
    "    def __init__(self, name='Diplodocus', age=100):\n",
    "        self._name = name\n",
    "        self.age = age\n",
    "        print('New dino defined: {}'.format(self.name))\n",
    "    \n",
    "    @property\n",
    "    def name(self):\n",
    "        return self._name\n",
    "    \n",
    "    @name.setter\n",
    "    def name(self, newname):\n",
    "        self._name = newname\n",
    "    \n",
    "    @name.deleter\n",
    "    def name(self):\n",
    "        del self._name\n",
    "    \n",
    "    def __add__(self, other):\n",
    "        name = self.name + other.name\n",
    "        return Dinosaur(name + ' SuperDinosaur')\n",
    "    \n",
    "    def __sub__(self, other):\n",
    "        \"\"\"Turn a SuperDinosaur into a regular ol' dinosaur.\"\"\"\n",
    "        return Dinosaur(age=self.age * 2  - other.age)\n",
    "    \n",
    "    def __iadd__(self, other):\n",
    "        self.name = self.name + other.name\n",
    "        print('New value of self.name: {}'.format(self.name))\n",
    "        return self\n",
    "    \n",
    "    def __eq__(self, other):\n",
    "        return self.__dict__ == other.__dict__\n",
    "    \n",
    "    def __repr__(self):\n",
    "        return '<Dinosaur: {}>'.format(self.name)\n",
    "    \n",
    "    def roar(self):\n",
    "        print(self.name + ' says RRRRRRRRRRR!')\n",
    "        \n",
    "class Tyranosaurus(Dinosaur):\n",
    "    def make_noise(self):\n",
    "        print('TYRANOSAURUS NOISE!')\n",
    "\n",
    "class Diplodocus(Dinosaur):\n",
    "    def make_noise(self):\n",
    "        print('DIPLODOCUS NOISE!')\n",
    "\n",
    "class TyranoDiplodocus(Diplodocus, Tyranosaurus):\n",
    "    def and_another_thing(self):\n",
    "        pass"
   ]
  },
  {
   "cell_type": "code",
   "execution_count": 3,
   "metadata": {},
   "outputs": [
    {
     "name": "stdout",
     "output_type": "stream",
     "text": [
      "New dino defined: Jerry\n",
      "DIPLODOCUS NOISE!\n"
     ]
    }
   ],
   "source": [
    "td = TyranoDiplodocus('Jerry')\n",
    "td.make_noise()"
   ]
  },
  {
   "cell_type": "code",
   "execution_count": 19,
   "metadata": {},
   "outputs": [
    {
     "name": "stdout",
     "output_type": "stream",
     "text": [
      "New dino defined: Teradactyl\n",
      "New dino defined: Tyranosaurus\n",
      "New dino defined: TeradactylTyranosaurus SuperDinosaur\n"
     ]
    }
   ],
   "source": [
    "d1 = Dinosaur('Teradactyl')\n",
    "d2 = Dinosaur('Tyranosaurus')\n",
    "d3 = d1 + d2"
   ]
  },
  {
   "cell_type": "code",
   "execution_count": 21,
   "metadata": {},
   "outputs": [
    {
     "name": "stdout",
     "output_type": "stream",
     "text": [
      "New dino defined: Diplodocus\n"
     ]
    },
    {
     "data": {
      "text/plain": [
       "0"
      ]
     },
     "execution_count": 21,
     "metadata": {},
     "output_type": "execute_result"
    }
   ],
   "source": [
    "d3 = d2 - d1\n",
    "d3.age"
   ]
  },
  {
   "cell_type": "code",
   "execution_count": 12,
   "metadata": {},
   "outputs": [
    {
     "name": "stdout",
     "output_type": "stream",
     "text": [
      "{'_name': 'Teradactyl'}\n",
      "<Dinosaur: Teradactyl>\n"
     ]
    }
   ],
   "source": [
    "print(d1.__dict__)\n",
    "print(d1)"
   ]
  },
  {
   "cell_type": "code",
   "execution_count": 13,
   "metadata": {},
   "outputs": [
    {
     "name": "stdout",
     "output_type": "stream",
     "text": [
      "New dino defined: Diplodocus\n",
      "TYRANOSAURUS NOISE!\n",
      "(<class '__main__.TyranoDiplodocus'>, <class '__main__.Tyranosaurus'>, <class '__main__.Diplodocus'>, <class '__main__.Dinosaur'>, <class 'object'>)\n"
     ]
    }
   ],
   "source": [
    "td = TyranoDiplodocus()\n",
    "td.make_noise()\n",
    "print(td.__class__.__mro__)"
   ]
  },
  {
   "cell_type": "code",
   "execution_count": 15,
   "metadata": {},
   "outputs": [
    {
     "name": "stdout",
     "output_type": "stream",
     "text": [
      "New dino defined: Diplodocus\n"
     ]
    }
   ],
   "source": [
    "d = Dinosaur()"
   ]
  },
  {
   "cell_type": "code",
   "execution_count": 17,
   "metadata": {},
   "outputs": [
    {
     "name": "stdout",
     "output_type": "stream",
     "text": [
      "Diplodocus\n"
     ]
    }
   ],
   "source": [
    "print(d.name)\n",
    "d."
   ]
  },
  {
   "cell_type": "markdown",
   "metadata": {},
   "source": [
    "# Exercise\n",
    "\n",
    "Using the class and subclass you created in the previous exercise:\n",
    "- override 3 special methods for the parent\n",
    "- override 3 different special methods for the child\n",
    "- make use of the special methods you overrode in your script and ensure the behaviour is what you expect"
   ]
  },
  {
   "cell_type": "code",
   "execution_count": 11,
   "metadata": {},
   "outputs": [
    {
     "name": "stdout",
     "output_type": "stream",
     "text": [
      "New dino defined: Roger\n"
     ]
    }
   ],
   "source": [
    "td = TyranoDiplodocus('Roger')"
   ]
  },
  {
   "cell_type": "code",
   "execution_count": 13,
   "metadata": {},
   "outputs": [
    {
     "name": "stdout",
     "output_type": "stream",
     "text": [
      "(<class '__main__.TyranoDiplodocus'>, <class '__main__.Tyranosaurus'>, <class '__main__.Diplodocus'>, <class '__main__.Dinosaur'>, <class 'object'>)\n",
      "TYRANOSAURUS NOISE!\n"
     ]
    }
   ],
   "source": [
    "print(td.__class__.__mro__)\n",
    "td.make_noise()"
   ]
  },
  {
   "cell_type": "code",
   "execution_count": 51,
   "metadata": {},
   "outputs": [
    {
     "name": "stdout",
     "output_type": "stream",
     "text": [
      "New dino defined: Tyranosaurus\n",
      "New dino defined: Raptor\n",
      "New dino defined: TyranosaurusRaptor SuperDinosaur\n",
      "TyranosaurusRaptor SuperDinosaur\n",
      "<Dinosaur: TyranosaurusRaptor SuperDinosaur>\n",
      "New dino defined: Diplodocus\n",
      "<Dinosaur: Diplodocus>\n"
     ]
    }
   ],
   "source": [
    "d1 = Dinosaur('Tyranosaurus')\n",
    "d2 = Dinosaur('Raptor')\n",
    "\n",
    "d3 = d1 + d2\n",
    "print d3.name\n",
    "print d3\n",
    "\n",
    "d4 = Dinosaur()\n",
    "print d4"
   ]
  },
  {
   "cell_type": "code",
   "execution_count": 52,
   "metadata": {},
   "outputs": [
    {
     "name": "stdout",
     "output_type": "stream",
     "text": [
      "New dino defined: TyranosaurusRaptor\n"
     ]
    }
   ],
   "source": [
    "ddd = d3 - d1"
   ]
  },
  {
   "cell_type": "code",
   "execution_count": 101,
   "metadata": {},
   "outputs": [
    {
     "name": "stdout",
     "output_type": "stream",
     "text": [
      "New value of self.name: TyranosaurusRaptor SuperDinosaurTyranosaurusTyranosaurusTyranosaurusTyranosaurusTyranosaurusTyranosaurusTyranosaurusTyranosaurusTyranosaurusTyranosaurusTyranosaurusTyranosaurusTyranosaurusTyranosaurusTyranosaurusTyranosaurusTyranosaurusTyranosaurusTyranosaurusTyranosaurusTyranosaurusTyranosaurusTyranosaurusTyranosaurusTyranosaurusTyranosaurusTyranosaurusTyranosaurusTyranosaurusTyranosaurusTyranosaurusTyranosaurusTyranosaurusTyranosaurusTyranosaurusTyranosaurusTyranosaurusTyranosaurusTyranosaurusTyranosaurusTyranosaurusTyranosaurusTyranosaurusTyranosaurusTyranosaurusTyranosaurusTyranosaurusTyranosaurusTyranosaurus\n"
     ]
    }
   ],
   "source": [
    "d3 += d1"
   ]
  },
  {
   "cell_type": "code",
   "execution_count": 102,
   "metadata": {},
   "outputs": [
    {
     "data": {
      "text/plain": [
       "True"
      ]
     },
     "execution_count": 102,
     "metadata": {},
     "output_type": "execute_result"
    }
   ],
   "source": [
    "55 == 55"
   ]
  },
  {
   "cell_type": "code",
   "execution_count": 105,
   "metadata": {},
   "outputs": [
    {
     "name": "stdout",
     "output_type": "stream",
     "text": [
      "{'name': 'Tyranosaurus'}\n",
      "{'name': 'TyranosaurusRaptor SuperDinosaurTyranosaurusTyranosaurusTyranosaurusTyranosaurusTyranosaurusTyranosaurusTyranosaurusTyranosaurusTyranosaurusTyranosaurusTyranosaurusTyranosaurusTyranosaurusTyranosaurusTyranosaurusTyranosaurusTyranosaurusTyranosaurusTyranosaurusTyranosaurusTyranosaurusTyranosaurusTyranosaurusTyranosaurusTyranosaurusTyranosaurusTyranosaurusTyranosaurusTyranosaurusTyranosaurusTyranosaurusTyranosaurusTyranosaurusTyranosaurusTyranosaurusTyranosaurusTyranosaurusTyranosaurusTyranosaurusTyranosaurusTyranosaurusTyranosaurusTyranosaurusTyranosaurusTyranosaurusTyranosaurusTyranosaurusTyranosaurusTyranosaurus'}\n"
     ]
    }
   ],
   "source": [
    "print d1.__dict__\n",
    "print d3.__dict__"
   ]
  },
  {
   "cell_type": "code",
   "execution_count": 106,
   "metadata": {},
   "outputs": [
    {
     "name": "stdout",
     "output_type": "stream",
     "text": [
      "{'blahblahblah': 123, 'name': 'TyranosaurusRaptor SuperDinosaurTyranosaurusTyranosaurusTyranosaurusTyranosaurusTyranosaurusTyranosaurusTyranosaurusTyranosaurusTyranosaurusTyranosaurusTyranosaurusTyranosaurusTyranosaurusTyranosaurusTyranosaurusTyranosaurusTyranosaurusTyranosaurusTyranosaurusTyranosaurusTyranosaurusTyranosaurusTyranosaurusTyranosaurusTyranosaurusTyranosaurusTyranosaurusTyranosaurusTyranosaurusTyranosaurusTyranosaurusTyranosaurusTyranosaurusTyranosaurusTyranosaurusTyranosaurusTyranosaurusTyranosaurusTyranosaurusTyranosaurusTyranosaurusTyranosaurusTyranosaurusTyranosaurusTyranosaurusTyranosaurusTyranosaurusTyranosaurusTyranosaurus'}\n"
     ]
    }
   ],
   "source": [
    "d3.blahblahblah = 123\n",
    "print d3.__dict__"
   ]
  },
  {
   "cell_type": "code",
   "execution_count": 109,
   "metadata": {},
   "outputs": [
    {
     "name": "stdout",
     "output_type": "stream",
     "text": [
      "New dino defined: Triceratops\n",
      "New dino defined: Triceratops\n",
      "True\n"
     ]
    }
   ],
   "source": [
    "d1 = Dinosaur('Triceratops')\n",
    "d2 = Dinosaur('Triceratops')\n",
    "print d1 == d2"
   ]
  },
  {
   "cell_type": "code",
   "execution_count": 12,
   "metadata": {},
   "outputs": [],
   "source": [
    "class Person:\n",
    "    def __init__(self, name=\"Nameless Person\", age=55):\n",
    "        self.name = name\n",
    "        self.age = age\n",
    "\n",
    "class Employee(Person):\n",
    "    def __init__(self, ename=\"Mr. Employee\", eage=99, eid=777):\n",
    "        super().__init__(age=eage, name=ename)\n",
    "        self.eid = eid\n",
    "    \n",
    "    def speak(self, words=\"Hey there, Employee here!\"):\n",
    "        print(words)\n",
    "\n",
    "class Client(Person):\n",
    "    def speak(self, words=\"Hi, Client here!\"):\n",
    "        print(words)\n",
    "        \n",
    "class EmployeeClient(Employee, Client):\n",
    "    def __init__(self, name='Mr. EC', age=66, buyer_id=123):\n",
    "        super().__init__(name, age, eid=123123)\n",
    "        self.buyer_id = buyer_id\n",
    "    \n",
    "    def buy(self):\n",
    "        print(\"Buying things\")"
   ]
  },
  {
   "cell_type": "code",
   "execution_count": 15,
   "metadata": {},
   "outputs": [
    {
     "name": "stdout",
     "output_type": "stream",
     "text": [
      "Hey there, Employee here!\n",
      "Buying things\n",
      "Name: John Gosset Age: 66 BID: 123 EID: 123123\n"
     ]
    }
   ],
   "source": [
    "ec = EmployeeClient(name='John Gosset')\n",
    "ec.speak()\n",
    "ec.buy()\n",
    "print('Name: {} Age: {} BID: {} EID: {}'.format(\n",
    "    ec.name, ec.age, ec.buyer_id, ec.eid))"
   ]
  },
  {
   "cell_type": "code",
   "execution_count": null,
   "metadata": {},
   "outputs": [],
   "source": []
  }
 ],
 "metadata": {
  "kernelspec": {
   "display_name": "Python 3",
   "language": "python",
   "name": "python3"
  },
  "language_info": {
   "codemirror_mode": {
    "name": "ipython",
    "version": 3
   },
   "file_extension": ".py",
   "mimetype": "text/x-python",
   "name": "python",
   "nbconvert_exporter": "python",
   "pygments_lexer": "ipython3",
   "version": "3.7.1"
  }
 },
 "nbformat": 4,
 "nbformat_minor": 2
}
