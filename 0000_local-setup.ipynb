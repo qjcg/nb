{
 "cells": [
  {
   "cell_type": "markdown",
   "metadata": {},
   "source": [
    "# Local Environment Setup Instructions\n",
    "\n",
    "1. Download and install the [latest Python release](https://www.python.org/downloads/release/python-372/).\n",
    "2. Download the [notebooks](https://github.com/qjcg/nb/archive/master.zip).\n",
    "3. Extract the zip file:\n",
    "\n",
    "        unzip nb-master.zip\n",
    "\n",
    "\n",
    "4. Open a terminal (PowerShell in Windows) and change to the `nb-master` directory created when you extracted the zipfile:\n",
    "\n",
    "        cd /path/to/nb-master\n",
    "\n",
    "\n",
    "5. Install the [poetry CLI tool](https://poetry.eustace.io/):\n",
    "    \n",
    "    - OSX & Linux: `pip install --user poetry`\n",
    "    - Windows: `pip install poetry`\n",
    "\n",
    "\n",
    "6. Install our Python environment:\n",
    "        \n",
    "        poetry install\n",
    "\n",
    "\n",
    "7. Enter our Python environment:\n",
    "        \n",
    "        poetry shell\n",
    "\n",
    "\n",
    "8. Run the Jupyter Notebook application:\n",
    "        \n",
    "        jupyter lab\n",
    "\n",
    "\n",
    "9. Watch the magic happen (hopefully)!"
   ]
  }
 ],
 "metadata": {
  "kernelspec": {
   "display_name": "Python 3",
   "language": "python",
   "name": "python3"
  },
  "language_info": {
   "codemirror_mode": {
    "name": "ipython",
    "version": 3
   },
   "file_extension": ".py",
   "mimetype": "text/x-python",
   "name": "python",
   "nbconvert_exporter": "python",
   "pygments_lexer": "ipython3",
   "version": "3.7.2"
  }
 },
 "nbformat": 4,
 "nbformat_minor": 2
}
