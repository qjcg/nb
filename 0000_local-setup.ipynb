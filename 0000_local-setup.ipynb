{
 "cells": [
  {
   "cell_type": "markdown",
   "metadata": {},
   "source": [
    "# Local Environment Setup Instructions\n",
    "\n",
    "1. Download and install the [latest Python release for your OS](https://www.python.org/downloads/).\n",
    "2. Download the [notebooks](https://github.com/qjcg/nb/archive/master.zip).\n",
    "3. Extract the zip file:\n",
    "\n",
    "        unzip nb-master.zip\n",
    "\n",
    "\n",
    "4. Open a terminal (PowerShell in Windows) and change to the `nb-master` directory created when you extracted the zipfile (it should contain the subdir \"nb-master\"):\n",
    "\n",
    "        cd /whatever/the/path/is\n",
    "\n",
    "\n",
    "5. Install the [poetry CLI tool](https://poetry.eustace.io/):\n",
    "    \n",
    "        # Create a \"virtual environment\" to install our dependencies\n",
    "        python -m venv nb-master\n",
    "        cd nb-master\n",
    "        \n",
    "        # Activate the venv on WINDOWS (PowerShell):\n",
    "        Scripts\\Activate.ps1\n",
    "        \n",
    "        # Activate the venv on MAC:\n",
    "        source ./bin/activate\n",
    "        \n",
    "        # Install the poetry tool we'll use to install our dependencies:\n",
    "        pip install poetry\n",
    "\n",
    "\n",
    "6. Install packages used in class in our virtual environment:\n",
    "        \n",
    "        poetry install\n",
    "\n",
    "\n",
    "7. Run the Jupyter Notebook application:\n",
    "        \n",
    "        jupyter lab\n",
    "\n",
    "\n",
    "8. Watch the magic happen (hopefully)!"
   ]
  }
 ],
 "metadata": {
  "kernelspec": {
   "display_name": "Python 3",
   "language": "python",
   "name": "python3"
  },
  "language_info": {
   "codemirror_mode": {
    "name": "ipython",
    "version": 3
   },
   "file_extension": ".py",
   "mimetype": "text/x-python",
   "name": "python",
   "nbconvert_exporter": "python",
   "pygments_lexer": "ipython3",
   "version": "3.7.3"
  }
 },
 "nbformat": 4,
 "nbformat_minor": 2
}
