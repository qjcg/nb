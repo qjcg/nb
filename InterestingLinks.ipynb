{
 "cells": [
  {
   "cell_type": "markdown",
   "metadata": {},
   "source": [
    "# Interesting Links\n",
    "\n",
    "High-level overview of Python3 syntax: https://learnxinyminutes.com/docs/python3/\n",
    "\n",
    "\n",
    "# Editors for Python Coding\n",
    "- [VS Code](https://code.visualstudio.com/) -- one of the most popular\n",
    "- [Atom](https://atom.io/) -- similar to VS code, provided by GitHub\n",
    "- [Spyder](https://docs.spyder-ide.org/) -- Shipped with Anaconda (so if you've installed Anaconda, it's already installed!)\n",
    "- [Sublime Text](https://www.sublimetext.com/) -- Costs money, but quite popular!\n",
    "- [PyCharm](https://www.jetbrains.com/pycharm/) -- another popular proprietary option"
   ]
  }
 ],
 "metadata": {
  "kernelspec": {
   "display_name": "Python 3",
   "language": "python",
   "name": "python3"
  },
  "language_info": {
   "codemirror_mode": {
    "name": "ipython",
    "version": 3
   },
   "file_extension": ".py",
   "mimetype": "text/x-python",
   "name": "python",
   "nbconvert_exporter": "python",
   "pygments_lexer": "ipython3",
   "version": "3.7.3"
  }
 },
 "nbformat": 4,
 "nbformat_minor": 2
}
