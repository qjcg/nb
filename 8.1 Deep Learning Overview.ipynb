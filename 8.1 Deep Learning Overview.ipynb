{
 "cells": [
  {
   "cell_type": "markdown",
   "metadata": {},
   "source": [
    "# Deep Learning Overview\n",
    "\n",
    "[Video: One Minute Overview of Neural Network Basics](https://www.youtube.com/watch?v=rEDzUT3ymw4)\n",
    "\n",
    "## Popular Deep Learning Types \n",
    "\n",
    "### Convolutional Neural Networks\n",
    "\n",
    "Most commonly applied to analyzing image-based data.\n",
    "\n",
    "An excellent article that explains clearly how they work: [A Beginner's Guide to Understanding Convolutional Neural Networks](https://adeshpande3.github.io/A-Beginner%27s-Guide-To-Understanding-Convolutional-Neural-Networks/)\n",
    "\n",
    "<img src=\"assets/images/ml_cnn.jpg\" />\n",
    "\n",
    "### Deep Reinforcement Learning\n",
    "\n",
    "*\"Concerned with how software agents ought to take actions in an environment so as to maximize some notion of cumulative reward\"* [--Wikipedia](https://en.wikipedia.org/wiki/Reinforcement_learning)\n",
    "\n",
    "- [OpenAI Gym](https://gym.openai.com/)\n",
    "- Example: [Reinforcement Learning Super Mario](https://zombiesoup.com/reinforcement-learning-super-mario/)\n",
    "\n",
    "<img src=\"assets/images/ml_reinforcement-learning.svg\" width=400px />\n",
    "\n",
    "<img src=\"assets/images/ml_deep-reinforcement-learning.jpg\" />\n",
    "\n",
    "### Recurrent Neural Networks\n",
    "\n",
    "*\"[...] exhibit temporal dynamic behavior for a time sequence. [...] This makes them applicable to tasks such as unsegmented, connected handwriting recognition[1] or speech recognition.\"* [--Wikipedia](https://en.wikipedia.org/wiki/Recurrent_neural_network)\n",
    "\n",
    "<img src=\"assets/images/ml_recurrent-nn.jpg\" />\n",
    "\n",
    "\n",
    "# Exercises\n",
    "\n",
    "## Transform Notebook into Literate Program\n",
    "\n",
    "Literate programming is basically a style of programming where code is comprehensively documented, for purposes of achieving fuller understanding and clarity.\n",
    "\n",
    "For an example of the Literate Programming style, see the [pycco](https://pycco-docs.github.io/pycco/) project (a tool for generating Python documentation).\n",
    "\n",
    "Open and run the [Get Started with TensorFlow example](https://colab.research.google.com/github/tensorflow/docs/blob/master/site/en/tutorials/_index.ipynb), and ADD COMPREHENSIVE COMMENTS to code it so that it's written in a literate style."
   ]
  }
 ],
 "metadata": {
  "kernelspec": {
   "display_name": "Python 3",
   "language": "python",
   "name": "python3"
  },
  "language_info": {
   "codemirror_mode": {
    "name": "ipython",
    "version": 3
   },
   "file_extension": ".py",
   "mimetype": "text/x-python",
   "name": "python",
   "nbconvert_exporter": "python",
   "pygments_lexer": "ipython3",
   "version": "3.7.1"
  }
 },
 "nbformat": 4,
 "nbformat_minor": 2
}
