{
 "cells": [
  {
   "cell_type": "code",
   "execution_count": 1,
   "metadata": {
    "collapsed": false
   },
   "outputs": [
    {
     "name": "stderr",
     "output_type": "stream",
     "text": [
      "INFO:root:info info info\n",
      "WARNING:root:warning warning warning\n"
     ]
    }
   ],
   "source": [
    "import logging\n",
    "import sys\n",
    "\n",
    "if len(sys.argv) > 1 and sys.argv[1] == '-d':\n",
    "    logging.basicConfig(level=logging.DEBUG, stream=sys.stdout,\n",
    "                        format='%(asctime)s ' + sys.argv[0] + ' %(levelname)s: %(message)s')\n",
    "else:\n",
    "    logging.basicConfig(level=logging.INFO)\n",
    "\n",
    "logging.debug('debug debug debug')\n",
    "logging.info('info info info')\n",
    "logging.warning('warning warning warning')"
   ]
  },
  {
   "cell_type": "code",
   "execution_count": null,
   "metadata": {},
   "outputs": [],
   "source": []
  }
 ],
 "metadata": {
  "kernelspec": {
   "display_name": "Python 3",
   "language": "python",
   "name": "python3"
  },
  "language_info": {
   "codemirror_mode": {
    "name": "ipython",
    "version": 3
   },
   "file_extension": ".py",
   "mimetype": "text/x-python",
   "name": "python",
   "nbconvert_exporter": "python",
   "pygments_lexer": "ipython3",
   "version": "3.7.1"
  }
 },
 "nbformat": 4,
 "nbformat_minor": 2
}
