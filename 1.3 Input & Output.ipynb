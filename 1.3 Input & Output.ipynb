{
 "cells": [
  {
   "cell_type": "markdown",
   "metadata": {},
   "source": [
    "# File Operations"
   ]
  },
  {
   "cell_type": "markdown",
   "metadata": {},
   "source": [
    "# Reading a file\n",
    "A file is opened with the `open` command."
   ]
  },
  {
   "cell_type": "code",
   "execution_count": null,
   "metadata": {},
   "outputs": [],
   "source": [
    "my_file = open('example.txt')"
   ]
  },
  {
   "cell_type": "markdown",
   "metadata": {},
   "source": [
    "We can then read the lines in the file using the ***readlines*** method:"
   ]
  },
  {
   "cell_type": "code",
   "execution_count": null,
   "metadata": {},
   "outputs": [],
   "source": [
    "lines = my_file.readlines()"
   ]
  },
  {
   "cell_type": "code",
   "execution_count": null,
   "metadata": {},
   "outputs": [],
   "source": [
    "type(my_file)"
   ]
  },
  {
   "cell_type": "markdown",
   "metadata": {},
   "source": [
    "Finally, we close the file with the `close` method."
   ]
  },
  {
   "cell_type": "code",
   "execution_count": null,
   "metadata": {},
   "outputs": [],
   "source": [
    "my_file.close()"
   ]
  },
  {
   "cell_type": "code",
   "execution_count": null,
   "metadata": {},
   "outputs": [],
   "source": [
    "# alternate method using context management (no close() needed)\n",
    "# See http://docs.python.org/2.7/reference/compound_stmts.html#the-with-statement\n",
    "with open('/etc/passwd') as xfile:\n",
    "    newlines = xfile.readlines()\n",
    "    "
   ]
  },
  {
   "cell_type": "markdown",
   "metadata": {},
   "source": [
    "# Writing to a File\n",
    "To write to a file, you must first open it in write mode:"
   ]
  },
  {
   "cell_type": "code",
   "execution_count": null,
   "metadata": {},
   "outputs": [],
   "source": [
    "my_file = open('files/example.txt', 'a')"
   ]
  },
  {
   "cell_type": "code",
   "execution_count": null,
   "metadata": {},
   "outputs": [],
   "source": [
    "my_file.write('test')"
   ]
  },
  {
   "cell_type": "code",
   "execution_count": null,
   "metadata": {},
   "outputs": [],
   "source": [
    "my_file.close()"
   ]
  },
  {
   "cell_type": "markdown",
   "metadata": {},
   "source": [
    "## Rewriting the file\n",
    "When you write to a file open in write mode, this ***overwrites*** the whole file:"
   ]
  },
  {
   "cell_type": "code",
   "execution_count": null,
   "metadata": {},
   "outputs": [],
   "source": [
    "my_file = open('files/example.txt', 'r+')"
   ]
  },
  {
   "cell_type": "code",
   "execution_count": null,
   "metadata": {},
   "outputs": [],
   "source": [
    "my_file.readlines()"
   ]
  },
  {
   "cell_type": "code",
   "execution_count": null,
   "metadata": {},
   "outputs": [],
   "source": [
    "my_file.close()"
   ]
  },
  {
   "cell_type": "markdown",
   "metadata": {},
   "source": [
    "## Adding to a file\n",
    "If we want to add content at the end of a file, we use ***append*** mode:"
   ]
  },
  {
   "cell_type": "code",
   "execution_count": null,
   "metadata": {},
   "outputs": [],
   "source": [
    "my_file = open('example.txt', 'x')"
   ]
  },
  {
   "cell_type": "code",
   "execution_count": null,
   "metadata": {},
   "outputs": [],
   "source": [
    "my_file.write('\\nAdditional text!')"
   ]
  },
  {
   "cell_type": "code",
   "execution_count": null,
   "metadata": {},
   "outputs": [],
   "source": [
    "my_file.seek(0)"
   ]
  },
  {
   "cell_type": "code",
   "execution_count": null,
   "metadata": {},
   "outputs": [],
   "source": [
    "my_file.close()\n",
    "my_file = open(\"example.txt\")\n",
    "my_file.readlines()"
   ]
  },
  {
   "cell_type": "code",
   "execution_count": null,
   "metadata": {},
   "outputs": [],
   "source": [
    "my_file.readline()"
   ]
  },
  {
   "cell_type": "code",
   "execution_count": null,
   "metadata": {},
   "outputs": [],
   "source": [
    "my_file.close()"
   ]
  },
  {
   "cell_type": "markdown",
   "metadata": {},
   "source": [
    "Let's inspect the contents:"
   ]
  },
  {
   "cell_type": "code",
   "execution_count": null,
   "metadata": {},
   "outputs": [],
   "source": [
    "my_file = open('files/example.txt')"
   ]
  },
  {
   "cell_type": "code",
   "execution_count": null,
   "metadata": {},
   "outputs": [],
   "source": [
    "my_file.readlines()"
   ]
  },
  {
   "cell_type": "code",
   "execution_count": null,
   "metadata": {},
   "outputs": [],
   "source": [
    "my_file.close()"
   ]
  },
  {
   "cell_type": "markdown",
   "metadata": {},
   "source": [
    "## Adding a new line\n",
    "The contents was added at the end of the line. If you want to add it on a new line, you need to explicitly use the newline character `\\n`."
   ]
  },
  {
   "cell_type": "code",
   "execution_count": null,
   "metadata": {},
   "outputs": [],
   "source": [
    "my_file = open('files/example.txt', 'a')"
   ]
  },
  {
   "cell_type": "code",
   "execution_count": null,
   "metadata": {},
   "outputs": [],
   "source": [
    "my_file.write('\\nWelcome to a new line!')"
   ]
  },
  {
   "cell_type": "code",
   "execution_count": null,
   "metadata": {},
   "outputs": [],
   "source": [
    "my_file.close()"
   ]
  },
  {
   "cell_type": "markdown",
   "metadata": {},
   "source": [
    "We can verify that the content was indeed added to a new line:"
   ]
  },
  {
   "cell_type": "code",
   "execution_count": null,
   "metadata": {},
   "outputs": [],
   "source": [
    "my_file = open('files/example.txt')"
   ]
  },
  {
   "cell_type": "code",
   "execution_count": null,
   "metadata": {},
   "outputs": [],
   "source": [
    "my_file.readlines()"
   ]
  },
  {
   "cell_type": "markdown",
   "metadata": {},
   "source": [
    "# Multi-access experiment"
   ]
  },
  {
   "cell_type": "code",
   "execution_count": null,
   "metadata": {},
   "outputs": [],
   "source": [
    "file3 = open('/etc/issue', 'r+')\n",
    "lines3 = file3.readlines()\n",
    "file3.write('\\n\\ntesting 123')\n",
    "#file3.close()\n"
   ]
  },
  {
   "cell_type": "code",
   "execution_count": null,
   "metadata": {},
   "outputs": [],
   "source": [
    "file4 = open('/etc/issue')\n",
    "file4.readlines()"
   ]
  },
  {
   "cell_type": "markdown",
   "metadata": {},
   "source": [
    "# Exercise: Working with files\n",
    "\n",
    "Given that the syntax for opening a file is:\n",
    "\n",
    "```python\n",
    "# Open file in read-only mode (must exist before this).\n",
    "f = open(\"example.txt\", \"r\")\n",
    "f.readlines()\n",
    "f.close()\n",
    "\n",
    "# Open file in append mode.\n",
    "f = open(\"example.txt\", \"a\")\n",
    "f.write(\"awesome!\\n\")\n",
    "f.close()\n",
    "\n",
    "# Same as above, but using a context manager to avoid having to call \"close()\"\n",
    "with open(\"example.txt\", \"a\") as f:\n",
    "    f.write(\"AWESOME-ER!\\n\")\n",
    "\n",
    "```\n",
    "\n",
    "1. Create a new file, 'python-programming.txt', and write 5 lines of text to it.\n",
    "2. Close the file and verify the contents has been written to disk.\n",
    "3. Re-open the file and add 5 more lines of text.\n",
    "4. View the contents of the file, note that the new lines haven't been written to disk.\n",
    "5. Repeat step 2 again.\n",
    "6. Do a final check of the file's contents.\n",
    "\n",
    "NOTE: Look at the help for `open` to review the file modes. HINT: \"w\" is the mode to create a new file."
   ]
  },
  {
   "cell_type": "markdown",
   "metadata": {},
   "source": [
    "# Reference\n",
    "- [The open function](http://docs.python.org/library/functions.html#open)\n",
    "- [The file object](http://docs.python.org/library/stdtypes.html#file-objects)"
   ]
  },
  {
   "cell_type": "code",
   "execution_count": 29,
   "metadata": {},
   "outputs": [],
   "source": [
    "# Step 1\n",
    "with open(\"python-programming.txt\", \"w\") as f:\n",
    "    \n",
    "    # BRUTE FORCE: call write on 5 separate lines (each one with a newline, \"\\n\").\n",
    "    f.write(\"Line 1\\n\")\n",
    "    f.write(\"Line 2\\n\")\n",
    "    f.write(\"Line 3\\n\")\n",
    "    f.write(\"Line 4\\n\")\n",
    "    f.write(\"Line 5\\n\")\n",
    "    \n",
    "    # Shorter: call f.write once with multiple newlines.\n",
    "    f.write(\"line1\\nline2\\nline3\\nline4\\nline5\\n\")\n",
    "    \n",
    "    # Recommended & most readable: Use a loop to call f.write 5 times\n",
    "    for i in range(5):\n",
    "        f.write(f\"Line {i+1}\\n\")"
   ]
  },
  {
   "cell_type": "code",
   "execution_count": 31,
   "metadata": {},
   "outputs": [
    {
     "name": "stdout",
     "output_type": "stream",
     "text": [
      "Line 1\n",
      "Line 2\n",
      "Line 3\n",
      "Line 4\n",
      "Line 5\n",
      "line1\n",
      "line2\n",
      "line3\n",
      "line4\n",
      "line5\n",
      "Line 1\n",
      "Line 2\n",
      "Line 3\n",
      "Line 4\n",
      "Line 5\n",
      "APPENDED line 1\n",
      "APPENDED line 2\n",
      "APPENDED line 3\n",
      "APPENDED line 4\n",
      "APPENDED line 5\n"
     ]
    }
   ],
   "source": [
    "# Read back the file we just created\n",
    "with open(\"python-programming.txt\") as f:\n",
    "    for line in f:\n",
    "        print(line.rstrip())"
   ]
  },
  {
   "cell_type": "code",
   "execution_count": 30,
   "metadata": {},
   "outputs": [],
   "source": [
    "# Add 5 MORE lines to the file\n",
    "with open(\"python-programming.txt\", \"a\") as f:\n",
    "    for i in range(5):\n",
    "        f.write(f\"APPENDED line {i+1}\\n\")"
   ]
  }
 ],
 "metadata": {
  "kernelspec": {
   "display_name": "Python 3",
   "language": "python",
   "name": "python3"
  },
  "language_info": {
   "codemirror_mode": {
    "name": "ipython",
    "version": 3
   },
   "file_extension": ".py",
   "mimetype": "text/x-python",
   "name": "python",
   "nbconvert_exporter": "python",
   "pygments_lexer": "ipython3",
   "version": "3.7.3"
  }
 },
 "nbformat": 4,
 "nbformat_minor": 1
}
