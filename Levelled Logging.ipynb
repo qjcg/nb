{
 "cells": [
  {
   "cell_type": "markdown",
   "metadata": {},
   "source": [
    "# Levelled Logging\n",
    "\n",
    "It is useful to have levelled logging in your applications, for example:\n",
    "\n",
    "1. INFO: Interesting information about what your program is doing\n",
    "2. DEBUG: Debugging information (ex: can include dumps of data structures) useful for troubleshooting or other problem solving."
   ]
  },
  {
   "cell_type": "markdown",
   "metadata": {},
   "source": [
    "# Simple Logging with the default logger"
   ]
  },
  {
   "cell_type": "code",
   "execution_count": null,
   "metadata": {},
   "outputs": [],
   "source": [
    "import logging\n",
    "\n",
    "logging.basicConfig(level=logging.INFO)\n",
    "\n",
    "logging.debug(\"The value is XYZ\")\n",
    "logging.info(\"I ran foo on the bar\")"
   ]
  },
  {
   "cell_type": "markdown",
   "metadata": {},
   "source": [
    "# Creating a new logger instance"
   ]
  },
  {
   "cell_type": "code",
   "execution_count": 2,
   "metadata": {},
   "outputs": [],
   "source": [
    "import logging\n",
    "\n",
    "DEBUG_MODE = True\n",
    "\n",
    "mylg = logging.getLogger('mylg')\n",
    "\n",
    "if DEBUG_MODE:\n",
    "    mylg.setLevel('DEBUG')\n",
    "\n",
    "mylg.debug(\"The value is XYZ\")\n",
    "mylg.info(\"I ran foo on the bar\")"
   ]
  }
 ],
 "metadata": {
  "kernelspec": {
   "display_name": "Python 3",
   "language": "python",
   "name": "python3"
  },
  "language_info": {
   "codemirror_mode": {
    "name": "ipython",
    "version": 3
   },
   "file_extension": ".py",
   "mimetype": "text/x-python",
   "name": "python",
   "nbconvert_exporter": "python",
   "pygments_lexer": "ipython3",
   "version": "3.7.2"
  }
 },
 "nbformat": 4,
 "nbformat_minor": 2
}
