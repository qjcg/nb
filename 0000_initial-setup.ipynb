{
 "cells": [
  {
   "cell_type": "markdown",
   "metadata": {},
   "source": [
    "# Initial Setup Instructions\n",
    "\n",
    "NOTE: The instructions below assume you've already installed Python3: https://www.python.org/downloads/\n",
    "\n",
    "1. Download the notebooks zipfile: https://gossetx.com/dl/notebooks.zip\n",
    "    - user: `vigilant`\n",
    "    - pass: `WatchMe2018!`\n",
    "2. Extract the zip file: `unzip notebooks.zip`\n",
    "3. Open a terminal (PowerShell in Windows) and change to the \"notebooks\" directory (`cd /path/to/notebooks`)\n",
    "4. Install the `pipenv` tool:\n",
    "    - OSX & Linux: `pip install --user pipenv`\n",
    "    - Windows: `pip install pipenv`\n",
    "5. Install our Python environment:\n",
    "    - `pipenv install --three ipython jupyter requests beautifulsoup4`\n",
    "6. Enter our Python environment: `pipenv shell`\n",
    "6. Run the Jupyter Notebook application: `jupyter notebook`\n",
    "7. Watch the magic happen (hopefully)!"
   ]
  }
 ],
 "metadata": {
  "kernelspec": {
   "display_name": "Python 3",
   "language": "python",
   "name": "python3"
  },
  "language_info": {
   "codemirror_mode": {
    "name": "ipython",
    "version": 3
   },
   "file_extension": ".py",
   "mimetype": "text/x-python",
   "name": "python",
   "nbconvert_exporter": "python",
   "pygments_lexer": "ipython3",
   "version": "3.7.1"
  }
 },
 "nbformat": 4,
 "nbformat_minor": 2
}
