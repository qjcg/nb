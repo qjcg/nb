{
 "cells": [
  {
   "cell_type": "markdown",
   "metadata": {},
   "source": [
    "# Introduction to Machine Learning\n",
    "\n",
    "## Tutorials\n",
    "\n",
    "- [Machine Learning Tutorial for Beginners](https://www.kaggle.com/kanncaa1/machine-learning-tutorial-for-beginners)\n",
    "- [Practical Machine Learning w/ Python](https://pythonprogramming.net/machine-learning-tutorial-python-introduction/)\n",
    "\n",
    "## Comparisons\n",
    "\n",
    "- [TensorFlow, Keras, PyTorch](https://codeinpython.com/tutorials/deep-learning-tensorflow-keras-pytorch/)\n",
    "\n",
    "\n",
    "## Scikit Learn\n",
    "\n",
    "- [Your First Machine Learning Model](https://www.kaggle.com/dansbecker/your-first-machine-learning-model)\n",
    "- Building a Model\n",
    "    1. Define\n",
    "    2. Fit\n",
    "    3. Predict\n",
    "    4. Evaluate\n",
    "\n",
    "## Tensorflow\n",
    "\n",
    "- [TensorFlow Programming (Not HotDog)](https://www.kaggle.com/dansbecker/exercise-tensorflow-programming)\n",
    "\n",
    "## Keras\n",
    "\n",
    "*\"The Python Deep Learning Library\"*\n",
    "\n",
    "- [Website](https://keras.io/)\n",
    "\n",
    "## PyTorch\n",
    "\n",
    "- [Website](https://pytorch.org/)\n",
    "\n",
    "## Other Interesting Links\n",
    "\n",
    "- [TensorSpace](https://tensorspace.org)\n",
    "- [Model Depot](https://modeldepot.io/)\n",
    "- [Model Zoo](https://modelzoo.co/)\n",
    "- [Quandl](https://www.quandl.com/)"
   ]
  }
 ],
 "metadata": {
  "kernelspec": {
   "display_name": "Python 3",
   "language": "python",
   "name": "python3"
  },
  "language_info": {
   "codemirror_mode": {
    "name": "ipython",
    "version": 3
   },
   "file_extension": ".py",
   "mimetype": "text/x-python",
   "name": "python",
   "nbconvert_exporter": "python",
   "pygments_lexer": "ipython3",
   "version": "3.7.1"
  }
 },
 "nbformat": 4,
 "nbformat_minor": 2
}
