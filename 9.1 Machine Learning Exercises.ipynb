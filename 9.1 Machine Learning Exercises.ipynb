{
 "cells": [
  {
   "cell_type": "markdown",
   "metadata": {},
   "source": [
    "# Machine Learning Exercises\n",
    "\n",
    "## Scikit Learn\n",
    "\n",
    "- [Scikit Learn](https://scikit-learn.org/stable/tutorial/basic/tutorial.html)\n",
    "- [SKLearn Classifier Showdown](https://www.kaggle.com/jeffd23/10-classifier-showdown-in-scikit-learn/notebook)"
   ]
  }
 ],
 "metadata": {
  "kernelspec": {
   "display_name": "Python 3",
   "language": "python",
   "name": "python3"
  },
  "language_info": {
   "codemirror_mode": {
    "name": "ipython",
    "version": 3
   },
   "file_extension": ".py",
   "mimetype": "text/x-python",
   "name": "python",
   "nbconvert_exporter": "python",
   "pygments_lexer": "ipython3",
   "version": "3.7.1"
  }
 },
 "nbformat": 4,
 "nbformat_minor": 2
}
