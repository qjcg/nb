{
 "cells": [
  {
   "cell_type": "code",
   "execution_count": 3,
   "metadata": {},
   "outputs": [],
   "source": [
    "# Standard way to define a class.\n",
    "class Server:\n",
    "    def __init__(self, cpu=1000, ram=5, disk=1):\n",
    "        self.cpu = cpu\n",
    "        self.ram = ram\n",
    "        self.disk = disk\n",
    "        \n",
    "    def __repr__(self):\n",
    "        return f\"<Server {self.cpu} {self.ram}>\""
   ]
  },
  {
   "cell_type": "code",
   "execution_count": 5,
   "metadata": {},
   "outputs": [
    {
     "name": "stdout",
     "output_type": "stream",
     "text": [
      "<Server 1000 5>\n"
     ]
    }
   ],
   "source": [
    "s = Server()\n",
    "print(s)"
   ]
  },
  {
   "cell_type": "code",
   "execution_count": 17,
   "metadata": {},
   "outputs": [],
   "source": [
    "from dataclasses import dataclass\n",
    "\n",
    "# Redefining Server as dataclass to reduce boilerplate.\n",
    "@dataclass\n",
    "class Server:\n",
    "    cpu: int = 1000\n",
    "    ram: int = 5\n",
    "    disk: int = 1"
   ]
  },
  {
   "cell_type": "code",
   "execution_count": 18,
   "metadata": {},
   "outputs": [
    {
     "name": "stdout",
     "output_type": "stream",
     "text": [
      "Server(cpu=1000, ram=5, disk=1)\n"
     ]
    }
   ],
   "source": [
    "s = Server()\n",
    "print(s)"
   ]
  }
 ],
 "metadata": {
  "kernelspec": {
   "display_name": "Python 3",
   "language": "python",
   "name": "python3"
  },
  "language_info": {
   "codemirror_mode": {
    "name": "ipython",
    "version": 3
   },
   "file_extension": ".py",
   "mimetype": "text/x-python",
   "name": "python",
   "nbconvert_exporter": "python",
   "pygments_lexer": "ipython3",
   "version": "3.7.2"
  }
 },
 "nbformat": 4,
 "nbformat_minor": 2
}
