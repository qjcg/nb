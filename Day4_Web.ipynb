{
 "cells": [
  {
   "cell_type": "markdown",
   "metadata": {},
   "source": [
    "# Web Client\n",
    "\n"
   ]
  },
  {
   "cell_type": "markdown",
   "metadata": {},
   "source": [
    "## Libraries\n",
    "- [webbrowser](https://docs.python.org/3/library/webbrowser.html)\n",
    "- [urllib.parse](https://docs.python.org/3/library/urllib.parse.html#module-urllib.parse)\n",
    "- **[requests](http://docs.python-requests.org/en/master/)**\n",
    "- **[BeautifulSoup](https://www.crummy.com/software/BeautifulSoup/)**: for \"quick turnaround screen scraping projects\""
   ]
  },
  {
   "cell_type": "markdown",
   "metadata": {},
   "source": [
    "#  Downloading an image file"
   ]
  },
  {
   "cell_type": "code",
   "execution_count": null,
   "metadata": {},
   "outputs": [],
   "source": [
    "# Download the GossetX SVG logo.\n",
    "res = requests.get('https://gossetx.com/imgs/logo.svg')\n",
    "with open('/tmp/logo.svg', 'bw') as f:\n",
    "    f.write(res.content)"
   ]
  },
  {
   "cell_type": "markdown",
   "metadata": {},
   "source": [
    "# Call a website's published API"
   ]
  },
  {
   "cell_type": "code",
   "execution_count": null,
   "metadata": {},
   "outputs": [],
   "source": [
    "import requests\n",
    "URL = \"https://en.wikipedia.org/w/api.php?action=query&format=json&list=random&rnnamespace=0&rnlimit=5\"\n",
    "res = requests.get(URL)"
   ]
  },
  {
   "cell_type": "code",
   "execution_count": null,
   "metadata": {},
   "outputs": [],
   "source": [
    "# The response from the wikipedia API is JSON format, \n",
    "# and the requests response object gives us a convenient\n",
    "# \".json()\" method to get a dict object back.\n",
    "jsonData = res.json()"
   ]
  },
  {
   "cell_type": "code",
   "execution_count": null,
   "metadata": {},
   "outputs": [],
   "source": [
    "titles = [article['title'] for article in jsonData['query']['random']]"
   ]
  },
  {
   "cell_type": "code",
   "execution_count": null,
   "metadata": {},
   "outputs": [],
   "source": [
    "[f\"https://en.wikipedia.org/wiki/{t}\".replace(' ', '_') \n",
    " for t in titles]"
   ]
  },
  {
   "cell_type": "code",
   "execution_count": null,
   "metadata": {},
   "outputs": [],
   "source": [
    "print(f\"STATUS CODE: {res.status_code}\")\n",
    "data = res.json()\n",
    "[f\"https://en.wikipedia.org/wiki/{article['title']}\" for article in data['query']['random']]"
   ]
  },
  {
   "cell_type": "markdown",
   "metadata": {},
   "source": [
    "# Scraping data from  a website\n",
    "\n",
    "Scraping is extracting data from the raw HTML (usually) of a website when:\n",
    "\n",
    "1. The website doesn't provide a public API, or\n",
    "2. You (for whatever, hopefully legal, reason) don't want to use the public API."
   ]
  },
  {
   "cell_type": "markdown",
   "metadata": {},
   "source": [
    "## Pre-requisite: Learn CSS selectors\n",
    "\n",
    "A great tutorial is: https://flukeout.github.io/"
   ]
  },
  {
   "cell_type": "code",
   "execution_count": null,
   "metadata": {},
   "outputs": [],
   "source": [
    "import requests"
   ]
  },
  {
   "cell_type": "markdown",
   "metadata": {},
   "source": [
    "# References\n",
    "\n",
    "- [logging (stdlib docs)](https://docs.python.org/3/library/logging.html)\n",
    "- [When to use logging](https://docs.python.org/3/howto/logging.html#when-to-use-logging)"
   ]
  },
  {
   "cell_type": "markdown",
   "metadata": {},
   "source": [
    "# Exercise: Web Client\n",
    "\n",
    "Two choices (choose the one you prefer):\n",
    "\n",
    "1. Use the ICNDB public API to get 3 Chuck Norris Jokes. Extract ONLY the joke text from the JSON response.\n",
    "\n",
    "http://www.icndb.com/api/\n",
    "\n",
    "Getting started:\n",
    "\n",
    "```python\n",
    "import requests\n",
    "res = requests.get(THE_API_URL)\n",
    "data = res.json()\n",
    "# NEXT, EXTRACT WHAT YOU WANT FROM THE DATA\n",
    "```\n",
    "\n",
    "2. Pick a website with data of interest and scrape that data using requests and BeautifulSoup. For example, get all the `<img>` elements from a given webpage.\n",
    "\n",
    "Getting started:\n",
    "\n",
    "```python\n",
    "import requests\n",
    "from bs4 import BeautifulSoup\n",
    "res = requests.get(THE_WEBSITE_URL)\n",
    "soup = BeautifulSoup(res.text)\n",
    "imgs = soup.select('img')\n",
    "# NEXT, EXTRACT WHAT YOU WANT FROM THE DATA\n",
    "```"
   ]
  },
  {
   "cell_type": "code",
   "execution_count": null,
   "metadata": {},
   "outputs": [],
   "source": [
    "import requests\n",
    "res = requests.get('http://api.icndb.com/jokes/random/3')"
   ]
  },
  {
   "cell_type": "code",
   "execution_count": null,
   "metadata": {},
   "outputs": [],
   "source": [
    "data = res.json()"
   ]
  },
  {
   "cell_type": "code",
   "execution_count": null,
   "metadata": {},
   "outputs": [],
   "source": [
    "[j['joke'] for j in data['value']]"
   ]
  },
  {
   "cell_type": "markdown",
   "metadata": {},
   "source": [
    "# API and/or WebApp server"
   ]
  },
  {
   "cell_type": "markdown",
   "metadata": {},
   "source": [
    "Popular frameworks include:\n",
    "\n",
    "- [Django](https://www.djangoproject.com/) (full-featured \"enterprise\" web framework)\n",
    "- [Flask](http://flask.pocoo.org/) (popular \"micro\"framework)"
   ]
  }
 ],
 "metadata": {
  "kernelspec": {
   "display_name": "Python 3",
   "language": "python",
   "name": "python3"
  },
  "language_info": {
   "codemirror_mode": {
    "name": "ipython",
    "version": 3
   },
   "file_extension": ".py",
   "mimetype": "text/x-python",
   "name": "python",
   "nbconvert_exporter": "python",
   "pygments_lexer": "ipython3",
   "version": "3.7.2"
  }
 },
 "nbformat": 4,
 "nbformat_minor": 2
}
