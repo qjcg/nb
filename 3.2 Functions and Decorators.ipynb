{
 "cells": [
  {
   "cell_type": "markdown",
   "metadata": {},
   "source": [
    "# Optional arguments and keyword arguments"
   ]
  },
  {
   "cell_type": "code",
   "execution_count": 7,
   "metadata": {},
   "outputs": [
    {
     "name": "stdout",
     "output_type": "stream",
     "text": [
      "Elaine\n",
      "<class 'tuple'>\n",
      "LAN ip: 192.168.55.4\n",
      "LAN ip: 192.168.56.7\n",
      "WAN ip: 8.8.8.8\n",
      "Joan\n",
      "<class 'tuple'>\n"
     ]
    }
   ],
   "source": [
    "# OPTIONAL ARGUMENTS\n",
    "# The asterisk before the ips argument permits me \n",
    "# to have zero or more optional values for this argument\n",
    "def classify_ips(name, *ips):\n",
    "    print(name)\n",
    "    print(type(ips))\n",
    "    for ip in ips:\n",
    "        if '192.168' in ip:\n",
    "            print(\"LAN ip:\", ip)\n",
    "        else:\n",
    "            print(\"WAN ip:\", ip)\n",
    "\n",
    "classify_ips('Elaine', '192.168.55.4', '192.168.56.7', '8.8.8.8')\n",
    "classify_ips('Joan')"
   ]
  },
  {
   "cell_type": "code",
   "execution_count": 13,
   "metadata": {},
   "outputs": [
    {
     "name": "stdout",
     "output_type": "stream",
     "text": [
      "() {}\n",
      "pas de nom\n",
      "('un', 'deux', 'trois', 55.4) {'nom': 'John', 'age': 42}\n",
      "John\n"
     ]
    }
   ],
   "source": [
    "def simple_optargs(name, age, blah, *optargs, **kwargs):\n",
    "    print(optargs, kwargs)\n",
    "    print(kwargs.get('nom', 'pas de nom'))\n",
    "    \n",
    "simple_optargs()\n",
    "simple_optargs('un', 'deux', 'trois', 55.4, nom='John', age=42)"
   ]
  },
  {
   "cell_type": "code",
   "execution_count": 6,
   "metadata": {},
   "outputs": [
    {
     "name": "stdout",
     "output_type": "stream",
     "text": [
      "('giraffe', 'Peter')\n",
      "('dog', 'Bernard')\n",
      "('elephant', 'Jenny')\n"
     ]
    }
   ],
   "source": [
    "# KEYWORD ARGUMENTS\n",
    "# the double asterisk before the animals argument\n",
    "# permits me to have zero or more named arguments\n",
    "# for the function that are stored in a dictionary\n",
    "def print_zoo(**animal_names):\n",
    "    for tup in animal_names.items():\n",
    "        print(tup)\n",
    "\n",
    "print_zoo(dog='Bernard', giraffe='Peter', elephant='Jenny')\n",
    "#print_zoo()"
   ]
  },
  {
   "cell_type": "markdown",
   "metadata": {},
   "source": [
    "# Decorators\n",
    "\n",
    "The example below is from PER, p101:"
   ]
  },
  {
   "cell_type": "code",
   "execution_count": 5,
   "metadata": {},
   "outputs": [
    {
     "ename": "TypeError",
     "evalue": "square() takes 1 positional argument but 2 were given",
     "output_type": "error",
     "traceback": [
      "\u001b[0;31m---------------------------------------------------------------------------\u001b[0m",
      "\u001b[0;31mTypeError\u001b[0m                                 Traceback (most recent call last)",
      "\u001b[0;32m<ipython-input-5-d9a1c42dffb0>\u001b[0m in \u001b[0;36m<module>\u001b[0;34m()\u001b[0m\n\u001b[1;32m     21\u001b[0m     \u001b[0;32mreturn\u001b[0m \u001b[0mx\u001b[0m\u001b[0;34m*\u001b[0m\u001b[0mx\u001b[0m\u001b[0;34m\u001b[0m\u001b[0m\n\u001b[1;32m     22\u001b[0m \u001b[0;34m\u001b[0m\u001b[0m\n\u001b[0;32m---> 23\u001b[0;31m \u001b[0msquare\u001b[0m\u001b[0;34m(\u001b[0m\u001b[0;36m5\u001b[0m\u001b[0;34m)\u001b[0m\u001b[0;34m\u001b[0m\u001b[0m\n\u001b[0m",
      "\u001b[0;32m<ipython-input-5-d9a1c42dffb0>\u001b[0m in \u001b[0;36mwrap\u001b[0;34m(*args, **kwargs)\u001b[0m\n\u001b[1;32m     10\u001b[0m             debug_log.write(\"Calling %s: %s, %s\\n\" %\n\u001b[1;32m     11\u001b[0m                 (func.__name__, args, kwargs))\n\u001b[0;32m---> 12\u001b[0;31m             \u001b[0mr\u001b[0m \u001b[0;34m=\u001b[0m \u001b[0mfunc\u001b[0m\u001b[0;34m(\u001b[0m\u001b[0margs\u001b[0m\u001b[0;34m,\u001b[0m \u001b[0mkwargs\u001b[0m\u001b[0;34m)\u001b[0m\u001b[0;34m\u001b[0m\u001b[0m\n\u001b[0m\u001b[1;32m     13\u001b[0m             \u001b[0mdebug_log\u001b[0m\u001b[0;34m.\u001b[0m\u001b[0mwrite\u001b[0m\u001b[0;34m(\u001b[0m\u001b[0;34m\"%s returned %s\\n\"\u001b[0m \u001b[0;34m%\u001b[0m \u001b[0;34m(\u001b[0m\u001b[0mfunc\u001b[0m\u001b[0;34m.\u001b[0m\u001b[0m__name__\u001b[0m\u001b[0;34m,\u001b[0m \u001b[0mr\u001b[0m\u001b[0;34m)\u001b[0m\u001b[0;34m)\u001b[0m\u001b[0;34m\u001b[0m\u001b[0m\n\u001b[1;32m     14\u001b[0m             \u001b[0;32mreturn\u001b[0m \u001b[0mr\u001b[0m\u001b[0;34m\u001b[0m\u001b[0m\n",
      "\u001b[0;31mTypeError\u001b[0m: square() takes 1 positional argument but 2 were given"
     ]
    }
   ],
   "source": [
    "enable_tracing = True\n",
    "if enable_tracing:\n",
    "    debug_log = open(\"debug.log\",\"w\")\n",
    "\n",
    "# we define the trace function to subsequently \n",
    "# decorate (wrap) our square function, defined below\n",
    "def trace(func):\n",
    "    if enable_tracing:\n",
    "        def wra`p(*args,**kwargs):\n",
    "            debug_log.write(\"Calling %s: %s, %s\\n\" %\n",
    "                (func.__name__, args, kwargs))\n",
    "            r = func(args, kwargs)\n",
    "            debug_log.write(\"%s returned %s\\n\" % (func.__name__, r))\n",
    "            return r\n",
    "        return wrap\n",
    "    else:\n",
    "        return func\n",
    "\n",
    "@trace\n",
    "def square(x):\n",
    "    return x*x\n",
    "\n",
    "square(5)"
   ]
  },
  {
   "cell_type": "markdown",
   "metadata": {},
   "source": [
    "debug_log.close()"
   ]
  },
  {
   "cell_type": "markdown",
   "metadata": {},
   "source": [
    "# Defining decorators via a class (rather than a function)"
   ]
  },
  {
   "cell_type": "code",
   "execution_count": 1,
   "metadata": {},
   "outputs": [
    {
     "name": "stdout",
     "output_type": "stream",
     "text": [
      "Printing via decorator, BEFORE wrapped function is called\n",
      "hello Jack\n",
      "Printing via decorator, AFTER wrapped function is called\n"
     ]
    }
   ],
   "source": [
    "class print_before_and_after:\n",
    "    def __init__(self, func):\n",
    "        self.func = func\n",
    "        \n",
    "    def __call__(self, *args):\n",
    "        print('Printing via decorator, BEFORE wrapped function is called')\n",
    "        self.func(*args)\n",
    "        print('Printing via decorator, AFTER wrapped function is called')\n",
    "\n",
    "@print_before_and_after\n",
    "def hello(name='John'):\n",
    "    print('hello', name)\n",
    "    \n",
    "hello('Jack')"
   ]
  },
  {
   "cell_type": "code",
   "execution_count": 2,
   "metadata": {},
   "outputs": [],
   "source": [
    "# The trace decorator (see above) reimplemented as a class\n",
    "debug_log = open(\"debug.log\",\"w\")\n",
    "\n",
    "# we define the trace function to subsequently \n",
    "# decorate (wrap) our square function, defined below\n",
    "class trace:\n",
    "    def __init__(self, func):\n",
    "        self.func = func\n",
    "\n",
    "    def __call__(self, *args, **kwargs):\n",
    "        debug_log.write(\"Calling {}: {}, {}\\n\".format(\n",
    "                         self.func.__name__, args, kwargs))\n",
    "        result = self.func(*args, **kwargs)\n",
    "        debug_log.write(\"{} returned {}\\n\".format(\n",
    "                         self.func.__name__, result))\n",
    "        \n",
    "@trace\n",
    "def square(x):\n",
    "    return x*x\n",
    "\n",
    "square(5)\n",
    "debug_log.close()"
   ]
  },
  {
   "cell_type": "code",
   "execution_count": 3,
   "metadata": {},
   "outputs": [
    {
     "name": "stdout",
     "output_type": "stream",
     "text": [
      "Calling square: (5,), {}\n",
      "square returned 25\n"
     ]
    }
   ],
   "source": [
    "!cat debug.log"
   ]
  },
  {
   "cell_type": "code",
   "execution_count": 5,
   "metadata": {},
   "outputs": [
    {
     "name": "stdout",
     "output_type": "stream",
     "text": [
      "******************************\n",
      "%%%%%%%%%%%%%%%%%%%%%%%%%%%%%%\n",
      "Hello\n",
      "%%%%%%%%%%%%%%%%%%%%%%%%%%%%%%\n",
      "******************************\n"
     ]
    }
   ],
   "source": [
    "# Reference: https://www.programiz.com/python-programming/decorator\n",
    "def star(func):\n",
    "    def inner(*args, **kwargs):\n",
    "        print(\"*\" * 30)\n",
    "        func(*args, **kwargs)\n",
    "        print(\"*\" * 30)\n",
    "    return inner\n",
    "\n",
    "def percent(func):\n",
    "    def inner(*args, **kwargs):\n",
    "        print(\"%\" * 30)\n",
    "        func(*args, **kwargs)\n",
    "        print(\"%\" * 30)\n",
    "    return inner\n",
    "\n",
    "@star\n",
    "@percent\n",
    "def printer(msg):\n",
    "    print(msg)\n",
    "printer(\"Hello\")"
   ]
  },
  {
   "cell_type": "markdown",
   "metadata": {},
   "source": [
    "# EXERCISE: Writing a custom decorator\n",
    "\n",
    "1. Write a decorator (either using the closure or class approaches described above) that implements behavior of your choosing on a decorated function.\n",
    "2. Call your decorated function and verify that you get the expected behavior."
   ]
  },
  {
   "cell_type": "code",
   "execution_count": null,
   "metadata": {},
   "outputs": [],
   "source": []
  },
  {
   "cell_type": "markdown",
   "metadata": {},
   "source": [
    "For reference on defining decorators via `class`, see discussion [here](http://python-3-patterns-idioms-test.readthedocs.org/en/latest/PythonDecorators.html)."
   ]
  },
  {
   "cell_type": "markdown",
   "metadata": {},
   "source": [
    "# Comprehensions\n",
    "Some examples from PER, page 109:"
   ]
  },
  {
   "cell_type": "code",
   "execution_count": 16,
   "metadata": {},
   "outputs": [
    {
     "name": "stdout",
     "output_type": "stream",
     "text": [
      "(4, 9, 16, 25)\n",
      "[4, 9, 16, 25]\n"
     ]
    }
   ],
   "source": [
    "print(tuple(x*x for x in [2,3,4,5]))\n",
    "print([x*x for x in [2,3,4,5]])"
   ]
  },
  {
   "cell_type": "code",
   "execution_count": 17,
   "metadata": {},
   "outputs": [
    {
     "data": {
      "text/plain": [
       "{1, 2}"
      ]
     },
     "execution_count": 17,
     "metadata": {},
     "output_type": "execute_result"
    }
   ],
   "source": [
    "# set comprehension\n",
    "{x for x in [1,1,1,1,1,2,3] if x != 3}"
   ]
  },
  {
   "cell_type": "code",
   "execution_count": 18,
   "metadata": {},
   "outputs": [
    {
     "data": {
      "text/plain": [
       "{0: 'cheval', 1: 'cochon', 2: 'singe'}"
      ]
     },
     "execution_count": 18,
     "metadata": {},
     "output_type": "execute_result"
    }
   ],
   "source": [
    "# dict comprehension\n",
    "{k:v for k, v in enumerate(['cheval', 'cochon', 'singe'])}"
   ]
  },
  {
   "cell_type": "code",
   "execution_count": 7,
   "metadata": {},
   "outputs": [
    {
     "name": "stdout",
     "output_type": "stream",
     "text": [
      "[729, 784, 841]\n"
     ]
    }
   ],
   "source": [
    "my_list = []\n",
    "for n in range(51):\n",
    "    if 26 < n < 30:\n",
    "        my_list.append(n**2)\n",
    "\n",
    "# list comprehension\n",
    "my_list = [n**2 for n in range(51) if 26 < n < 30]\n",
    "print(my_list)"
   ]
  },
  {
   "cell_type": "code",
   "execution_count": 4,
   "metadata": {},
   "outputs": [
    {
     "data": {
      "text/plain": [
       "{'thing1': 2, 'thing2': 4}"
      ]
     },
     "execution_count": 4,
     "metadata": {},
     "output_type": "execute_result"
    }
   ],
   "source": [
    "# dict comprehension\n",
    "my_dict = {k:v for k, v in [('thing1', 2), ('thing2', 4)]}\n",
    "my_dict"
   ]
  },
  {
   "cell_type": "code",
   "execution_count": 6,
   "metadata": {},
   "outputs": [
    {
     "name": "stdout",
     "output_type": "stream",
     "text": [
      "{1, 2, 3}\n"
     ]
    }
   ],
   "source": [
    "my_set = {n for n in [1,2,3,4,4,4,4,4,4] if n < 4}\n",
    "print(my_set)"
   ]
  },
  {
   "cell_type": "markdown",
   "metadata": {},
   "source": [
    "## Comprehension exercise\n",
    "\n",
    "Keeping in mind that the general syntax for a list comprehension is :\n",
    "\n",
    "        [expression for variable in iterable if condition]\n",
    "\n",
    "- Write a list comprehension that returns a list of squares of numbers\n",
    "    - use the list: [5, 6, 7, 8, 9]\n",
    "- Write a list comprehension that returns a list of uppercase strings\n",
    "    - use the list: ['cow', 'dog', 'pig', 'chicken']\n",
    "- Write a list comprension that returns a list of tuples, where each element of the tuple is the cube of an initial number\n",
    "    - use the list: [(2, 3), (4, 5), (6, 7)]\n",
    "        - ex: the result would be [(8, 27), ...]"
   ]
  },
  {
   "cell_type": "code",
   "execution_count": 4,
   "metadata": {},
   "outputs": [
    {
     "data": {
      "text/plain": [
       "['COW', 'DOG', 'PIG', 'CHICKEN']"
      ]
     },
     "execution_count": 4,
     "metadata": {},
     "output_type": "execute_result"
    }
   ],
   "source": [
    "[word.upper() for word in ['cow', 'dog', 'pig', 'chicken']]"
   ]
  },
  {
   "cell_type": "code",
   "execution_count": 3,
   "metadata": {},
   "outputs": [
    {
     "data": {
      "text/plain": [
       "[(8, 27), (64, 125), (216, 343)]"
      ]
     },
     "execution_count": 3,
     "metadata": {},
     "output_type": "execute_result"
    }
   ],
   "source": [
    "[(x**3, y**3) for x, y in [(2, 3), (4, 5), (6, 7)]]"
   ]
  },
  {
   "cell_type": "markdown",
   "metadata": {},
   "source": [
    "# Other comprehension types\n",
    "\n",
    "- generator comprehension: `(x for x in range(5))`\n",
    "    - generator comprehension returning a tuple: `tuple((x for x in range(5)))`\n",
    "- set comprehension: `{x for x in range(5)}`\n",
    "- dict comprehension: `{k: v for k, v in [('aaa', 123), ('bbb', 456)]}`"
   ]
  },
  {
   "cell_type": "markdown",
   "metadata": {},
   "source": [
    "# Exercise\n",
    "\n",
    "1. write a generator comprehension, returning a generator that generates all ASCII lowercase letters in the alphabet\n",
    "    - see `from string import ascii_lowercase`\n",
    "2. Modify your answer in #1 to return a tuple rather than a generator\n",
    "3. write a set comprehension, returning a set that contains only the odd numbers from range(11)\n",
    "4. write a dict comprehension, that returns a dict of website names as keys and urls as values, from the following list: [('sfl', 'http://sfl.com'), ('google', 'http://google.com')]"
   ]
  }
 ],
 "metadata": {
  "kernelspec": {
   "display_name": "Python 3",
   "language": "python",
   "name": "python3"
  },
  "language_info": {
   "codemirror_mode": {
    "name": "ipython",
    "version": 3
   },
   "file_extension": ".py",
   "mimetype": "text/x-python",
   "name": "python",
   "nbconvert_exporter": "python",
   "pygments_lexer": "ipython3",
   "version": "3.7.2"
  }
 },
 "nbformat": 4,
 "nbformat_minor": 2
}
