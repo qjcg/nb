{
 "cells": [
  {
   "cell_type": "code",
   "execution_count": 3,
   "metadata": {},
   "outputs": [
    {
     "name": "stdout",
     "output_type": "stream",
     "text": [
      "./new.txt\n"
     ]
    }
   ],
   "source": [
    "import os, os.path\n",
    "print(os.curdir + os.path.sep + 'new.txt')\n",
    "os.mkdir('/tmp/whatever')"
   ]
  },
  {
   "cell_type": "markdown",
   "metadata": {},
   "source": [
    "# Exercise\n",
    "\n",
    "1. Using the `os` module, create the following directory hierarchy :\n",
    "```\n",
    "webapp\n",
    "    README.txt\n",
    "    templates\n",
    "    routes\n",
    "    public\n",
    "        css\n",
    "            main.css\n",
    "        js\n",
    "            main.js\n",
    "        images\n",
    "```\n",
    "2. Using the `platform` module, print the name of the Linux distribution you are currently using to the console.\n",
    "3. Using `os.kill` and the `signal` module, send a `SIGTERM` signal to a process of your choice (ex: start an instance of `gedit` and send a signal to that)."
   ]
  },
  {
   "cell_type": "code",
   "execution_count": 3,
   "metadata": {},
   "outputs": [],
   "source": [
    "import os\n",
    "\n",
    "dirs_to_create = ['webapp', 'webapp/templates', 'webapp/routes',\n",
    "                  'webapp/public/css', 'webapp/public/js',\n",
    "                  'webapp/public/images']\n",
    "\n",
    "files_to_create = ['webapp/README.txt', 'webapp/public/css/main.css',\n",
    "                   'webapp/public/js/main.js']\n",
    "\n",
    "for d in dirs_to_create:\n",
    "    os.makedirs(d, exist_ok=True)\n",
    "\n",
    "for f in files_to_create:\n",
    "    open(f, 'w').close()"
   ]
  },
  {
   "cell_type": "code",
   "execution_count": 4,
   "metadata": {},
   "outputs": [
    {
     "data": {
      "text/plain": [
       "[('webapp', ['templates', 'public', 'routes'], ['README.txt']),\n",
       " ('webapp/templates', [], []),\n",
       " ('webapp/public', ['js', 'css', 'images'], []),\n",
       " ('webapp/public/js', [], ['main.js']),\n",
       " ('webapp/public/css', [], ['main.css']),\n",
       " ('webapp/public/images', [], []),\n",
       " ('webapp/routes', [], [])]"
      ]
     },
     "execution_count": 4,
     "metadata": {},
     "output_type": "execute_result"
    }
   ],
   "source": [
    "list(os.walk('webapp'))"
   ]
  },
  {
   "cell_type": "code",
   "execution_count": 5,
   "metadata": {},
   "outputs": [
    {
     "name": "stdout",
     "output_type": "stream",
     "text": [
      "webapp\r\n",
      "├── README.txt\r\n",
      "├── public\r\n",
      "│   ├── css\r\n",
      "│   │   └── main.css\r\n",
      "│   ├── images\r\n",
      "│   └── js\r\n",
      "│       └── main.js\r\n",
      "├── routes\r\n",
      "└── templates\r\n",
      "\r\n",
      "6 directories, 3 files\r\n"
     ]
    }
   ],
   "source": [
    "!tree webapp"
   ]
  }
 ],
 "metadata": {
  "kernelspec": {
   "display_name": "Python 3",
   "language": "python",
   "name": "python3"
  },
  "language_info": {
   "codemirror_mode": {
    "name": "ipython",
    "version": 3
   },
   "file_extension": ".py",
   "mimetype": "text/x-python",
   "name": "python",
   "nbconvert_exporter": "python",
   "pygments_lexer": "ipython3",
   "version": "3.6.5"
  }
 },
 "nbformat": 4,
 "nbformat_minor": 1
}
