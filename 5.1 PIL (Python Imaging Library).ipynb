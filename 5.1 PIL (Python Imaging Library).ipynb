{
 "metadata": {
  "name": "",
  "signature": "sha256:9b45d8936ef821615cfdec7dfa7f5ebe8ec56c6f6840f7cc0caad82e0d84930f"
 },
 "nbformat": 3,
 "nbformat_minor": 0,
 "worksheets": [
  {
   "cells": [
    {
     "cell_type": "markdown",
     "metadata": {},
     "source": [
      "# Objectives\n",
      "\n",
      "- comprendre l'organization du package PIL\n",
      "- ouvrir une image\n",
      "- afficher une image\n",
      "- inspecter les propri\u00e9t\u00e9s d'une image\n",
      "- appliquer un filtre \u00e0 un image\n",
      "- sauvegarder une image\n",
      "- appliquer un transformation \u00e0 une image\n",
      "- \u00e9crire du texte sur une image\n",
      "- changer la taille (resize) d'une image\n",
      "\n",
      "\n",
      "## Setup\n",
      "\n",
      "- Installez [IrfanView](http://www.irfanview.com/main_download_engl.htm) comme visionneur d'images pour \u00e9viter un bug avec le visionneur d'images par d\u00e9faut de Windows 7\n",
      "    - nous permet d'\u00e9viter ce bug connu de windows 7: http://stackoverflow.com/a/4608010\n",
      "\n",
      "## References\n",
      "\n",
      "- [PIL docs](http://www.effbot.org/imagingbook/)"
     ]
    },
    {
     "cell_type": "markdown",
     "metadata": {},
     "source": [
      "# Ouvrir et afficher une image"
     ]
    },
    {
     "cell_type": "code",
     "collapsed": false,
     "input": [
      "from PIL import Image"
     ],
     "language": "python",
     "metadata": {},
     "outputs": [],
     "prompt_number": 2
    },
    {
     "cell_type": "code",
     "collapsed": false,
     "input": [
      "im = Image.open('batman-logo.png')\n",
      "# bug connu voir: http://stackoverflow.com/a/4608010\n",
      "im.show()"
     ],
     "language": "python",
     "metadata": {},
     "outputs": [],
     "prompt_number": 3
    },
    {
     "cell_type": "code",
     "collapsed": false,
     "input": [
      "print im.format\n",
      "print im.size\n",
      "print im.mode"
     ],
     "language": "python",
     "metadata": {},
     "outputs": [
      {
       "output_type": "stream",
       "stream": "stdout",
       "text": [
        "PNG\n",
        "(500, 307)\n",
        "RGBA\n"
       ]
      }
     ],
     "prompt_number": 4
    },
    {
     "cell_type": "code",
     "collapsed": false,
     "input": [
      "im.__dict__"
     ],
     "language": "python",
     "metadata": {},
     "outputs": [
      {
       "metadata": {},
       "output_type": "pyout",
       "prompt_number": 5,
       "text": [
        "{'_PngImageFile__idat': 0,\n",
        " 'category': 0,\n",
        " 'decoderconfig': (),\n",
        " 'decodermaxblock': 65536,\n",
        " 'filename': 'batman-logo.png',\n",
        " 'fp': None,\n",
        " 'im': <ImagingCore at 0x4bbacf0>,\n",
        " 'info': {'icc_profile': '\\x00\\x00\\x07\\xa8appl\\x02 \\x00\\x00mntrRGB XYZ \\x07\\xd9\\x00\\x02\\x00\\x19\\x00\\x0b\\x00\\x1a\\x00\\x0bacspAPPL\\x00\\x00\\x00\\x00appl\\x00\\x00\\x00\\x00\\x00\\x00\\x00\\x00\\x00\\x00\\x00\\x00\\x00\\x00\\x00\\x00\\x00\\x00\\xf6\\xd6\\x00\\x01\\x00\\x00\\x00\\x00\\xd3-appl\\x00\\x00\\x00\\x00\\x00\\x00\\x00\\x00\\x00\\x00\\x00\\x00\\x00\\x00\\x00\\x00\\x00\\x00\\x00\\x00\\x00\\x00\\x00\\x00\\x00\\x00\\x00\\x00\\x00\\x00\\x00\\x00\\x00\\x00\\x00\\x00\\x00\\x00\\x00\\x00\\x00\\x00\\x00\\x00\\x00\\x00\\x00\\x0bdesc\\x00\\x00\\x01\\x08\\x00\\x00\\x00odscm\\x00\\x00\\x01x\\x00\\x00\\x05lcprt\\x00\\x00\\x06\\xe4\\x00\\x00\\x008wtpt\\x00\\x00\\x07\\x1c\\x00\\x00\\x00\\x14rXYZ\\x00\\x00\\x070\\x00\\x00\\x00\\x14gXYZ\\x00\\x00\\x07D\\x00\\x00\\x00\\x14bXYZ\\x00\\x00\\x07X\\x00\\x00\\x00\\x14rTRC\\x00\\x00\\x07l\\x00\\x00\\x00\\x0echad\\x00\\x00\\x07|\\x00\\x00\\x00,bTRC\\x00\\x00\\x07l\\x00\\x00\\x00\\x0egTRC\\x00\\x00\\x07l\\x00\\x00\\x00\\x0edesc\\x00\\x00\\x00\\x00\\x00\\x00\\x00\\x14Generic RGB Profile\\x00\\x00\\x00\\x00\\x00\\x00\\x00\\x00\\x00\\x00\\x00\\x14Generic RGB Profile\\x00\\x00\\x00\\x00\\x00\\x00\\x00\\x00\\x00\\x00\\x00\\x00\\x00\\x00\\x00\\x00\\x00\\x00\\x00\\x00\\x00\\x00\\x00\\x00\\x00\\x00\\x00\\x00\\x00\\x00\\x00\\x00\\x00\\x00\\x00\\x00\\x00\\x00\\x00\\x00\\x00\\x00\\x00\\x00\\x00\\x00\\x00\\x00\\x00\\x00mluc\\x00\\x00\\x00\\x00\\x00\\x00\\x00\\x1e\\x00\\x00\\x00\\x0cskSK\\x00\\x00\\x00(\\x00\\x00\\x01xhrHR\\x00\\x00\\x00(\\x00\\x00\\x01\\xa0caES\\x00\\x00\\x00$\\x00\\x00\\x01\\xc8ptBR\\x00\\x00\\x00&\\x00\\x00\\x01\\xecukUA\\x00\\x00\\x00*\\x00\\x00\\x02\\x12frFU\\x00\\x00\\x00(\\x00\\x00\\x02<zhTW\\x00\\x00\\x00\\x16\\x00\\x00\\x02ditIT\\x00\\x00\\x00(\\x00\\x00\\x02znbNO\\x00\\x00\\x00&\\x00\\x00\\x02\\xa2koKR\\x00\\x00\\x00\\x16\\x00\\x00\\x02\\xc8csCZ\\x00\\x00\\x00\"\\x00\\x00\\x02\\xdeheIL\\x00\\x00\\x00\\x1e\\x00\\x00\\x03\\x00deDE\\x00\\x00\\x00,\\x00\\x00\\x03\\x1ehuHU\\x00\\x00\\x00(\\x00\\x00\\x03JsvSE\\x00\\x00\\x00&\\x00\\x00\\x02\\xa2zhCN\\x00\\x00\\x00\\x16\\x00\\x00\\x03rjaJP\\x00\\x00\\x00\\x1a\\x00\\x00\\x03\\x88roRO\\x00\\x00\\x00$\\x00\\x00\\x03\\xa2elGR\\x00\\x00\\x00\"\\x00\\x00\\x03\\xc6ptPO\\x00\\x00\\x00&\\x00\\x00\\x03\\xe8nlNL\\x00\\x00\\x00(\\x00\\x00\\x04\\x0eesES\\x00\\x00\\x00&\\x00\\x00\\x03\\xe8thTH\\x00\\x00\\x00$\\x00\\x00\\x046trTR\\x00\\x00\\x00\"\\x00\\x00\\x04ZfiFI\\x00\\x00\\x00(\\x00\\x00\\x04|plPL\\x00\\x00\\x00,\\x00\\x00\\x04\\xa4ruRU\\x00\\x00\\x00\"\\x00\\x00\\x04\\xd0arEG\\x00\\x00\\x00&\\x00\\x00\\x04\\xf2enUS\\x00\\x00\\x00&\\x00\\x00\\x05\\x18daDK\\x00\\x00\\x00.\\x00\\x00\\x05>\\x00V\\x01a\\x00e\\x00o\\x00b\\x00e\\x00c\\x00n\\x00\\xfd\\x00 \\x00R\\x00G\\x00B\\x00 \\x00p\\x00r\\x00o\\x00f\\x00i\\x00l\\x00G\\x00e\\x00n\\x00e\\x00r\\x00i\\x01\\r\\x00k\\x00i\\x00 \\x00R\\x00G\\x00B\\x00 \\x00p\\x00r\\x00o\\x00f\\x00i\\x00l\\x00P\\x00e\\x00r\\x00f\\x00i\\x00l\\x00 \\x00R\\x00G\\x00B\\x00 \\x00g\\x00e\\x00n\\x00\\xe8\\x00r\\x00i\\x00c\\x00P\\x00e\\x00r\\x00f\\x00i\\x00l\\x00 \\x00R\\x00G\\x00B\\x00 \\x00G\\x00e\\x00n\\x00\\xe9\\x00r\\x00i\\x00c\\x00o\\x04\\x17\\x040\\x043\\x040\\x04;\\x04L\\x04=\\x048\\x049\\x00 \\x04?\\x04@\\x04>\\x04D\\x040\\x049\\x04;\\x00 \\x00R\\x00G\\x00B\\x00P\\x00r\\x00o\\x00f\\x00i\\x00l\\x00 \\x00g\\x00\\xe9\\x00n\\x00\\xe9\\x00r\\x00i\\x00q\\x00u\\x00e\\x00 \\x00R\\x00V\\x00B\\x90\\x1au(\\x00 \\x00R\\x00G\\x00B\\x00 \\x82r_ic\\xcf\\x8f\\xf0\\x00P\\x00r\\x00o\\x00f\\x00i\\x00l\\x00o\\x00 \\x00R\\x00G\\x00B\\x00 \\x00g\\x00e\\x00n\\x00e\\x00r\\x00i\\x00c\\x00o\\x00G\\x00e\\x00n\\x00e\\x00r\\x00i\\x00s\\x00k\\x00 \\x00R\\x00G\\x00B\\x00-\\x00p\\x00r\\x00o\\x00f\\x00i\\x00l\\xc7|\\xbc\\x18\\x00 \\x00R\\x00G\\x00B\\x00 \\xd5\\x04\\xb8\\\\\\xd3\\x0c\\xc7|\\x00O\\x00b\\x00e\\x00c\\x00n\\x00\\xfd\\x00 \\x00R\\x00G\\x00B\\x00 \\x00p\\x00r\\x00o\\x00f\\x00i\\x00l\\x05\\xe4\\x05\\xe8\\x05\\xd5\\x05\\xe4\\x05\\xd9\\x05\\xdc\\x00 \\x00R\\x00G\\x00B\\x00 \\x05\\xdb\\x05\\xdc\\x05\\xdc\\x05\\xd9\\x00A\\x00l\\x00l\\x00g\\x00e\\x00m\\x00e\\x00i\\x00n\\x00e\\x00s\\x00 \\x00R\\x00G\\x00B\\x00-\\x00P\\x00r\\x00o\\x00f\\x00i\\x00l\\x00\\xc1\\x00l\\x00t\\x00a\\x00l\\x00\\xe1\\x00n\\x00o\\x00s\\x00 \\x00R\\x00G\\x00B\\x00 \\x00p\\x00r\\x00o\\x00f\\x00i\\x00lfn\\x90\\x1a\\x00 \\x00R\\x00G\\x00B\\x00 c\\xcf\\x8f\\xf0e\\x87N\\xf6N\\x00\\x82,\\x00 \\x00R\\x00G\\x00B\\x00 0\\xd70\\xed0\\xd50\\xa10\\xa40\\xeb\\x00P\\x00r\\x00o\\x00f\\x00i\\x00l\\x00 \\x00R\\x00G\\x00B\\x00 \\x00g\\x00e\\x00n\\x00e\\x00r\\x00i\\x00c\\x03\\x93\\x03\\xb5\\x03\\xbd\\x03\\xb9\\x03\\xba\\x03\\xcc\\x00 \\x03\\xc0\\x03\\xc1\\x03\\xbf\\x03\\xc6\\x03\\xaf\\x03\\xbb\\x00 \\x00R\\x00G\\x00B\\x00P\\x00e\\x00r\\x00f\\x00i\\x00l\\x00 \\x00R\\x00G\\x00B\\x00 \\x00g\\x00e\\x00n\\x00\\xe9\\x00r\\x00i\\x00c\\x00o\\x00A\\x00l\\x00g\\x00e\\x00m\\x00e\\x00e\\x00n\\x00 \\x00R\\x00G\\x00B\\x00-\\x00p\\x00r\\x00o\\x00f\\x00i\\x00e\\x00l\\x0eB\\x0e\\x1b\\x0e#\\x0eD\\x0e\\x1f\\x0e%\\x0eL\\x00 \\x00R\\x00G\\x00B\\x00 \\x0e\\x17\\x0e1\\x0eH\\x0e\\'\\x0eD\\x0e\\x1b\\x00G\\x00e\\x00n\\x00e\\x00l\\x00 \\x00R\\x00G\\x00B\\x00 \\x00P\\x00r\\x00o\\x00f\\x00i\\x00l\\x00i\\x00Y\\x00l\\x00e\\x00i\\x00n\\x00e\\x00n\\x00 \\x00R\\x00G\\x00B\\x00-\\x00p\\x00r\\x00o\\x00f\\x00i\\x00i\\x00l\\x00i\\x00U\\x00n\\x00i\\x00w\\x00e\\x00r\\x00s\\x00a\\x00l\\x00n\\x00y\\x00 \\x00p\\x00r\\x00o\\x00f\\x00i\\x00l\\x00 \\x00R\\x00G\\x00B\\x04\\x1e\\x041\\x04I\\x048\\x049\\x00 \\x04?\\x04@\\x04>\\x04D\\x048\\x04;\\x04L\\x00 \\x00R\\x00G\\x00B\\x06E\\x06D\\x06A\\x00 \\x06*\\x069\\x061\\x06J\\x06A\\x00 \\x00R\\x00G\\x00B\\x00 \\x06\\'\\x06D\\x069\\x06\\'\\x06E\\x00G\\x00e\\x00n\\x00e\\x00r\\x00i\\x00c\\x00 \\x00R\\x00G\\x00B\\x00 \\x00P\\x00r\\x00o\\x00f\\x00i\\x00l\\x00e\\x00G\\x00e\\x00n\\x00e\\x00r\\x00e\\x00l\\x00 \\x00R\\x00G\\x00B\\x00-\\x00b\\x00e\\x00s\\x00k\\x00r\\x00i\\x00v\\x00e\\x00l\\x00s\\x00etext\\x00\\x00\\x00\\x00Copyright 2007 Apple Inc., all rights reserved.\\x00XYZ \\x00\\x00\\x00\\x00\\x00\\x00\\xf3R\\x00\\x01\\x00\\x00\\x00\\x01\\x16\\xcfXYZ \\x00\\x00\\x00\\x00\\x00\\x00tM\\x00\\x00=\\xee\\x00\\x00\\x03\\xd0XYZ \\x00\\x00\\x00\\x00\\x00\\x00Zu\\x00\\x00\\xacs\\x00\\x00\\x174XYZ \\x00\\x00\\x00\\x00\\x00\\x00(\\x1a\\x00\\x00\\x15\\x9f\\x00\\x00\\xb86curv\\x00\\x00\\x00\\x00\\x00\\x00\\x00\\x01\\x01\\xcd\\x00\\x00sf32\\x00\\x00\\x00\\x00\\x00\\x01\\x0cB\\x00\\x00\\x05\\xde\\xff\\xff\\xf3&\\x00\\x00\\x07\\x92\\x00\\x00\\xfd\\x91\\xff\\xff\\xfb\\xa2\\xff\\xff\\xfd\\xa3\\x00\\x00\\x03\\xdc\\x00\\x00\\xc0l'},\n",
        " 'map': None,\n",
        " 'mode': 'RGBA',\n",
        " 'palette': None,\n",
        " 'png': None,\n",
        " 'readonly': 0,\n",
        " 'size': (500, 307),\n",
        " 'text': {},\n",
        " 'tile': []}"
       ]
      }
     ],
     "prompt_number": 5
    },
    {
     "cell_type": "markdown",
     "metadata": {},
     "source": [
      "# Filter & Sauvegarder"
     ]
    },
    {
     "cell_type": "code",
     "collapsed": false,
     "input": [
      "from PIL import ImageFilter"
     ],
     "language": "python",
     "metadata": {},
     "outputs": [],
     "prompt_number": 4
    },
    {
     "cell_type": "code",
     "collapsed": false,
     "input": [
      "im_embossed = im.filter(ImageFilter.EMBOSS)\n",
      "im_embossed.show()"
     ],
     "language": "python",
     "metadata": {},
     "outputs": [],
     "prompt_number": 5
    },
    {
     "cell_type": "code",
     "collapsed": false,
     "input": [
      "im_embossed.save('batman-logo_embossed777.png')"
     ],
     "language": "python",
     "metadata": {},
     "outputs": [],
     "prompt_number": 6
    },
    {
     "cell_type": "markdown",
     "metadata": {},
     "source": [
      "# Transformations"
     ]
    },
    {
     "cell_type": "code",
     "collapsed": false,
     "input": [
      "im.histogram?"
     ],
     "language": "python",
     "metadata": {},
     "outputs": [],
     "prompt_number": 15
    },
    {
     "cell_type": "code",
     "collapsed": false,
     "input": [
      "im.transpose()"
     ],
     "language": "python",
     "metadata": {},
     "outputs": [
      {
       "ename": "TypeError",
       "evalue": "transpose() takes exactly 2 arguments (1 given)",
       "output_type": "pyerr",
       "traceback": [
        "\u001b[1;31m---------------------------------------------------------------------------\u001b[0m\n\u001b[1;31mTypeError\u001b[0m                                 Traceback (most recent call last)",
        "\u001b[1;32m<ipython-input-23-48adc99ad228>\u001b[0m in \u001b[0;36m<module>\u001b[1;34m()\u001b[0m\n\u001b[1;32m----> 1\u001b[1;33m \u001b[0mim\u001b[0m\u001b[1;33m.\u001b[0m\u001b[0mtranspose\u001b[0m\u001b[1;33m(\u001b[0m\u001b[1;33m)\u001b[0m\u001b[1;33m\u001b[0m\u001b[0m\n\u001b[0m",
        "\u001b[1;31mTypeError\u001b[0m: transpose() takes exactly 2 arguments (1 given)"
       ]
      }
     ],
     "prompt_number": 23
    },
    {
     "cell_type": "code",
     "collapsed": false,
     "input": [
      "from PIL import ImageOps"
     ],
     "language": "python",
     "metadata": {},
     "outputs": [],
     "prompt_number": 24
    },
    {
     "cell_type": "code",
     "collapsed": false,
     "input": [
      "im_flipped = ImageOps.flip(im)\n",
      "im_flipped.show()"
     ],
     "language": "python",
     "metadata": {},
     "outputs": [],
     "prompt_number": 26
    },
    {
     "cell_type": "code",
     "collapsed": false,
     "input": [
      "im2 = Image.open('batman.bmp')"
     ],
     "language": "python",
     "metadata": {},
     "outputs": [],
     "prompt_number": 27
    },
    {
     "cell_type": "code",
     "collapsed": false,
     "input": [
      "ImageOps.solarize(im2).show()"
     ],
     "language": "python",
     "metadata": {},
     "outputs": [],
     "prompt_number": 28
    },
    {
     "cell_type": "markdown",
     "metadata": {},
     "source": [
      "# \u00c9crire du texte sur l'image"
     ]
    },
    {
     "cell_type": "code",
     "collapsed": false,
     "input": [
      "from PIL import Image, ImageDraw, ImageFont"
     ],
     "language": "python",
     "metadata": {},
     "outputs": [],
     "prompt_number": 37
    },
    {
     "cell_type": "code",
     "collapsed": false,
     "input": [
      "im2 = Image.open('batman.bmp')\n",
      "font = ImageFont.truetype('Xanadu.ttf', 20)\n",
      "draw = ImageDraw.Draw(im2)"
     ],
     "language": "python",
     "metadata": {},
     "outputs": [],
     "prompt_number": 38
    },
    {
     "cell_type": "code",
     "collapsed": false,
     "input": [
      "# for fill color formats, see\n",
      "# http://www.effbot.org/imagingbook/imagedraw.htm\n",
      "draw.text((10, 25), \"hello Gotham!\", font=font, fill='red')"
     ],
     "language": "python",
     "metadata": {},
     "outputs": [],
     "prompt_number": 39
    },
    {
     "cell_type": "code",
     "collapsed": false,
     "input": [
      "im2.show()"
     ],
     "language": "python",
     "metadata": {},
     "outputs": [],
     "prompt_number": 40
    },
    {
     "cell_type": "markdown",
     "metadata": {},
     "source": [
      "# Changer la taille d'une image"
     ]
    },
    {
     "cell_type": "code",
     "collapsed": false,
     "input": [
      "from PIL import Image\n",
      "im = Image.open('batman-logo.png')\n",
      "# bug connu voir: http://stackoverflow.com/a/4608010\n",
      "resized = im.resize((50,50))\n",
      "resized.show()"
     ],
     "language": "python",
     "metadata": {},
     "outputs": [],
     "prompt_number": 47
    }
   ],
   "metadata": {}
  }
 ]
}