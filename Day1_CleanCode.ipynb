{
 "cells": [
  {
   "cell_type": "markdown",
   "metadata": {},
   "source": [
    "# Clean Code\n",
    "\n",
    "- Ch. 1: Introduction, Formatting & Tools\n",
    "- Ch. 2: Pythonic Code\n",
    "- Ch. 5: Decorators\n",
    "- Ch. 8: Unit Testing & Refactoring\n",
    "- Ch. 9: Common Design Patterns"
   ]
  },
  {
   "cell_type": "markdown",
   "metadata": {},
   "source": [
    "# Exercise: Annotations\n",
    "\n",
    "Write a function that takes as argument a single integer and returns its square.\n",
    "\n",
    "Use type annotations to specify the argument and return types, and write a docstring for this function."
   ]
  },
  {
   "cell_type": "code",
   "execution_count": 1,
   "metadata": {},
   "outputs": [],
   "source": [
    "def squared(n: int) -> int:\n",
    "    \"\"\"Returns the square of the provided argument.\n",
    "    \"\"\"\n",
    "    return n**2"
   ]
  },
  {
   "cell_type": "code",
   "execution_count": 2,
   "metadata": {},
   "outputs": [
    {
     "data": {
      "text/plain": [
       "16"
      ]
     },
     "execution_count": 2,
     "metadata": {},
     "output_type": "execute_result"
    }
   ],
   "source": [
    "squared(4)"
   ]
  },
  {
   "cell_type": "code",
   "execution_count": 3,
   "metadata": {},
   "outputs": [],
   "source": [
    "squared?"
   ]
  },
  {
   "cell_type": "markdown",
   "metadata": {},
   "source": [
    "# Exercise: Special Methods & Context Manager\n",
    "\n",
    "Create a `Currency` class that overrides at least 3 magic methods for emulating **numeric** types.\n",
    "\n",
    "BONUS\n",
    "Create at least one subclass that:\n",
    "- Extends the `__init__` method of the parent while adding a new attribute (hint: use `super()`)\n",
    "- Create an instance of the subclass and check that the parent's methods and attributes are also accessible\n",
    "- Make the subclass usable with a context manager (`with`)"
   ]
  },
  {
   "cell_type": "code",
   "execution_count": 18,
   "metadata": {},
   "outputs": [],
   "source": [
    "class Currency:\n",
    "    \"\"\"Represents a financial currency value.\n",
    "    \"\"\"\n",
    "    \n",
    "    def __init__(self, name, quantity, usd_rate):\n",
    "        \"\"\"Represents a currency.\n",
    "        \"\"\"\n",
    "        self.name = name\n",
    "        self.quantity = quantity\n",
    "        self.usd_rate = usd_rate\n",
    "        \n",
    "    def __add__(self, other):\n",
    "        return Currency(self.name + other.name, \n",
    "                        self.quantity + other.quantity,\n",
    "                        self.usd_rate)\n",
    "        \n",
    "    def __iadd__(self, other):\n",
    "        self.name += other.name\n",
    "        self.quantity += other.quantity\n",
    "        return self\n",
    "        \n",
    "    def __sub__(self, other):\n",
    "        q = self.quantity - other.quantity\n",
    "        return Currency(self.name[:-1], q, self.usd_rate)\n",
    "        \n",
    "    def __len__(self):\n",
    "        return abs(self.quantity)\n",
    "    \n",
    "class ExchangeNotFoundError(Exception): pass\n",
    "    \n",
    "class CryptoCurrency(Currency):\n",
    "    \"\"\"Represents a blockchain-based cryptocurrency.\n",
    "    \"\"\"\n",
    "    def __init__(self, name, quantity, usd_rate, exchanges):\n",
    "        super().__init__(name, quantity, usd_rate)\n",
    "        self.exchanges = exchanges\n",
    "        \n",
    "    def __enter__(self):\n",
    "        print(\"Brag about IPO gains\")\n",
    "        return self\n",
    "        \n",
    "    def __exit__(self, exe_type, exe_val, traceback):\n",
    "        try:\n",
    "            print(\"Comiserate about crash\")\n",
    "        except ExchangeNotFoundError:\n",
    "            print(\"You tried to use a bad exchange, calling cops...\")"
   ]
  },
  {
   "cell_type": "code",
   "execution_count": 19,
   "metadata": {},
   "outputs": [
    {
     "name": "stdout",
     "output_type": "stream",
     "text": [
      "Brag about IPO gains\n",
      "Comiserate about crash\n"
     ]
    },
    {
     "ename": "ExchangeNotFoundError",
     "evalue": "badmex is not a valid exchange",
     "output_type": "error",
     "traceback": [
      "\u001b[0;31m---------------------------------------------------------------------------\u001b[0m",
      "\u001b[0;31mExchangeNotFoundError\u001b[0m                     Traceback (most recent call last)",
      "\u001b[0;32m<ipython-input-19-4a78fbee462f>\u001b[0m in \u001b[0;36m<module>\u001b[0;34m\u001b[0m\n\u001b[1;32m      1\u001b[0m \u001b[0;32mwith\u001b[0m \u001b[0mCryptoCurrency\u001b[0m\u001b[0;34m(\u001b[0m\u001b[0;34m\"BTC\"\u001b[0m\u001b[0;34m,\u001b[0m \u001b[0;36m10\u001b[0m\u001b[0;34m,\u001b[0m \u001b[0;36m500\u001b[0m\u001b[0;34m,\u001b[0m \u001b[0;34m[\u001b[0m\u001b[0;34m\"kraken\"\u001b[0m\u001b[0;34m,\u001b[0m \u001b[0;34m\"mtgox\"\u001b[0m\u001b[0;34m,\u001b[0m \u001b[0;34m\"badmex\"\u001b[0m\u001b[0;34m]\u001b[0m\u001b[0;34m)\u001b[0m \u001b[0;32mas\u001b[0m \u001b[0mcc\u001b[0m\u001b[0;34m:\u001b[0m\u001b[0;34m\u001b[0m\u001b[0;34m\u001b[0m\u001b[0m\n\u001b[1;32m      2\u001b[0m     \u001b[0;32mif\u001b[0m \u001b[0;34m'badmex'\u001b[0m \u001b[0;32min\u001b[0m \u001b[0mcc\u001b[0m\u001b[0;34m.\u001b[0m\u001b[0mexchanges\u001b[0m\u001b[0;34m:\u001b[0m\u001b[0;34m\u001b[0m\u001b[0;34m\u001b[0m\u001b[0m\n\u001b[0;32m----> 3\u001b[0;31m             \u001b[0;32mraise\u001b[0m \u001b[0mExchangeNotFoundError\u001b[0m\u001b[0;34m(\u001b[0m\u001b[0;34m\"badmex is not a valid exchange\"\u001b[0m\u001b[0;34m)\u001b[0m\u001b[0;34m\u001b[0m\u001b[0;34m\u001b[0m\u001b[0m\n\u001b[0m\u001b[1;32m      4\u001b[0m \u001b[0;34m\u001b[0m\u001b[0m\n\u001b[1;32m      5\u001b[0m \u001b[0;34m\u001b[0m\u001b[0m\n",
      "\u001b[0;31mExchangeNotFoundError\u001b[0m: badmex is not a valid exchange"
     ]
    }
   ],
   "source": [
    "with CryptoCurrency(\"BTC\", 10, 500, [\"kraken\", \"mtgox\", \"badmex\"]) as cc:\n",
    "    if 'badmex' in cc.exchanges:\n",
    "            raise ExchangeNotFoundError(\"badmex is not a valid exchange\")\n",
    "\n",
    "\n",
    "print(f\"Our cryptocurrency is named {btc.name}, and trades on\",\n",
    "      f\"{btc.exchanges}\")"
   ]
  },
  {
   "cell_type": "code",
   "execution_count": 7,
   "metadata": {},
   "outputs": [],
   "source": [
    "cad = Currency(\"CAD\", 42, 1.25)\n",
    "eur = Currency(\"EUR\", 100, 0.9)"
   ]
  },
  {
   "cell_type": "code",
   "execution_count": 8,
   "metadata": {},
   "outputs": [
    {
     "data": {
      "text/plain": [
       "'CADEUR'"
      ]
     },
     "execution_count": 8,
     "metadata": {},
     "output_type": "execute_result"
    }
   ],
   "source": [
    "cadeur = cad + eur\n",
    "cadeur.name"
   ]
  },
  {
   "cell_type": "code",
   "execution_count": 9,
   "metadata": {},
   "outputs": [
    {
     "data": {
      "text/plain": [
       "142"
      ]
     },
     "execution_count": 9,
     "metadata": {},
     "output_type": "execute_result"
    }
   ],
   "source": [
    "cad += eur\n",
    "cad.quantity"
   ]
  },
  {
   "cell_type": "code",
   "execution_count": 10,
   "metadata": {},
   "outputs": [
    {
     "data": {
      "text/plain": [
       "142"
      ]
     },
     "execution_count": 10,
     "metadata": {},
     "output_type": "execute_result"
    }
   ],
   "source": [
    "len(cad)"
   ]
  },
  {
   "cell_type": "code",
   "execution_count": 12,
   "metadata": {},
   "outputs": [
    {
     "data": {
      "text/plain": [
       "'CADEU'"
      ]
     },
     "execution_count": 12,
     "metadata": {},
     "output_type": "execute_result"
    }
   ],
   "source": [
    "x = cad - eur\n",
    "x.name"
   ]
  },
  {
   "cell_type": "markdown",
   "metadata": {},
   "source": [
    "# EXERCISE: Dataclasses\n",
    "\n",
    "Reimplement the currency class from the previous exercise as a dataclass. (Don't worry about methods other than the constructor).\n",
    "\n",
    "Create a new currency instance and print the attributes of your instance to ensure they're working as expected."
   ]
  },
  {
   "cell_type": "code",
   "execution_count": 23,
   "metadata": {},
   "outputs": [],
   "source": [
    "from dataclasses import dataclass\n",
    "\n",
    "@dataclass\n",
    "class Currency:\n",
    "    \"\"\"Represents a financial currency.\n",
    "    \"\"\"\n",
    "    name: str\n",
    "    quantity: int\n",
    "    usd_rate: float = 0.0"
   ]
  },
  {
   "cell_type": "code",
   "execution_count": 21,
   "metadata": {},
   "outputs": [
    {
     "data": {
      "text/plain": [
       "500"
      ]
     },
     "execution_count": 21,
     "metadata": {},
     "output_type": "execute_result"
    }
   ],
   "source": [
    "cad = Currency(\"CAD\", 500)\n",
    "cad.quantity"
   ]
  }
 ],
 "metadata": {
  "kernelspec": {
   "display_name": "Python 3",
   "language": "python",
   "name": "python3"
  },
  "language_info": {
   "codemirror_mode": {
    "name": "ipython",
    "version": 3
   },
   "file_extension": ".py",
   "mimetype": "text/x-python",
   "name": "python",
   "nbconvert_exporter": "python",
   "pygments_lexer": "ipython3",
   "version": "3.7.3"
  }
 },
 "nbformat": 4,
 "nbformat_minor": 2
}
