{
 "cells": [
  {
   "cell_type": "markdown",
   "metadata": {},
   "source": [
    "# Clean Code\n",
    "\n",
    "- Ch. 1: Introduction, Formatting & Tools\n",
    "- Ch. 2: Pythonic Code\n",
    "- Ch. 5: Decorators\n",
    "- Ch. 8: Unit Testing & Refactoring\n",
    "- Ch. 9: Common Design Patterns"
   ]
  }
 ],
 "metadata": {
  "kernelspec": {
   "display_name": "Python 3",
   "language": "python",
   "name": "python3"
  },
  "language_info": {
   "codemirror_mode": {
    "name": "ipython",
    "version": 3
   },
   "file_extension": ".py",
   "mimetype": "text/x-python",
   "name": "python",
   "nbconvert_exporter": "python",
   "pygments_lexer": "ipython3",
   "version": "3.7.3"
  }
 },
 "nbformat": 4,
 "nbformat_minor": 2
}
