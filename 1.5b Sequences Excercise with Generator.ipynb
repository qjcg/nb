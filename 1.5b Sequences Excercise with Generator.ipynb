{
 "metadata": {
  "name": ""
 },
 "nbformat": 3,
 "nbformat_minor": 0,
 "worksheets": [
  {
   "cells": [
    {
     "cell_type": "markdown",
     "metadata": {},
     "source": [
      "### First Names\n",
      "In this exercise, we will calculate statistics on different first names.\n",
      "\n",
      "The _names.txt_ file contains 11627 first names. For each name, the information is organized as follows:\n",
      "\n",
      "    name;sex;language;frequency"
     ]
    },
    {
     "cell_type": "markdown",
     "metadata": {},
     "source": [
      "##### 1. Open the file (names.txt) and create a generator that yields a tuple for each line in the file"
     ]
    },
    {
     "cell_type": "code",
     "collapsed": false,
     "input": [
      "f = open('names.txt', encoding='Latin1')\n",
      "\n",
      "def names_list_generator(my_file):\n",
      "    for line in my_file:\n",
      "        yield tuple(line.rstrip().split(';'))"
     ],
     "language": "python",
     "metadata": {},
     "outputs": [],
     "prompt_number": 3
    },
    {
     "cell_type": "markdown",
     "metadata": {},
     "source": [
      "##### 2. Create a tuple for each name and add it to the list"
     ]
    },
    {
     "cell_type": "code",
     "collapsed": false,
     "input": [
      "f.readline()\n",
      "for line in f:\n",
      "    names_list.append(tuple(line.rstrip().split(';')))\n",
      "\n",
      "names_list[0]"
     ],
     "language": "python",
     "metadata": {},
     "outputs": [
      {
       "metadata": {},
       "output_type": "pyout",
       "prompt_number": 13,
       "text": [
        "('aaliyah', 'f', 'english (modern)', '0')"
       ]
      }
     ],
     "prompt_number": 13
    },
    {
     "cell_type": "heading",
     "level": 5,
     "metadata": {},
     "source": [
      "3. Find the longest name"
     ]
    },
    {
     "cell_type": "code",
     "collapsed": false,
     "input": [
      "max_name_length = 0\n",
      "\n",
      "for tup in names_list:\n",
      "    if len(tup[0]) > max_name_length:\n",
      "        max_name_length = len(tup[0])\n",
      "        longest_name = tup[0]\n",
      "\n",
      "print('The longest name is {}, with a '\n",
      "      'length of {:d}.'\n",
      "      .format(longest_name, max_name_length))\n",
      "        "
     ],
     "language": "python",
     "metadata": {},
     "outputs": [
      {
       "output_type": "stream",
       "stream": "stdout",
       "text": [
        "The longest name is mictlantecuhtli, with a length of 15.\n"
       ]
      }
     ],
     "prompt_number": 18
    },
    {
     "cell_type": "heading",
     "level": 5,
     "metadata": {},
     "source": [
      "4. Find the most popular male name"
     ]
    },
    {
     "cell_type": "code",
     "collapsed": false,
     "input": [
      "names_list = names_list_generator(f)\n",
      "next(names_list)\n",
      "\n",
      "max_frequency = 0.0\n",
      "for tup in names_list:\n",
      "    if float(tup[3]) > max_frequency and tup[1] == 'm':\n",
      "        max_frequency = float(tup[3])\n",
      "        most_popular_name = tup[0]\n",
      "\n",
      "print('The most popular male name is {}, '\n",
      "      'with a frequency of {:.2f}.'\n",
      "      .format(most_popular_name, max_frequency))"
     ],
     "language": "python",
     "metadata": {},
     "outputs": [
      {
       "output_type": "stream",
       "stream": "stdout",
       "text": [
        "The most popular male name is les, with a frequency of 15809.49.\n"
       ]
      }
     ],
     "prompt_number": 5
    },
    {
     "cell_type": "heading",
     "level": 5,
     "metadata": {},
     "source": [
      "5. Count the number of spanish names in the list"
     ]
    },
    {
     "cell_type": "code",
     "collapsed": false,
     "input": [
      "spanish_names_count = 0\n",
      "for tup in names_list:\n",
      "    if 'spanish' in tup[2]:\n",
      "        spanish_names_count += 1\n",
      "\n",
      "print('There are {} spanish names in the list.'\n",
      "      .format(spanish_names_count))"
     ],
     "language": "python",
     "metadata": {},
     "outputs": [
      {
       "output_type": "stream",
       "stream": "stdout",
       "text": [
        "There are 553 spanish names in the list.\n"
       ]
      }
     ],
     "prompt_number": 23
    },
    {
     "cell_type": "markdown",
     "metadata": {},
     "source": [
      "### References \n",
      "\n",
      "* [5.6 - Sequence types in python](http://docs.python.org/library/stdtypes.html#typesseq)\n",
      "* [5.6.4 - Mutable sequence types](http://docs.python.org/library/stdtypes.html#typesseq-mutable)\n"
     ]
    }
   ],
   "metadata": {}
  }
 ]
}