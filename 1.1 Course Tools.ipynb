{
 "cells": [
  {
   "cell_type": "markdown",
   "metadata": {
    "slideshow": {
     "slide_type": "-"
    }
   },
   "source": [
    "# Python\n",
    "\n",
    "Python is a ***dynamic language*** first released in ***1991*** and developped by ***Guido van Rossum***.\n",
    "\n",
    "It is an **open-source**, ***multi-paradigm*** and ***multi-platform*** language. \n",
    "\n",
    "The language was conceived with a focus on clairity. The ***Zen of Python*** summarizes some guiding principles:"
   ]
  },
  {
   "cell_type": "code",
   "execution_count": 8,
   "metadata": {},
   "outputs": [],
   "source": [
    "import this"
   ]
  },
  {
   "cell_type": "code",
   "execution_count": 9,
   "metadata": {},
   "outputs": [],
   "source": [
    "import antigravity"
   ]
  },
  {
   "cell_type": "markdown",
   "metadata": {},
   "source": [
    "## Versions\n",
    "\n",
    "Python today is distributed in multiple versions.\n",
    "\n",
    "- [Python2 or Python3](https://wiki.python.org/moin/Python2orPython3)\n",
    "- [Python 3 wall of superpowers](http://python3wos.appspot.com/)\n",
    "\n",
    "A best pratice for writing easily migratable (to v3) python2 code :\n",
    "\n",
    "`from __future__ import print_function, unicode_literals`\n",
    "\n",
    "(See also the [documentation for the __future__ module](http://docs.python.org/3/library/__future__.html).)"
   ]
  },
  {
   "cell_type": "markdown",
   "metadata": {},
   "source": [
    "# IPython & Jupyter notebooks\n",
    "[IPython](http://ipython.org/) is an improved version of the ***python*** command interpreter. It provides numerous functionalities, such as autocompletion, access to python documentation and even a text editor.\n",
    "\n",
    "[Jupyter notebooks](http://jupyter.org/) provide the HTML interface that you are currently using, and allow for documentation to be displayed alongside python code that can be executed within a web browser.\n",
    "\n",
    "## Executing code\n",
    "The following section contains a line of code that can be executed by the interpreter. To do this, simply click on the box and press **Shift+Enter**. You can also click on the box and go to ***Cell > Run*** via the menu.\n",
    "\n",
    "## Executing all code\n",
    "To begin the execution of several lines of code, click ***Cell > Run All***.\n",
    "\n",
    "The lines of code will then be executed in order, as in a standard python script.\n",
    "\n",
    "For example, if we assign a value to a variable:"
   ]
  },
  {
   "cell_type": "code",
   "execution_count": 12,
   "metadata": {},
   "outputs": [],
   "source": [
    "a = 12"
   ]
  },
  {
   "cell_type": "code",
   "execution_count": 13,
   "metadata": {},
   "outputs": [
    {
     "name": "stdout",
     "output_type": "stream",
     "text": [
      "12\n"
     ]
    }
   ],
   "source": [
    "print(a)"
   ]
  },
  {
   "cell_type": "markdown",
   "metadata": {},
   "source": [
    "We can access it in subsequent blocks, even if a documentation block is inserted between the two code blocks:"
   ]
  },
  {
   "cell_type": "code",
   "execution_count": null,
   "metadata": {},
   "outputs": [],
   "source": [
    "a + 225"
   ]
  },
  {
   "cell_type": "markdown",
   "metadata": {},
   "source": [
    "## Access to documentation\n",
    "You can always access the IPython documentation using the ***?*** command:"
   ]
  },
  {
   "cell_type": "markdown",
   "metadata": {},
   "source": [
    "You can access the documentation for a module, a class, or a function using the command ***?***:"
   ]
  },
  {
   "cell_type": "code",
   "execution_count": 14,
   "metadata": {},
   "outputs": [],
   "source": [
    "import os"
   ]
  },
  {
   "cell_type": "code",
   "execution_count": null,
   "metadata": {},
   "outputs": [],
   "source": [
    "os.pa"
   ]
  },
  {
   "cell_type": "markdown",
   "metadata": {},
   "source": [
    "## Code completion\n",
    "The online editor supports autocompletion when TAB is pressed.\n",
    "\n",
    "You can use this to complete the names of variables, modules, functions, or to access the list of methods for an object."
   ]
  },
  {
   "cell_type": "code",
   "execution_count": 15,
   "metadata": {},
   "outputs": [],
   "source": [
    "watermelon = 555"
   ]
  },
  {
   "cell_type": "code",
   "execution_count": null,
   "metadata": {},
   "outputs": [],
   "source": [
    "watermelon"
   ]
  },
  {
   "cell_type": "markdown",
   "metadata": {},
   "source": [
    "## Exercise\n",
    "0. While running `jupyter notebook`\n",
    "1. Create a new notebook by clicking \"New Notebook\".\n",
    "2. Give your new notebook a name by clicking on the title\n",
    "3. Save your notebook (where is it saved?)\n",
    "4. Write some code (ex: `print(\"hello, world!\")`) and execute the cell"
   ]
  },
  {
   "cell_type": "markdown",
   "metadata": {},
   "source": [
    "# Hello World!"
   ]
  },
  {
   "cell_type": "code",
   "execution_count": null,
   "metadata": {},
   "outputs": [],
   "source": [
    "print(\"Hello, today's Python students !\")"
   ]
  },
  {
   "cell_type": "markdown",
   "metadata": {},
   "source": [
    "## Writing a script\n",
    "\n",
    "1. Open your text editor of choice (gedit, nano, vim...)\n",
    "2. Enter script contents\n",
    "        #!/usr/bin/env python3\n",
    "        print(\"Hello, DEV401!\")\n",
    "3. Save to disk (ex: as hello.py)\n",
    "4. Make the file executable (from a text console)\n",
    "        chmod +x hello.py\n",
    "5. Run your new script! (from a text console)\n",
    "        ./hello.py\n",
    "        OR\n",
    "        python3 hello.py\n",
    "        \n",
    "## Exercise\n",
    "- Create your own hello world-type script. If there are any parts of this you are unsure about, say so!"
   ]
  },
  {
   "cell_type": "code",
   "execution_count": null,
   "metadata": {},
   "outputs": [],
   "source": [
    "!notepad.exe"
   ]
  }
 ],
 "metadata": {
  "kernelspec": {
   "display_name": "Python 3",
   "language": "python",
   "name": "python3"
  },
  "language_info": {
   "codemirror_mode": {
    "name": "ipython",
    "version": 3
   },
   "file_extension": ".py",
   "mimetype": "text/x-python",
   "name": "python",
   "nbconvert_exporter": "python",
   "pygments_lexer": "ipython3",
   "version": "3.6.5"
  }
 },
 "nbformat": 4,
 "nbformat_minor": 1
}
