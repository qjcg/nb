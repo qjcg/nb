{
 "cells": [
  {
   "cell_type": "markdown",
   "metadata": {},
   "source": [
    "# Day 3 Outline\n",
    "\n",
    "- Design Patterns (Ch. 9 Clean Code)\n",
    "- Packaging, distributing & deploying\n",
    "- Machine Learning Fundamentals\n",
    "- Data Persistence / Databases\n",
    "- Review\n",
    "- Regular Expressions Atelier (only for those interested!)"
   ]
  },
  {
   "cell_type": "markdown",
   "metadata": {},
   "source": [
    "# Design Patterns\n",
    "\n",
    "## The GoF Design Patterns book\n",
    "\n",
    "- The classic book on the subject is [Design Patterns: Elements of Reusable Object-Oriented Software](https://en.wikipedia.org/wiki/Design_Patterns) (1994)\n",
    "    - The author the are known as the _Gang of Four_ (Erich Gamma, Richard Helm, Ralph Johnson, John Vlissides)\n",
    "    - You might see this referenced as the _GoF Design Patterns book_ or simply the _GoF book_\n",
    "- Techniques:\n",
    "    - \"Program to an 'interface', not an 'implementation'.\" (Gang of Four 1995:18)\n",
    "    - Composition over inheritance: \"Favor 'object composition' over 'class inheritance'.\" (Gang of Four 1995:20)\n",
    "- Identify 3 broad types of design pattern:\n",
    "    1. Creational\n",
    "    2. Structural\n",
    "    3. Behavioral"
   ]
  }
 ],
 "metadata": {
  "kernelspec": {
   "display_name": "Python 3",
   "language": "python",
   "name": "python3"
  },
  "language_info": {
   "codemirror_mode": {
    "name": "ipython",
    "version": 3
   },
   "file_extension": ".py",
   "mimetype": "text/x-python",
   "name": "python",
   "nbconvert_exporter": "python",
   "pygments_lexer": "ipython3",
   "version": "3.7.3"
  }
 },
 "nbformat": 4,
 "nbformat_minor": 2
}
