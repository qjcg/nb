{
 "cells": [
  {
   "cell_type": "markdown",
   "metadata": {},
   "source": [
    "# Comprehensions"
   ]
  },
  {
   "cell_type": "code",
   "execution_count": 3,
   "metadata": {},
   "outputs": [
    {
     "name": "stdout",
     "output_type": "stream",
     "text": [
      "[5, 10, 15, 20, 25, 30, 35, 40, 45, 50, 55, 60, 65, 70, 75, 80, 85, 90, 95, 100]\n"
     ]
    },
    {
     "data": {
      "text/plain": [
       "[5,\n",
       " 10,\n",
       " 15,\n",
       " 20,\n",
       " 25,\n",
       " 30,\n",
       " 35,\n",
       " 40,\n",
       " 45,\n",
       " 50,\n",
       " 55,\n",
       " 60,\n",
       " 65,\n",
       " 70,\n",
       " 75,\n",
       " 80,\n",
       " 85,\n",
       " 90,\n",
       " 95,\n",
       " 100]"
      ]
     },
     "execution_count": 3,
     "metadata": {},
     "output_type": "execute_result"
    }
   ],
   "source": [
    "# PROBLEM: Run through all numbers from 1-100,\n",
    "# put all numbers divisible by 5 in a list.\n",
    "\n",
    "# Using for loop & if statement\n",
    "divisible_by_five = []\n",
    "for i in range(1, 101):\n",
    "    if i % 5 == 0:\n",
    "        divisible_by_five.append(i)\n",
    "\n",
    "print(divisible_by_five)\n",
    "\n",
    "# Using a list comprehension\n",
    "[i for i in range(1, 101) if i % 5 == 0]"
   ]
  },
  {
   "cell_type": "code",
   "execution_count": null,
   "metadata": {},
   "outputs": [],
   "source": [
    "print(tuple(x*x for x in [2,3,4,5]))\n",
    "print([x*x for x in [2,3,4,5]])"
   ]
  },
  {
   "cell_type": "code",
   "execution_count": null,
   "metadata": {},
   "outputs": [],
   "source": [
    "# set comprehension\n",
    "{x for x in [1,1,1,1,1,2,3] if x != 3}"
   ]
  },
  {
   "cell_type": "code",
   "execution_count": null,
   "metadata": {},
   "outputs": [],
   "source": [
    "# dict comprehension\n",
    "{k:v for k, v in enumerate(['cheval', 'cochon', 'singe'])}"
   ]
  },
  {
   "cell_type": "code",
   "execution_count": null,
   "metadata": {},
   "outputs": [],
   "source": [
    "my_list = []\n",
    "for n in range(51):\n",
    "    if 26 < n < 30:\n",
    "        my_list.append(n**2)\n",
    "\n",
    "# list comprehension\n",
    "my_list = [n**2 for n in range(51) if 26 < n < 30]\n",
    "print(my_list)"
   ]
  },
  {
   "cell_type": "code",
   "execution_count": null,
   "metadata": {},
   "outputs": [],
   "source": [
    "# dict comprehension\n",
    "my_dict = {k:v for k, v in [('thing1', 2), ('thing2', 4)]}\n",
    "my_dict"
   ]
  },
  {
   "cell_type": "code",
   "execution_count": null,
   "metadata": {},
   "outputs": [],
   "source": [
    "my_set = {n for n in [1,2,3,4,4,4,4,4,4] if n < 4}\n",
    "print(my_set)"
   ]
  },
  {
   "cell_type": "markdown",
   "metadata": {},
   "source": [
    "## EXERCISE: List Comprehensions\n",
    "\n",
    "Keeping in mind that the general syntax for a list comprehension is :\n",
    "\n",
    "        [expression for variable in iterable if condition]\n",
    "\n",
    "- Write a list comprehension that returns a list of squares of numbers\n",
    "    - use the list: [5, 6, 7, 8, 9]\n",
    "- Write a list comprehension that returns a list of uppercase strings\n",
    "    - use the list: ['aapl', 'goog', 'rht', 'tsla']\n",
    "- Write a list comprension that returns a list of tuples, where each element of the tuple is the cube of an initial number\n",
    "    - use the list: [(2, 3), (4, 5), (6, 7)]\n",
    "        - ex: the result would be [(8, 27), ...]"
   ]
  },
  {
   "cell_type": "markdown",
   "metadata": {},
   "source": [
    "## More Comprehensions: Generators, Tuples, Sets, Dicts\n",
    "\n",
    "- generator: `(x for x in range(5))`\n",
    "- tuple: `tuple(x for x in range(5))`\n",
    "- set: `{x for x in range(5)}`\n",
    "- dict: `{k: v for k, v in [('GOOG', 1000), ('AAPL', 1172)]}`"
   ]
  },
  {
   "cell_type": "markdown",
   "metadata": {},
   "source": [
    "## Exercise: Comprehension Types\n",
    "\n",
    "1. Write a generator comprehension, returning a generator that generates all ASCII lowercase letters in the alphabet\n",
    "    - see `from string import ascii_lowercase`\n",
    "2. Modify your answer in #1 to return a tuple rather than a generator.\n",
    "3. Write a set comprehension, returning a set that contains only the odd numbers from range(11).\n",
    "4. Write a dict comprehension, that returns a dict of website names as keys and urls as values, from the following list: [('sfl', 'http://sfl.com'), ('google', 'http://google.com')]."
   ]
  }
 ],
 "metadata": {
  "kernelspec": {
   "display_name": "Python 3",
   "language": "python",
   "name": "python3"
  },
  "language_info": {
   "codemirror_mode": {
    "name": "ipython",
    "version": 3
   },
   "file_extension": ".py",
   "mimetype": "text/x-python",
   "name": "python",
   "nbconvert_exporter": "python",
   "pygments_lexer": "ipython3",
   "version": "3.7.3"
  }
 },
 "nbformat": 4,
 "nbformat_minor": 2
}
