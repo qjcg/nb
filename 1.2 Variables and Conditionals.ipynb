{
 "cells": [
  {
   "cell_type": "markdown",
   "metadata": {},
   "source": [
    "# Variables"
   ]
  },
  {
   "cell_type": "markdown",
   "metadata": {},
   "source": [
    "Assign a value to a variable with the ***=*** symbol:"
   ]
  },
  {
   "cell_type": "code",
   "execution_count": 13,
   "metadata": {},
   "outputs": [],
   "source": [
    "course = \"DEV401\""
   ]
  },
  {
   "cell_type": "code",
   "execution_count": 14,
   "metadata": {},
   "outputs": [],
   "source": [
    "duration = 3"
   ]
  },
  {
   "cell_type": "markdown",
   "metadata": {},
   "source": [
    "## Exercise\n",
    "- Experiment with assigning values to variables.\n",
    "- Inspect your variables with the `type()` function (ex: `type(myvar)`).\n",
    "- Note any errors you get or points of confusion.\n",
    "\n",
    "## Compound interest calculation (PER 1.1)\n",
    "- See [formatspec](http://docs.python.org/2/library/string.html#formatspec) for details on formatted printing."
   ]
  },
  {
   "cell_type": "code",
   "execution_count": 11,
   "metadata": {},
   "outputs": [
    {
     "name": "stdout",
     "output_type": "stream",
     "text": [
      "         1 1200.00\n",
      "         2 1440.00\n",
      "         3 1728.00\n",
      "         4 2073.60\n",
      "         5 2488.32\n"
     ]
    }
   ],
   "source": [
    "principal = 1000    # Initial amount\n",
    "rate = 0.20         # Interest rate\n",
    "numyears = 5        # Number of years\n",
    "year = 1\n",
    "while year <= numyears:\n",
    "    principal = principal * (1 + rate)\n",
    "    #print year, principal\n",
    "    \n",
    "    # formatted printing (uncomment)\n",
    "    #print \"%3d %0.2f\" % (year, principal) # old style\n",
    "    print(\"{:10} {:0.2f}\".format(year, principal)) # new style\n",
    "    year += 1"
   ]
  },
  {
   "cell_type": "markdown",
   "metadata": {},
   "source": [
    "## Functions"
   ]
  },
  {
   "cell_type": "markdown",
   "metadata": {},
   "source": [
    "A function is defined as follows:"
   ]
  },
  {
   "cell_type": "code",
   "execution_count": 1,
   "metadata": {},
   "outputs": [],
   "source": [
    "def hello(name=\"John Gosset\"):\n",
    "    print(\"Hello, \" + name + \"!\")"
   ]
  },
  {
   "cell_type": "markdown",
   "metadata": {},
   "source": [
    "***Note***:\n",
    "\n",
    "* The keyword ***def*** is used to ***declare*** the function\n",
    "* Parentheses ({ }) are not used to declare the function, ***indentation*** is used instead\n",
    "* We don't specify the parameter's ***type*** (python is a dynamic language!) "
   ]
  },
  {
   "cell_type": "code",
   "execution_count": 2,
   "metadata": {},
   "outputs": [
    {
     "name": "stdout",
     "output_type": "stream",
     "text": [
      "Hello, everyone!\n",
      "Hello, John Gosset!\n",
      "Hello, 42!\n",
      "Hello, jerry!\n"
     ]
    }
   ],
   "source": [
    "hello(\"everyone\")\n",
    "hello()\n",
    "hello(\"42\")\n",
    "hello(\"jerry\")"
   ]
  },
  {
   "cell_type": "code",
   "execution_count": 3,
   "metadata": {},
   "outputs": [],
   "source": [
    "def hello():\n",
    "    print(\"Hello!!!!!!\")"
   ]
  },
  {
   "cell_type": "code",
   "execution_count": 5,
   "metadata": {},
   "outputs": [
    {
     "name": "stdout",
     "output_type": "stream",
     "text": [
      "Hello!!!!!!\n"
     ]
    }
   ],
   "source": [
    "hello()"
   ]
  },
  {
   "cell_type": "markdown",
   "metadata": {},
   "source": [
    "## Packages and modules"
   ]
  },
  {
   "cell_type": "markdown",
   "metadata": {},
   "source": [
    "Python provides a large quantity of modules. Modules are imported using the keyword ***import***:"
   ]
  },
  {
   "cell_type": "code",
   "execution_count": 7,
   "metadata": {},
   "outputs": [],
   "source": [
    "# os is the module that lets us interact with the operating system\n",
    "import os"
   ]
  },
  {
   "cell_type": "code",
   "execution_count": 10,
   "metadata": {},
   "outputs": [
    {
     "data": {
      "text/plain": [
       "'/'"
      ]
     },
     "execution_count": 10,
     "metadata": {},
     "output_type": "execute_result"
    }
   ],
   "source": [
    "# obtain the system's path separator\n",
    "os.sep"
   ]
  },
  {
   "cell_type": "markdown",
   "metadata": {},
   "source": [
    "## Comparisons\n",
    "<table border=\"1\" class=\"docutils\">\n",
    "<colgroup>\n",
    "<col width=\"27%\">\n",
    "<col width=\"57%\">\n",
    "</colgroup>\n",
    "<thead valign=\"bottom\">\n",
    "<tr><th class=\"head\">Operation</th>\n",
    "<th class=\"head\">Meaning</th>\n",
    "</tr>\n",
    "</thead>\n",
    "<tbody valign=\"top\">\n",
    "<tr><td><tt class=\"docutils literal\"><span class=\"pre\">&lt;</span></tt></td>\n",
    "<td>less than</td>\n",
    "</tr>\n",
    "<tr><td><tt class=\"docutils literal\"><span class=\"pre\">&lt;=</span></tt></td>\n",
    "<td>less than or equal to</td>\n",
    "</tr>\n",
    "<tr><td><tt class=\"docutils literal\"><span class=\"pre\">&gt;</span></tt></td>\n",
    "<td>greater than</td>\n",
    "</tr>\n",
    "<tr><td><tt class=\"docutils literal\"><span class=\"pre\">&gt;=</span></tt></td>\n",
    "<td>greater than or equal to</td>\n",
    "</tr>\n",
    "<tr><td><tt class=\"docutils literal\"><span class=\"pre\">==</span></tt></td>\n",
    "<td>equal</td>\n",
    "</tr>\n",
    "<tr><td><tt class=\"docutils literal\"><span class=\"pre\">!=</span></tt></td>\n",
    "<td>not equal</td>\n",
    "</tr>\n",
    "<tr><td><tt class=\"docutils literal\"><span class=\"pre\">is</span></tt></td>\n",
    "<td>identity</td>\n",
    "</tr>\n",
    "<tr><td><tt class=\"docutils literal\"><span class=\"pre\">is</span> <span class=\"pre\">not</span></tt></td>\n",
    "<td>negation</td>\n",
    "</tr>\n",
    "</tbody>\n",
    "</table>"
   ]
  },
  {
   "cell_type": "markdown",
   "metadata": {},
   "source": [
    "### Examples"
   ]
  },
  {
   "cell_type": "code",
   "execution_count": 11,
   "metadata": {},
   "outputs": [
    {
     "data": {
      "text/plain": [
       "True"
      ]
     },
     "execution_count": 11,
     "metadata": {},
     "output_type": "execute_result"
    }
   ],
   "source": [
    "# Comparaison of two numbers\n",
    "1 < 2"
   ]
  },
  {
   "cell_type": "code",
   "execution_count": 12,
   "metadata": {},
   "outputs": [
    {
     "data": {
      "text/plain": [
       "True"
      ]
     },
     "execution_count": 12,
     "metadata": {},
     "output_type": "execute_result"
    }
   ],
   "source": [
    "1 != 2"
   ]
  },
  {
   "cell_type": "code",
   "execution_count": 11,
   "metadata": {},
   "outputs": [
    {
     "data": {
      "text/plain": [
       "True"
      ]
     },
     "execution_count": 11,
     "metadata": {},
     "output_type": "execute_result"
    }
   ],
   "source": [
    "# Compare two strings\n",
    "\"Hello\" == \"Hello\""
   ]
  },
  {
   "cell_type": "code",
   "execution_count": 12,
   "metadata": {},
   "outputs": [
    {
     "data": {
      "text/plain": [
       "True"
      ]
     },
     "execution_count": 12,
     "metadata": {},
     "output_type": "execute_result"
    }
   ],
   "source": [
    "# verify a variable's type\n",
    "type(\"Hello\") is str"
   ]
  },
  {
   "cell_type": "markdown",
   "metadata": {},
   "source": [
    "### ***if-blocks***, in python, have the following structure\n",
    "\n",
    "* In an if-block, indentation is needed after each condition"
   ]
  },
  {
   "cell_type": "code",
   "execution_count": 27,
   "metadata": {},
   "outputs": [],
   "source": [
    "age = 14"
   ]
  },
  {
   "cell_type": "code",
   "execution_count": 28,
   "metadata": {},
   "outputs": [
    {
     "name": "stdout",
     "output_type": "stream",
     "text": [
      "Admission costs $3\n"
     ]
    }
   ],
   "source": [
    "if age < 13:\n",
    "    print(\"Admission costs $2\")\n",
    "elif age >= 13 and age < 18:\n",
    "    print(\"Admission costs $3\")\n",
    "else:\n",
    "    print(\"Admission costs $8\")\n",
    "    "
   ]
  },
  {
   "cell_type": "markdown",
   "metadata": {},
   "source": [
    "#### Exercise\n",
    "Write a function that receives a number and returns whether the number's even\n",
    "\n",
    "***Note***: since the body of a python function is not delimited by parentheses, the keyword ***pass*** must be used to declare an empty function"
   ]
  },
  {
   "cell_type": "code",
   "execution_count": 2,
   "metadata": {},
   "outputs": [
    {
     "data": {
      "text/plain": [
       "True"
      ]
     },
     "execution_count": 2,
     "metadata": {},
     "output_type": "execute_result"
    }
   ],
   "source": [
    "is_number_even(2) # Must return True"
   ]
  },
  {
   "cell_type": "code",
   "execution_count": 3,
   "metadata": {},
   "outputs": [
    {
     "data": {
      "text/plain": [
       "False"
      ]
     },
     "execution_count": 3,
     "metadata": {},
     "output_type": "execute_result"
    }
   ],
   "source": [
    "is_number_even(3) # Must return False"
   ]
  },
  {
   "cell_type": "code",
   "execution_count": null,
   "metadata": {},
   "outputs": [],
   "source": [
    "def is_number_even(number):\n",
    "    if number"
   ]
  }
 ],
 "metadata": {
  "kernelspec": {
   "display_name": "Python 3",
   "language": "python",
   "name": "python3"
  },
  "language_info": {
   "codemirror_mode": {
    "name": "ipython",
    "version": 3
   },
   "file_extension": ".py",
   "mimetype": "text/x-python",
   "name": "python",
   "nbconvert_exporter": "python",
   "pygments_lexer": "ipython3",
   "version": "3.6.5"
  }
 },
 "nbformat": 4,
 "nbformat_minor": 1
}
