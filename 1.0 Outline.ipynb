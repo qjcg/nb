{
 "cells": [
  {
   "cell_type": "markdown",
   "metadata": {},
   "source": [
    "# Python: Beyond the Basics\n",
    "\n",
    "Workshop by John Gosset<br />\n",
    "August 27-29, 2019<br />\n",
    "DRW\n",
    "\n",
    "**Audience**: Experienced Python programmers<br />\n",
    "**Days**: 3\n",
    "\n",
    "\n",
    "## Day 1\n",
    "\n",
    "- Introduction\n",
    "    - Course Tools\n",
    "- Clean code\n",
    "- Design patterns\n",
    "- Best practices\n",
    "- Organizing large projects\n",
    "- Testing\n",
    "\n",
    "## Day 2\n",
    "\n",
    "- Data Science\n",
    "    - numpy\n",
    "    - pandas\n",
    "    - scikit-learn\n",
    "    - bokeh\n",
    "    - plotly dash\n",
    "- Debugging\n",
    "- Profiling\n",
    "- Performance\n",
    "    - multithreading\n",
    "    - multiprocessing\n",
    "    - the GIL in a performance context\n",
    "\n",
    "        \n",
    "## Day 3\n",
    "\n",
    "- Packaging, distributing & deploying\n",
    "- Machine Learning Fundamentals\n",
    "- Review\n",
    "- Capstone\n",
    "\n",
    "\n",
    "## References\n",
    "\n",
    "- PYD: [Official Python Documentation](https://docs.python.org/3/)\n",
    "- CCP: [Clean Code in Python](https://www.oreilly.com/library/view/clean-code-in/9781788835831/)\n",
    "    - <https://jgosset.net/dl/clean-code-in-python.pdf>\n",
    "    - https://github.com/PacktPublishing/Clean-Code-in-Python"
   ]
  }
 ],
 "metadata": {
  "kernelspec": {
   "display_name": "Python 3",
   "language": "python",
   "name": "python3"
  },
  "language_info": {
   "codemirror_mode": {
    "name": "ipython",
    "version": 3
   },
   "file_extension": ".py",
   "mimetype": "text/x-python",
   "name": "python",
   "nbconvert_exporter": "python",
   "pygments_lexer": "ipython3",
   "version": "3.7.3"
  }
 },
 "nbformat": 4,
 "nbformat_minor": 4
}
