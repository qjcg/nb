{
 "cells": [
  {
   "cell_type": "markdown",
   "metadata": {},
   "source": [
    "# Modules\n",
    "\n",
    "The following set of files illustrates the creation of a very simple module (hello.py), used by a second module (greeter.py), and finally called by the complainer.py script."
   ]
  },
  {
   "cell_type": "code",
   "execution_count": 1,
   "metadata": {},
   "outputs": [],
   "source": [
    "# hello.py (our \"hello module\")\n",
    "def bonjour(name='mon ami'):\n",
    "    print('Bonjour', name)"
   ]
  },
  {
   "cell_type": "code",
   "execution_count": 2,
   "metadata": {},
   "outputs": [
    {
     "ename": "ImportError",
     "evalue": "No module named 'bonjour'",
     "output_type": "error",
     "traceback": [
      "\u001b[1;31m---------------------------------------------------------------------------\u001b[0m\n\u001b[1;31mImportError\u001b[0m                               Traceback (most recent call last)",
      "\u001b[1;32m<ipython-input-2-d52de015d74f>\u001b[0m in \u001b[0;36m<module>\u001b[1;34m()\u001b[0m\n\u001b[0;32m      8\u001b[0m \u001b[1;31m# ex: ./greeter.py\u001b[0m\u001b[1;33m\u001b[0m\u001b[1;33m\u001b[0m\u001b[0m\n\u001b[0;32m      9\u001b[0m \u001b[1;32mif\u001b[0m \u001b[0m__name__\u001b[0m \u001b[1;33m==\u001b[0m \u001b[1;34m'__main__'\u001b[0m\u001b[1;33m:\u001b[0m\u001b[1;33m\u001b[0m\u001b[0m\n\u001b[1;32m---> 10\u001b[1;33m     \u001b[1;32mfrom\u001b[0m \u001b[0mbonjour\u001b[0m \u001b[1;32mimport\u001b[0m \u001b[0mhello\u001b[0m\u001b[1;33m\u001b[0m\u001b[0m\n\u001b[0m\u001b[0;32m     11\u001b[0m \u001b[1;33m\u001b[0m\u001b[0m\n\u001b[0;32m     12\u001b[0m     \u001b[0mhello\u001b[0m\u001b[1;33m(\u001b[0m\u001b[1;34m'john'\u001b[0m\u001b[1;33m)\u001b[0m\u001b[1;33m\u001b[0m\u001b[0m\n",
      "\u001b[1;31mImportError\u001b[0m: No module named 'bonjour'"
     ]
    }
   ],
   "source": [
    "# greeter.py (our \"greeter module\")\n",
    "#!/usr/bin/env python3\n",
    "\n",
    "def blah():\n",
    "    print(\"blah blah blah\")\n",
    "\n",
    "# This block only executes if this file invoked as an executable script\n",
    "# ex: ./greeter.py\n",
    "if __name__ == '__main__':\n",
    "    from hello import bonjour\n",
    "\n",
    "    bonjour('john')\n",
    "    bonjour('sandeep')\n",
    "    bonjour('eoin')"
   ]
  },
  {
   "cell_type": "code",
   "execution_count": 5,
   "metadata": {},
   "outputs": [
    {
     "ename": "ImportError",
     "evalue": "No module named greeter",
     "output_type": "error",
     "traceback": [
      "\u001b[1;31m---------------------------------------------------------------------------\u001b[0m\n\u001b[1;31mImportError\u001b[0m                               Traceback (most recent call last)",
      "\u001b[1;32m<ipython-input-5-bf2194dae0e7>\u001b[0m in \u001b[0;36m<module>\u001b[1;34m()\u001b[0m\n\u001b[0;32m      2\u001b[0m \u001b[1;31m#!/usr/bin/env python2\u001b[0m\u001b[1;33m\u001b[0m\u001b[1;33m\u001b[0m\u001b[0m\n\u001b[0;32m      3\u001b[0m \u001b[1;33m\u001b[0m\u001b[0m\n\u001b[1;32m----> 4\u001b[1;33m \u001b[1;32mfrom\u001b[0m \u001b[0mgreeter\u001b[0m \u001b[1;32mimport\u001b[0m \u001b[0mblah\u001b[0m\u001b[1;33m\u001b[0m\u001b[0m\n\u001b[0m\u001b[0;32m      5\u001b[0m \u001b[0mblah\u001b[0m\u001b[1;33m(\u001b[0m\u001b[1;33m)\u001b[0m\u001b[1;33m\u001b[0m\u001b[0m\n",
      "\u001b[1;31mImportError\u001b[0m: No module named greeter"
     ]
    }
   ],
   "source": [
    "# complainer.py\n",
    "#!/usr/bin/env python3\n",
    "\n",
    "from greeter import blah\n",
    "blah()"
   ]
  },
  {
   "cell_type": "markdown",
   "metadata": {},
   "source": [
    "# Exercise\n",
    "\n",
    "- Create a module `tradelib.py` that contains a function `sell` that prints a trade sale confirmation to the console\n",
    "- Import this module into a second file, `tradeapp`, and make use of the sell function within it.\n",
    "- Run `tradeapp` via the command line and ensure that you see the output of the `sell` function.\n",
    "- In your `tradelib.py` file, add a `if __name__ == '__main__'` condition and add a `print` statement to it. Observe the output when the `tradelib.py` module is excecuted directly VS imported as a library into the `tradeapp` program.\n",
    "\n",
    "## Outcomes\n",
    "- Importance of environment variables:\n",
    "    - `PATH` --- for EXECUTABLES\n",
    "    - `PYTHONPATH` --- for LIBRARIES"
   ]
  },
  {
   "cell_type": "code",
   "execution_count": null,
   "metadata": {},
   "outputs": [],
   "source": []
  },
  {
   "cell_type": "markdown",
   "metadata": {},
   "source": [
    "# Packages"
   ]
  },
  {
   "cell_type": "markdown",
   "metadata": {},
   "source": [
    "## Exercise\n",
    "\n",
    "Remembering that a Python package is simply a directory containing a `__init__.py` file...\n",
    "\n",
    "\n",
    "Definir un nouveau package CMLabsTools qui contient au moins 2 modules qui contient chacun au moins un fonction et un variable.\n",
    "\n",
    "Assurez-vous ensuite de pouvoir importer votre package et ses modules, et de accéder aux fonctions et variables qu'ils définissent.\n",
    "\n",
    "\n",
    "---\n",
    "# Exercise: Packages\n",
    "\n",
    "Remembering that a Python package is simply a directory containing an `__init__.py` file and Python modules...\n",
    "\n",
    "Define a package `DRWTools` that contains the modules `market.py` and `trade.py`.\n",
    "\n",
    "`market.py` and `trade.py` should each contain at least one function per module.\n",
    "\n",
    "Once this package has been created, make sure the directory containing your package is in your `PYTHONPATH`, and run `ipython`. Make use of your package in an interactive session."
   ]
  },
  {
   "cell_type": "markdown",
   "metadata": {},
   "source": [
    "# Various uses of the import keyword"
   ]
  },
  {
   "cell_type": "markdown",
   "metadata": {},
   "source": [
    "```python\n",
    "import random\n",
    "# then, to call functions from random:\n",
    "random.randrange(11)\n",
    "\n",
    "# OR, you could import the randrange into the GLOBAL namespace\n",
    "from random import randrange\n",
    "randrange(11)\n",
    "\n",
    "# from package urllib, import request module\n",
    "import urllib.request\n",
    "# then, to call functions from request module\n",
    "urllib.request.get(...)\n",
    "\n",
    "# Alternatively\n",
    "from urllib import request\n",
    "request.get(...)\n",
    "\n",
    "# OR, using an alias\n",
    "import urllib.request as req\n",
    "req.get(...)\n",
    "\n",
    "# Finally, you can just import everything into the global namespace (often a BAD idea though!)\n",
    "from package import *\n",
    "\n",
    "# If you have a PACKAGE, and you want to do an import in your `__init__.py` RELATIVE to your package, you can use a REALTIVE import\n",
    "from . import module1\n",
    "from .module1 import myfunc, MyClass\n",
    "```"
   ]
  },
  {
   "cell_type": "markdown",
   "metadata": {},
   "source": [
    "# Virtual Envs & Packging with Poetry"
   ]
  },
  {
   "cell_type": "markdown",
   "metadata": {},
   "source": [
    "- Install poetry (`pip install --user poetry`)\n",
    "- Change to a NEW DIRECTORY with NOTHING ELSE IN IT for your NEW PROJECT\n",
    "- Create a new poetry project: `poetry init`\n",
    "- Add a module to your poetry project\n",
    "    - Using your editor, create a PROJECTNAME package with a module in it\n",
    "- Add a dependency to your project (that should be used by your module)\n",
    "    - `poetry add MODULENAME` or `poetry add --dev MODULENAME`\n",
    "- Build it as a wheel\n",
    "    - `poetry build -f wheel`\n",
    "- Install the wheel\n",
    "    - `pip install dist/name-of-your.whl`"
   ]
  }
 ],
 "metadata": {
  "kernelspec": {
   "display_name": "Python 3",
   "language": "python",
   "name": "python3"
  },
  "language_info": {
   "codemirror_mode": {
    "name": "ipython",
    "version": 3
   },
   "file_extension": ".py",
   "mimetype": "text/x-python",
   "name": "python",
   "nbconvert_exporter": "python",
   "pygments_lexer": "ipython3",
   "version": "3.7.2"
  }
 },
 "nbformat": 4,
 "nbformat_minor": 2
}
