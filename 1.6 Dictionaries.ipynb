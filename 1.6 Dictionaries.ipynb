{
 "cells": [
  {
   "cell_type": "markdown",
   "metadata": {},
   "source": [
    "# Dictionaries\n",
    "\n",
    "- aka \"associative arrays\", \"hash tables\", \"maps\"\n",
    "- key can be tuple, not a list\n",
    "- create, access, modify, verify the presence, get with default value"
   ]
  },
  {
   "cell_type": "code",
   "execution_count": 1,
   "metadata": {},
   "outputs": [
    {
     "name": "stdout",
     "output_type": "stream",
     "text": [
      "User: {'age': 44, 'name': 'Vince Vaughn'}\n",
      "Age: 44\n",
      "Name: Vince Vaughn\n",
      "Keys: dict_keys(['age', 'name'])\n",
      "Values: dict_values([44, 'Vince Vaughn'])\n",
      "Items (list of tuples): dict_items([('age', 44), ('name', 'Vince Vaughn')])\n"
     ]
    }
   ],
   "source": [
    "user = {'age': 44, 'name': \"Vince Vaughn\"}\n",
    "fren = dict(chat='cat', chien='dog', cheval='horse')\n",
    "\n",
    "fren['homme'] = 'man'\n",
    "del fren['chat']\n",
    "\n",
    "print(\"User:\", user)\n",
    "print(\"Age:\", user['age'])\n",
    "print(\"Name:\", user['name'])\n",
    "print(\"Keys:\", user.keys())\n",
    "print(\"Values:\", user.values())\n",
    "print(\"Items (list of tuples):\", user.items())"
   ]
  },
  {
   "cell_type": "markdown",
   "metadata": {},
   "source": [
    "## User visits"
   ]
  },
  {
   "cell_type": "code",
   "execution_count": 1,
   "metadata": {},
   "outputs": [
    {
     "name": "stdout",
     "output_type": "stream",
     "text": [
      "Please enter your name: John\n",
      "\tWelcome John!\n",
      "\n",
      "Please enter your name: Jack\n",
      "\tWelcome Jack!\n",
      "\n",
      "Please enter your name: John\n",
      "\tHello John, it's been 2 times now!\n",
      "\n",
      "Please enter your name: John\n",
      "\tHello John, it's been 3 times now!\n",
      "\n",
      "Please enter your name: Jack\n",
      "\tHello Jack, it's been 2 times now!\n",
      "\n",
      "Please enter your name: \n"
     ]
    }
   ],
   "source": [
    "visits = {}\n",
    "\n",
    "while True:\n",
    "    name = input(\"Please enter your name: \")\n",
    "    if not name:\n",
    "        break\n",
    "    if name in visits:\n",
    "        visits[name] += 1\n",
    "        print(\"\\tHello {}, it's been {:d} times now!\\n\".format(name, visits[name]))\n",
    "    else:\n",
    "        visits[name] = 1\n",
    "        print(\"\\tWelcome {}!\\n\".format(name))"
   ]
  },
  {
   "cell_type": "code",
   "execution_count": 2,
   "metadata": {},
   "outputs": [
    {
     "data": {
      "text/plain": [
       "{'John': 3, 'Jack': 2}"
      ]
     },
     "execution_count": 2,
     "metadata": {},
     "output_type": "execute_result"
    }
   ],
   "source": [
    "visits"
   ]
  },
  {
   "cell_type": "markdown",
   "metadata": {},
   "source": [
    "## Exercise\n",
    "\n",
    "Example kv pairs:\n",
    "- chien / dog\n",
    "- chat / cat\n",
    "- maison / house\n",
    "\n",
    "\n",
    "- Write a small french-english dictionary with at least 3 key-value pairs"
   ]
  },
  {
   "cell_type": "code",
   "execution_count": null,
   "metadata": {},
   "outputs": [],
   "source": []
  }
 ],
 "metadata": {
  "kernelspec": {
   "display_name": "Python 3",
   "language": "python",
   "name": "python3"
  },
  "language_info": {
   "codemirror_mode": {
    "name": "ipython",
    "version": 3
   },
   "file_extension": ".py",
   "mimetype": "text/x-python",
   "name": "python",
   "nbconvert_exporter": "python",
   "pygments_lexer": "ipython3",
   "version": "3.7.2"
  }
 },
 "nbformat": 4,
 "nbformat_minor": 2
}
