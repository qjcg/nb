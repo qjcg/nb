{
 "metadata": {
  "name": "",
  "signature": "sha256:290547c0ee48e3110883ccb05568ab501f160a80c540a9370c2566b2ad2450c7"
 },
 "nbformat": 3,
 "nbformat_minor": 0,
 "worksheets": [
  {
   "cells": [
    {
     "cell_type": "markdown",
     "metadata": {},
     "source": [
      "# Dictionaries\n",
      "\n",
      "- aka \"associative arrays\", \"hash tables\", \"maps\"\n",
      "- key can be tuple, not a list\n",
      "- create, access, modify, verify the presence, get with default value"
     ]
    },
    {
     "cell_type": "code",
     "collapsed": false,
     "input": [
      "user = {'age': 44, 'name': \"Vince Vaughn\"}\n",
      "fren = dict(chat='cat', chien='dog', cheval='horse')\n",
      "\n",
      "fren['homme'] = 'man'\n",
      "del fren['chat']\n",
      "\n",
      "print(\"User:\", user)\n",
      "print(\"Age:\", user['age'])\n",
      "print(\"Name:\", user['name'])\n",
      "print(\"Keys:\", user.keys())\n",
      "print(\"Values:\", user.values())\n",
      "print(\"Items (list of tuples):\", user.items())"
     ],
     "language": "python",
     "metadata": {},
     "outputs": [
      {
       "output_type": "stream",
       "stream": "stdout",
       "text": [
        "User: {'age': 44, 'name': 'Vince Vaughn'}\n",
        "Age: 44\n",
        "Name: Vince Vaughn\n",
        "Keys: ['age', 'name']\n",
        "Values: [44, 'Vince Vaughn']\n",
        "Items (list of tuples): [('age', 44), ('name', 'Vince Vaughn')]\n"
       ]
      }
     ],
     "prompt_number": 1
    },
    {
     "cell_type": "markdown",
     "metadata": {},
     "source": [
      "## User visits"
     ]
    },
    {
     "cell_type": "code",
     "collapsed": false,
     "input": [
      "visits = {}\n",
      "\n",
      "while True:\n",
      "    name = input(\"Please enter your name: \")\n",
      "    if not name:\n",
      "        break\n",
      "    if name in visits:\n",
      "        visits[name] += 1\n",
      "        print(\"\\tHello {}, it's been {:d} times now!\\n\".format(name, visits[name]))\n",
      "    else:\n",
      "        visits[name] = 1\n",
      "        print(\"\\tWelcome {}!\\n\".format(name))"
     ],
     "language": "python",
     "metadata": {},
     "outputs": [
      {
       "name": "stdout",
       "output_type": "stream",
       "stream": "stdout",
       "text": [
        "Please enter your name: John\n"
       ]
      },
      {
       "output_type": "stream",
       "stream": "stdout",
       "text": [
        "\tWelcome John!\n",
        "\n"
       ]
      },
      {
       "name": "stdout",
       "output_type": "stream",
       "stream": "stdout",
       "text": [
        "Please enter your name: John\n"
       ]
      },
      {
       "output_type": "stream",
       "stream": "stdout",
       "text": [
        "\tHello John, it's been 2 times now!\n",
        "\n"
       ]
      },
      {
       "name": "stdout",
       "output_type": "stream",
       "stream": "stdout",
       "text": [
        "Please enter your name: John\n"
       ]
      },
      {
       "output_type": "stream",
       "stream": "stdout",
       "text": [
        "\tHello John, it's been 3 times now!\n",
        "\n"
       ]
      },
      {
       "name": "stdout",
       "output_type": "stream",
       "stream": "stdout",
       "text": [
        "Please enter your name: Jack\n"
       ]
      },
      {
       "output_type": "stream",
       "stream": "stdout",
       "text": [
        "\tWelcome Jack!\n",
        "\n"
       ]
      },
      {
       "name": "stdout",
       "output_type": "stream",
       "stream": "stdout",
       "text": [
        "Please enter your name: \n"
       ]
      }
     ],
     "prompt_number": 1
    },
    {
     "cell_type": "code",
     "collapsed": false,
     "input": [
      "visits"
     ],
     "language": "python",
     "metadata": {},
     "outputs": [
      {
       "metadata": {},
       "output_type": "pyout",
       "prompt_number": 2,
       "text": [
        "{'Jack': 1, 'John': 3}"
       ]
      }
     ],
     "prompt_number": 2
    },
    {
     "cell_type": "markdown",
     "metadata": {},
     "source": [
      "## Exercise\n",
      "\n",
      "- Write a small french-english dictionary with at least 3 key-value pairs"
     ]
    }
   ],
   "metadata": {}
  }
 ]
}