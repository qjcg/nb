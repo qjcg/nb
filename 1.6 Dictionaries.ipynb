{
 "cells": [
  {
   "cell_type": "markdown",
   "metadata": {},
   "source": [
    "# Dictionaries\n",
    "\n",
    "- aka \"associative arrays\", \"hash tables\", \"maps\"\n",
    "- key can be tuple, not a list\n",
    "- create, access, modify, verify the presence, get with default value"
   ]
  },
  {
   "cell_type": "code",
   "execution_count": 1,
   "metadata": {},
   "outputs": [
    {
     "name": "stdout",
     "output_type": "stream",
     "text": [
      "User: {'age': 44, 'name': 'Vince Vaughn'}\n",
      "Age: 44\n",
      "Name: Vince Vaughn\n",
      "Keys: dict_keys(['age', 'name'])\n",
      "Values: dict_values([44, 'Vince Vaughn'])\n",
      "Items (list of tuples): dict_items([('age', 44), ('name', 'Vince Vaughn')])\n"
     ]
    }
   ],
   "source": [
    "user = {'age': 44, 'name': \"Vince Vaughn\"}\n",
    "fren = dict(chat='cat', chien='dog', cheval='horse')\n",
    "\n",
    "fren['homme'] = 'man'\n",
    "del fren['chat']\n",
    "\n",
    "print(\"User:\", user)\n",
    "print(\"Age:\", user['age'])\n",
    "print(\"Name:\", user['name'])\n",
    "print(\"Keys:\", user.keys())\n",
    "print(\"Values:\", user.values())\n",
    "print(\"Items (list of tuples):\", user.items())"
   ]
  },
  {
   "cell_type": "markdown",
   "metadata": {},
   "source": [
    "## User visits"
   ]
  },
  {
   "cell_type": "code",
   "execution_count": 1,
   "metadata": {},
   "outputs": [
    {
     "name": "stdout",
     "output_type": "stream",
     "text": [
      "Please enter your name: Jerry Q. Hacker\n",
      "\tWelcome Jerry Q. Hacker!\n",
      "\n",
      "Please enter your name: Jerry Q. Hacker\n",
      "\tHello Jerry Q. Hacker, it's been 2 times now!\n",
      "\n",
      "Please enter your name: June\n",
      "\tWelcome June!\n",
      "\n",
      "Please enter your name: June\n",
      "\tHello June, it's been 2 times now!\n",
      "\n",
      "Please enter your name: June\n",
      "\tHello June, it's been 3 times now!\n",
      "\n",
      "Please enter your name: Jerry Q. Hacker\n",
      "\tHello Jerry Q. Hacker, it's been 3 times now!\n",
      "\n",
      "Please enter your name: \n"
     ]
    }
   ],
   "source": [
    "visits = {}\n",
    "\n",
    "while True:\n",
    "    name = input(\"Please enter your name: \")\n",
    "    if not name:\n",
    "        break\n",
    "    if name in visits:\n",
    "        visits[name] += 1\n",
    "        print(\"\\tHello {}, it's been {:d} times now!\\n\".format(name, visits[name]))\n",
    "    else:\n",
    "        visits[name] = 1\n",
    "        print(\"\\tWelcome {}!\\n\".format(name))"
   ]
  },
  {
   "cell_type": "code",
   "execution_count": 2,
   "metadata": {},
   "outputs": [
    {
     "data": {
      "text/plain": [
       "{'Jerry Q. Hacker': 3, 'June': 3}"
      ]
     },
     "execution_count": 2,
     "metadata": {},
     "output_type": "execute_result"
    }
   ],
   "source": [
    "visits"
   ]
  },
  {
   "cell_type": "markdown",
   "metadata": {},
   "source": [
    "## Exercise: Dictionary Basics\n",
    "\n",
    "Given that basic dictionary syntax is:\n",
    "\n",
    "```python\n",
    "my_dict = {\"key1\": \"val1\", \"key2\": \"val2\"}\n",
    "\n",
    "# Then, to look up a value:\n",
    "my_dict[\"key1\"]\n",
    "\n",
    "# To add a new value:\n",
    "my_dict[\"key99\"] = \"val99\"\n",
    "\n",
    "# HOWEVER, the above will throw an error if the key doesn't exist.\n",
    "# To avoid that (returning nothing if the key doesn't exist):\n",
    "my_dict.get(\"key7\")\n",
    "\n",
    "# To avoid that (adding the key with a default value to the dict):\n",
    "my_dict.setdefault(\"key7\", \"some default value\")\n",
    "```\n",
    "\n",
    "\n",
    "Steps:\n",
    "\n",
    "1. Create a new dictionary with the key / value pairs below\n",
    "    - chien / dog\n",
    "    - chat / cat\n",
    "    - maison / house\n",
    "2. Use your dictionary to find the english word for \"maison\"\n",
    "3. Delete the k/v pair \"chien\" / \"dog\"\n",
    "4. Add the k/v pair \"perroquet\" / \"parrot\"\n",
    "\n",
    "## Notes\n",
    "\n",
    "- To do a lookup, and if a key is not found, add it and set a default value: `my_dict.setdefault(\"key\", \"default val\")`\n",
    "- Use the `del` keyword for deleting"
   ]
  },
  {
   "cell_type": "code",
   "execution_count": 6,
   "metadata": {},
   "outputs": [],
   "source": [
    "# SOLUTION\n",
    "fr_en = {\n",
    "    \"chien\": \"dog\",\n",
    "    \"chat\": \"cat\",\n",
    "    \"maison\": \"house\",\n",
    "}"
   ]
  },
  {
   "cell_type": "code",
   "execution_count": 7,
   "metadata": {},
   "outputs": [
    {
     "data": {
      "text/plain": [
       "'house'"
      ]
     },
     "execution_count": 7,
     "metadata": {},
     "output_type": "execute_result"
    }
   ],
   "source": [
    "fr_en[\"maison\"]"
   ]
  },
  {
   "cell_type": "code",
   "execution_count": 8,
   "metadata": {},
   "outputs": [
    {
     "data": {
      "text/plain": [
       "{'chat': 'cat', 'maison': 'house'}"
      ]
     },
     "execution_count": 8,
     "metadata": {},
     "output_type": "execute_result"
    }
   ],
   "source": [
    "del fr_en[\"chien\"]\n",
    "fr_en"
   ]
  },
  {
   "cell_type": "code",
   "execution_count": 9,
   "metadata": {},
   "outputs": [
    {
     "data": {
      "text/plain": [
       "{'chat': 'cat', 'maison': 'house', 'perroquet': 'parrot'}"
      ]
     },
     "execution_count": 9,
     "metadata": {},
     "output_type": "execute_result"
    }
   ],
   "source": [
    "fr_en[\"perroquet\"] = \"parrot\"\n",
    "fr_en"
   ]
  },
  {
   "cell_type": "code",
   "execution_count": 10,
   "metadata": {},
   "outputs": [
    {
     "data": {
      "text/plain": [
       "'jupiter'"
      ]
     },
     "execution_count": 10,
     "metadata": {},
     "output_type": "execute_result"
    }
   ],
   "source": [
    "coords = {(1, 5): \"jupiter\", (1, 6): \"saturn\"}\n",
    "coords[(1, 5)]"
   ]
  },
  {
   "cell_type": "code",
   "execution_count": 11,
   "metadata": {},
   "outputs": [
    {
     "ename": "TypeError",
     "evalue": "unhashable type: 'list'",
     "output_type": "error",
     "traceback": [
      "\u001b[0;31m---------------------------------------------------------------------------\u001b[0m",
      "\u001b[0;31mTypeError\u001b[0m                                 Traceback (most recent call last)",
      "\u001b[0;32m<ipython-input-11-8233b2062b47>\u001b[0m in \u001b[0;36m<module>\u001b[0;34m\u001b[0m\n\u001b[1;32m      1\u001b[0m \u001b[0;31m# NOT allowed, only IMMutable types allowed as dict keys:\u001b[0m\u001b[0;34m\u001b[0m\u001b[0;34m\u001b[0m\u001b[0;34m\u001b[0m\u001b[0m\n\u001b[0;32m----> 2\u001b[0;31m \u001b[0mcoords\u001b[0m\u001b[0;34m[\u001b[0m\u001b[0;34m[\u001b[0m\u001b[0;36m1\u001b[0m\u001b[0;34m,\u001b[0m \u001b[0;36m7\u001b[0m\u001b[0;34m]\u001b[0m\u001b[0;34m]\u001b[0m \u001b[0;34m=\u001b[0m \u001b[0;34m\"mars\"\u001b[0m\u001b[0;34m\u001b[0m\u001b[0;34m\u001b[0m\u001b[0m\n\u001b[0m",
      "\u001b[0;31mTypeError\u001b[0m: unhashable type: 'list'"
     ]
    }
   ],
   "source": [
    "# NOT allowed, only IMMutable types allowed as dict keys:\n",
    "coords[[1, 7]] = \"mars\""
   ]
  },
  {
   "cell_type": "code",
   "execution_count": null,
   "metadata": {},
   "outputs": [],
   "source": []
  }
 ],
 "metadata": {
  "kernelspec": {
   "display_name": "Python 3",
   "language": "python",
   "name": "python3"
  },
  "language_info": {
   "codemirror_mode": {
    "name": "ipython",
    "version": 3
   },
   "file_extension": ".py",
   "mimetype": "text/x-python",
   "name": "python",
   "nbconvert_exporter": "python",
   "pygments_lexer": "ipython3",
   "version": "3.7.3"
  }
 },
 "nbformat": 4,
 "nbformat_minor": 2
}
