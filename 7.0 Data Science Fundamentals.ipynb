{
 "cells": [
  {
   "cell_type": "markdown",
   "metadata": {},
   "source": [
    "# Data Science Fundamentals\n",
    "\n",
    "## Useful Resources\n",
    "\n",
    "### Data Structures & Manipulation\n",
    "\n",
    "- [numpy](http://www.numpy.org/)\n",
    "- [pandas](http://pandas.pydata.org/)\n",
    "\n",
    "### Plotting\n",
    "- [matplotlib](https://matplotlib.org/) ([examples](https://matplotlib.org/gallery/index.html))\n",
    "- [seaborn](https://seaborn.pydata.org/index.html) ([examples](https://seaborn.pydata.org/examples/index.html))\n",
    "- [bokeh](https://bokeh.pydata.org/en/latest/) ([gallery](https://bokeh.pydata.org/en/latest/docs/gallery.html#gallery), [quickstart](http://nbviewer.jupyter.org/github/bokeh/bokeh-notebooks/blob/master/quickstart/quickstart.ipynb))\n",
    "\n",
    "### \n",
    "\n",
    "- [kaggle](https://www.k"
   ]
  }
 ],
 "metadata": {
  "kernelspec": {
   "display_name": "Python 3",
   "language": "python",
   "name": "python3"
  },
  "language_info": {
   "codemirror_mode": {
    "name": "ipython",
    "version": 3
   },
   "file_extension": ".py",
   "mimetype": "text/x-python",
   "name": "python",
   "nbconvert_exporter": "python",
   "pygments_lexer": "ipython3",
   "version": "3.7.1"
  }
 },
 "nbformat": 4,
 "nbformat_minor": 2
}
