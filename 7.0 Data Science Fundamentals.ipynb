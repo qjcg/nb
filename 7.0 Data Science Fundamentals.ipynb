{
 "cells": [
  {
   "cell_type": "markdown",
   "metadata": {},
   "source": [
    "# Data Science Fundamentals\n",
    "\n",
    "## Useful Resources\n",
    "\n",
    "### Data Structures & Manipulation\n",
    "\n",
    "- [numpy](http://www.numpy.org/)\n",
    "- [pandas](http://pandas.pydata.org/)\n",
    "    - [Introductory Notebook](http://nbviewer.jupyter.org/github/donnemartin/data-science-ipython-notebooks/blob/master/pandas/pandas.ipynb)\n",
    "\n",
    "### Plotting\n",
    "- [matplotlib](https://matplotlib.org/) ([examples](https://matplotlib.org/gallery/index.html))\n",
    "- [seaborn](https://seaborn.pydata.org/index.html) ([examples](https://seaborn.pydata.org/examples/index.html))\n",
    "- [bokeh](https://bokeh.pydata.org/en/latest/) ([gallery](https://bokeh.pydata.org/en/latest/docs/gallery.html#gallery), [quickstart](http://nbviewer.jupyter.org/github/bokeh/bokeh-notebooks/blob/master/quickstart/quickstart.ipynb))\n",
    "\n",
    "### Community\n",
    "\n",
    "- [kaggle](https://www.kaggle.com/) ([kernels](https://www.kaggle.com/kernels))"
   ]
  },
  {
   "cell_type": "markdown",
   "metadata": {},
   "source": [
    "## Vigilant Data\n",
    "\n",
    "- time series (sensors)\n",
    "- network (stats, etc)\n",
    "- trading (sell, buy, ...)\n",
    "- news (natural language, sentiment analysis)"
   ]
  },
  {
   "cell_type": "markdown",
   "metadata": {},
   "source": [
    "# Pandas Exercise\n",
    "\n",
    "1. Go to https://kaggle.com\n",
    "2. Search for a data set that seems interesting to you\n",
    "3. Load it into a Python session as a dataframe\n",
    "4. Do 5 data manipulations on your dataset (using interactive help as needed), and note any things you'd like to do but can't figure out how.\n",
    "\n",
    "\n",
    "# Pandas Exercise #2: Filtering & Querying\n",
    "\n",
    "- Using the DataFrame you created in the previous exercise, use pandas to:\n",
    "    - Get the index values of your dataframe\n",
    "    - Update the index values of your dataframe to use a different numbering scheme\n",
    "    - Filter a column based on a query (ex: column values greater than zero)\n",
    "    - Apply a function to all values in a Series / Column\n",
    "    - Add a new column to your dataframe (method up to you), then delete it"
   ]
  }
 ],
 "metadata": {
  "kernelspec": {
   "display_name": "Python 3",
   "language": "python",
   "name": "python3"
  },
  "language_info": {
   "codemirror_mode": {
    "name": "ipython",
    "version": 3
   },
   "file_extension": ".py",
   "mimetype": "text/x-python",
   "name": "python",
   "nbconvert_exporter": "python",
   "pygments_lexer": "ipython3",
   "version": "3.7.1"
  }
 },
 "nbformat": 4,
 "nbformat_minor": 2
}
