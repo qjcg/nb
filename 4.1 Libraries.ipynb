{
 "cells": [
  {
   "cell_type": "markdown",
   "metadata": {},
   "source": [
    "# Python Style guidelines\n",
    "\n",
    "- [PEP-8](http://legacy.python.org/dev/peps/pep-0008/)\n",
    "    - [flake8](http://flake8.readthedocs.org/en/latest/)\n",
    "\n",
    "# Useful Python modules (stdlib & 3rd party)\n",
    "\n",
    "- pip\n",
    "- subprocess\n",
    "    - Exercise\n",
    "        - use the subprocess.run() and subprocess.Popen methods to launch a subprocess from a python script (or an interactive session)\n",
    "        - use the subprocess.run capture_output argument to assign a value from the standard output of a CLI command to a variable\n",
    "        - assign a value to a variable after running a PIPELINE through subprocess ---> eg: `echo hello | tr a-z A-Z` ... remember to pass the argument `shell=True`!\n",
    "- random: pseudo-random numbers and company\n",
    "    - random.choice\n",
    "    - random.randrange\n",
    "    - random.sample\n",
    "    - random.shuffle\n",
    "- [datetime](http://docs.python.org/3/library/datetime.html), [dateutil](http://labix.org/python-dateutil#head-8d03c6c25ead6f9cab0cde83e6f672b52480ab90), [icalendar](http://icalendar.readthedocs.org/en/latest/usage.html#example), pytz\n",
    "- debugging, performance\n",
    "    - [pdb](http://docs.python.org/3/library/pdb.html)\n",
    "        - Exercise: run any python script and examine it with PDB OR your preferred IDE (ex: VS Code)\n",
    "            - `python -m pdb my_script.py`\n",
    "            Example code for debugging:\n",
    "            ```python\n",
    "            x = 0\n",
    "            for _ in range(10):\n",
    "                x += 1\n",
    "            print(f\"The final value of x is: {x}\")\n",
    "            print(random.randrange(1, 101))\n",
    "            ```\n",
    "            - notice that you can get a list of pdb commands by typing `?`\n",
    "            - set at least one breakpoint using the `break` command and experiment with the `continue` , `next`, and `step` commands\n",
    "            - use the `display` command to display the values of expressions at various points in the execution of your code\n",
    "            - experiment with the `restart` command\n",
    "            - experiment with assigning values to variables during a debugging session\n",
    "            - experiment with the `list` command\n",
    "    - [timeit](http://docs.python.org/3/library/timeit.html)\n",
    "    - [cProfile](http://docs.python.org/3/library/profile.html)\n",
    "        - profile a script using the command line (`python -m cProfile my_script.py`)\n",
    "        - sort by `cumtime`\n",
    "        - save the result to a text file\n",
    "        - save the result in the default binary output format\n",
    "            - data in the binary format can be visualised using several tools, ex: [gprof2dot](https://code.google.com/p/jrfonseca/) (needs the `graphviz` package, which provides the `dot` command, to be installed)\n",
    "            - `gprof2dot -f pstats cProfile.data | dot -Tpng -o my_profile.png`\n",
    "- testing\n",
    "    - [tools overview](https://wiki.python.org/moin/PythonTestingToolsTaxonomy)\n",
    "    - [doctest](http://docs.python.org/3/library/doctest.html)\n",
    "        - Using the stdlib documentation for the `doctest` module, write at least 3 doctests for code you've written so far in class\n",
    "        - Run your doctests as follows:\n",
    "            - `python -m doctest my_module.py`\n",
    "            - For VERBOSE output: `python -m doctest -v my_module.py`\n",
    "    - [unittest](http://docs.python.org/3/library/unittest.html)\n",
    "    - [nosetests](https://nose.readthedocs.org/en/latest/) (3rd party)\n",
    "    - [pytest](http://pytest.org/latest/index.html) (3rd party)\n",
    "        - EXERCISE: Unit testing\n",
    "            - Use `pytest` create a testsfor a module you've written in class (it should contain AT LEAST one function).\n",
    "            - Run your unit tests via: `pytest`\n",
    "            - **Test Driven Development (TDD) exercise:**\n",
    "            - ADD a test that tests some AS YET NONEXISTANT functionality (ex: a new function not yet defined)\n",
    "                - run your tests, watch the new one FAIL\n",
    "                - Add the code to your module to make the new test PASS\n",
    "- Networking\n",
    "    - tcp socket listen / connect\n",
    "- Data Serialization\n",
    "    - unstructured text formats (ie make up your own)\n",
    "    - structured text formats: [json](http://docs.python.org/3/library/json.html), [configparser](http://docs.python.org/3/library/configparser.html), [yaml](https://github.com/yaml/pyyaml)\n",
    "        - To install yaml: `poetry add PyYAML`\n",
    "    - [dbm](http://docs.python.org/3/library/dbm.html) / [shelve](http://docs.python.org/3/library/shelve.html) / [pickle](http://docs.python.org/3/library/pickle.html)\n",
    "        - Exercise:\n",
    "            - Create a python script that reads a JSON config file, for example the following, stored as `config.json`:\n",
    "                ```json\n",
    "                {\n",
    "                  \"user\": \"vglobal\",\n",
    "                  \"base_url\": \"http://10.13.37.33:8888\",\n",
    "                  \"debug_mode\": true\n",
    "                }\n",
    "                ```\n",
    "            - Next, you'll need to `import json`.\n",
    "            - The `json.load` function will allow you to load JSON data\n",
    "            - The `json.dump` function will allow you to save JSON data\n",
    "            - make your script make use of each config value\n",
    "                - ex: if debug_mode, print \"We're in debug mode!\"\n",
    "            - have the script SAVE the parsed config file data in a DIFFERENT location, `/tmp/config` before exiting\n",
    "    - [sqlite3](http://docs.python.org/3/library/sqlite3.html)\n",
    "        - Exercise:\n",
    "            - Use the sqlite3 module to:\n",
    "                - create a new database\n",
    "                - connect to the database\n",
    "                - create a new table transfers with fields\n",
    "                    - ip address\n",
    "                    - site\n",
    "                    - filename\n",
    "                    - upload / download\n",
    "       - insert at least 3 rows into the table\n",
    "       - run some SELECT queries\n",
    "    - [sqlalchemy (ORM)](http://docs.sqlalchemy.org/en/latest/orm/tutorial.html)\n",
    "- re: regular expressions\n",
    "- Web, HTML\n",
    "    - [webbrowser](http://docs.python.org/3/library/webbrowser.html)\n",
    "    - [urllib](http://docs.python.org/3/library/urllib.html)\n",
    "    - [requests](http://docs.python-requests.org/en/latest/)\n",
    "    - [BeautifulSoup](http://www.crummy.com/software/BeautifulSoup): for \"quick turnaround screen scraping projects\"\n",
    "    - [lxml](http://lxml.de/)\n",
    "        - Exercise:\n",
    "            - For a website containing image elements, use `requests` and `Beautiful Soup`, and optionally `feedparser` for RSS, to parse a page, and return a list of the image elements\n",
    "            - ex:\n",
    "            \n",
    "            \n",
    "            ```\n",
    "            import requests\n",
    "            \n",
    "            from bs4 import BeautifulSoup\n",
    "            \n",
    "            \n",
    "            res = requests.get(URL)\n",
    "            \n",
    "            # for HTML, XML, RSS\n",
    "            soup = BeautifulSoup(res.text, \"html5lib\")\n",
    "            soup.select(...)\n",
    "            \n",
    "            # for JSON\n",
    "            data = res.json()\n",
    "            data['key'][0]['value']...\n",
    "            \n",
    "            # alternate approach for RSS\n",
    "            data = feedparser.parse(MY-RSS-URL)\n",
    "            ```\n",
    "           \n",
    "           \n",
    "    - [cssselect](http://pythonhosted.org/cssselect/)\n",
    "    - [scrapy](http://scrapy.org): high-level framework for writing your own scrapers for websites\n",
    "- web frameworks\n",
    "    - [bottle](http://bottlepy.org/docs/dev/index.html)\n",
    "        - Exercise:\n",
    "            - Create an API with at least 3 endpoints, and then test out your API from your web browser\n",
    "    - [flask](http://flask.pocoo.org/) --- similar to bottle\n",
    "    - [django](https://djangoproject.com/)\n",
    "- [distutils](http://docs.python.org/3/library/distutils.html)\n",
    "    - Exercise:\n",
    "        - package up a module that you have written using the distutils package ([example](http://docs.python.org/3.3/distutils/introduction.html#a-simple-example), [example2](http://docs.python.org/3.3/distutils/setupscript.html#writing-the-setup-script))\n",
    "        - ex:\n",
    "            ```\n",
    "            [create setup.py]\n",
    "            \n",
    "            python3 setup.py sdist\n",
    "            sudo python3 setup.py install --record files.txt\n",
    "            \n",
    "            [test importing your module while cd'd to another directory]\n",
    "            \n",
    "            # will uninstall \"egg-info\" file, but not module\n",
    "            sudo pip3 uninstall <MODULENAME>\n",
    "            \n",
    "            # to truly uninstall files, you can do (if you are SURE that everything in files.txt should be deleted)\n",
    "            sudo xargs rm -rf < files.txt\n",
    "            ```\n",
    "- [setuptools](http://pythonhosted.org/setuptools/setuptools.html#developer-s-guide)\n",
    "    - Exercise:\n",
    "        - Package up some code that you've written so far in the class for distribution via `setuptools` (i.e. write a `setup.py` file)\n",
    "            - refer to the setuptools \"developer's guide\" for reference on the `setup` function\n",
    "        - Optionally create a `wheel` archive file for distribution using the `wheel` 3rd party library\n",
    "- [logging](http://docs.python.org/3/library/logging.html)\n",
    "    - see in particular the [basic tutorial](http://docs.python.org/3/howto/logging.html#logging-basic-tutorial), the [basicConfig method](http://docs.python.org/3/library/logging.html#logging.basicConfig), and the [logrecord attributes](http://docs.python.org/3/library/logging.html#logrecord-attributes)\n",
    "        - Exercise:\n",
    "            - write a script that outputs a log to `/tmp/myscript.log` using the logging.basicConfig method\n",
    "            - configure a custom output format for your logger (by passing `format=\"FORMATSTRING\"` to your basicLogger method) (see logrecord-attributes documentation link above)\n",
    "            - after setting up your logger using the basicConfig method, use methods like `logging.warning, logging.info, logging.debug, logging.critical` to write to your logfile\n",
    "            - inspect your logfile from the console (ex: with `cat` or `less`) and ensure the file is being logged to\n",
    "- misc modules\n",
    "    - [csv](http://docs.python.org/3/library/csv.html)\n",
    "    - [glob](http://docs.python.org/3/library/glob.html)\n",
    "    - [feedparser](http://pythonhosted.org//feedparser/) (3rd party)\n",
    "        - ex:\n",
    "            ```\n",
    "            import feedparser\n",
    "            feed = feedparser.parse('http://www.reddit.com/r/DailyProgrammer/.rss')\n",
    "            [e['link'] for e in feed['entries']]\n",
    "            ```\n",
    "\n",
    "\n",
    "## re\n",
    "- [documentation](http://docs.python.org/3/library/re.html)"
   ]
  },
  {
   "cell_type": "code",
   "execution_count": 19,
   "metadata": {},
   "outputs": [],
   "source": [
    "HTTP_URL = re.compile('\\s*http://.*', re.I)\n",
    "m = HTTP_URL.match('http://news.com')"
   ]
  },
  {
   "cell_type": "markdown",
   "metadata": {},
   "source": [
    "## random\n",
    "- [documentation](http://docs.python.org/3/library/random.html)\n",
    "- random.choice\n",
    "- random.randrange\n",
    "- random.sample\n",
    "- random.shuffle\n",
    "- random.seed\n",
    "\n",
    "        random.seed(12345)\n",
    "        random.random() --> 0.41661987254534116 # will always be the same starting from same seed"
   ]
  },
  {
   "cell_type": "code",
   "execution_count": 4,
   "metadata": {},
   "outputs": [],
   "source": [
    "import random"
   ]
  },
  {
   "cell_type": "code",
   "execution_count": 88,
   "metadata": {},
   "outputs": [
    {
     "data": {
      "text/plain": [
       "['two of diamonds', 'jack of spades', 'king of hearts']"
      ]
     },
     "execution_count": 88,
     "metadata": {},
     "output_type": "execute_result"
    }
   ],
   "source": [
    "# shuffle the cards list in place\n",
    "cards = ['king of hearts', 'jack of spades', 'two of diamonds']\n",
    "random.shuffle(cards)\n",
    "cards"
   ]
  },
  {
   "cell_type": "code",
   "execution_count": 42,
   "metadata": {},
   "outputs": [
    {
     "data": {
      "text/plain": [
       "450"
      ]
     },
     "execution_count": 42,
     "metadata": {},
     "output_type": "execute_result"
    }
   ],
   "source": [
    "# return a random iteger in the range provided\n",
    "random.randrange(5,600)"
   ]
  },
  {
   "cell_type": "code",
   "execution_count": 24,
   "metadata": {},
   "outputs": [
    {
     "data": {
      "text/plain": [
       "'towel'"
      ]
     },
     "execution_count": 24,
     "metadata": {},
     "output_type": "execute_result"
    }
   ],
   "source": [
    "# return a random element from the list\n",
    "random.choice(['monkey', 'towel', 'volkswagen'])"
   ]
  },
  {
   "cell_type": "code",
   "execution_count": 71,
   "metadata": {},
   "outputs": [
    {
     "data": {
      "text/plain": [
       "[78, 11, 88, 2, 98, 19, 27, 54, 31, 30]"
      ]
     },
     "execution_count": 71,
     "metadata": {},
     "output_type": "execute_result"
    }
   ],
   "source": [
    "# print 10 random values from a list/population (here provided by the range)\n",
    "random.sample(range(1,100), 10)"
   ]
  },
  {
   "cell_type": "code",
   "execution_count": 93,
   "metadata": {},
   "outputs": [],
   "source": [
    "random.seed(123)"
   ]
  },
  {
   "cell_type": "code",
   "execution_count": 94,
   "metadata": {},
   "outputs": [
    {
     "data": {
      "text/plain": [
       "0"
      ]
     },
     "execution_count": 94,
     "metadata": {},
     "output_type": "execute_result"
    }
   ],
   "source": [
    "random.randrange(11)"
   ]
  },
  {
   "cell_type": "code",
   "execution_count": 95,
   "metadata": {},
   "outputs": [
    {
     "data": {
      "text/plain": [
       "4"
      ]
     },
     "execution_count": 95,
     "metadata": {},
     "output_type": "execute_result"
    }
   ],
   "source": [
    "random.randrange(11)"
   ]
  },
  {
   "cell_type": "markdown",
   "metadata": {},
   "source": [
    "## subprocess\n",
    "- [documentation](http://docs.python.org/3/library/subprocess.html)\n",
    "- launch a subprocess with `subprocess.call()` (see also the `shell=True` argument)\n",
    "    - return the output of a command (ex: `ls`) in a variable with subprocess.check_output()"
   ]
  },
  {
   "cell_type": "markdown",
   "metadata": {},
   "source": [
    "## socket\n",
    "- [documentation](http://docs.python.org/3/library/socket.html)\n",
    "    - [example](http://docs.python.org/3/library/socket.html#example)"
   ]
  },
  {
   "cell_type": "code",
   "execution_count": 21,
   "metadata": {},
   "outputs": [
    {
     "name": "stdout",
     "output_type": "stream",
     "text": [
      "Connected by ('127.0.0.1', 38185)\n"
     ]
    }
   ],
   "source": [
    "# Echo server program\n",
    "import socket\n",
    "\n",
    "HOST = ''                 # Symbolic name meaning all available interfaces\n",
    "PORT = 50007              # Arbitrary non-privileged port\n",
    "s = socket.socket(socket.AF_INET, socket.SOCK_STREAM)\n",
    "s.bind((HOST, PORT))\n",
    "s.listen(1)\n",
    "conn, addr = s.accept()\n",
    "print 'Connected by', addr\n",
    "while 1:\n",
    "    data = conn.recv(1024)\n",
    "    if not data: break\n",
    "    conn.sendall(data)\n",
    "conn.close()"
   ]
  }
 ],
 "metadata": {
  "kernelspec": {
   "display_name": "Python 3",
   "language": "python",
   "name": "python3"
  },
  "language_info": {
   "codemirror_mode": {
    "name": "ipython",
    "version": 3
   },
   "file_extension": ".py",
   "mimetype": "text/x-python",
   "name": "python",
   "nbconvert_exporter": "python",
   "pygments_lexer": "ipython3",
   "version": "3.7.3"
  }
 },
 "nbformat": 4,
 "nbformat_minor": 2
}
