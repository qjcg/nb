{
 "cells": [
  {
   "cell_type": "code",
   "execution_count": 72,
   "metadata": {},
   "outputs": [],
   "source": [
    "class Printer:\n",
    "    types = ['inkjet', 'laser']\n",
    "    makes = [\"Canon\", \"Epson\"]\n",
    "    def __init__(self, name, type='inkjet'):\n",
    "        self.name = name\n",
    "        self.type = type\n",
    "        self.color = True\n",
    "        \n",
    "    def do_print(self):\n",
    "        print(\"Zipzapp1\")"
   ]
  },
  {
   "cell_type": "code",
   "execution_count": 73,
   "metadata": {},
   "outputs": [
    {
     "name": "stdout",
     "output_type": "stream",
     "text": [
      "Zipzapp1\n"
     ]
    }
   ],
   "source": [
    "p1 = Printer('Canon 123')\n",
    "p1.makes\n",
    "p1.do_print()"
   ]
  },
  {
   "cell_type": "code",
   "execution_count": 74,
   "metadata": {},
   "outputs": [
    {
     "data": {
      "text/plain": [
       "['Canon', 'Epson']"
      ]
     },
     "execution_count": 74,
     "metadata": {},
     "output_type": "execute_result"
    }
   ],
   "source": [
    "p2 = p1.__class__(\"Blah\")\n",
    "p2.makes"
   ]
  },
  {
   "cell_type": "code",
   "execution_count": 67,
   "metadata": {},
   "outputs": [
    {
     "data": {
      "text/plain": [
       "__main__.Printer"
      ]
     },
     "execution_count": 67,
     "metadata": {},
     "output_type": "execute_result"
    }
   ],
   "source": [
    "type(p1)"
   ]
  },
  {
   "cell_type": "code",
   "execution_count": 68,
   "metadata": {},
   "outputs": [],
   "source": [
    "Printer.color = 'sometimes'\n",
    "Printer.color\n",
    "p1.color\n",
    "del p1.color"
   ]
  },
  {
   "cell_type": "code",
   "execution_count": 69,
   "metadata": {},
   "outputs": [
    {
     "data": {
      "text/plain": [
       "'sometimes'"
      ]
     },
     "execution_count": 69,
     "metadata": {},
     "output_type": "execute_result"
    }
   ],
   "source": [
    "p1.color"
   ]
  },
  {
   "cell_type": "code",
   "execution_count": 70,
   "metadata": {},
   "outputs": [
    {
     "data": {
      "text/plain": [
       "{'name': 'Canon 123', 'type': 'inkjet'}"
      ]
     },
     "execution_count": 70,
     "metadata": {},
     "output_type": "execute_result"
    }
   ],
   "source": [
    "p1.__dict__"
   ]
  },
  {
   "cell_type": "code",
   "execution_count": 71,
   "metadata": {},
   "outputs": [
    {
     "data": {
      "text/plain": [
       "{'__dict__': <attribute '__dict__' of 'Printer' objects>,\n",
       " '__doc__': None,\n",
       " '__init__': <function __main__.__init__>,\n",
       " '__module__': '__main__',\n",
       " '__weakref__': <attribute '__weakref__' of 'Printer' objects>,\n",
       " 'color': 'sometimes',\n",
       " 'do_print': <function __main__.do_print>,\n",
       " 'makes': ['Canon', 'Epson'],\n",
       " 's': '345',\n",
       " 'types': ['inkjet', 'laser']}"
      ]
     },
     "execution_count": 71,
     "metadata": {},
     "output_type": "execute_result"
    }
   ],
   "source": [
    "dict(Printer.__dict__)"
   ]
  },
  {
   "cell_type": "code",
   "execution_count": 38,
   "metadata": {},
   "outputs": [
    {
     "ename": "AttributeError",
     "evalue": "'Printer' object has no attribute 'color'",
     "output_type": "error",
     "traceback": [
      "\u001b[1;31m---------------------------------------------------------------------------\u001b[0m\n\u001b[1;31mAttributeError\u001b[0m                            Traceback (most recent call last)",
      "\u001b[1;32m<ipython-input-38-463fe4ad72fb>\u001b[0m in \u001b[0;36m<module>\u001b[1;34m()\u001b[0m\n\u001b[0;32m      1\u001b[0m \u001b[1;32mdel\u001b[0m \u001b[0mPrinter\u001b[0m\u001b[1;33m.\u001b[0m\u001b[0mcolor\u001b[0m\u001b[1;33m\u001b[0m\u001b[0m\n\u001b[1;32m----> 2\u001b[1;33m \u001b[0mp1\u001b[0m\u001b[1;33m.\u001b[0m\u001b[0mcolor\u001b[0m\u001b[1;33m\u001b[0m\u001b[0m\n\u001b[0m",
      "\u001b[1;31mAttributeError\u001b[0m: 'Printer' object has no attribute 'color'"
     ]
    }
   ],
   "source": [
    "del Printer.color\n",
    "p1.color"
   ]
  },
  {
   "cell_type": "code",
   "execution_count": 14,
   "metadata": {},
   "outputs": [],
   "source": [
    "type = 'boo'\n",
    "type(123)"
   ]
  },
  {
   "cell_type": "code",
   "execution_count": 17,
   "metadata": {},
   "outputs": [],
   "source": [
    "del type\n",
    "type(123)"
   ]
  },
  {
   "cell_type": "markdown",
   "metadata": {},
   "source": [
    "### Decorator, p. 101"
   ]
  },
  {
   "cell_type": "code",
   "execution_count": 131,
   "metadata": {},
   "outputs": [],
   "source": [
    "def uppercase(param):\n",
    "    return param.upper()\n",
    "get_struct = \"hello\"\n",
    "get_struct = uppercase(get_struct)"
   ]
  },
  {
   "cell_type": "code",
   "execution_count": 114,
   "metadata": {},
   "outputs": [],
   "source": [
    "import json\n",
    "def jsonify(func):\n",
    "    print(\"JSONifying\")\n",
    "    def wrapper(*args, **kwargs):\n",
    "        print(\"Inside wrapper\", args)\n",
    "        res = func(*args, **kwargs)\n",
    "        res['content'] = 'json'\n",
    "        return json.dumps(res)\n",
    "    return wrapper"
   ]
  },
  {
   "cell_type": "code",
   "execution_count": 115,
   "metadata": {},
   "outputs": [
    {
     "name": "stdout",
     "output_type": "stream",
     "text": [
      "JSONifying\n",
      "JSONifying\n",
      "Inside wrapper ('username',)\n"
     ]
    },
    {
     "data": {
      "text/plain": [
       "'{\"content\": \"json\", \"params\": [\"username\"], \"result\": true}'"
      ]
     },
     "execution_count": 115,
     "metadata": {},
     "output_type": "execute_result"
    }
   ],
   "source": [
    "#@jsonify\n",
    "def get_struct(param):\n",
    "    return {\"result\": True,\n",
    "            \"params\": [param]}\n",
    "get_struct = jsonify(get_struct)\n",
    "\n",
    "@jsonify  # (return_status=True)\n",
    "def get_tweets(username):\n",
    "    return {\"username\": username,\n",
    "            \"tweets\": [\"tweet 1\", \"tweet 2\"]}\n",
    "#get_tweets = jsonify(return_status=True)(get_tweets)\n",
    "\n",
    "get_struct(\"username\")\n"
   ]
  },
  {
   "cell_type": "code",
   "execution_count": 116,
   "metadata": {},
   "outputs": [
    {
     "name": "stdout",
     "output_type": "stream",
     "text": [
      "Inside wrapper ('boo',)\n"
     ]
    },
    {
     "data": {
      "text/plain": [
       "'{\"content\": \"json\", \"params\": [\"boo\"], \"result\": true}'"
      ]
     },
     "execution_count": 116,
     "metadata": {},
     "output_type": "execute_result"
    }
   ],
   "source": [
    "get_struct(\"boo\")"
   ]
  },
  {
   "cell_type": "code",
   "execution_count": 79,
   "metadata": {},
   "outputs": [],
   "source": [
    "# \"jsonify\": wraps and \"decorates\" functions so that\n",
    "# they return JSON instead of Python data."
   ]
  },
  {
   "cell_type": "code",
   "execution_count": 80,
   "metadata": {},
   "outputs": [
    {
     "data": {
      "text/plain": [
       "'{\"username\": \"blah\", \"tweets\": [\"tweet 1\", \"tweet 2\"]}'"
      ]
     },
     "execution_count": 80,
     "metadata": {},
     "output_type": "execute_result"
    }
   ],
   "source": [
    "'''{\"username\": \"blah\", \"tweets\": [\"tweet 1\", \"tweet 2\"]}'''"
   ]
  },
  {
   "cell_type": "markdown",
   "metadata": {},
   "source": [
    "### Event handlers, p. 102"
   ]
  },
  {
   "cell_type": "code",
   "execution_count": 135,
   "metadata": {},
   "outputs": [],
   "source": [
    "registry = {}  # {\"click\": [func1, func2],\n",
    "               #  \"quit\": [func1, func2, func3]}\n",
    "def register_event(event_name):\n",
    "    def deco(func):\n",
    "        registry.setdefault(event_name, []).append(func)\n",
    "        return func\n",
    "    return deco\n",
    "\n",
    "def dispatch_event(event_name, *args, **kwargs):\n",
    "    for func in registry.get(event_name, []):\n",
    "        func(*args, **kwargs)\n",
    "    # Loop the `func` for that particular `event_name`\n",
    "    # Call them one after the other with the passed on parameters."
   ]
  },
  {
   "cell_type": "code",
   "execution_count": 136,
   "metadata": {},
   "outputs": [
    {
     "name": "stdout",
     "output_type": "stream",
     "text": [
      "Do something HELLO BEFORE ANY REGISTRATION\n",
      "{'click': [<function do_something at 0x480f958>]}\n",
      "Do something BOO\n",
      "{'quit': [<function do_something_else at 0x4789050>], 'click': [<function do_something at 0x480f958>]}\n",
      "Do something boo\n"
     ]
    }
   ],
   "source": [
    "#@register_event('click')\n",
    "def do_something(param):\n",
    "    print(\"Do something\", param)\n",
    "    \n",
    "do_something(\"HELLO BEFORE ANY REGISTRATION\")\n",
    "\n",
    "do_something = register_event('click')(do_something)\n",
    "\n",
    "print(registry)\n",
    "\n",
    "@register_event('quit')\n",
    "def do_something_else(param):\n",
    "    print(\"Do somethign else\", param)\n",
    "\n",
    "do_something(\"BOO\")\n",
    "    \n",
    "print(registry)\n",
    "dispatch_event('click', 'boo')"
   ]
  },
  {
   "cell_type": "code",
   "execution_count": null,
   "metadata": {},
   "outputs": [],
   "source": [
    "\n",
    "@jsonify\n",
    "def fetch_news(request):\n",
    "    list_of_news = DB.fetch_news()  #  [\"News 1\", \"news 2\", ...]\n",
    "    for x in list_of_news:\n",
    "         return {\"results\": [\"123\"]}\n",
    "    return '<html><h1>News1</h1></html>'\n",
    "    return {\"results\": list_of_news}\n",
    "\n",
    "    return '''{\"results\": [\"News 1\", \"News 2\"]}'''\n"
   ]
  },
  {
   "cell_type": "markdown",
   "metadata": {},
   "source": [
    "### Last example"
   ]
  },
  {
   "cell_type": "code",
   "execution_count": 139,
   "metadata": {},
   "outputs": [
    {
     "name": "stdout",
     "output_type": "stream",
     "text": [
      "Function <function go at 0x48171e8> took 1.96 seconds () {}\n"
     ]
    }
   ],
   "source": [
    "def time_me(func):\n",
    "    import time\n",
    "    def wrap(*args, **kwargs):\n",
    "        t0 = time.time()\n",
    "        res = func(*args, **kwargs)\n",
    "        t1 = time.time()\n",
    "        print(\"Function %s took %.2f seconds\" % (func, t1 - t0), args, kwargs)\n",
    "        return res\n",
    "    return wrap\n",
    "\n",
    "@time_me\n",
    "def go():\n",
    "    for x in range(100000000):\n",
    "        pass\n",
    "    \n",
    "go()"
   ]
  },
  {
   "cell_type": "code",
   "execution_count": null,
   "metadata": {},
   "outputs": [],
   "source": []
  }
 ],
 "metadata": {
  "kernelspec": {
   "display_name": "Python 3",
   "language": "python",
   "name": "python3"
  },
  "language_info": {
   "codemirror_mode": {
    "name": "ipython",
    "version": 3
   },
   "file_extension": ".py",
   "mimetype": "text/x-python",
   "name": "python",
   "nbconvert_exporter": "python",
   "pygments_lexer": "ipython3",
   "version": "3.7.2"
  }
 },
 "nbformat": 4,
 "nbformat_minor": 2
}
