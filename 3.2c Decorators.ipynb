{
 "cells": [
  {
   "cell_type": "markdown",
   "metadata": {},
   "source": [
    "# Decorators\n",
    "\n",
    "Decorators wrap functions, allowing us to modify or extend their normal behavior.\n",
    "\n",
    "## Decorators defined as Functions"
   ]
  },
  {
   "cell_type": "code",
   "execution_count": 33,
   "metadata": {},
   "outputs": [
    {
     "name": "stdout",
     "output_type": "stream",
     "text": [
      "cat: debug.log: No such file or directory\r\n"
     ]
    }
   ],
   "source": [
    "enable_tracing = False\n",
    "if enable_tracing:\n",
    "    debug_log = open(\"debug.log\",\"w\")\n",
    "\n",
    "# we define the trace function to subsequently \n",
    "# decorate (wrap) our square function, defined below\n",
    "def trace(func):\n",
    "    if enable_tracing:\n",
    "        def wrap(*args,**kwargs):\n",
    "            debug_log.write(f\"Calling {func.__name__}({args[0]}): \")\n",
    "            result = func(*args, **kwargs)\n",
    "            debug_log.write(f\"returned {result}\\n\")\n",
    "        return wrap\n",
    "    else:\n",
    "        return func\n",
    "\n",
    "@trace\n",
    "def square(x):\n",
    "    return x*x\n",
    "\n",
    "square(7)\n",
    "debug_log.close()\n",
    "!cat debug.log"
   ]
  },
  {
   "cell_type": "markdown",
   "metadata": {},
   "source": [
    "# Decorators defined as classes"
   ]
  },
  {
   "cell_type": "code",
   "execution_count": 4,
   "metadata": {},
   "outputs": [
    {
     "name": "stdout",
     "output_type": "stream",
     "text": [
      "BEFORE wrapped function is called\n",
      "hello Jack\n",
      "AFTER wrapped function is called\n"
     ]
    }
   ],
   "source": [
    "class print_before_and_after:\n",
    "    def __init__(self, func):\n",
    "        self.func = func\n",
    "        \n",
    "    def __call__(self, *args):\n",
    "        print('BEFORE wrapped function is called')\n",
    "        self.func(*args)\n",
    "        print('AFTER wrapped function is called')\n",
    "\n",
    "@print_before_and_after\n",
    "def hello(name='John'):\n",
    "    print('hello', name)\n",
    "    \n",
    "hello('Jack')"
   ]
  },
  {
   "cell_type": "code",
   "execution_count": 29,
   "metadata": {},
   "outputs": [
    {
     "name": "stdout",
     "output_type": "stream",
     "text": [
      "Calling square(5): returned 25\r\n"
     ]
    }
   ],
   "source": [
    "# The trace decorator (see above) reimplemented as a class\n",
    "debug_log = open(\"debug.log\",\"w\")\n",
    "\n",
    "# we define the trace function to subsequently \n",
    "# decorate (wrap) our square function, defined below\n",
    "class trace:\n",
    "    def __init__(self, func):\n",
    "        self.func = func\n",
    "\n",
    "    def __call__(self, *args, **kwargs):\n",
    "        debug_log.write(f\"Calling {self.func.__name__}({args[0]}): \")\n",
    "        result = self.func(*args, **kwargs)\n",
    "        debug_log.write(f\"returned {result}\\n\")\n",
    "        \n",
    "@trace\n",
    "def square(x):\n",
    "    return x*x\n",
    "\n",
    "square(5)\n",
    "debug_log.close()\n",
    "!cat debug.log"
   ]
  },
  {
   "cell_type": "markdown",
   "metadata": {},
   "source": [
    "## Functions "
   ]
  },
  {
   "cell_type": "code",
   "execution_count": 43,
   "metadata": {},
   "outputs": [
    {
     "name": "stdout",
     "output_type": "stream",
     "text": [
      "%%%%%%%%%%%%%%%%%%%%%%%%%%%%%%\n",
      "******************************\n",
      "Hello\n",
      "******************************\n",
      "%%%%%%%%%%%%%%%%%%%%%%%%%%%%%%\n"
     ]
    }
   ],
   "source": [
    "# Reference: https://www.programiz.com/python-programming/decorator\n",
    "\n",
    "def star(func):\n",
    "    def inner(*args, **kwargs):\n",
    "        print(\"*\" * 30)\n",
    "        func(*args, **kwargs)\n",
    "        print(\"*\" * 30)\n",
    "    return inner\n",
    "\n",
    "def percent(func):\n",
    "    def inner(*args, **kwargs):\n",
    "        print(\"%\" * 30)\n",
    "        func(*args, **kwargs)\n",
    "        print(\"%\" * 30)\n",
    "    return inner\n",
    "\n",
    "@percent\n",
    "@star\n",
    "def printer(msg):\n",
    "    print(msg)\n",
    "\n",
    "printer(\"Hello\")"
   ]
  },
  {
   "cell_type": "markdown",
   "metadata": {},
   "source": [
    "# EXERCISE: Writing a custom decorator\n",
    "\n",
    "1. Write a decorator (either using the function or class approaches described above) that implements behavior of your choosing on a decorated function.\n",
    "2. Call your decorated function and verify that you get the expected behavior."
   ]
  },
  {
   "cell_type": "markdown",
   "metadata": {},
   "source": [
    "# Further Reading\n",
    "\n",
    "- [Primer on Python Decorators](https://realpython.com/primer-on-python-decorators/)\n",
    "- [Introduction to Python Decorators](https://www.artima.com/weblogs/viewpost.jsp?thread=240808) (old, but notable for discussion and comparison of decorators to Lisp macros)"
   ]
  }
 ],
 "metadata": {
  "kernelspec": {
   "display_name": "Python 3",
   "language": "python",
   "name": "python3"
  },
  "language_info": {
   "codemirror_mode": {
    "name": "ipython",
    "version": 3
   },
   "file_extension": ".py",
   "mimetype": "text/x-python",
   "name": "python",
   "nbconvert_exporter": "python",
   "pygments_lexer": "ipython3",
   "version": "3.7.2"
  }
 },
 "nbformat": 4,
 "nbformat_minor": 2
}
