{
 "cells": [
  {
   "cell_type": "markdown",
   "metadata": {},
   "source": [
    "# Topics\n",
    "\n",
    "- virtual environments\n",
    "- ansible\n",
    "- memory management / gc\n",
    "- scapy\n",
    "- setting up a local pip / wheel package registry\n",
    "- writing a tool with a CLI & web interface\n",
    "- scraping in depth\n",
    "- parsing pe (windows EXE dll driver) files\n",
    "    - ctypes to call functions\n",
    "    - scraping virustotal website to see whether PE file contains a virus\n",
    "    - pefile.py is a module for parsing these filetypes\n",
    "    - other examples on pefile site\n",
    "        - disassembling a function - pydasm\n",
    "        - equivalent for unix-style binary (ELF)?\n",
    "            - what is md5sum for this chunk of an ELF?\n"
   ]
  },
  {
   "cell_type": "markdown",
   "metadata": {},
   "source": [
    "# pattern Exercise\n",
    "\n",
    "Pattern is a cool set of python(2) modules for web mining.  \n",
    "\n",
    "Docs for the pattern.web module:\n",
    "\n",
    "http://www.clips.ua.ac.be/pages/pattern-web\n",
    "\n",
    "1. install pattern: `pip2 install --user pattern`\n",
    "2. Use one of the objects provided by the pattern.web package to mine data from an API of interest to you, for example:\n",
    "\n",
    "        from pattern.web import Twitter, plaintext\n",
    "        \n",
    "        twitter = Twitter(language='en') \n",
    "        for tweet in twitter.search('\"more important than\"', cached=False):\n",
    "            print plaintext(tweet.text)\n",
    "\n"
   ]
  }
 ],
 "metadata": {
  "kernelspec": {
   "display_name": "Python 3",
   "language": "python",
   "name": "python3"
  },
  "language_info": {
   "codemirror_mode": {
    "name": "ipython",
    "version": 3
   },
   "file_extension": ".py",
   "mimetype": "text/x-python",
   "name": "python",
   "nbconvert_exporter": "python",
   "pygments_lexer": "ipython3",
   "version": "3.6.5"
  }
 },
 "nbformat": 4,
 "nbformat_minor": 1
}
