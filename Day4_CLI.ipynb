{
 "cells": [
  {
   "cell_type": "markdown",
   "metadata": {},
   "source": [
    "# CLI Best Practices"
   ]
  },
  {
   "cell_type": "markdown",
   "metadata": {},
   "source": [
    "You're a new engineer hired at the Chicago Liquidity Institute (CLI).\n",
    "\n",
    "Your manager wants you to implement a new command-line tool for clients to perform the following actions on their bank accounts:\n",
    "   \n",
    "- `deposit` (takes a float argument)\n",
    "- `withdraw` (takes a float argument)\n",
    "- `balance` (boolean flag that will display the user's balance (hint: `action=\"store_true\"`)\n",
    "- BONUS: also implement `trade`, which can take an argument of `buy` or `sell`\n",
    "\n",
    "Use the [argparse](https://docs.python.org/3/library/argparse.html) module to implement this CLI tool."
   ]
  }
 ],
 "metadata": {
  "kernelspec": {
   "display_name": "Python 3",
   "language": "python",
   "name": "python3"
  },
  "language_info": {
   "codemirror_mode": {
    "name": "ipython",
    "version": 3
   },
   "file_extension": ".py",
   "mimetype": "text/x-python",
   "name": "python",
   "nbconvert_exporter": "python",
   "pygments_lexer": "ipython3",
   "version": "3.7.2"
  }
 },
 "nbformat": 4,
 "nbformat_minor": 2
}
