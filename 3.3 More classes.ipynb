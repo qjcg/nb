{
 "metadata": {
  "name": ""
 },
 "nbformat": 3,
 "nbformat_minor": 0,
 "worksheets": [
  {
   "cells": [
    {
     "cell_type": "markdown",
     "metadata": {},
     "source": [
      "# More classes"
     ]
    },
    {
     "cell_type": "code",
     "collapsed": false,
     "input": [
      "class Car:\n",
      "    def __init__(self, model, year=1992, colour='white'):\n",
      "        self.model = model\n",
      "        self.year = year\n",
      "        self.colour = colour\n",
      "        self.speed = 100\n",
      "    \n",
      "    # self + other\n",
      "    def __add__(self, other):\n",
      "        return Car(self.model + other.model + 'Supercar!', \n",
      "                   self.year + other.year,\n",
      "                   self.colour + other.colour)\n",
      "    \n",
      "    def __len__(self):\n",
      "        import random\n",
      "        return random.randrange(10000001)\n",
      "    \n",
      "    def paint(self, colour='Electric Blue'):\n",
      "        self.colour = colour\n",
      "        print('You just painted your car {}!'.format(self.colour))\n",
      "        \n",
      "    def stop(self, emergency=False):\n",
      "        self.speed = 0\n",
      "        if emergency:\n",
      "            print('EMERGENCY STOP!!!!!')\n",
      "        else:\n",
      "            print('Calm, regular stop.')\n",
      "    \n",
      " \n",
      "class Sedan(Car):\n",
      "    car_type = 'sedan'\n",
      "    \n",
      "    def say_hello(self):\n",
      "        print('Hello from the SEDAN class!')\n",
      "\n",
      "        \n",
      "class Convertible(Car):\n",
      "    car_type = 'convertible'\n",
      "    \n",
      "    def say_hello(self):\n",
      "        print('Hello from the CONVERTIBLE class!')\n",
      "    \n",
      "    def toggle_top(self, state='closed'):\n",
      "        if state == 'open' or state == 'closed':\n",
      "            self.state = state\n",
      "            print(\"Your top is now\", state)\n",
      "        else:\n",
      "            print(\"The roof must be either open or closed\")\n",
      "\n",
      "            \n",
      "class MySedan(Convertible, Sedan):\n",
      "    def __init__(self, model='Dunebuggy', license_plate='H4CK3R', year=1234, colour='Pink'):\n",
      "        super().__init__(model=model, colour=colour, year=year)\n",
      "        self.license_plate = 'H4CK3R'"
     ],
     "language": "python",
     "metadata": {},
     "outputs": [],
     "prompt_number": 10
    },
    {
     "cell_type": "code",
     "collapsed": false,
     "input": [
      "c1 = Car('Thunderbird')\n",
      "c2 = Car('Pinto', year=1983, colour='Electric Yellow')\n",
      "\n",
      "c3 = c1 + c2\n",
      "print(c3.model, c3.year, c3.colour)\n",
      "print(len(c3))\n",
      "print(len(c3))"
     ],
     "language": "python",
     "metadata": {},
     "outputs": [
      {
       "output_type": "stream",
       "stream": "stdout",
       "text": [
        "ThunderbirdPintoSupercar! 3975 whiteElectric Yellow\n",
        "6540317\n",
        "2225792\n"
       ]
      }
     ],
     "prompt_number": 4
    },
    {
     "cell_type": "markdown",
     "metadata": {},
     "source": [
      "Let's create a new car object:"
     ]
    },
    {
     "cell_type": "code",
     "collapsed": false,
     "input": [
      "c = MySedan('Ferarri', license_plate='FUN LVR', year=2009, colour='Electric Blue')\n",
      "c.say_hello()"
     ],
     "language": "python",
     "metadata": {},
     "outputs": [
      {
       "output_type": "stream",
       "stream": "stdout",
       "text": [
        "Hello from the CONVERTIBLE class!\n"
       ]
      }
     ],
     "prompt_number": 11
    },
    {
     "cell_type": "code",
     "collapsed": false,
     "input": [
      "# demo of overriding the '+' operator (via __add__)\n",
      "c1 = Car('Ford')\n",
      "c2 = Car('Chrysler')\n",
      "c3 = c1 + c2"
     ],
     "language": "python",
     "metadata": {},
     "outputs": [
      {
       "output_type": "stream",
       "stream": "stdout",
       "text": [
        "Model: Ford, Year: 1992, colour: white\n",
        "Model: Chrysler, Year: 1992, colour: white\n",
        "Model: FordChryslerSupercar!, Year: 3984, colour: white\n"
       ]
      }
     ],
     "prompt_number": 3
    },
    {
     "cell_type": "markdown",
     "metadata": {},
     "source": [
      "# Operator overriding (the + operator via __add__())"
     ]
    },
    {
     "cell_type": "code",
     "collapsed": false,
     "input": [
      "# Creating a SuperCar!\n",
      "q = MySedan('Ferarri', license_plate='FUN LVR', year=2009, colour='Electric Blue')\n",
      "r = MySedan('Yaris', license_plate='CAR GUY', year=2002, colour='BumbleBee Yellow')\n",
      "added_cars = r + q\n",
      "print(added_cars.model, added_cars.year, added_cars.colour)\n",
      "added_cars.paint('Outrageous Orange')\n",
      "print(added_cars.colour)"
     ],
     "language": "python",
     "metadata": {},
     "outputs": [
      {
       "output_type": "stream",
       "stream": "stdout",
       "text": [
        "YarisFerarriSupercar! 4011 white\n",
        "You just painted your car Outrageous Orange!\n",
        "Outrageous Orange\n"
       ]
      }
     ],
     "prompt_number": 43
    },
    {
     "cell_type": "markdown",
     "metadata": {},
     "source": [
      "### Exercice\n",
      "\n",
      "Add a `paint` method, that takes as argument a \"colour\" string."
     ]
    },
    {
     "cell_type": "code",
     "collapsed": false,
     "input": [
      "c = Car('Honda')\n",
      "c.paint('Ridiculous Psychedelic Purple')\n",
      "c.colour\n"
     ],
     "language": "python",
     "metadata": {},
     "outputs": [
      {
       "output_type": "stream",
       "stream": "stdout",
       "text": [
        "You just painted your car Ridiculous Psychedelic Purple!\n"
       ]
      },
      {
       "metadata": {},
       "output_type": "pyout",
       "prompt_number": 14,
       "text": [
        "'Ridiculous Psychedelic Purple'"
       ]
      }
     ],
     "prompt_number": 14
    },
    {
     "cell_type": "markdown",
     "metadata": {},
     "source": [
      "If we paint the car red, this should be available in the c.colour attribute:"
     ]
    },
    {
     "cell_type": "code",
     "collapsed": false,
     "input": [
      "if c.colour == 'red':\n",
      "    print \"Awesome---you've got a red car!\"\n",
      "else:\n",
      "    print \"The colour should be red... but in fact, it is\", c.colour"
     ],
     "language": "python",
     "metadata": {},
     "outputs": [
      {
       "output_type": "stream",
       "stream": "stdout",
       "text": [
        "The colour should be red... but in fact, it is Showroom Blue\n"
       ]
      }
     ],
     "prompt_number": 20
    },
    {
     "cell_type": "markdown",
     "metadata": {},
     "source": [
      "### Exercise\n",
      "\n",
      "Add a method `stop` to the definition of the Car class:\n",
      "\n",
      "- The `stop` method will take an optional argument, `emergency`, that will specify whether we are making an emergency stop. The default value of `emergency` is `False`.\n",
      "- The type of stop (emergency or not) should be printed.\n",
      "- When a car stops, it's speed changes to zero."
     ]
    },
    {
     "cell_type": "markdown",
     "metadata": {},
     "source": [
      "This call to `stop` should display: `Normal stop`."
     ]
    },
    {
     "cell_type": "code",
     "collapsed": false,
     "input": [
      "c.stop()"
     ],
     "language": "python",
     "metadata": {},
     "outputs": [
      {
       "output_type": "stream",
       "stream": "stdout",
       "text": [
        "Calm, regular stop.\n"
       ]
      }
     ],
     "prompt_number": 17
    },
    {
     "cell_type": "markdown",
     "metadata": {},
     "source": [
      "For this emergency stop, we should see `Emergency stop!` printed out."
     ]
    },
    {
     "cell_type": "code",
     "collapsed": false,
     "input": [
      "c.stop(emergency=True)"
     ],
     "language": "python",
     "metadata": {},
     "outputs": [
      {
       "output_type": "stream",
       "stream": "stdout",
       "text": [
        "EMERGENCY STOP!!!!!\n"
       ]
      }
     ],
     "prompt_number": 18
    },
    {
     "cell_type": "markdown",
     "metadata": {},
     "source": [
      "After a stop, the speed of our car should be 0:"
     ]
    },
    {
     "cell_type": "code",
     "collapsed": false,
     "input": [
      "if c.speed == 0:\n",
      "    print \"Perfect, your car has stopped!\"\n",
      "else:\n",
      "    print \"Your car shouldn't still be moving (check the handbrake maybe?)!\""
     ],
     "language": "python",
     "metadata": {},
     "outputs": [
      {
       "output_type": "stream",
       "stream": "stdout",
       "text": [
        "Perfect, your car has stopped!\n"
       ]
      }
     ],
     "prompt_number": 26
    },
    {
     "cell_type": "markdown",
     "metadata": {},
     "source": [
      "### Exercice\n",
      "\n",
      "Modify the definition of the class Car so that it prints the following result:\n",
      "\n",
      "        Model: MODEL, Year: YEAR, colour: COLOUR\n",
      "\n",
      "Where MODEL, YEAR, and COLOUR are the attributes of the instance c"
     ]
    },
    {
     "cell_type": "code",
     "collapsed": false,
     "input": [
      "v"
     ],
     "language": "python",
     "metadata": {},
     "outputs": [
      {
       "output_type": "pyout",
       "prompt_number": 63,
       "text": [
        "<__main__.Voiture at 0x1b12050>"
       ]
      }
     ],
     "prompt_number": 63
    },
    {
     "cell_type": "markdown",
     "metadata": {},
     "source": [
      "# Class Methods\n",
      "\n",
      "Example from PER p 123:"
     ]
    },
    {
     "cell_type": "code",
     "collapsed": false,
     "input": [
      "class Times(object):\n",
      "    factor = 3\n",
      "    \n",
      "    @classmethod\n",
      "    def mul(cls, x):\n",
      "        return cls.factor*x\n",
      "\n",
      "#class TwoTimes(Times):\n",
      "#    factor = 2\n",
      "\n",
      "x = Times.mul(3)\n",
      "print x\n",
      "print 5 + 2"
     ],
     "language": "python",
     "metadata": {},
     "outputs": [
      {
       "output_type": "stream",
       "stream": "stdout",
       "text": [
        "9\n",
        "7\n"
       ]
      }
     ],
     "prompt_number": 50
    },
    {
     "cell_type": "markdown",
     "metadata": {},
     "source": [
      "Another example from PER, this time p 124:"
     ]
    },
    {
     "cell_type": "code",
     "collapsed": false,
     "input": [
      "from math import pi\n",
      "\n",
      "class Circle:\n",
      "    def __init__(self, radius):\n",
      "        self.__radius = radius\n",
      "    # Some additional properties of Circles\n",
      "    \n",
      "    def change_rad(self, radius):\n",
      "        self.__radius = radius\n",
      "    \n",
      "    @property\n",
      "    def area(self):\n",
      "        return pi * self.__radius ** 2\n",
      "    \n",
      "    @property\n",
      "    def radius(self):\n",
      "        return self.__radius\n",
      "    \n",
      "    @radius.setter\n",
      "    def radius(self, value):\n",
      "        self.__radius = value\n",
      "    \n",
      "    @property\n",
      "    def perimeter(self):\n",
      "        return 2 * pi * self.__radius"
     ],
     "language": "python",
     "metadata": {},
     "outputs": [],
     "prompt_number": 24
    },
    {
     "cell_type": "code",
     "collapsed": false,
     "input": [
      "c = Circle(5.0)"
     ],
     "language": "python",
     "metadata": {},
     "outputs": [],
     "prompt_number": 22
    },
    {
     "cell_type": "code",
     "collapsed": false,
     "input": [
      "print(c.radius)\n",
      "c.radius = 77\n",
      "print(c.radius)"
     ],
     "language": "python",
     "metadata": {},
     "outputs": [
      {
       "output_type": "stream",
       "stream": "stdout",
       "text": [
        "<bound method Circle.radius of <__main__.Circle object at 0x7fd8eca60ad0>>\n",
        "77\n"
       ]
      }
     ],
     "prompt_number": 23
    },
    {
     "cell_type": "code",
     "collapsed": false,
     "input": [
      "c.change_rad(7)"
     ],
     "language": "python",
     "metadata": {},
     "outputs": [],
     "prompt_number": 61
    },
    {
     "cell_type": "code",
     "collapsed": false,
     "input": [
      "print(c.perimeter)"
     ],
     "language": "python",
     "metadata": {},
     "outputs": [
      {
       "output_type": "stream",
       "stream": "stdout",
       "text": [
        "43.982297150257104\n"
       ]
      }
     ],
     "prompt_number": 62
    },
    {
     "cell_type": "code",
     "collapsed": false,
     "input": [
      "c.radius = 45\n",
      "print(c.perimeter)"
     ],
     "language": "python",
     "metadata": {},
     "outputs": [
      {
       "output_type": "stream",
       "stream": "stdout",
       "text": [
        "282.7433388230814\n"
       ]
      }
     ],
     "prompt_number": 64
    },
    {
     "cell_type": "code",
     "collapsed": false,
     "input": [
      "#dir(c)\n",
      "print(c._Circle__radius)"
     ],
     "language": "python",
     "metadata": {},
     "outputs": [
      {
       "output_type": "stream",
       "stream": "stdout",
       "text": [
        "45\n"
       ]
      }
     ],
     "prompt_number": 66
    },
    {
     "cell_type": "code",
     "collapsed": false,
     "input": [
      "# Exercise : Properties\n",
      "\n",
      "class Dinosaur(object):\n",
      "    def __init__(self, vitesse, espece, couleur = 'Vert'):\n",
      "        self.vitesse = vitesse\n",
      "        self.couleur = couleur\n",
      "        self.espece = espece\n",
      "    \n",
      "    \n",
      "    def double(self):\n",
      "        return self.vitesse*2\n",
      "\n",
      "    \n",
      "    def change_vit(self, new_vitesse):\n",
      "        self.vitesse = new_vitesse\n",
      "        return \n"
     ],
     "language": "python",
     "metadata": {},
     "outputs": [],
     "prompt_number": 1
    },
    {
     "cell_type": "code",
     "collapsed": false,
     "input": [
      "din = Dinosaur(100, 'T-Rex')\n",
      "print din.couleur\n",
      "print din.vitesse\n",
      "print din.espece"
     ],
     "language": "python",
     "metadata": {},
     "outputs": [
      {
       "output_type": "stream",
       "stream": "stdout",
       "text": [
        "Vert\n",
        "100\n",
        "T-Rex\n"
       ]
      }
     ],
     "prompt_number": 112
    },
    {
     "cell_type": "code",
     "collapsed": false,
     "input": [
      "print din.double()"
     ],
     "language": "python",
     "metadata": {},
     "outputs": [
      {
       "output_type": "stream",
       "stream": "stdout",
       "text": [
        "200\n"
       ]
      }
     ],
     "prompt_number": 113
    },
    {
     "cell_type": "code",
     "collapsed": false,
     "input": [
      "print din.vitesse"
     ],
     "language": "python",
     "metadata": {},
     "outputs": [
      {
       "output_type": "stream",
       "stream": "stdout",
       "text": [
        "100\n"
       ]
      }
     ],
     "prompt_number": 108
    },
    {
     "cell_type": "code",
     "collapsed": false,
     "input": [
      "print din.vitesse"
     ],
     "language": "python",
     "metadata": {},
     "outputs": [
      {
       "output_type": "stream",
       "stream": "stdout",
       "text": [
        "100\n"
       ]
      }
     ],
     "prompt_number": 109
    },
    {
     "cell_type": "code",
     "collapsed": false,
     "input": [
      "print din.double"
     ],
     "language": "python",
     "metadata": {},
     "outputs": [
      {
       "output_type": "stream",
       "stream": "stdout",
       "text": [
        "200\n"
       ]
      }
     ],
     "prompt_number": 110
    },
    {
     "cell_type": "code",
     "collapsed": false,
     "input": [],
     "language": "python",
     "metadata": {},
     "outputs": [],
     "prompt_number": 85
    },
    {
     "cell_type": "code",
     "collapsed": false,
     "input": [
      "print din.vitesse"
     ],
     "language": "python",
     "metadata": {},
     "outputs": [
      {
       "output_type": "stream",
       "stream": "stdout",
       "text": [
        "15\n"
       ]
      }
     ],
     "prompt_number": 86
    },
    {
     "cell_type": "markdown",
     "metadata": {},
     "source": [
      "# Exercise\n",
      "\n",
      "1. Create a new Dinosaur class and override it's `__len__`, `__add__`, and `__iadd__` special methods.\n",
      "2. Experiment with using the `len()` function, and the `+` and `+=` operators on one or more instance(s) of Dinosaur."
     ]
    },
    {
     "cell_type": "code",
     "collapsed": false,
     "input": [],
     "language": "python",
     "metadata": {},
     "outputs": []
    }
   ],
   "metadata": {}
  }
 ]
}