{
 "cells": [
  {
   "cell_type": "markdown",
   "metadata": {},
   "source": [
    "# More classes"
   ]
  },
  {
   "cell_type": "code",
   "execution_count": null,
   "metadata": {},
   "outputs": [],
   "source": [
    "class Car:\n",
    "    def __init__(self, model, year=1992, colour='white'):\n",
    "        self.model = model\n",
    "        self.year = year\n",
    "        self.colour = colour\n",
    "        self.speed = 100\n",
    "    \n",
    "    # self + other\n",
    "    def __add__(self, other):\n",
    "        return Car(self.model + other.model + 'Supercar!', \n",
    "                   self.year + other.year,\n",
    "                   self.colour + other.colour)\n",
    "    \n",
    "    def __len__(self):\n",
    "        import random\n",
    "        return random.randrange(10000001)\n",
    "    \n",
    "    def paint(self, colour='Electric Blue'):\n",
    "        self.colour = colour\n",
    "        print('You just painted your car {}!'.format(self.colour))\n",
    "        \n",
    "    def stop(self, emergency=False):\n",
    "        self.speed = 0\n",
    "        if emergency:\n",
    "            print('EMERGENCY STOP!!!!!')\n",
    "        else:\n",
    "            print('Calm, regular stop.')\n",
    "    \n",
    " \n",
    "class Sedan(Car):\n",
    "    car_type = 'sedan'\n",
    "    \n",
    "    def say_hello(self):\n",
    "        print('Hello from the SEDAN class!')\n",
    "\n",
    "        \n",
    "class Convertible(Car):\n",
    "    car_type = 'convertible'\n",
    "    \n",
    "    def say_hello(self):\n",
    "        print('Hello from the CONVERTIBLE class!')\n",
    "    \n",
    "    def toggle_top(self, state='closed'):\n",
    "        if state == 'open' or state == 'closed':\n",
    "            self.state = state\n",
    "            print(\"Your top is now\", state)\n",
    "        else:\n",
    "            print(\"The roof must be either open or closed\")\n",
    "\n",
    "            \n",
    "class MySedan(Convertible, Sedan):\n",
    "    def __init__(self, model='Dunebuggy', license_plate='H4CK3R', year=1234, colour='Pink'):\n",
    "        super().__init__(model=model, colour=colour, year=year)\n",
    "        self.license_plate = 'H4CK3R'"
   ]
  },
  {
   "cell_type": "code",
   "execution_count": null,
   "metadata": {},
   "outputs": [],
   "source": [
    "c1 = Car('Thunderbird')\n",
    "c2 = Car('Pinto', year=1983, colour='Electric Yellow')\n",
    "\n",
    "c3 = c1 + c2\n",
    "print(c3.model, c3.year, c3.colour)\n",
    "print(len(c3))\n",
    "print(len(c3))"
   ]
  },
  {
   "cell_type": "markdown",
   "metadata": {},
   "source": [
    "Let's create a new car object:"
   ]
  },
  {
   "cell_type": "code",
   "execution_count": null,
   "metadata": {},
   "outputs": [],
   "source": [
    "c = MySedan('Ferarri', license_plate='FUN LVR', year=2009, colour='Electric Blue')\n",
    "c.say_hello()"
   ]
  },
  {
   "cell_type": "code",
   "execution_count": null,
   "metadata": {},
   "outputs": [],
   "source": [
    "# demo of overriding the '+' operator (via __add__)\n",
    "c1 = Car('Ford')\n",
    "c2 = Car('Chrysler')\n",
    "c3 = c1 + c2"
   ]
  },
  {
   "cell_type": "markdown",
   "metadata": {},
   "source": [
    "# Operator overriding (the + operator via __add__())"
   ]
  },
  {
   "cell_type": "code",
   "execution_count": null,
   "metadata": {},
   "outputs": [],
   "source": [
    "# Creating a SuperCar!\n",
    "q = MySedan('Ferarri', license_plate='FUN LVR', year=2009, colour='Electric Blue')\n",
    "r = MySedan('Yaris', license_plate='CAR GUY', year=2002, colour='BumbleBee Yellow')\n",
    "added_cars = r + q\n",
    "print(added_cars.model, added_cars.year, added_cars.colour)\n",
    "added_cars.paint('Outrageous Orange')\n",
    "print(added_cars.colour)"
   ]
  },
  {
   "cell_type": "markdown",
   "metadata": {},
   "source": [
    "### Exercice\n",
    "\n",
    "Add a `paint` method, that takes as argument a \"colour\" string."
   ]
  },
  {
   "cell_type": "code",
   "execution_count": null,
   "metadata": {},
   "outputs": [],
   "source": [
    "c = Car('Honda')\n",
    "c.paint('Ridiculous Psychedelic Purple')\n",
    "c.colour\n"
   ]
  },
  {
   "cell_type": "markdown",
   "metadata": {},
   "source": [
    "If we paint the car red, this should be available in the c.colour attribute:"
   ]
  },
  {
   "cell_type": "code",
   "execution_count": null,
   "metadata": {},
   "outputs": [],
   "source": [
    "if c.colour == 'red':\n",
    "    print \"Awesome---you've got a red car!\"\n",
    "else:\n",
    "    print \"The colour should be red... but in fact, it is\", c.colour"
   ]
  },
  {
   "cell_type": "markdown",
   "metadata": {},
   "source": [
    "### Exercise\n",
    "\n",
    "Add a method `stop` to the definition of the Car class:\n",
    "\n",
    "- The `stop` method will take an optional argument, `emergency`, that will specify whether we are making an emergency stop. The default value of `emergency` is `False`.\n",
    "- The type of stop (emergency or not) should be printed.\n",
    "- When a car stops, it's speed changes to zero."
   ]
  },
  {
   "cell_type": "markdown",
   "metadata": {},
   "source": [
    "This call to `stop` should display: `Normal stop`."
   ]
  },
  {
   "cell_type": "code",
   "execution_count": null,
   "metadata": {},
   "outputs": [],
   "source": [
    "c.stop()"
   ]
  },
  {
   "cell_type": "markdown",
   "metadata": {},
   "source": [
    "For this emergency stop, we should see `Emergency stop!` printed out."
   ]
  },
  {
   "cell_type": "code",
   "execution_count": null,
   "metadata": {},
   "outputs": [],
   "source": [
    "c.stop(emergency=True)"
   ]
  },
  {
   "cell_type": "markdown",
   "metadata": {},
   "source": [
    "After a stop, the speed of our car should be 0:"
   ]
  },
  {
   "cell_type": "code",
   "execution_count": null,
   "metadata": {},
   "outputs": [],
   "source": [
    "if c.speed == 0:\n",
    "    print \"Perfect, your car has stopped!\"\n",
    "else:\n",
    "    print \"Your car shouldn't still be moving (check the handbrake maybe?)!\""
   ]
  },
  {
   "cell_type": "markdown",
   "metadata": {},
   "source": [
    "### Exercice\n",
    "\n",
    "Modify the definition of the class Car so that it prints the following result:\n",
    "\n",
    "        Model: MODEL, Year: YEAR, colour: COLOUR\n",
    "\n",
    "Where MODEL, YEAR, and COLOUR are the attributes of the instance c"
   ]
  },
  {
   "cell_type": "code",
   "execution_count": null,
   "metadata": {},
   "outputs": [],
   "source": [
    "v"
   ]
  },
  {
   "cell_type": "markdown",
   "metadata": {},
   "source": [
    "# Class Methods\n",
    "\n",
    "Example from PER p 123:"
   ]
  },
  {
   "cell_type": "code",
   "execution_count": null,
   "metadata": {},
   "outputs": [],
   "source": [
    "class Times(object):\n",
    "    factor = 3\n",
    "    \n",
    "    @classmethod\n",
    "    def mul(cls, x):\n",
    "        return cls.factor*x\n",
    "\n",
    "#class TwoTimes(Times):\n",
    "#    factor = 2\n",
    "\n",
    "x = Times.mul(3)\n",
    "print x\n",
    "print 5 + 2"
   ]
  },
  {
   "cell_type": "markdown",
   "metadata": {},
   "source": [
    "Another example from PER, this time p 124:"
   ]
  },
  {
   "cell_type": "code",
   "execution_count": null,
   "metadata": {},
   "outputs": [],
   "source": [
    "from math import pi\n",
    "\n",
    "class Circle:\n",
    "    def __init__(self, radius):\n",
    "        self.__radius = radius\n",
    "    # Some additional properties of Circles\n",
    "    \n",
    "    def change_rad(self, radius):\n",
    "        self.__radius = radius\n",
    "    \n",
    "    @property\n",
    "    def area(self):\n",
    "        return pi * self.__radius ** 2\n",
    "    \n",
    "    @property\n",
    "    def radius(self):\n",
    "        return self.__radius\n",
    "    \n",
    "    @radius.setter\n",
    "    def radius(self, value):\n",
    "        self.__radius = value\n",
    "    \n",
    "    @property\n",
    "    def perimeter(self):\n",
    "        return 2 * pi * self.__radius"
   ]
  },
  {
   "cell_type": "code",
   "execution_count": null,
   "metadata": {},
   "outputs": [],
   "source": [
    "c = Circle(5.0)"
   ]
  },
  {
   "cell_type": "code",
   "execution_count": null,
   "metadata": {},
   "outputs": [],
   "source": [
    "print(c.radius)\n",
    "c.radius = 77\n",
    "print(c.radius)"
   ]
  },
  {
   "cell_type": "code",
   "execution_count": null,
   "metadata": {},
   "outputs": [],
   "source": [
    "c.change_rad(7)"
   ]
  },
  {
   "cell_type": "code",
   "execution_count": null,
   "metadata": {},
   "outputs": [],
   "source": [
    "print(c.perimeter)"
   ]
  },
  {
   "cell_type": "code",
   "execution_count": null,
   "metadata": {},
   "outputs": [],
   "source": [
    "c.radius = 45\n",
    "print(c.perimeter)"
   ]
  },
  {
   "cell_type": "code",
   "execution_count": null,
   "metadata": {},
   "outputs": [],
   "source": [
    "#dir(c)\n",
    "print(c._Circle__radius)"
   ]
  },
  {
   "cell_type": "code",
   "execution_count": null,
   "metadata": {},
   "outputs": [],
   "source": [
    "# Exercise : Properties\n",
    "\n",
    "class Dinosaur(object):\n",
    "    def __init__(self, vitesse, espece, couleur = 'Vert'):\n",
    "        self.vitesse = vitesse\n",
    "        self.couleur = couleur\n",
    "        self.espece = espece\n",
    "    \n",
    "    \n",
    "    def double(self):\n",
    "        return self.vitesse*2\n",
    "\n",
    "    \n",
    "    def change_vit(self, new_vitesse):\n",
    "        self.vitesse = new_vitesse\n",
    "        return \n"
   ]
  },
  {
   "cell_type": "code",
   "execution_count": null,
   "metadata": {},
   "outputs": [],
   "source": [
    "din = Dinosaur(100, 'T-Rex')\n",
    "print din.couleur\n",
    "print din.vitesse\n",
    "print din.espece"
   ]
  },
  {
   "cell_type": "code",
   "execution_count": null,
   "metadata": {},
   "outputs": [],
   "source": [
    "print din.double()"
   ]
  },
  {
   "cell_type": "code",
   "execution_count": null,
   "metadata": {},
   "outputs": [],
   "source": [
    "print din.vitesse"
   ]
  },
  {
   "cell_type": "code",
   "execution_count": null,
   "metadata": {},
   "outputs": [],
   "source": [
    "print din.vitesse"
   ]
  },
  {
   "cell_type": "code",
   "execution_count": null,
   "metadata": {},
   "outputs": [],
   "source": [
    "print din.double"
   ]
  },
  {
   "cell_type": "code",
   "execution_count": null,
   "metadata": {},
   "outputs": [],
   "source": []
  },
  {
   "cell_type": "code",
   "execution_count": null,
   "metadata": {},
   "outputs": [],
   "source": [
    "print din.vitesse"
   ]
  },
  {
   "cell_type": "markdown",
   "metadata": {},
   "source": [
    "# Exercise\n",
    "\n",
    "1. Create a new Dinosaur class and override it's `__len__`, `__add__`, and `__iadd__` special methods.\n",
    "2. Experiment with using the `len()` function, and the `+` and `+=` operators on one or more instance(s) of Dinosaur."
   ]
  },
  {
   "cell_type": "code",
   "execution_count": 18,
   "metadata": {},
   "outputs": [],
   "source": [
    "class Dinosaur:\n",
    "    def __init__(self, name: str, age: int=0):\n",
    "        self.name = name\n",
    "        self.age = age\n",
    "        \n",
    "    def __add__(self, other):\n",
    "        return Dinosaur(self.name + other.name)\n",
    "    \n",
    "    def __enter__(self):\n",
    "        print(\"Dino has been primed!\")\n",
    "        return self\n",
    "        \n",
    "    def __exit__(self, exe_type, exe_value, traceback):\n",
    "        print(\"Dinosaur has been deactivated!\")\n",
    "        \n",
    "    def move(self):\n",
    "        print(\"RUNNING TRICERATOPS\")"
   ]
  },
  {
   "cell_type": "code",
   "execution_count": 14,
   "metadata": {},
   "outputs": [],
   "source": [
    "d1 = Dinosaur(\"Tyranosaurus\", 500)\n",
    "d2 = Dinosaur(\"Diplodocus\", 700)"
   ]
  },
  {
   "cell_type": "code",
   "execution_count": 15,
   "metadata": {},
   "outputs": [
    {
     "data": {
      "text/plain": [
       "'TyranosaurusDiplodocus'"
      ]
     },
     "execution_count": 15,
     "metadata": {},
     "output_type": "execute_result"
    }
   ],
   "source": [
    "d3 = d1 + d2\n",
    "d3.name"
   ]
  },
  {
   "cell_type": "code",
   "execution_count": 19,
   "metadata": {},
   "outputs": [
    {
     "name": "stdout",
     "output_type": "stream",
     "text": [
      "Dino has been primed!\n",
      "RUNNING TRICERATOPS\n",
      "Dinosaur has been deactivated!\n"
     ]
    }
   ],
   "source": [
    "with Dinosaur(\"Triceratops\", 100) as d:\n",
    "    d.move()"
   ]
  },
  {
   "cell_type": "code",
   "execution_count": 20,
   "metadata": {},
   "outputs": [
    {
     "data": {
      "text/plain": [
       "'3.7.3 (default, Mar 27 2019, 16:54:48) \\n[Clang 4.0.1 (tags/RELEASE_401/final)]'"
      ]
     },
     "execution_count": 20,
     "metadata": {},
     "output_type": "execute_result"
    }
   ],
   "source": [
    "import sys\n",
    "sys.version"
   ]
  }
 ],
 "metadata": {
  "kernelspec": {
   "display_name": "Python 3",
   "language": "python",
   "name": "python3"
  },
  "language_info": {
   "codemirror_mode": {
    "name": "ipython",
    "version": 3
   },
   "file_extension": ".py",
   "mimetype": "text/x-python",
   "name": "python",
   "nbconvert_exporter": "python",
   "pygments_lexer": "ipython3",
   "version": "3.7.3"
  }
 },
 "nbformat": 4,
 "nbformat_minor": 2
}
