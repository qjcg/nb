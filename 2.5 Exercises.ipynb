{
 "cells": [
  {
   "cell_type": "markdown",
   "metadata": {},
   "source": [
    "# Exercises\n",
    "\n",
    "The following exercises will give us practice using many of the concepts covered to date (as well as practice reading \"other people's code\") :\n",
    "\n",
    "- Ch 1 (p. 47): 1-5\n",
    "- Ch 2 (p. 104): 1-4\n",
    "- Ch 3 (p. 158): 1-3\n",
    "\n",
    "![Other People's Code](files/images/other_peoples_code.png)"
   ]
  },
  {
   "cell_type": "markdown",
   "metadata": {},
   "source": [
    "# Exercise: argparse\n",
    "\n",
    "Write a script that parses command line options using the argparse module.\n",
    "\n",
    "http://docs.python.org/3/library/argparse.html\n",
    "\n",
    "The script should correspond to the following usage message :\n",
    "\n",
    "`greet.py [-n times] [language]`\n",
    "\n",
    "Print a greeting in the provided language (english default).\n",
    "\n",
    "Optionally print the greeting -n times.\n",
    "\n",
    "## Solution"
   ]
  }
 ],
 "metadata": {
  "kernelspec": {
   "display_name": "Python 3",
   "language": "python",
   "name": "python3"
  },
  "language_info": {
   "codemirror_mode": {
    "name": "ipython",
    "version": 3
   },
   "file_extension": ".py",
   "mimetype": "text/x-python",
   "name": "python",
   "nbconvert_exporter": "python",
   "pygments_lexer": "ipython3",
   "version": "3.7.2"
  }
 },
 "nbformat": 4,
 "nbformat_minor": 1
}
