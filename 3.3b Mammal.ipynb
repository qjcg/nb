{
 "cells": [
  {
   "cell_type": "code",
   "execution_count": 1,
   "metadata": {
    "collapsed": false
   },
   "outputs": [],
   "source": [
    "class Mammal(object):\n",
    "    skin = 'blue'\n",
    "    types = [1, 2, 3]\n",
    "    \n",
    "    def __init__(self, name, age):\n",
    "        self.name = name\n",
    "        self.age = age\n",
    "        self._state = 'on'\n",
    "        self.__node = 1\n",
    "        \n",
    "    #@staticmethod\n",
    "    #def randomize_mammal(param1=None, param2=None):\n",
    "    #    return Mammal(\"lakdsjfldsakfj\", 123)\n",
    "\n",
    "    @classmethod\n",
    "    def randomize_mammal(cls, param1=None, param2=None):\n",
    "        return cls(\"lakdsjfldsakfj\", 123)\n",
    "        \n",
    "    @property\n",
    "    def consumable(self):\n",
    "        return self.age > 2\n",
    "    @consumable.setter\n",
    "    def consumable(self, value):\n",
    "        #self._consumable = value\n",
    "        pass\n",
    "\n",
    "    def __repr__(self):\n",
    "        return \"<{me.__class__.__name__}: name={me.name} age={me.age}>\".format(me=self)\n",
    "\n",
    "class Whale(Mammal):\n",
    "    pass\n",
    "\n",
    "class Cat(Mammal):\n",
    "    skin = 'chocolate'\n",
    "    def __init__(self, name, age):\n",
    "        super().__init__(name, age)\n",
    "        self.__node = 2\n",
    "        \n",
    "class SmallCat(Cat):\n",
    "    pass"
   ]
  },
  {
   "cell_type": "code",
   "execution_count": 8,
   "metadata": {
    "collapsed": false
   },
   "outputs": [
    {
     "data": {
      "text/plain": [
       "'<Mammal: name=Human age=44>'"
      ]
     },
     "execution_count": 8,
     "metadata": {},
     "output_type": "execute_result"
    }
   ],
   "source": [
    "m = Mammal('Human', 44)\n",
    "m.__repr__()"
   ]
  },
  {
   "cell_type": "code",
   "execution_count": 14,
   "metadata": {
    "collapsed": false
   },
   "outputs": [
    {
     "name": "stdout",
     "output_type": "stream",
     "text": [
      "<Whale: name=lakdsjfldsakfj age=123>\n",
      "<Whale: name=lakdsjfldsakfj age=123>\n"
     ]
    },
    {
     "data": {
      "text/plain": [
       "True"
      ]
     },
     "execution_count": 14,
     "metadata": {},
     "output_type": "execute_result"
    }
   ],
   "source": [
    "w1 = Whale.randomize_mammal('param1', 'param2')\n",
    "w2 = w1.randomize_mammal(\"bo\", \"moo\")\n",
    "print(w1)\n",
    "print(w2)\n",
    "m1 = Mammal('Bob', 12)\n",
    "#m1._Mammal__node = 123\n",
    "#print(m1.__dict__)\n",
    "m1.consumable"
   ]
  },
  {
   "cell_type": "code",
   "execution_count": 66,
   "metadata": {
    "collapsed": false
   },
   "outputs": [
    {
     "name": "stdout",
     "output_type": "stream",
     "text": [
      "{'age': 2, '_Mammal__node': 1, '_state': 'on', 'name': 'Miaou', '_Cat__node': 2}\n"
     ]
    },
    {
     "data": {
      "text/plain": [
       "[1, 2, 3, 4, 4]"
      ]
     },
     "execution_count": 66,
     "metadata": {},
     "output_type": "execute_result"
    }
   ],
   "source": [
    "sc1 = SmallCat('Miaou', 2)\n",
    "print(sc1.__dict__)\n",
    "sc1.types.append(4)\n",
    "\n",
    "Mammal.types\n",
    "sc1.types\n",
    "#sc1._Cat__node\n",
    "#sc1.name\n",
    "#sc1.skin = 'hairy'\n",
    "#sc1.skin\n",
    "#sc1._state"
   ]
  },
  {
   "cell_type": "code",
   "execution_count": 22,
   "metadata": {
    "collapsed": false
   },
   "outputs": [],
   "source": [
    "boo = sc1.__class__"
   ]
  },
  {
   "cell_type": "code",
   "execution_count": 24,
   "metadata": {
    "collapsed": false
   },
   "outputs": [
    {
     "data": {
      "text/plain": [
       "'SmallCat'"
      ]
     },
     "execution_count": 24,
     "metadata": {},
     "output_type": "execute_result"
    }
   ],
   "source": []
  },
  {
   "cell_type": "code",
   "execution_count": 4,
   "metadata": {
    "collapsed": false
   },
   "outputs": [
    {
     "name": "stdout",
     "output_type": "stream",
     "text": [
      "moo\n",
      "moo\n"
     ]
    }
   ],
   "source": [
    "class A:\n",
    "    def _A__spam(self):\n",
    "        print(\"boo\")\n",
    "    def __spam(self):\n",
    "        print(\"moo\")  # or flip the order to get \"boo\"\n",
    "    def boo(self):\n",
    "        self.__spam()\n",
    "a1 = A()\n",
    "a1._A__spam()\n",
    "a1.boo()"
   ]
  },
  {
   "cell_type": "markdown",
   "metadata": {},
   "source": [
    "### Context managers, p. 62 and p. 89"
   ]
  },
  {
   "cell_type": "code",
   "execution_count": 15,
   "metadata": {
    "collapsed": false
   },
   "outputs": [
    {
     "name": "stdout",
     "output_type": "stream",
     "text": [
      "DISTRIB_ID=Ubuntu\n",
      "DISTRIB_RELEASE=12.04\n",
      "DISTRIB_CODENAME=precise\n",
      "DISTRIB_DESCRIPTION=\"Ubuntu 12.04.2 LTS\"\n",
      "\n"
     ]
    }
   ],
   "source": [
    "f = open('/etc/lsb-release')\n",
    "print(f.read())\n",
    "f.close()"
   ]
  },
  {
   "cell_type": "code",
   "execution_count": 16,
   "metadata": {
    "collapsed": false
   },
   "outputs": [
    {
     "name": "stdout",
     "output_type": "stream",
     "text": [
      "DISTRIB_ID=Ubuntu\n",
      "DISTRIB_RELEASE=12.04\n",
      "DISTRIB_CODENAME=precise\n",
      "DISTRIB_DESCRIPTION=\"Ubuntu 12.04.2 LTS\"\n",
      "\n"
     ]
    }
   ],
   "source": [
    "with open('/etc/lsb-release') as f:\n",
    "    print(f.read())"
   ]
  },
  {
   "cell_type": "code",
   "execution_count": 1,
   "metadata": {
    "collapsed": false
   },
   "outputs": [],
   "source": [
    "import json\n",
    "class Pdict:\n",
    "    def __init__(self, filename):\n",
    "        self.filename = filename\n",
    "\n",
    "    def __enter__(self):\n",
    "        # read `filename`, extract `d`\n",
    "        try:\n",
    "            self.d = json.load(open(self.filename))\n",
    "        except (ValueError, IOError) as e:\n",
    "            self.d = {}\n",
    "        #    any error ? make it a {}\n",
    "        # keep a ref to `d`\n",
    "        return self.d\n",
    "    \n",
    "    def __exit__(self, extype, exvalue, tb):\n",
    "        # flush `d` back to `filename`\n",
    "        print(extype, exvalue, tb)\n",
    "        json.dump(self.d, open(self.filename, 'w'))\n"
   ]
  },
  {
   "cell_type": "code",
   "execution_count": 2,
   "metadata": {
    "collapsed": false
   },
   "outputs": [
    {
     "name": "stdout",
     "output_type": "stream",
     "text": [
      "None None None\n",
      "{'dog': 'chien', 'new_stuff_again_boo_maa': 'haha', 'cat': 'chat'}\n",
      "None None None\n"
     ]
    }
   ],
   "source": [
    "my_ctx = Pdict(\"test.json\")\n",
    "with my_ctx as d:\n",
    "    d['new_stuff_again_boo_maa'] = 'haha'   \n",
    "    #raise RuntimeError(\"boo\")\n",
    "    \n",
    "d['no_stuff'] = 'hmmm'\n",
    "\n",
    "with my_ctx as d:\n",
    "    print(d)\n"
   ]
  },
  {
   "cell_type": "markdown",
   "metadata": {},
   "source": [
    "### List comprehensions, full size, p. 108"
   ]
  },
  {
   "cell_type": "code",
   "execution_count": 45,
   "metadata": {
    "collapsed": false
   },
   "outputs": [],
   "source": [
    "x = [1,2,3,4,5]"
   ]
  },
  {
   "cell_type": "code",
   "execution_count": 46,
   "metadata": {
    "collapsed": false
   },
   "outputs": [
    {
     "data": {
      "text/plain": [
       "[1, 4, 9, 16, 25]"
      ]
     },
     "execution_count": 46,
     "metadata": {},
     "output_type": "execute_result"
    }
   ],
   "source": [
    "# square all those values in a new list\n",
    "n = []\n",
    "for el in x:\n",
    "    n.append(el * el)\n",
    "n"
   ]
  },
  {
   "cell_type": "code",
   "execution_count": 48,
   "metadata": {
    "collapsed": false
   },
   "outputs": [
    {
     "data": {
      "text/plain": [
       "[1, 4, 9, 16, 25]"
      ]
     },
     "execution_count": 48,
     "metadata": {},
     "output_type": "execute_result"
    }
   ],
   "source": [
    "[el * el  for el in x]"
   ]
  },
  {
   "cell_type": "code",
   "execution_count": 47,
   "metadata": {
    "collapsed": false
   },
   "outputs": [],
   "source": [
    "flatten = [[1, 2, 3],\n",
    "           [4, 5, 6],\n",
    "           [7, 8, 9]]"
   ]
  },
  {
   "cell_type": "code",
   "execution_count": 49,
   "metadata": {
    "collapsed": false
   },
   "outputs": [
    {
     "data": {
      "text/plain": [
       "[1, 2, 3, 4, 5, 6, 7, 8, 9]"
      ]
     },
     "execution_count": 49,
     "metadata": {},
     "output_type": "execute_result"
    }
   ],
   "source": [
    "f = []\n",
    "for sublist in flatten:\n",
    "    for el in sublist:\n",
    "        f.append(el)\n",
    "f"
   ]
  },
  {
   "cell_type": "code",
   "execution_count": 51,
   "metadata": {
    "collapsed": false
   },
   "outputs": [
    {
     "data": {
      "text/plain": [
       "[1, 2, 3, 4, 5, 6, 7, 8, 9]"
      ]
     },
     "execution_count": 51,
     "metadata": {},
     "output_type": "execute_result"
    }
   ],
   "source": [
    "[el  for sublist in flatten\n",
    "     for el in sublist]"
   ]
  },
  {
   "cell_type": "code",
   "execution_count": 52,
   "metadata": {
    "collapsed": false
   },
   "outputs": [
    {
     "data": {
      "text/plain": [
       "<generator object <genexpr> at 0x339e690>"
      ]
     },
     "execution_count": 52,
     "metadata": {},
     "output_type": "execute_result"
    }
   ],
   "source": [
    "(x ** 2 for x in range(100000000000))"
   ]
  },
  {
   "cell_type": "code",
   "execution_count": 104,
   "metadata": {
    "collapsed": false
   },
   "outputs": [
    {
     "data": {
      "text/plain": [
       "2601"
      ]
     },
     "execution_count": 104,
     "metadata": {},
     "output_type": "execute_result"
    }
   ],
   "source": [
    "next(_52)"
   ]
  },
  {
   "cell_type": "code",
   "execution_count": 111,
   "metadata": {
    "collapsed": false
   },
   "outputs": [],
   "source": [
    "d = dict(A=1, B=2, C=3)"
   ]
  },
  {
   "cell_type": "code",
   "execution_count": 113,
   "metadata": {
    "collapsed": false
   },
   "outputs": [
    {
     "data": {
      "text/plain": [
       "{'A': 1, 'B': 2, 'C': 3, 'a': 5}"
      ]
     },
     "execution_count": 113,
     "metadata": {},
     "output_type": "execute_result"
    }
   ],
   "source": [
    "d['a'] = 5\n",
    "d"
   ]
  },
  {
   "cell_type": "code",
   "execution_count": 107,
   "metadata": {
    "collapsed": false
   },
   "outputs": [
    {
     "data": {
      "text/plain": [
       "{'a': 2, 'b': 3, 'c': 4}"
      ]
     },
     "execution_count": 107,
     "metadata": {},
     "output_type": "execute_result"
    }
   ],
   "source": [
    "{'a': 2, 'b': 3, 'c': 4}"
   ]
  },
  {
   "cell_type": "code",
   "execution_count": 108,
   "metadata": {
    "collapsed": false
   },
   "outputs": [],
   "source": [
    "# {\"key\": \"value\" for x in iterable}"
   ]
  },
  {
   "cell_type": "code",
   "execution_count": 114,
   "metadata": {
    "collapsed": false
   },
   "outputs": [
    {
     "data": {
      "text/plain": [
       "{'a': 6, 'b': 3, 'c': 4}"
      ]
     },
     "execution_count": 114,
     "metadata": {},
     "output_type": "execute_result"
    }
   ],
   "source": [
    "{k.lower(): v + 1  for k, v in d.items()}"
   ]
  },
  {
   "cell_type": "code",
   "execution_count": 115,
   "metadata": {
    "collapsed": false
   },
   "outputs": [
    {
     "data": {
      "text/plain": [
       "set([256, 1, 4, 16777216, 387420489, 3125, 823543, 46656, 27])"
      ]
     },
     "execution_count": 115,
     "metadata": {},
     "output_type": "execute_result"
    }
   ],
   "source": [
    "{x ** x  for x in range(10)}"
   ]
  },
  {
   "cell_type": "code",
   "execution_count": null,
   "metadata": {
    "collapsed": false
   },
   "outputs": [],
   "source": []
  },
  {
   "cell_type": "markdown",
   "metadata": {},
   "source": [
    "# Custom Context Manager Example"
   ]
  },
  {
   "cell_type": "code",
   "execution_count": 17,
   "metadata": {
    "collapsed": false
   },
   "outputs": [
    {
     "ename": "ImportError",
     "evalue": "This is like I imported something I should't have",
     "output_type": "error",
     "traceback": [
      "\u001b[1;31m---------------------------------------------------------------------------\u001b[0m\n\u001b[1;31mImportError\u001b[0m                               Traceback (most recent call last)",
      "\u001b[1;32m<ipython-input-17-021e8e774edb>\u001b[0m in \u001b[0;36m<module>\u001b[1;34m()\u001b[0m\n\u001b[0;32m     25\u001b[0m \u001b[1;32mwith\u001b[0m \u001b[0mHorse\u001b[0m\u001b[1;33m(\u001b[0m\u001b[1;34m'Dora'\u001b[0m\u001b[1;33m)\u001b[0m \u001b[1;32mas\u001b[0m \u001b[0mh\u001b[0m\u001b[1;33m:\u001b[0m\u001b[1;33m\u001b[0m\u001b[0m\n\u001b[0;32m     26\u001b[0m     \u001b[0mh\u001b[0m\u001b[1;33m.\u001b[0m\u001b[0mride\u001b[0m\u001b[1;33m(\u001b[0m\u001b[1;33m)\u001b[0m\u001b[1;33m\u001b[0m\u001b[0m\n\u001b[1;32m---> 27\u001b[1;33m     \u001b[1;32mraise\u001b[0m \u001b[0mImportError\u001b[0m\u001b[1;33m(\u001b[0m\u001b[1;34m\"This is like I imported something I should't have\"\u001b[0m\u001b[1;33m)\u001b[0m\u001b[1;33m\u001b[0m\u001b[0m\n\u001b[0m",
      "\u001b[1;31mImportError\u001b[0m: This is like I imported something I should't have"
     ]
    },
    {
     "name": "stdout",
     "output_type": "stream",
     "text": [
      "This is printed when we ENTER a with block\n",
      "You take off into the sunset on Dora with the speed of a lightning bolt!\n",
      "This is printed when we EXIT a with block\n",
      "This gets printed anyway!\n"
     ]
    }
   ],
   "source": [
    "# A horse with a context manager!                                                                                                                              \n",
    "class Horse:                                                                                                                                                   \n",
    "    def __init__(self, name='Lenny', colour='Brown'):                                                                                                          \n",
    "        self.name = name                                                                                                                                       \n",
    "        self.colour = colour                                                                                                                                   \n",
    "                                                                                                                                                               \n",
    "    def ride(self):                                                                                                                                            \n",
    "        print('You take off into the sunset on {} '                                                                                                            \n",
    "              'with the speed of a lightning bolt!'.format(self.name))                                                                                         \n",
    "                                                                                                                                                               \n",
    "    def __enter__(self):                                                                                                                                    \n",
    "        print('This is printed when we ENTER a with block')                                                                                                    \n",
    "        return self\n",
    "                                                                                                                                                               \n",
    "    def __exit__(self, exc_type, exc_val, exc_tb):                                                                                                             \n",
    "        try:\n",
    "            print('This is printed when we EXIT a with block')\n",
    "            return False\n",
    "        except ImportError as e:\n",
    "            print(e)\n",
    "        finally:\n",
    "            print('This gets printed anyway!')\n",
    "        \n",
    "                                                                                                                                                               \n",
    "with Horse('Dora') as h:\n",
    "    h.ride()\n",
    "    raise ImportError(\"This is like I imported something I should't have\")"
   ]
  },
  {
   "cell_type": "markdown",
   "metadata": {},
   "source": [
    "# Context Manager Exercise\n",
    "\n",
    "1. Starting from a class that you've already defined, override it's `__enter__` and `__exit__` special methods to provide your class with a context manager.\n",
    "2. Be sure to pass the correct set of arguments for handling exceptions to your `__exit__` method : `(self, exc_type, exc_val, traceback)`\n",
    "3. Use an instance of your class in a `with` block, and in the with block, _intentionally_ raise an exception (ex: `raise ImportError(\"Random ImportError\")`), and ensure that it is handled by the logic of your `__exit__` method"
   ]
  }
 ],
 "metadata": {
  "kernelspec": {
   "display_name": "Python 3",
   "language": "python",
   "name": "python3"
  },
  "language_info": {
   "codemirror_mode": {
    "name": "ipython",
    "version": 3
   },
   "file_extension": ".py",
   "mimetype": "text/x-python",
   "name": "python",
   "nbconvert_exporter": "python",
   "pygments_lexer": "ipython3",
   "version": "3.7.2"
  }
 },
 "nbformat": 4,
 "nbformat_minor": 2
}
