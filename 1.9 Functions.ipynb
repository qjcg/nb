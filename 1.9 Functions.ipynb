{
 "cells": [
  {
   "cell_type": "markdown",
   "metadata": {},
   "source": [
    "# Functions\n",
    "\n",
    "- defining\n",
    "- return a tuple, is unpacked"
   ]
  },
  {
   "cell_type": "code",
   "execution_count": 8,
   "metadata": {},
   "outputs": [
    {
     "name": "stdout",
     "output_type": "stream",
     "text": [
      "7\n",
      "OTHER CODE GOES HERE\n",
      "8\n",
      "7\n"
     ]
    }
   ],
   "source": [
    "def foo(x=1):\n",
    "    \"\"\"Does the foo operation on x and returns the result.\n",
    "    \n",
    "    More elaborate multi-paragraph description...\n",
    "    \"\"\"\n",
    "    x += 1\n",
    "    x += 2\n",
    "    x += 3\n",
    "    return x\n",
    "\n",
    "# Run foo procedure on x.\n",
    "print(foo(1))\n",
    "\n",
    "print(\"OTHER CODE GOES HERE\")\n",
    "\n",
    "# Run foo procedure on x.\n",
    "print(foo(2))\n",
    "print(foo())"
   ]
  },
  {
   "cell_type": "code",
   "execution_count": 10,
   "metadata": {},
   "outputs": [
    {
     "name": "stdout",
     "output_type": "stream",
     "text": [
      "Hello\n",
      "None Hello\n"
     ]
    }
   ],
   "source": [
    "# Using arguments with functions\n",
    "\n",
    "# A function that takes no arguments.\n",
    "def greetp():\n",
    "    print(\"Hello\")\n",
    "    \n",
    "# Same as above, but returns instead of printing\n",
    "def greet():\n",
    "    return \"Hello\"\n",
    "\n",
    "g1 = greetp()\n",
    "g2 = greet()\n",
    "\n",
    "print(g1, g2)"
   ]
  },
  {
   "cell_type": "code",
   "execution_count": 16,
   "metadata": {},
   "outputs": [
    {
     "name": "stdout",
     "output_type": "stream",
     "text": [
      "FIREWALL UPDATE: block 192.168.22.1:8888\n",
      "FIREWALL UPDATE: accept 8.8.8.8:22\n",
      "FIREWALL UPDATE: 10.10.10.2 9999:reject\n",
      "FIREWALL UPDATE: reject 10.10.10.2:9999\n"
     ]
    }
   ],
   "source": [
    "# Functions taking multiple positional parameters\n",
    "\n",
    "def update_firewall(action, ip, port):\n",
    "    return f\"FIREWALL UPDATE: {action} {ip}:{port}\"\n",
    "    \n",
    "# Call function with various arguments.\n",
    "print(update_firewall(\"block\", \"192.168.22.1\", \"8888\"))\n",
    "print(update_firewall(\"accept\", \"8.8.8.8\", \"22\"))\n",
    "\n",
    "# Call function with no args.\n",
    "#print(update_firewall())\n",
    "\n",
    "# Call function with arguments out of order will assign WRONG vals to wrong vars.\n",
    "print(update_firewall(\"10.10.10.2\", \"9999\", \"reject\"))\n",
    "\n",
    "# HOWEVER, we CAN use different order with KEYWORD ARGUMENTS.\n",
    "print(update_firewall(ip=\"10.10.10.2\", port=\"9999\", action=\"reject\"))"
   ]
  },
  {
   "cell_type": "markdown",
   "metadata": {},
   "source": [
    "# EXERCISE: Function Basics\n",
    "\n",
    "Given that the basic syntax for defining a function is:\n",
    "\n",
    "```python\n",
    "def my_func_name(arg1, arg2):\n",
    "    # any code you want\n",
    "    return some_value\n",
    "```\n",
    "\n",
    "- Define a function called `trade` that accepts three arguments: `market`, `security`, `amount`\n",
    "- Call the function with various arguments and ensure you see expected results\n",
    "- Ensure your function accepts default values for each argument"
   ]
  },
  {
   "cell_type": "code",
   "execution_count": 23,
   "metadata": {},
   "outputs": [],
   "source": [
    "def trade(market=\"OTC\", security=\"GOOG\", amount=1):\n",
    "    \"\"\"Make a trade with a given market, security, and amount. \n",
    "    \"\"\"\n",
    "    return f\"TRADED {amount} of {security} in {market}\""
   ]
  },
  {
   "cell_type": "code",
   "execution_count": 24,
   "metadata": {},
   "outputs": [
    {
     "name": "stdout",
     "output_type": "stream",
     "text": [
      "TRADED 999999999999 of GOOG in NYSE\n",
      "TRADED 2 of AAPL in NYSE\n",
      "TRADED 0 of DRW in OTC\n",
      "TRADED 1 of GOOG in OTC\n",
      "TRADED 1 of AAPL in OTC\n",
      "TRADED 1 of AAPL in TSX\n"
     ]
    }
   ],
   "source": [
    "print(trade(\"NYSE\", \"GOOG\", 999999999999))\n",
    "print(trade(\"NYSE\", \"AAPL\", 2))\n",
    "print(trade(\"OTC\", \"DRW\", 0))\n",
    "\n",
    "# Using default values.\n",
    "print(trade())\n",
    "print(trade(security=\"AAPL\"))\n",
    "print(trade(security=\"AAPL\", market=\"TSX\"))"
   ]
  },
  {
   "cell_type": "markdown",
   "metadata": {},
   "source": [
    "## Unpacking lists of arguments"
   ]
  },
  {
   "cell_type": "markdown",
   "metadata": {},
   "source": [
    "This applies when calling a *previously defined* function and passing a tuple/list/dict as argument."
   ]
  },
  {
   "cell_type": "code",
   "execution_count": 9,
   "metadata": {},
   "outputs": [
    {
     "name": "stdout",
     "output_type": "stream",
     "text": [
      "Using unpacked tuple: [1, 2, 3, 4, 5]\n",
      "Using unpacked list: range(1, 6)\n",
      "Howdy James Cameron!\n",
      "0\n"
     ]
    }
   ],
   "source": [
    "# normal invocation\n",
    "range(1, 6)\n",
    "\n",
    "def howdy(first, last, n=0):\n",
    "    print(\"Howdy {} {}!\".format(first, last))\n",
    "    print(n)\n",
    "\n",
    "args_tuple = (1,6)\n",
    "args_list = [1,6]\n",
    "args_dict = {'first': 'James', 'last': 'Cameron'}\n",
    "\n",
    "# These result in TypeErrors (try executing them!)\n",
    "#range(args_tuple)\n",
    "#range(args_list)\n",
    "#howdy(args_dict)\n",
    "\n",
    "# unpacked\n",
    "print(\"Using unpacked tuple:\", list(range(*args_tuple)))\n",
    "print(\"Using unpacked list:\", range(*args_list))\n",
    "howdy(**args_dict)\n"
   ]
  },
  {
   "cell_type": "markdown",
   "metadata": {},
   "source": [
    "# Optional Arguments and Optional Keyword Arguments\n",
    "\n",
    "This applies when *defining* function. The `*` argument will be accessible as a **tuple** and the `**` argument a **dictionary**."
   ]
  },
  {
   "cell_type": "code",
   "execution_count": 4,
   "metadata": {},
   "outputs": [],
   "source": [
    "def firewall(action=\"BLOCK\", *ips, **services):\n",
    "    \"\"\"Perform firewall actions.\n",
    "    \n",
    "    Services will be a dict as follows:\n",
    "        {\"ssh\": 22, ...}\n",
    "    \"\"\"\n",
    "    for ip in ips:\n",
    "        print(f\"{action} for {ip}\")\n",
    "    \n",
    "    for s, port in services.items():\n",
    "        print(f\"{action} for {s} on {port}\")"
   ]
  },
  {
   "cell_type": "code",
   "execution_count": 12,
   "metadata": {},
   "outputs": [
    {
     "name": "stdout",
     "output_type": "stream",
     "text": [
      "ALLOW for 192.168.0.1\n",
      "ALLOW for 10.13.37.1\n",
      "BLOCK for ssh on 2222\n",
      "BLOCK for http on 8080\n",
      "BLOCK for ftp on 2121\n",
      "BLOCK for 1.1.1.1\n",
      "BLOCK for gopher on 90\n",
      "BLOCK for foo on 5555\n",
      "BLOCK for bar on 9999\n"
     ]
    },
    {
     "ename": "TypeError",
     "evalue": "firewall() got multiple values for argument 'action'",
     "output_type": "error",
     "traceback": [
      "\u001b[0;31m---------------------------------------------------------------------------\u001b[0m",
      "\u001b[0;31mTypeError\u001b[0m                                 Traceback (most recent call last)",
      "\u001b[0;32m<ipython-input-12-406aaa771cda>\u001b[0m in \u001b[0;36m<module>\u001b[0;34m\u001b[0m\n\u001b[1;32m     11\u001b[0m \u001b[0mfirewall\u001b[0m\u001b[0;34m(\u001b[0m\u001b[0;34m\"BLOCK\"\u001b[0m\u001b[0;34m,\u001b[0m \u001b[0;34m\"1.1.1.1\"\u001b[0m\u001b[0;34m,\u001b[0m \u001b[0mgopher\u001b[0m\u001b[0;34m=\u001b[0m\u001b[0;36m90\u001b[0m\u001b[0;34m,\u001b[0m \u001b[0mfoo\u001b[0m\u001b[0;34m=\u001b[0m\u001b[0;36m5555\u001b[0m\u001b[0;34m,\u001b[0m \u001b[0mbar\u001b[0m\u001b[0;34m=\u001b[0m\u001b[0;36m9999\u001b[0m\u001b[0;34m)\u001b[0m\u001b[0;34m\u001b[0m\u001b[0;34m\u001b[0m\u001b[0m\n\u001b[1;32m     12\u001b[0m \u001b[0;34m\u001b[0m\u001b[0m\n\u001b[0;32m---> 13\u001b[0;31m \u001b[0mfirewall\u001b[0m\u001b[0;34m(\u001b[0m\u001b[0;34m\"BLOCK\"\u001b[0m\u001b[0;34m,\u001b[0m \u001b[0;34m\"1.1.1.1\"\u001b[0m\u001b[0;34m,\u001b[0m \u001b[0maction\u001b[0m\u001b[0;34m=\u001b[0m\u001b[0;34m\"foo\"\u001b[0m\u001b[0;34m,\u001b[0m \u001b[0mgopher\u001b[0m\u001b[0;34m=\u001b[0m\u001b[0;36m90\u001b[0m\u001b[0;34m,\u001b[0m \u001b[0mfoo\u001b[0m\u001b[0;34m=\u001b[0m\u001b[0;36m5555\u001b[0m\u001b[0;34m,\u001b[0m \u001b[0mbar\u001b[0m\u001b[0;34m=\u001b[0m\u001b[0;36m9999\u001b[0m\u001b[0;34m)\u001b[0m\u001b[0;34m\u001b[0m\u001b[0;34m\u001b[0m\u001b[0m\n\u001b[0m",
      "\u001b[0;31mTypeError\u001b[0m: firewall() got multiple values for argument 'action'"
     ]
    }
   ],
   "source": [
    "# Only action is specified\n",
    "firewall(\"BLOCK\")\n",
    "\n",
    "# Specifying IPs\n",
    "firewall(\"ALLOW\", \"192.168.0.1\", \"10.13.37.1\")\n",
    "\n",
    "# Specifying services\n",
    "firewall(\"BLOCK\", ssh=2222, http=8080, ftp=2121)\n",
    "\n",
    "# Specifying IPs AND Services\n",
    "firewall(\"BLOCK\", \"1.1.1.1\", gopher=90, foo=5555, bar=9999)\n",
    "\n",
    "firewall(\"BLOCK\", \"1.1.1.1\", gopher=90, foo=5555, bar=9999)"
   ]
  },
  {
   "cell_type": "code",
   "execution_count": 8,
   "metadata": {},
   "outputs": [],
   "source": [
    "d = {'name': \"Vigilant Global\", 'val': 42}"
   ]
  },
  {
   "cell_type": "code",
   "execution_count": 9,
   "metadata": {},
   "outputs": [
    {
     "name": "stdout",
     "output_type": "stream",
     "text": [
      "1981 ('abc', '123', 'Jacob', 'Jeremy') {'name': 'Vigilant Global', 'val': 42}\n"
     ]
    }
   ],
   "source": [
    "funny_stuff(1981, 'abc', '123', 'Jacob', 'Jeremy', d)"
   ]
  },
  {
   "cell_type": "code",
   "execution_count": 11,
   "metadata": {},
   "outputs": [
    {
     "name": "stdout",
     "output_type": "stream",
     "text": [
      "do firewall stuff\n",
      "banning evil ip: 10.10.42.5\n",
      "banning evil ip: 192.168.40.22\n"
     ]
    }
   ],
   "source": [
    "def firewall(open_ports, *banned_ips):\n",
    "    print('do firewall stuff')\n",
    "    for ip in banned_ips:\n",
    "        print('banning evil ip: {}'.format(ip))\n",
    "        \n",
    "firewall(80, '10.10.42.5', '192.168.40.22')"
   ]
  },
  {
   "cell_type": "markdown",
   "metadata": {},
   "source": [
    "# Exercise\n",
    "\n",
    "Create your own function that uses optional arguments (`*`) and optional keyword arguments (`**`).\n",
    "\n",
    "Your function should be a \"scraper\".\n",
    "\n",
    "Your function should take as URLs as optargs.\n",
    "\n",
    "Your function should take sitename/URL pairs as kwargs.\n",
    "\n",
    "The function should print that it is scraping each URL and/or sitename/URL pair for your optargs and kwargs."
   ]
  },
  {
   "cell_type": "code",
   "execution_count": 13,
   "metadata": {},
   "outputs": [],
   "source": [
    "def greet(*names):\n",
    "    for n in names:\n",
    "        print(f\"Hello, {n}\")\n",
    "        \n",
    "class_names = (\"John\", \"Josephine\", \"Jane\")"
   ]
  },
  {
   "cell_type": "code",
   "execution_count": 16,
   "metadata": {},
   "outputs": [
    {
     "name": "stdout",
     "output_type": "stream",
     "text": [
      "Hello, Jack\n",
      "Hello, Julia\n",
      "Hello, Mark\n",
      "Hello, Madeline\n"
     ]
    }
   ],
   "source": [
    "greet(\"Jack\", \"Julia\", \"Mark\", \"Madeline\")"
   ]
  },
  {
   "cell_type": "code",
   "execution_count": null,
   "metadata": {},
   "outputs": [],
   "source": []
  }
 ],
 "metadata": {
  "kernelspec": {
   "display_name": "Python 3",
   "language": "python",
   "name": "python3"
  },
  "language_info": {
   "codemirror_mode": {
    "name": "ipython",
    "version": 3
   },
   "file_extension": ".py",
   "mimetype": "text/x-python",
   "name": "python",
   "nbconvert_exporter": "python",
   "pygments_lexer": "ipython3",
   "version": "3.7.3"
  }
 },
 "nbformat": 4,
 "nbformat_minor": 2
}
