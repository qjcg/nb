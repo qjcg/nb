{
 "metadata": {
  "name": "",
  "signature": "sha256:6ea5cab607e0fbcdec08d0e4c82f2eb01cd9ece23bf106ecd278a9d25c3097d7"
 },
 "nbformat": 3,
 "nbformat_minor": 0,
 "worksheets": [
  {
   "cells": [
    {
     "cell_type": "markdown",
     "metadata": {},
     "source": [
      "# Functions\n",
      "\n",
      "- defining\n",
      "- return a tuple, is unpacked"
     ]
    },
    {
     "cell_type": "code",
     "collapsed": false,
     "input": [
      "# A simple howdying function\n",
      "def howdy(name):\n",
      "    print(\"Howdy\", name)\n",
      "    \n",
      "howdy('Nicole')\n",
      "howdy('Jerry')\n",
      "howdy('Bill')\n",
      "howdy('Marie')"
     ],
     "language": "python",
     "metadata": {},
     "outputs": [
      {
       "output_type": "stream",
       "stream": "stdout",
       "text": [
        "Howdy Nicole\n",
        "Howdy Jerry\n",
        "Howdy Bill\n",
        "Howdy Marie\n"
       ]
      }
     ],
     "prompt_number": 1
    },
    {
     "cell_type": "markdown",
     "metadata": {},
     "source": [
      "## Unpacking lists of arguments"
     ]
    },
    {
     "cell_type": "markdown",
     "metadata": {},
     "source": [
      "This applies when calling a *previously defined* function and passing a tuple/list/dict as argument."
     ]
    },
    {
     "cell_type": "code",
     "collapsed": false,
     "input": [
      "# normal invocation\n",
      "range(1, 6)\n",
      "\n",
      "def howdy(first, last, n=0):\n",
      "    print(\"Howdy {} {}!\".format(first, last))\n",
      "    print(n)\n",
      "\n",
      "args_tuple = (1,6)\n",
      "args_list = [1,6]\n",
      "args_dict = {'first': 'James', 'last': 'Cameron'}\n",
      "\n",
      "# These result in TypeErrors (try executing them!)\n",
      "#range(args_tuple)\n",
      "#range(args_list)\n",
      "#howdy(args_dict)\n",
      "\n",
      "# unpacked\n",
      "print(\"Using unpacked tuple:\", list(range(*args_tuple)))\n",
      "print(\"Using unpacked list:\", range(*args_list))\n",
      "howdy(**args_dict)\n"
     ],
     "language": "python",
     "metadata": {},
     "outputs": [
      {
       "output_type": "stream",
       "stream": "stdout",
       "text": [
        "Using unpacked tuple: [1, 2, 3, 4, 5]\n",
        "Using unpacked list: range(1, 6)\n",
        "Howdy James Cameron!\n",
        "0\n"
       ]
      }
     ],
     "prompt_number": 9
    },
    {
     "cell_type": "markdown",
     "metadata": {},
     "source": [
      "# Optional Arguments and Optional Keyword Arguments\n",
      "\n",
      "This applies when *defining* function. The `*` argument will be accessible as a **tuple** and the `**` argument a **dictionary**."
     ]
    },
    {
     "cell_type": "code",
     "collapsed": false,
     "input": [
      "def funny_stuff(year, *names, **definitions):\n",
      "    print(year, names, definitions)"
     ],
     "language": "python",
     "metadata": {},
     "outputs": [],
     "prompt_number": 1
    },
    {
     "cell_type": "code",
     "collapsed": false,
     "input": [
      "funny_stuff(1985)"
     ],
     "language": "python",
     "metadata": {},
     "outputs": [
      {
       "output_type": "stream",
       "stream": "stdout",
       "text": [
        "(1985, (), {})\n"
       ]
      }
     ],
     "prompt_number": 3
    },
    {
     "cell_type": "code",
     "collapsed": false,
     "input": [
      "funny_stuff(1981, 'abc', '123', 'Jacob', 'Jeremy', cat='chat')"
     ],
     "language": "python",
     "metadata": {},
     "outputs": [
      {
       "output_type": "stream",
       "stream": "stdout",
       "text": [
        "1981 ('abc', '123', 'Jacob', 'Jeremy') {'cat': 'chat'}\n"
       ]
      }
     ],
     "prompt_number": 3
    },
    {
     "cell_type": "code",
     "collapsed": false,
     "input": [
      "def firewall(open_ports, *banned_ips):\n",
      "    print('do firewall stuff')\n",
      "    for ip in banned_ips:\n",
      "        print('banning evil ip: {}'.format(ip))\n",
      "        \n",
      "firewall(80, '10.10.42.5', '192.168.40.22')"
     ],
     "language": "python",
     "metadata": {},
     "outputs": [
      {
       "output_type": "stream",
       "stream": "stdout",
       "text": [
        "do firewall stuff\n",
        "banning evil ip: 10.10.42.5\n",
        "banning evil ip: 192.168.40.22\n"
       ]
      }
     ],
     "prompt_number": 11
    },
    {
     "cell_type": "markdown",
     "metadata": {},
     "source": [
      "# Exercise\n",
      "\n",
      "Create your own function that uses optional arguments (`*`) and optional keyword arguments (`**`), experiment with passing different arguments, and examine the results."
     ]
    }
   ],
   "metadata": {}
  }
 ]
}