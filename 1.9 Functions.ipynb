{
 "cells": [
  {
   "cell_type": "markdown",
   "metadata": {},
   "source": [
    "# Functions\n",
    "\n",
    "- defining\n",
    "- return a tuple, is unpacked"
   ]
  },
  {
   "cell_type": "code",
   "execution_count": 1,
   "metadata": {
    "collapsed": false
   },
   "outputs": [
    {
     "name": "stdout",
     "output_type": "stream",
     "text": [
      "Howdy Nicole\n",
      "Howdy Jerry\n",
      "Howdy Bill\n",
      "Howdy Marie\n"
     ]
    }
   ],
   "source": [
    "# A simple howdying function\n",
    "def howdy(name):\n",
    "    print(\"Howdy\", name)\n",
    "    \n",
    "howdy('Nicole')\n",
    "howdy('Jerry')\n",
    "howdy('Bill')\n",
    "howdy('Marie')"
   ]
  },
  {
   "cell_type": "markdown",
   "metadata": {},
   "source": [
    "## Unpacking lists of arguments"
   ]
  },
  {
   "cell_type": "markdown",
   "metadata": {},
   "source": [
    "This applies when calling a *previously defined* function and passing a tuple/list/dict as argument."
   ]
  },
  {
   "cell_type": "code",
   "execution_count": 9,
   "metadata": {
    "collapsed": false
   },
   "outputs": [
    {
     "name": "stdout",
     "output_type": "stream",
     "text": [
      "Using unpacked tuple: [1, 2, 3, 4, 5]\n",
      "Using unpacked list: range(1, 6)\n",
      "Howdy James Cameron!\n",
      "0\n"
     ]
    }
   ],
   "source": [
    "# normal invocation\n",
    "range(1, 6)\n",
    "\n",
    "def howdy(first, last, n=0):\n",
    "    print(\"Howdy {} {}!\".format(first, last))\n",
    "    print(n)\n",
    "\n",
    "args_tuple = (1,6)\n",
    "args_list = [1,6]\n",
    "args_dict = {'first': 'James', 'last': 'Cameron'}\n",
    "\n",
    "# These result in TypeErrors (try executing them!)\n",
    "#range(args_tuple)\n",
    "#range(args_list)\n",
    "#howdy(args_dict)\n",
    "\n",
    "# unpacked\n",
    "print(\"Using unpacked tuple:\", list(range(*args_tuple)))\n",
    "print(\"Using unpacked list:\", range(*args_list))\n",
    "howdy(**args_dict)\n"
   ]
  },
  {
   "cell_type": "markdown",
   "metadata": {},
   "source": [
    "# Optional Arguments and Optional Keyword Arguments\n",
    "\n",
    "This applies when *defining* function. The `*` argument will be accessible as a **tuple** and the `**` argument a **dictionary**."
   ]
  },
  {
   "cell_type": "code",
   "execution_count": 3,
   "metadata": {
    "collapsed": false
   },
   "outputs": [],
   "source": [
    "def funny_stuff(year, *names, **definitions):\n",
    "    print(year, names, definitions)"
   ]
  },
  {
   "cell_type": "code",
   "execution_count": 4,
   "metadata": {
    "collapsed": false
   },
   "outputs": [
    {
     "name": "stdout",
     "output_type": "stream",
     "text": [
      "1985 () {}\n"
     ]
    }
   ],
   "source": [
    "funny_stuff(1985)"
   ]
  },
  {
   "cell_type": "code",
   "execution_count": 8,
   "metadata": {},
   "outputs": [],
   "source": [
    "d = {'name': \"Vigilant Global\", 'val': 42}"
   ]
  },
  {
   "cell_type": "code",
   "execution_count": 9,
   "metadata": {
    "collapsed": false
   },
   "outputs": [
    {
     "name": "stdout",
     "output_type": "stream",
     "text": [
      "1981 ('abc', '123', 'Jacob', 'Jeremy') {'name': 'Vigilant Global', 'val': 42}\n"
     ]
    }
   ],
   "source": [
    "funny_stuff(1981, 'abc', '123', 'Jacob', 'Jeremy', d)"
   ]
  },
  {
   "cell_type": "code",
   "execution_count": 11,
   "metadata": {
    "collapsed": false
   },
   "outputs": [
    {
     "name": "stdout",
     "output_type": "stream",
     "text": [
      "do firewall stuff\n",
      "banning evil ip: 10.10.42.5\n",
      "banning evil ip: 192.168.40.22\n"
     ]
    }
   ],
   "source": [
    "def firewall(open_ports, *banned_ips):\n",
    "    print('do firewall stuff')\n",
    "    for ip in banned_ips:\n",
    "        print('banning evil ip: {}'.format(ip))\n",
    "        \n",
    "firewall(80, '10.10.42.5', '192.168.40.22')"
   ]
  },
  {
   "cell_type": "markdown",
   "metadata": {},
   "source": [
    "# Exercise\n",
    "\n",
    "Create your own function that uses optional arguments (`*`) and optional keyword arguments (`**`), experiment with passing different arguments, and examine the results."
   ]
  }
 ],
 "metadata": {
  "kernelspec": {
   "display_name": "Python 3",
   "language": "python",
   "name": "python3"
  },
  "language_info": {
   "codemirror_mode": {
    "name": "ipython",
    "version": 3
   },
   "file_extension": ".py",
   "mimetype": "text/x-python",
   "name": "python",
   "nbconvert_exporter": "python",
   "pygments_lexer": "ipython3",
   "version": "3.7.1"
  }
 },
 "nbformat": 4,
 "nbformat_minor": 2
}
