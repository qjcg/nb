{
 "cells": [
  {
   "cell_type": "code",
   "execution_count": null,
   "metadata": {},
   "outputs": [],
   "source": [
    "# Basic data types\n",
    "\n",
    "\"hello\" # string\n",
    "42 # integer\n",
    "42.2 # floating point number\n",
    "True, False # booleans\n",
    "None # absence of a value\n",
    "\n",
    "# Sequence types\n",
    "s = \"string\" \n",
    "t = (1, 2, 3) # tuples\n",
    "l = [\"aaa\", \"bbb\", \"ccc\"]\n",
    "\n",
    "## With sequence types we can use index and slice notations to access elements\n",
    "s[0] == \"s\"\n",
    "t[-1] == 3\n",
    "l[1] == \"bbb\"\n",
    "\n",
    "l[1:] --> [\"bbb\", \"ccc\"]\n",
    "l[:-2]\n",
    "\n",
    "# Non-sequence types\n",
    "## Dictionaries\n",
    "d = {\n",
    "    'google': 'http://google.com',\n",
    "    'drw': 'http://drw.com',\n",
    "}\n",
    "\n",
    "## Sets (only unique elements)\n",
    "employees = {\"joe\", \"joe\", \"joe\", \"mary\", \"frank\"} # The set {\"joe\", \"mary\", \"frank\"}\n",
    "\n",
    "\n",
    "# Defining functions\n",
    "\n",
    "def trade(market, security, amount):\n",
    "    \"\"\"Trade security with a given market and amount.\n",
    "    \"\"\"\n",
    "    return f\"TRADED {amount} of {security} on {market}\""
   ]
  }
 ],
 "metadata": {
  "kernelspec": {
   "display_name": "Python 3",
   "language": "python",
   "name": "python3"
  },
  "language_info": {
   "codemirror_mode": {
    "name": "ipython",
    "version": 3
   },
   "file_extension": ".py",
   "mimetype": "text/x-python",
   "name": "python",
   "nbconvert_exporter": "python",
   "pygments_lexer": "ipython3",
   "version": "3.7.3"
  }
 },
 "nbformat": 4,
 "nbformat_minor": 2
}
