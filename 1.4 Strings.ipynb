{
 "cells": [
  {
   "cell_type": "markdown",
   "metadata": {},
   "source": [
    "Strings\n",
    "====================\n",
    "\n",
    "In python, you can define strings in three ways:"
   ]
  },
  {
   "cell_type": "code",
   "execution_count": 4,
   "metadata": {},
   "outputs": [],
   "source": [
    "name = \"David\""
   ]
  },
  {
   "cell_type": "code",
   "execution_count": 5,
   "metadata": {},
   "outputs": [],
   "source": [
    "name2 = 'David'"
   ]
  },
  {
   "cell_type": "code",
   "execution_count": 6,
   "metadata": {},
   "outputs": [],
   "source": [
    "long_string = \"\"\"David\"\"\""
   ]
  },
  {
   "cell_type": "code",
   "execution_count": 7,
   "metadata": {},
   "outputs": [],
   "source": [
    "other_long_string = '''John'''"
   ]
  },
  {
   "cell_type": "markdown",
   "metadata": {},
   "source": [
    "The three are equivalent. However, you must use the same symbol to start and end the string.\n",
    "\n",
    "The triple quotes are useful to declare multi-line strings:"
   ]
  },
  {
   "cell_type": "code",
   "execution_count": 8,
   "metadata": {},
   "outputs": [],
   "source": [
    "my_website = \"\"\"<html>\n",
    "    <body>\n",
    "        <h1>Welcome to my website!</h1>\n",
    "    </body>\n",
    "</html>\"\"\""
   ]
  },
  {
   "cell_type": "code",
   "execution_count": 9,
   "metadata": {},
   "outputs": [
    {
     "data": {
      "text/plain": [
       "'<html>\\n    <body>\\n        <h1>Welcome to my website!</h1>\\n    </body>\\n</html>'"
      ]
     },
     "execution_count": 9,
     "metadata": {},
     "output_type": "execute_result"
    }
   ],
   "source": [
    "my_website"
   ]
  },
  {
   "cell_type": "markdown",
   "metadata": {},
   "source": [
    "## Concatenation and replacement"
   ]
  },
  {
   "cell_type": "markdown",
   "metadata": {},
   "source": [
    "You can concatenate two strings using the ***+*** symbol:"
   ]
  },
  {
   "cell_type": "code",
   "execution_count": 14,
   "metadata": {},
   "outputs": [],
   "source": [
    "first_name = \"Jerry\"\n",
    "last_name = \"Grapes\""
   ]
  },
  {
   "cell_type": "code",
   "execution_count": 16,
   "metadata": {},
   "outputs": [
    {
     "data": {
      "text/plain": [
       "'Jerry Grapes'"
      ]
     },
     "execution_count": 16,
     "metadata": {},
     "output_type": "execute_result"
    }
   ],
   "source": [
    "full_name = first_name + \" \" + last_name\n",
    "full_name"
   ]
  },
  {
   "cell_type": "markdown",
   "metadata": {},
   "source": [
    "It's possible to replace the contents of a string with the contents of a variable, using the replacement operator ***%***:"
   ]
  },
  {
   "cell_type": "code",
   "execution_count": 11,
   "metadata": {},
   "outputs": [],
   "source": [
    "greeting = \"Hello %s and welcome to DEV401!\"\n",
    "greeting2 = \"hello {:s} and welcome to DEV401!\""
   ]
  },
  {
   "cell_type": "code",
   "execution_count": 12,
   "metadata": {},
   "outputs": [
    {
     "name": "stdout",
     "output_type": "stream",
     "text": [
      "Hello Jerry Grapes and welcome to DEV401!\n",
      "hello Jerry Grapes and welcome to DEV401!\n"
     ]
    }
   ],
   "source": [
    "# older syntax\n",
    "print(greeting % full_name)\n",
    "# newer syntax\n",
    "print(greeting2.format(full_name))"
   ]
  },
  {
   "cell_type": "markdown",
   "metadata": {},
   "source": [
    "In this example, the first occurance of ***%*** was replaced by the name defined above.\n",
    "\n",
    "***Note***: The number of variables to replace must correspond to the number of variables passed to the replacement operator."
   ]
  },
  {
   "cell_type": "markdown",
   "metadata": {},
   "source": [
    "Available methods\n",
    "--------------------\n",
    "In python, most methods for working with strings are available on the variable itself.\n",
    "\n",
    "To see the available methods, type:\n",
    "variable name, \".\" and then \"TAB\"\n",
    "\n",
    "For example, to discover the variables accessible on the \"name\" variable:"
   ]
  },
  {
   "cell_type": "code",
   "execution_count": 14,
   "metadata": {},
   "outputs": [
    {
     "data": {
      "text/plain": [
       "False"
      ]
     },
     "execution_count": 14,
     "metadata": {},
     "output_type": "execute_result"
    }
   ],
   "source": [
    "full_name."
   ]
  },
  {
   "cell_type": "markdown",
   "metadata": {},
   "source": [
    "To access a method's documentation, type the name of the method followed by \"?\".\n",
    "\n",
    "For example, to get the documentation for the \"count\" method:"
   ]
  },
  {
   "cell_type": "code",
   "execution_count": 12,
   "metadata": {},
   "outputs": [],
   "source": [
    "full_name.count?"
   ]
  },
  {
   "cell_type": "markdown",
   "metadata": {},
   "source": [
    "***Exercise***: Count the number of occurences of the letter ***l*** in the variable \"name\""
   ]
  },
  {
   "cell_type": "code",
   "execution_count": 17,
   "metadata": {},
   "outputs": [],
   "source": [
    "name = \"Cyrille Beraud\""
   ]
  },
  {
   "cell_type": "code",
   "execution_count": 19,
   "metadata": {},
   "outputs": [
    {
     "data": {
      "text/plain": [
       "2"
      ]
     },
     "execution_count": 19,
     "metadata": {},
     "output_type": "execute_result"
    }
   ],
   "source": [
    "name.count('l')"
   ]
  },
  {
   "cell_type": "markdown",
   "metadata": {},
   "source": [
    "# Exercise\n",
    "\n",
    "- Write a function that takes a string as argument, and returns the same string, in uppercase, and reversed\n",
    "- Consider that:\n",
    "    - This will uppercase a string: `'hello'.upper()`\n",
    "    - This will reverse a string: `'hello'[::-1]`"
   ]
  },
  {
   "cell_type": "code",
   "execution_count": 5,
   "metadata": {},
   "outputs": [],
   "source": [
    "def upper_reverse(s):\n",
    "    \"\"\"Uppercases and reverses the string passed as argument.\n",
    "    \n",
    "    Longer description starts here...\n",
    "    \"\"\"\n",
    "    return s.upper()[::-1]"
   ]
  },
  {
   "cell_type": "code",
   "execution_count": 4,
   "metadata": {},
   "outputs": [
    {
     "name": "stdout",
     "output_type": "stream",
     "text": [
      "CBA\n",
      "!DLROW ,OLLEH\n"
     ]
    }
   ],
   "source": [
    "print(upper_reverse('abc'))\n",
    "print(upper_reverse('hello, world!'))"
   ]
  },
  {
   "cell_type": "code",
   "execution_count": 6,
   "metadata": {},
   "outputs": [],
   "source": [
    "upper_reverse?"
   ]
  },
  {
   "cell_type": "markdown",
   "metadata": {},
   "source": [
    "# Exercise\n",
    "\n",
    "Write a script that reads a csv file as input, and prints out a list in the following format :\n",
    "\n",
    "```\n",
    "[\n",
    "    ['line', 'one', 'data'],\n",
    "    ['line', 'two', 'data'],\n",
    "    ['line', 'three', 'data'],\n",
    "]\n",
    "```\n",
    "\n",
    "The CSV file can be as below:\n",
    "\n",
    "    aaa,bbb,ccc\n",
    "    ddd,eee,fff\n",
    "    ggg,hhh,iii"
   ]
  },
  {
   "cell_type": "code",
   "execution_count": 11,
   "metadata": {},
   "outputs": [
    {
     "name": "stdout",
     "output_type": "stream",
     "text": [
      "[['aaa', 'bbb', 'ccc'], ['ddd', 'eee', 'fff'], ['ggg', 'hhh', 'iii']]\n"
     ]
    }
   ],
   "source": [
    "data = []\n",
    "\n",
    "with open('files/test.csv') as f:\n",
    "    for line in f:\n",
    "        data.append(line.rstrip().split(','))\n",
    "        \n",
    "print(data)"
   ]
  }
 ],
 "metadata": {
  "kernelspec": {
   "display_name": "Python 3",
   "language": "python",
   "name": "python3"
  },
  "language_info": {
   "codemirror_mode": {
    "name": "ipython",
    "version": 3
   },
   "file_extension": ".py",
   "mimetype": "text/x-python",
   "name": "python",
   "nbconvert_exporter": "python",
   "pygments_lexer": "ipython3",
   "version": "3.6.5"
  }
 },
 "nbformat": 4,
 "nbformat_minor": 1
}
