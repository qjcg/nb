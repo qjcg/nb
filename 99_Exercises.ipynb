{
 "cells": [
  {
   "cell_type": "markdown",
   "metadata": {},
   "source": [
    "# Exercises: Control Flow\n",
    "\n",
    "## Conditionals\n",
    "\n",
    "Given that the general syntax for an if-statement is:\n",
    "\n",
    "```python\n",
    "if EXPRESSION1:\n",
    "    # do something\n",
    "elif EXPRESSION2:\n",
    "    # do something else\n",
    "else:\n",
    "    # do something by default\n",
    "```\n",
    "\n",
    "Write an if statement that will `print`:\n",
    "\n",
    "- An ENGLISH greeting if the variable `language` is set to `en`\n",
    "- A FRENCH greeting if the variable `language` is set to `fr`\n",
    "- A SPANISH greeting if the variable `language` is set to neither of those two values\n",
    "\n",
    "Of course you'll need to set `language = \"something\"` for the above if statement to work.\n",
    "\n",
    "NOTE: You probably want to use the `==` operator to compare `language` with other values."
   ]
  },
  {
   "cell_type": "code",
   "execution_count": 5,
   "metadata": {},
   "outputs": [
    {
     "name": "stdout",
     "output_type": "stream",
     "text": [
      "English!\n"
     ]
    }
   ],
   "source": [
    "# SOLUTION\n",
    "\n",
    "language = \"en\"\n",
    "\n",
    "if language == \"en\":\n",
    "    print(\"English!\")\n",
    "elif language == \"fr\":\n",
    "    print(\"Français!\")\n",
    "else:\n",
    "    print(\"Espanol!\")"
   ]
  },
  {
   "cell_type": "markdown",
   "metadata": {},
   "source": [
    "## Loops\n",
    "\n",
    "Given that the basic syntax for a for loop is:\n",
    "\n",
    "```python\n",
    "for varname in sequence:\n",
    "    # As many actions as you want for each varname, ex:\n",
    "    print(varname)\n",
    "```\n",
    "\n",
    "1. Create three values (all sequence types):\n",
    "    - a string, ex: `\"Hello, DRW!\"`\n",
    "    - a tuple, ex: `(1, 2, 3)`\n",
    "    - a list, ex: `[\"ferrari\", \"chevrolet\", \"gremlin\"]`\n",
    "2. Iterate over each of the above three values in 3 separate for loops.\n",
    "3. Notice how the values are iterated over and make sure the output corresponds to what you expect."
   ]
  },
  {
   "cell_type": "code",
   "execution_count": 14,
   "metadata": {},
   "outputs": [
    {
     "name": "stdout",
     "output_type": "stream",
     "text": [
      "H\n",
      "e\n",
      "l\n",
      "l\n",
      "o\n",
      ",\n",
      " \n",
      "D\n",
      "R\n",
      "W\n",
      "!\n",
      "1\n",
      "2\n",
      "3\n",
      "4\n",
      "5\n",
      "ferrari\n",
      "chevrolet\n",
      "gremlin\n",
      "awesome!\n",
      "awesome!\n",
      "awesome!\n",
      "awesome!\n",
      "awesome!\n",
      "awesome!\n",
      "awesome!\n",
      "awesome!\n",
      "awesome!\n",
      "awesome!\n"
     ]
    }
   ],
   "source": [
    "# Step 1\n",
    "greeting = \"Hello, DRW!\"\n",
    "numbers = (1,2,3,4,5)\n",
    "cars = [\"ferrari\", \"chevrolet\", \"gremlin\"]\n",
    "\n",
    "# Step 2\n",
    "for i in greeting:\n",
    "    print(i)\n",
    "    \n",
    "for n in numbers:\n",
    "    print(n)\n",
    "    \n",
    "for c in cars:\n",
    "    print(c)\n",
    "\n",
    "# This is the idiomatic way to do some action multiple times in python.\n",
    "# We use \"_\" as the iteration variable (by convention, it has no special meaning)\n",
    "# to indicate we will NOT be using it.\n",
    "for _ in range(10):\n",
    "    print(\"awesome!\")"
   ]
  },
  {
   "cell_type": "code",
   "execution_count": 1,
   "metadata": {},
   "outputs": [
    {
     "data": {
      "text/plain": [
       "(0, 1, 2, 3, 4, 5, 6, 7, 8, 9)"
      ]
     },
     "execution_count": 1,
     "metadata": {},
     "output_type": "execute_result"
    }
   ],
   "source": [
    "tuple(range(10))"
   ]
  }
 ],
 "metadata": {
  "kernelspec": {
   "display_name": "Python 3",
   "language": "python",
   "name": "python3"
  },
  "language_info": {
   "codemirror_mode": {
    "name": "ipython",
    "version": 3
   },
   "file_extension": ".py",
   "mimetype": "text/x-python",
   "name": "python",
   "nbconvert_exporter": "python",
   "pygments_lexer": "ipython3",
   "version": "3.7.3"
  }
 },
 "nbformat": 4,
 "nbformat_minor": 2
}
